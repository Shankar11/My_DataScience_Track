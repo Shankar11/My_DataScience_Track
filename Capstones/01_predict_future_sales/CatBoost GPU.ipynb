{
 "cells": [
  {
   "cell_type": "code",
   "execution_count": 1,
   "metadata": {},
   "outputs": [],
   "source": [
    "import numpy as np\n",
    "import pandas as pd\n",
    "import gc\n",
    "import time\n",
    "import pickle\n",
    "import catboost as cat"
   ]
  },
  {
   "cell_type": "code",
   "execution_count": 2,
   "metadata": {},
   "outputs": [],
   "source": [
    "df = pd.read_pickle('matrix_fe2.pkl')\n",
    "df.drop(['date_shop_item_avg_item_cnt_lag_1_y','ID'], axis=1, inplace=True)"
   ]
  },
  {
   "cell_type": "code",
   "execution_count": 3,
   "metadata": {},
   "outputs": [
    {
     "name": "stdout",
     "output_type": "stream",
     "text": [
      "CPU times: user 1min 51s, sys: 8.92 s, total: 2min\n",
      "Wall time: 1min 47s\n"
     ]
    }
   ],
   "source": [
    "%%time\n",
    "df[['delta_revenue_lag_1','item_cnt_month_lag_1','item_cnt_month_lag_2','item_cnt_month_lag_3','date_avg_item_cnt_lag_1','date_item_avg_item_cnt_lag_1','date_item_avg_item_cnt_lag_2','date_item_avg_item_cnt_lag_3','date_shop_avg_item_cnt_lag_1','date_shop_avg_item_cnt_lag_2','date_shop_avg_item_cnt_lag_3','date_cat_avg_item_cnt_lag_1','date_shop_cat_avg_item_cnt_lag_1','date_shop_item_avg_item_cnt_lag_1_x','date_shop_subtype_avg_item_cnt_lag_1','date_city_avg_item_cnt_lag_1','date_item_city_avg_item_cnt_lag_1','delta_price_lag']] = df[['delta_revenue_lag_1','item_cnt_month_lag_1','item_cnt_month_lag_2','item_cnt_month_lag_3','date_avg_item_cnt_lag_1','date_item_avg_item_cnt_lag_1','date_item_avg_item_cnt_lag_2','date_item_avg_item_cnt_lag_3','date_shop_avg_item_cnt_lag_1','date_shop_avg_item_cnt_lag_2','date_shop_avg_item_cnt_lag_3','date_cat_avg_item_cnt_lag_1','date_shop_cat_avg_item_cnt_lag_1','date_shop_item_avg_item_cnt_lag_1_x','date_shop_subtype_avg_item_cnt_lag_1','date_city_avg_item_cnt_lag_1','date_item_city_avg_item_cnt_lag_1','delta_price_lag']].astype(str)"
   ]
  },
  {
   "cell_type": "code",
   "execution_count": 4,
   "metadata": {},
   "outputs": [],
   "source": [
    "\n",
    "X_train = df[df.date_block_num < 33].drop(['item_cnt_month'], axis=1)\n",
    "Y_train = df[df.date_block_num < 33]['item_cnt_month']\n",
    "X_valid = df[df.date_block_num == 33].drop(['item_cnt_month'], axis=1)\n",
    "Y_valid = df[df.date_block_num == 33]['item_cnt_month']\n",
    "X_test = df[df.date_block_num == 34].drop(['item_cnt_month'], axis=1)\n",
    "del df\n",
    "gc.collect();"
   ]
  },
  {
   "cell_type": "code",
   "execution_count": 5,
   "metadata": {},
   "outputs": [],
   "source": [
    "model = cat.CatBoostRegressor(task_type='GPU',verbose=100,\n",
    "    depth=12, \n",
    "    loss_function='RMSE', \n",
    "    eval_metric='RMSE', \n",
    "    random_seed=42, \n",
    "    od_type='Iter', \n",
    "    od_wait=10,\n",
    "    allow_writing_files=False)"
   ]
  },
  {
   "cell_type": "code",
   "execution_count": 6,
   "metadata": {},
   "outputs": [
    {
     "name": "stdout",
     "output_type": "stream",
     "text": [
      "CPU times: user 33 µs, sys: 4 µs, total: 37 µs\n",
      "Wall time: 45.5 µs\n"
     ]
    }
   ],
   "source": [
    "%%time\n",
    "#categorical_features_indices = cat_features= [0,1,2,3,4,5,6,7] #list(range(0, X_train.shape[1]))\n",
    "\n",
    "categorical_features_indices = list(range(0, X_train.shape[1]))"
   ]
  },
  {
   "cell_type": "code",
   "execution_count": 7,
   "metadata": {},
   "outputs": [
    {
     "name": "stdout",
     "output_type": "stream",
     "text": [
      "CPU times: user 8min 37s, sys: 2.2 s, total: 8min 40s\n",
      "Wall time: 8min 37s\n"
     ]
    }
   ],
   "source": [
    "%%time\n",
    "train_pool = cat.Pool(X_train, Y_train, cat_features=categorical_features_indices)"
   ]
  },
  {
   "cell_type": "code",
   "execution_count": 8,
   "metadata": {},
   "outputs": [
    {
     "name": "stdout",
     "output_type": "stream",
     "text": [
      "CPU times: user 13.2 s, sys: 47.8 ms, total: 13.2 s\n",
      "Wall time: 13.2 s\n"
     ]
    }
   ],
   "source": [
    "%%time\n",
    "validation_pool = cat.Pool(X_valid, Y_valid, cat_features=categorical_features_indices)"
   ]
  },
  {
   "cell_type": "code",
   "execution_count": 9,
   "metadata": {},
   "outputs": [],
   "source": [
    "del X_train,Y_train\n",
    "gc.collect();"
   ]
  },
  {
   "cell_type": "code",
   "execution_count": 10,
   "metadata": {},
   "outputs": [
    {
     "name": "stdout",
     "output_type": "stream",
     "text": [
      "0:\tlearn: 1.2308225\ttest: 1.1533457\tbest: 1.1533457 (0)\ttotal: 35.4s\tremaining: 9h 49m 54s\n",
      "1:\tlearn: 1.2116772\ttest: 1.1426382\tbest: 1.1426382 (1)\ttotal: 1m 10s\tremaining: 9h 50m 25s\n",
      "2:\tlearn: 1.1933235\ttest: 1.1305235\tbest: 1.1305235 (2)\ttotal: 1m 46s\tremaining: 9h 48m 28s\n",
      "3:\tlearn: 1.1757926\ttest: 1.1219568\tbest: 1.1219568 (3)\ttotal: 2m 21s\tremaining: 9h 48m 37s\n",
      "4:\tlearn: 1.1588729\ttest: 1.1117206\tbest: 1.1117206 (4)\ttotal: 2m 56s\tremaining: 9h 46m 9s\n",
      "5:\tlearn: 1.1427169\ttest: 1.1028054\tbest: 1.1028054 (5)\ttotal: 3m 31s\tremaining: 9h 45m 15s\n",
      "6:\tlearn: 1.1271701\ttest: 1.0957204\tbest: 1.0957204 (6)\ttotal: 4m 7s\tremaining: 9h 44m 27s\n",
      "7:\tlearn: 1.1124427\ttest: 1.0888848\tbest: 1.0888848 (7)\ttotal: 4m 42s\tremaining: 9h 43m 24s\n",
      "8:\tlearn: 1.0982636\ttest: 1.0829534\tbest: 1.0829534 (8)\ttotal: 5m 16s\tremaining: 9h 41m 43s\n",
      "9:\tlearn: 1.0846359\ttest: 1.0770993\tbest: 1.0770993 (9)\ttotal: 5m 51s\tremaining: 9h 40m 46s\n",
      "10:\tlearn: 1.0716675\ttest: 1.0712705\tbest: 1.0712705 (10)\ttotal: 6m 26s\tremaining: 9h 39m 7s\n",
      "11:\tlearn: 1.0592094\ttest: 1.0662602\tbest: 1.0662602 (11)\ttotal: 7m 1s\tremaining: 9h 38m 43s\n",
      "12:\tlearn: 1.0473066\ttest: 1.0610984\tbest: 1.0610984 (12)\ttotal: 7m 36s\tremaining: 9h 37m 6s\n",
      "13:\tlearn: 1.0359050\ttest: 1.0562883\tbest: 1.0562883 (13)\ttotal: 8m 5s\tremaining: 9h 29m 48s\n",
      "14:\tlearn: 1.0248701\ttest: 1.0498153\tbest: 1.0498153 (14)\ttotal: 8m 37s\tremaining: 9h 26m 23s\n",
      "15:\tlearn: 1.0144444\ttest: 1.0451057\tbest: 1.0451057 (15)\ttotal: 9m 6s\tremaining: 9h 20m 31s\n",
      "16:\tlearn: 1.0043778\ttest: 1.0388262\tbest: 1.0388262 (16)\ttotal: 9m 41s\tremaining: 9h 20m 46s\n",
      "17:\tlearn: 0.9945621\ttest: 1.0355635\tbest: 1.0355635 (17)\ttotal: 10m 12s\tremaining: 9h 16m 28s\n",
      "18:\tlearn: 0.9852136\ttest: 1.0316780\tbest: 1.0316780 (18)\ttotal: 10m 41s\tremaining: 9h 11m 58s\n",
      "19:\tlearn: 0.9763921\ttest: 1.0269231\tbest: 1.0269231 (19)\ttotal: 11m 15s\tremaining: 9h 11m 41s\n",
      "20:\tlearn: 0.9678044\ttest: 1.0236242\tbest: 1.0236242 (20)\ttotal: 11m 46s\tremaining: 9h 8m 33s\n",
      "21:\tlearn: 0.9596806\ttest: 1.0229817\tbest: 1.0229817 (21)\ttotal: 12m 21s\tremaining: 9h 9m 12s\n",
      "22:\tlearn: 0.9520499\ttest: 1.0211792\tbest: 1.0211792 (22)\ttotal: 12m 55s\tremaining: 9h 9m 14s\n",
      "23:\tlearn: 0.9447403\ttest: 1.0188699\tbest: 1.0188699 (23)\ttotal: 13m 25s\tremaining: 9h 6m 9s\n",
      "24:\tlearn: 0.9374581\ttest: 1.0174463\tbest: 1.0174463 (24)\ttotal: 13m 57s\tremaining: 9h 4m 41s\n",
      "25:\tlearn: 0.9305535\ttest: 1.0156118\tbest: 1.0156118 (25)\ttotal: 14m 33s\tremaining: 9h 5m 10s\n",
      "26:\tlearn: 0.9239237\ttest: 1.0136036\tbest: 1.0136036 (26)\ttotal: 15m 3s\tremaining: 9h 2m 35s\n",
      "27:\tlearn: 0.9176162\ttest: 1.0116048\tbest: 1.0116048 (27)\ttotal: 15m 34s\tremaining: 9h 35s\n",
      "28:\tlearn: 0.9115459\ttest: 1.0100521\tbest: 1.0100521 (28)\ttotal: 16m 4s\tremaining: 8h 58m 1s\n",
      "29:\tlearn: 0.9060318\ttest: 1.0083924\tbest: 1.0083924 (29)\ttotal: 16m 35s\tremaining: 8h 56m 23s\n",
      "30:\tlearn: 0.9006315\ttest: 1.0067442\tbest: 1.0067442 (30)\ttotal: 17m 8s\tremaining: 8h 55m 57s\n",
      "31:\tlearn: 0.8952345\ttest: 1.0067960\tbest: 1.0067442 (30)\ttotal: 17m 40s\tremaining: 8h 54m 52s\n",
      "32:\tlearn: 0.8900319\ttest: 1.0054213\tbest: 1.0054213 (32)\ttotal: 18m 11s\tremaining: 8h 53m 1s\n",
      "33:\tlearn: 0.8850752\ttest: 1.0039737\tbest: 1.0039737 (33)\ttotal: 18m 41s\tremaining: 8h 50m 53s\n",
      "34:\tlearn: 0.8803934\ttest: 1.0031432\tbest: 1.0031432 (34)\ttotal: 19m 11s\tremaining: 8h 49m 15s\n",
      "35:\tlearn: 0.8760680\ttest: 1.0019700\tbest: 1.0019700 (35)\ttotal: 19m 39s\tremaining: 8h 46m 27s\n",
      "36:\tlearn: 0.8717213\ttest: 1.0012172\tbest: 1.0012172 (36)\ttotal: 20m 13s\tremaining: 8h 46m 34s\n",
      "37:\tlearn: 0.8677150\ttest: 0.9997987\tbest: 0.9997987 (37)\ttotal: 20m 47s\tremaining: 8h 46m 17s\n",
      "38:\tlearn: 0.8638516\ttest: 0.9985415\tbest: 0.9985415 (38)\ttotal: 21m 12s\tremaining: 8h 42m 26s\n",
      "39:\tlearn: 0.8601800\ttest: 0.9995043\tbest: 0.9985415 (38)\ttotal: 21m 45s\tremaining: 8h 42m 20s\n",
      "40:\tlearn: 0.8568398\ttest: 0.9992684\tbest: 0.9985415 (38)\ttotal: 22m 13s\tremaining: 8h 39m 48s\n",
      "41:\tlearn: 0.8533704\ttest: 0.9987933\tbest: 0.9985415 (38)\ttotal: 22m 44s\tremaining: 8h 38m 36s\n",
      "42:\tlearn: 0.8500915\ttest: 0.9978310\tbest: 0.9978310 (42)\ttotal: 23m 8s\tremaining: 8h 35m 13s\n",
      "43:\tlearn: 0.8470057\ttest: 0.9968454\tbest: 0.9968454 (43)\ttotal: 23m 34s\tremaining: 8h 32m 4s\n",
      "44:\tlearn: 0.8440933\ttest: 0.9960758\tbest: 0.9960758 (44)\ttotal: 23m 58s\tremaining: 8h 28m 57s\n",
      "45:\tlearn: 0.8411884\ttest: 0.9956317\tbest: 0.9956317 (45)\ttotal: 24m 31s\tremaining: 8h 28m 40s\n",
      "46:\tlearn: 0.8382869\ttest: 0.9952606\tbest: 0.9952606 (46)\ttotal: 25m 2s\tremaining: 8h 27m 48s\n",
      "47:\tlearn: 0.8355032\ttest: 0.9949730\tbest: 0.9949730 (47)\ttotal: 25m 32s\tremaining: 8h 26m 36s\n",
      "48:\tlearn: 0.8325522\ttest: 0.9921984\tbest: 0.9921984 (48)\ttotal: 26m 6s\tremaining: 8h 26m 49s\n",
      "49:\tlearn: 0.8300847\ttest: 0.9919852\tbest: 0.9919852 (49)\ttotal: 26m 39s\tremaining: 8h 26m 24s\n",
      "50:\tlearn: 0.8276842\ttest: 0.9919477\tbest: 0.9919477 (50)\ttotal: 27m 10s\tremaining: 8h 25m 47s\n",
      "51:\tlearn: 0.8255606\ttest: 0.9914993\tbest: 0.9914993 (51)\ttotal: 27m 41s\tremaining: 8h 24m 52s\n",
      "52:\tlearn: 0.8232717\ttest: 0.9915356\tbest: 0.9914993 (51)\ttotal: 28m 16s\tremaining: 8h 25m 6s\n",
      "53:\tlearn: 0.8208652\ttest: 0.9906322\tbest: 0.9906322 (53)\ttotal: 28m 47s\tremaining: 8h 24m 20s\n",
      "54:\tlearn: 0.8188207\ttest: 0.9905473\tbest: 0.9905473 (54)\ttotal: 29m 17s\tremaining: 8h 23m 13s\n",
      "55:\tlearn: 0.8166530\ttest: 0.9905699\tbest: 0.9905473 (54)\ttotal: 29m 47s\tremaining: 8h 22m 12s\n",
      "56:\tlearn: 0.8147383\ttest: 0.9906380\tbest: 0.9905473 (54)\ttotal: 30m 16s\tremaining: 8h 20m 57s\n",
      "57:\tlearn: 0.8128930\ttest: 0.9913187\tbest: 0.9905473 (54)\ttotal: 30m 50s\tremaining: 8h 20m 57s\n",
      "58:\tlearn: 0.8111540\ttest: 0.9910978\tbest: 0.9905473 (54)\ttotal: 31m 19s\tremaining: 8h 19m 37s\n",
      "59:\tlearn: 0.8095214\ttest: 0.9896706\tbest: 0.9896706 (59)\ttotal: 31m 46s\tremaining: 8h 17m 47s\n",
      "60:\tlearn: 0.8079146\ttest: 0.9898873\tbest: 0.9896706 (59)\ttotal: 32m 17s\tremaining: 8h 17m 7s\n",
      "61:\tlearn: 0.8063770\ttest: 0.9894005\tbest: 0.9894005 (61)\ttotal: 32m 47s\tremaining: 8h 16m 13s\n",
      "62:\tlearn: 0.8048377\ttest: 0.9891387\tbest: 0.9891387 (62)\ttotal: 33m 19s\tremaining: 8h 15m 31s\n",
      "63:\tlearn: 0.8032424\ttest: 0.9890399\tbest: 0.9890399 (63)\ttotal: 33m 51s\tremaining: 8h 15m 9s\n",
      "64:\tlearn: 0.8015336\ttest: 0.9888668\tbest: 0.9888668 (64)\ttotal: 34m 24s\tremaining: 8h 14m 53s\n",
      "65:\tlearn: 0.8001929\ttest: 0.9887904\tbest: 0.9887904 (65)\ttotal: 34m 51s\tremaining: 8h 13m 20s\n",
      "66:\tlearn: 0.7989158\ttest: 0.9886402\tbest: 0.9886402 (66)\ttotal: 35m 20s\tremaining: 8h 12m 7s\n",
      "67:\tlearn: 0.7974584\ttest: 0.9886961\tbest: 0.9886402 (66)\ttotal: 35m 54s\tremaining: 8h 12m 3s\n",
      "68:\tlearn: 0.7956769\ttest: 0.9896980\tbest: 0.9886402 (66)\ttotal: 36m 26s\tremaining: 8h 11m 48s\n",
      "69:\tlearn: 0.7943104\ttest: 0.9905149\tbest: 0.9886402 (66)\ttotal: 37m 1s\tremaining: 8h 11m 53s\n",
      "70:\tlearn: 0.7928977\ttest: 0.9896846\tbest: 0.9886402 (66)\ttotal: 37m 31s\tremaining: 8h 11m 3s\n",
      "71:\tlearn: 0.7911872\ttest: 0.9904713\tbest: 0.9886402 (66)\ttotal: 38m 6s\tremaining: 8h 11m 10s\n",
      "72:\tlearn: 0.7896321\ttest: 0.9904954\tbest: 0.9886402 (66)\ttotal: 38m 41s\tremaining: 8h 11m 21s\n",
      "73:\tlearn: 0.7879396\ttest: 0.9903429\tbest: 0.9886402 (66)\ttotal: 39m 19s\tremaining: 8h 12m 7s\n",
      "74:\tlearn: 0.7868535\ttest: 0.9903405\tbest: 0.9886402 (66)\ttotal: 39m 53s\tremaining: 8h 11m 56s\n",
      "75:\tlearn: 0.7856787\ttest: 0.9906255\tbest: 0.9886402 (66)\ttotal: 40m 23s\tremaining: 8h 11m 9s\n",
      "76:\tlearn: 0.7843142\ttest: 0.9907240\tbest: 0.9886402 (66)\ttotal: 40m 58s\tremaining: 8h 11m 12s\n",
      "bestTest = 0.9886402335\n",
      "bestIteration = 66\n",
      "Shrink model to first 67 iterations.\n",
      "CPU times: user 39min 38s, sys: 11min 26s, total: 51min 5s\n",
      "Wall time: 43min 37s\n"
     ]
    },
    {
     "data": {
      "text/plain": [
       "<catboost.core.CatBoostRegressor at 0x7ff91550d6d8>"
      ]
     },
     "execution_count": 10,
     "metadata": {},
     "output_type": "execute_result"
    }
   ],
   "source": [
    "%%time\n",
    "model.fit(train_pool, eval_set=validation_pool, use_best_model=True, verbose=True)"
   ]
  },
  {
   "cell_type": "code",
   "execution_count": 11,
   "metadata": {},
   "outputs": [],
   "source": [
    "%%time\n",
    "Y_pred = model.predict(X_valid).clip(0, 20)\n",
    "Y_test = model.predict(X_test).clip(0, 20)"
   ]
  },
  {
   "cell_type": "code",
   "execution_count": 12,
   "metadata": {},
   "outputs": [
    {
     "data": {
      "text/plain": [
       "array([0.4481245 , 0.13815697, 0.54128994, ..., 0.24127515, 0.11922956,\n",
       "       0.36826589])"
      ]
     },
     "execution_count": 12,
     "metadata": {},
     "output_type": "execute_result"
    }
   ],
   "source": [
    "Y_pred"
   ]
  },
  {
   "cell_type": "code",
   "execution_count": 13,
   "metadata": {},
   "outputs": [
    {
     "data": {
      "text/plain": [
       "array([1.14547921, 0.19348547, 1.26323208, ..., 0.32823852, 0.1137349 ,\n",
       "       0.38517391])"
      ]
     },
     "execution_count": 13,
     "metadata": {},
     "output_type": "execute_result"
    }
   ],
   "source": [
    "Y_test"
   ]
  },
  {
   "cell_type": "code",
   "execution_count": null,
   "metadata": {},
   "outputs": [],
   "source": [
    "feature_importances = model.get_feature_importance(train_pool)\n",
    "feature_names = X_train.columns\n",
    "for score, name in sorted(zip(feature_importances, feature_names), reverse=True):\n",
    "    print('{}: {}'.format(name, score))"
   ]
  },
  {
   "cell_type": "code",
   "execution_count": 17,
   "metadata": {},
   "outputs": [],
   "source": [
    "submission = pd.DataFrame({\n",
    "    \"ID\": test.index, \n",
    "    \"item_cnt_month\": Y_test\n",
    "})\n",
    "submission.to_csv('cat_submission1.csv', index=False)"
   ]
  },
  {
   "cell_type": "code",
   "execution_count": 16,
   "metadata": {},
   "outputs": [],
   "source": [
    "import os\n",
    "PATH_TO_DATA = 'data/predict_future_sales'\n",
    "test = pd.read_csv(os.path.join(PATH_TO_DATA, 'test.csv'))"
   ]
  },
  {
   "cell_type": "code",
   "execution_count": null,
   "metadata": {},
   "outputs": [],
   "source": [
    "#Your submission scored 1.04083"
   ]
  },
  {
   "cell_type": "code",
   "execution_count": null,
   "metadata": {},
   "outputs": [],
   "source": []
  },
  {
   "cell_type": "code",
   "execution_count": null,
   "metadata": {},
   "outputs": [],
   "source": []
  },
  {
   "cell_type": "code",
   "execution_count": null,
   "metadata": {},
   "outputs": [],
   "source": []
  },
  {
   "cell_type": "code",
   "execution_count": null,
   "metadata": {},
   "outputs": [],
   "source": []
  }
 ],
 "metadata": {
  "kernelspec": {
   "display_name": "Python 3",
   "language": "python",
   "name": "python3"
  },
  "language_info": {
   "codemirror_mode": {
    "name": "ipython",
    "version": 3
   },
   "file_extension": ".py",
   "mimetype": "text/x-python",
   "name": "python",
   "nbconvert_exporter": "python",
   "pygments_lexer": "ipython3",
   "version": "3.7.3"
  }
 },
 "nbformat": 4,
 "nbformat_minor": 2
}
