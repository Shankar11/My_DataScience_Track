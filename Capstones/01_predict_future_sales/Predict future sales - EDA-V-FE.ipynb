{
 "cells": [
  {
   "cell_type": "markdown",
   "metadata": {},
   "source": [
    "#### Exploring the Item Categories , Shops and Items"
   ]
  },
  {
   "cell_type": "code",
   "execution_count": 1,
   "metadata": {},
   "outputs": [],
   "source": [
    "import numpy as np\n",
    "import pandas as pd"
   ]
  },
  {
   "cell_type": "code",
   "execution_count": 2,
   "metadata": {},
   "outputs": [],
   "source": [
    "items = pd.read_pickle('data/items_en.pkl')\n",
    "shops = pd.read_pickle('data/shops_en.pkl')\n",
    "item_categories = pd.read_pickle('data/item_categories_en.pkl')"
   ]
  },
  {
   "cell_type": "markdown",
   "metadata": {},
   "source": [
    "### Item Categories"
   ]
  },
  {
   "cell_type": "code",
   "execution_count": 3,
   "metadata": {},
   "outputs": [],
   "source": [
    "item_categories['split'] = item_categories['item_category_name'].str.split('-')\n",
    "item_categories['type'] = item_categories['split'].map(lambda x: x[0].strip())\n",
    "item_categories['subtype'] = item_categories['split'].map(lambda x: x[1].strip() if len(x) > 1 else x[0].strip())\n",
    "item_categories.drop(['split','split'], axis=1, inplace=True)"
   ]
  },
  {
   "cell_type": "code",
   "execution_count": 4,
   "metadata": {},
   "outputs": [],
   "source": [
    "item_categories['split'] = item_categories['item_cat_name_en'].str.split('-')\n",
    "item_categories['type_en'] = item_categories['split'].map(lambda x: x[0].strip())\n",
    "item_categories['subtype_en'] = item_categories['split'].map(lambda x: x[1].strip() if len(x) > 1 else x[0].strip())\n",
    "item_categories.drop(['split','split'], axis=1, inplace=True)"
   ]
  },
  {
   "cell_type": "code",
   "execution_count": 5,
   "metadata": {},
   "outputs": [
    {
     "data": {
      "text/html": [
       "<div>\n",
       "<style scoped>\n",
       "    .dataframe tbody tr th:only-of-type {\n",
       "        vertical-align: middle;\n",
       "    }\n",
       "\n",
       "    .dataframe tbody tr th {\n",
       "        vertical-align: top;\n",
       "    }\n",
       "\n",
       "    .dataframe thead th {\n",
       "        text-align: right;\n",
       "    }\n",
       "</style>\n",
       "<table border=\"1\" class=\"dataframe\">\n",
       "  <thead>\n",
       "    <tr style=\"text-align: right;\">\n",
       "      <th></th>\n",
       "      <th>item_category_name</th>\n",
       "      <th>item_category_id</th>\n",
       "      <th>item_cat_name_en</th>\n",
       "      <th>type</th>\n",
       "      <th>subtype</th>\n",
       "      <th>type_en</th>\n",
       "      <th>subtype_en</th>\n",
       "    </tr>\n",
       "  </thead>\n",
       "  <tbody>\n",
       "    <tr>\n",
       "      <td>0</td>\n",
       "      <td>PC - Гарнитуры/Наушники</td>\n",
       "      <td>0</td>\n",
       "      <td>PC - Headsets / Headphones</td>\n",
       "      <td>PC</td>\n",
       "      <td>Гарнитуры/Наушники</td>\n",
       "      <td>PC</td>\n",
       "      <td>Headsets / Headphones</td>\n",
       "    </tr>\n",
       "    <tr>\n",
       "      <td>1</td>\n",
       "      <td>Аксессуары - PS2</td>\n",
       "      <td>1</td>\n",
       "      <td>Accessories - PS2</td>\n",
       "      <td>Аксессуары</td>\n",
       "      <td>PS2</td>\n",
       "      <td>Accessories</td>\n",
       "      <td>PS2</td>\n",
       "    </tr>\n",
       "    <tr>\n",
       "      <td>2</td>\n",
       "      <td>Аксессуары - PS3</td>\n",
       "      <td>2</td>\n",
       "      <td>Accessories - PS3</td>\n",
       "      <td>Аксессуары</td>\n",
       "      <td>PS3</td>\n",
       "      <td>Accessories</td>\n",
       "      <td>PS3</td>\n",
       "    </tr>\n",
       "    <tr>\n",
       "      <td>3</td>\n",
       "      <td>Аксессуары - PS4</td>\n",
       "      <td>3</td>\n",
       "      <td>Accessories - PS4</td>\n",
       "      <td>Аксессуары</td>\n",
       "      <td>PS4</td>\n",
       "      <td>Accessories</td>\n",
       "      <td>PS4</td>\n",
       "    </tr>\n",
       "    <tr>\n",
       "      <td>4</td>\n",
       "      <td>Аксессуары - PSP</td>\n",
       "      <td>4</td>\n",
       "      <td>Accessories - PSP</td>\n",
       "      <td>Аксессуары</td>\n",
       "      <td>PSP</td>\n",
       "      <td>Accessories</td>\n",
       "      <td>PSP</td>\n",
       "    </tr>\n",
       "    <tr>\n",
       "      <td>5</td>\n",
       "      <td>Аксессуары - PSVita</td>\n",
       "      <td>5</td>\n",
       "      <td>Accessories - PSVita</td>\n",
       "      <td>Аксессуары</td>\n",
       "      <td>PSVita</td>\n",
       "      <td>Accessories</td>\n",
       "      <td>PSVita</td>\n",
       "    </tr>\n",
       "    <tr>\n",
       "      <td>6</td>\n",
       "      <td>Аксессуары - XBOX 360</td>\n",
       "      <td>6</td>\n",
       "      <td>Accessories - XBOX 360</td>\n",
       "      <td>Аксессуары</td>\n",
       "      <td>XBOX 360</td>\n",
       "      <td>Accessories</td>\n",
       "      <td>XBOX 360</td>\n",
       "    </tr>\n",
       "    <tr>\n",
       "      <td>7</td>\n",
       "      <td>Аксессуары - XBOX ONE</td>\n",
       "      <td>7</td>\n",
       "      <td>Accessories - XBOX ONE</td>\n",
       "      <td>Аксессуары</td>\n",
       "      <td>XBOX ONE</td>\n",
       "      <td>Accessories</td>\n",
       "      <td>XBOX ONE</td>\n",
       "    </tr>\n",
       "    <tr>\n",
       "      <td>8</td>\n",
       "      <td>Билеты (Цифра)</td>\n",
       "      <td>8</td>\n",
       "      <td>Tickets (Digit)</td>\n",
       "      <td>Билеты (Цифра)</td>\n",
       "      <td>Билеты (Цифра)</td>\n",
       "      <td>Tickets (Digit)</td>\n",
       "      <td>Tickets (Digit)</td>\n",
       "    </tr>\n",
       "    <tr>\n",
       "      <td>9</td>\n",
       "      <td>Доставка товара</td>\n",
       "      <td>9</td>\n",
       "      <td>Delivery of goods</td>\n",
       "      <td>Доставка товара</td>\n",
       "      <td>Доставка товара</td>\n",
       "      <td>Delivery of goods</td>\n",
       "      <td>Delivery of goods</td>\n",
       "    </tr>\n",
       "  </tbody>\n",
       "</table>\n",
       "</div>"
      ],
      "text/plain": [
       "        item_category_name  item_category_id            item_cat_name_en  \\\n",
       "0  PC - Гарнитуры/Наушники                 0  PC - Headsets / Headphones   \n",
       "1         Аксессуары - PS2                 1           Accessories - PS2   \n",
       "2         Аксессуары - PS3                 2           Accessories - PS3   \n",
       "3         Аксессуары - PS4                 3           Accessories - PS4   \n",
       "4         Аксессуары - PSP                 4           Accessories - PSP   \n",
       "5      Аксессуары - PSVita                 5        Accessories - PSVita   \n",
       "6    Аксессуары - XBOX 360                 6      Accessories - XBOX 360   \n",
       "7    Аксессуары - XBOX ONE                 7      Accessories - XBOX ONE   \n",
       "8           Билеты (Цифра)                 8             Tickets (Digit)   \n",
       "9          Доставка товара                 9           Delivery of goods   \n",
       "\n",
       "              type             subtype            type_en  \\\n",
       "0               PC  Гарнитуры/Наушники                 PC   \n",
       "1       Аксессуары                 PS2        Accessories   \n",
       "2       Аксессуары                 PS3        Accessories   \n",
       "3       Аксессуары                 PS4        Accessories   \n",
       "4       Аксессуары                 PSP        Accessories   \n",
       "5       Аксессуары              PSVita        Accessories   \n",
       "6       Аксессуары            XBOX 360        Accessories   \n",
       "7       Аксессуары            XBOX ONE        Accessories   \n",
       "8   Билеты (Цифра)      Билеты (Цифра)    Tickets (Digit)   \n",
       "9  Доставка товара     Доставка товара  Delivery of goods   \n",
       "\n",
       "              subtype_en  \n",
       "0  Headsets / Headphones  \n",
       "1                    PS2  \n",
       "2                    PS3  \n",
       "3                    PS4  \n",
       "4                    PSP  \n",
       "5                 PSVita  \n",
       "6               XBOX 360  \n",
       "7               XBOX ONE  \n",
       "8        Tickets (Digit)  \n",
       "9      Delivery of goods  "
      ]
     },
     "execution_count": 5,
     "metadata": {},
     "output_type": "execute_result"
    }
   ],
   "source": [
    "item_categories.head(10)"
   ]
  },
  {
   "cell_type": "code",
   "execution_count": 6,
   "metadata": {},
   "outputs": [
    {
     "data": {
      "text/plain": [
       "array(['PC', 'Accessories', 'Tickets (Digit)', 'Delivery of goods',\n",
       "       'Game Consoles', 'Game consoles', 'Games', 'Android Games',\n",
       "       'MAC Games', 'PC Games', 'Payment cards (Cinema, Music, Games)',\n",
       "       'Payment Cards', 'Cinema', 'Books', 'Music', 'Gifts', 'Programs',\n",
       "       'Office', 'Service', 'Net carriers (spire)', 'Blank media (piece)',\n",
       "       'Batteries'], dtype=object)"
      ]
     },
     "execution_count": 6,
     "metadata": {},
     "output_type": "execute_result"
    }
   ],
   "source": [
    "item_categories['type_en'].unique()"
   ]
  },
  {
   "cell_type": "code",
   "execution_count": 7,
   "metadata": {},
   "outputs": [
    {
     "name": "stdout",
     "output_type": "stream",
     "text": [
      "Number of category types in the item category 22\n"
     ]
    }
   ],
   "source": [
    "print('Number of category types in the item category',len(item_categories['type_en'].unique()))"
   ]
  },
  {
   "cell_type": "code",
   "execution_count": 8,
   "metadata": {},
   "outputs": [
    {
     "data": {
      "text/plain": [
       "array(['Headsets / Headphones', 'PS2', 'PS3', 'PS4', 'PSP', 'PSVita',\n",
       "       'XBOX 360', 'XBOX ONE', 'Tickets (Digit)', 'Delivery of goods',\n",
       "       'Other', 'Accessories for games', 'Number', 'Digit',\n",
       "       'Additional Editions', \"Collector's Editions\", 'Standard Editions',\n",
       "       'Payment cards (Cinema, Music, Games)', 'Live!', 'Live! (Numeral)',\n",
       "       'PSN', 'Windows (Digit)', 'Blu', 'DVD', 'Collectible',\n",
       "       'Artbooks, Encyclopedias', 'Audiobooks', 'Audiobooks (Digit)',\n",
       "       'Audiobooks 1C', 'Business Literature', 'Comics, Manga',\n",
       "       'Computer Literature', 'Methodological materials 1C', 'Postcards',\n",
       "       'Educational literature', 'Guides', 'Fiction',\n",
       "       'Local Production CD', 'Brand', 'MP3', 'Vinyl', 'Music Video',\n",
       "       'Gift Editions', 'Attributes', 'Gadgets, Robots, Sports',\n",
       "       'Soft Toys', 'Board Games', 'Board games (compact)',\n",
       "       'Postcards, stickers', 'Development', 'Certificates, services',\n",
       "       'Souvenirs', 'Souvenirs (in bulk)', 'Bags, Albums, Mousepads',\n",
       "       'Figures', '1C: Enterprise 8', 'MAC (Digit)',\n",
       "       'For home and office', 'For home and office (Digit)',\n",
       "       'Educational', 'Educational (Digital)', 'Office', 'Tickets',\n",
       "       'Net carriers (spire)', 'Blank media (piece)', 'Batteries'],\n",
       "      dtype=object)"
      ]
     },
     "execution_count": 8,
     "metadata": {},
     "output_type": "execute_result"
    }
   ],
   "source": [
    "item_categories['subtype_en'].unique()"
   ]
  },
  {
   "cell_type": "code",
   "execution_count": 9,
   "metadata": {},
   "outputs": [
    {
     "name": "stdout",
     "output_type": "stream",
     "text": [
      "Number of category subtypes in the item category 66\n"
     ]
    }
   ],
   "source": [
    "print('Number of category subtypes in the item category',len(item_categories['subtype_en'].unique()))"
   ]
  },
  {
   "cell_type": "markdown",
   "metadata": {},
   "source": [
    "### Shops"
   ]
  },
  {
   "cell_type": "code",
   "execution_count": 10,
   "metadata": {},
   "outputs": [],
   "source": [
    "shops['city'] = shops['shop_name'].str.split(' ').map(lambda x: x[0])"
   ]
  },
  {
   "cell_type": "code",
   "execution_count": 11,
   "metadata": {},
   "outputs": [],
   "source": [
    "shops['city_en'] = shops['shop_name_en'].str.split(' ').map(lambda x: x[0])"
   ]
  },
  {
   "cell_type": "code",
   "execution_count": 12,
   "metadata": {},
   "outputs": [],
   "source": [
    "#removing !\n",
    "shops.loc[shops.city == '!Якутск', 'city'] = 'Якутск'"
   ]
  },
  {
   "cell_type": "code",
   "execution_count": 13,
   "metadata": {},
   "outputs": [
    {
     "data": {
      "text/html": [
       "<div>\n",
       "<style scoped>\n",
       "    .dataframe tbody tr th:only-of-type {\n",
       "        vertical-align: middle;\n",
       "    }\n",
       "\n",
       "    .dataframe tbody tr th {\n",
       "        vertical-align: top;\n",
       "    }\n",
       "\n",
       "    .dataframe thead th {\n",
       "        text-align: right;\n",
       "    }\n",
       "</style>\n",
       "<table border=\"1\" class=\"dataframe\">\n",
       "  <thead>\n",
       "    <tr style=\"text-align: right;\">\n",
       "      <th></th>\n",
       "      <th>shop_name</th>\n",
       "      <th>shop_id</th>\n",
       "      <th>shop_name_en</th>\n",
       "      <th>city</th>\n",
       "      <th>city_en</th>\n",
       "    </tr>\n",
       "  </thead>\n",
       "  <tbody>\n",
       "    <tr>\n",
       "      <td>0</td>\n",
       "      <td>!Якутск Орджоникидзе, 56 фран</td>\n",
       "      <td>0</td>\n",
       "      <td>! Yakutsk Ordzhonikidze, 56 fran</td>\n",
       "      <td>Якутск</td>\n",
       "      <td>!</td>\n",
       "    </tr>\n",
       "    <tr>\n",
       "      <td>1</td>\n",
       "      <td>!Якутск ТЦ \"Центральный\" фран</td>\n",
       "      <td>1</td>\n",
       "      <td>! Yakutsk shopping center \"Central\" fran</td>\n",
       "      <td>Якутск</td>\n",
       "      <td>!</td>\n",
       "    </tr>\n",
       "    <tr>\n",
       "      <td>2</td>\n",
       "      <td>Адыгея ТЦ \"Мега\"</td>\n",
       "      <td>2</td>\n",
       "      <td>Adygea TC \"Mega\"</td>\n",
       "      <td>Адыгея</td>\n",
       "      <td>Adygea</td>\n",
       "    </tr>\n",
       "    <tr>\n",
       "      <td>3</td>\n",
       "      <td>Балашиха ТРК \"Октябрь-Киномир\"</td>\n",
       "      <td>3</td>\n",
       "      <td>Balashikha TRC \"October-Kinomir\"</td>\n",
       "      <td>Балашиха</td>\n",
       "      <td>Balashikha</td>\n",
       "    </tr>\n",
       "    <tr>\n",
       "      <td>4</td>\n",
       "      <td>Волжский ТЦ \"Волга Молл\"</td>\n",
       "      <td>4</td>\n",
       "      <td>Volga shopping center \"Volga Mall\"</td>\n",
       "      <td>Волжский</td>\n",
       "      <td>Volga</td>\n",
       "    </tr>\n",
       "  </tbody>\n",
       "</table>\n",
       "</div>"
      ],
      "text/plain": [
       "                        shop_name  shop_id  \\\n",
       "0   !Якутск Орджоникидзе, 56 фран        0   \n",
       "1   !Якутск ТЦ \"Центральный\" фран        1   \n",
       "2                Адыгея ТЦ \"Мега\"        2   \n",
       "3  Балашиха ТРК \"Октябрь-Киномир\"        3   \n",
       "4        Волжский ТЦ \"Волга Молл\"        4   \n",
       "\n",
       "                               shop_name_en      city     city_en  \n",
       "0          ! Yakutsk Ordzhonikidze, 56 fran    Якутск           !  \n",
       "1  ! Yakutsk shopping center \"Central\" fran    Якутск           !  \n",
       "2                          Adygea TC \"Mega\"    Адыгея      Adygea  \n",
       "3          Balashikha TRC \"October-Kinomir\"  Балашиха  Balashikha  \n",
       "4        Volga shopping center \"Volga Mall\"  Волжский       Volga  "
      ]
     },
     "execution_count": 13,
     "metadata": {},
     "output_type": "execute_result"
    }
   ],
   "source": [
    "shops.head()"
   ]
  },
  {
   "cell_type": "code",
   "execution_count": 14,
   "metadata": {},
   "outputs": [
    {
     "data": {
      "text/plain": [
       "array(['Якутск', 'Адыгея', 'Балашиха', 'Волжский', 'Вологда', 'Воронеж',\n",
       "       'Выездная', 'Жуковский', 'Интернет-магазин', 'Казань', 'Калуга',\n",
       "       'Коломна', 'Красноярск', 'Курск', 'Москва', 'Мытищи', 'Н.Новгород',\n",
       "       'Новосибирск', 'Омск', 'РостовНаДону', 'СПб', 'Самара', 'Сергиев',\n",
       "       'Сургут', 'Томск', 'Тюмень', 'Уфа', 'Химки', 'Цифровой', 'Чехов',\n",
       "       'Ярославль'], dtype=object)"
      ]
     },
     "execution_count": 14,
     "metadata": {},
     "output_type": "execute_result"
    }
   ],
   "source": [
    "shops['city'].unique()"
   ]
  },
  {
   "cell_type": "code",
   "execution_count": 15,
   "metadata": {},
   "outputs": [
    {
     "name": "stdout",
     "output_type": "stream",
     "text": [
      "Number of cities the shops are present 31\n"
     ]
    }
   ],
   "source": [
    "print('Number of cities the shops are present',len(shops['city'].unique()))"
   ]
  },
  {
   "cell_type": "code",
   "execution_count": 16,
   "metadata": {},
   "outputs": [
    {
     "data": {
      "text/html": [
       "<div>\n",
       "<style scoped>\n",
       "    .dataframe tbody tr th:only-of-type {\n",
       "        vertical-align: middle;\n",
       "    }\n",
       "\n",
       "    .dataframe tbody tr th {\n",
       "        vertical-align: top;\n",
       "    }\n",
       "\n",
       "    .dataframe thead th {\n",
       "        text-align: right;\n",
       "    }\n",
       "</style>\n",
       "<table border=\"1\" class=\"dataframe\">\n",
       "  <thead>\n",
       "    <tr style=\"text-align: right;\">\n",
       "      <th></th>\n",
       "      <th>shop_name</th>\n",
       "      <th>shop_id</th>\n",
       "      <th>shop_name_en</th>\n",
       "      <th>city</th>\n",
       "      <th>city_en</th>\n",
       "    </tr>\n",
       "  </thead>\n",
       "  <tbody>\n",
       "    <tr>\n",
       "      <td>0</td>\n",
       "      <td>!Якутск Орджоникидзе, 56 фран</td>\n",
       "      <td>0</td>\n",
       "      <td>! Yakutsk Ordzhonikidze, 56 fran</td>\n",
       "      <td>Якутск</td>\n",
       "      <td>!</td>\n",
       "    </tr>\n",
       "    <tr>\n",
       "      <td>1</td>\n",
       "      <td>!Якутск ТЦ \"Центральный\" фран</td>\n",
       "      <td>1</td>\n",
       "      <td>! Yakutsk shopping center \"Central\" fran</td>\n",
       "      <td>Якутск</td>\n",
       "      <td>!</td>\n",
       "    </tr>\n",
       "    <tr>\n",
       "      <td>10</td>\n",
       "      <td>Жуковский ул. Чкалова 39м?</td>\n",
       "      <td>10</td>\n",
       "      <td>Zhukovsky st. Chkalova 39m?</td>\n",
       "      <td>Жуковский</td>\n",
       "      <td>Zhukovsky</td>\n",
       "    </tr>\n",
       "    <tr>\n",
       "      <td>11</td>\n",
       "      <td>Жуковский ул. Чкалова 39м²</td>\n",
       "      <td>11</td>\n",
       "      <td>Zhukovsky st. Chkalova 39m²</td>\n",
       "      <td>Жуковский</td>\n",
       "      <td>Zhukovsky</td>\n",
       "    </tr>\n",
       "    <tr>\n",
       "      <td>57</td>\n",
       "      <td>Якутск Орджоникидзе, 56</td>\n",
       "      <td>57</td>\n",
       "      <td>Yakutsk Ordzhonikidze, 56</td>\n",
       "      <td>Якутск</td>\n",
       "      <td>Yakutsk</td>\n",
       "    </tr>\n",
       "    <tr>\n",
       "      <td>58</td>\n",
       "      <td>Якутск ТЦ \"Центральный\"</td>\n",
       "      <td>58</td>\n",
       "      <td>Yakutsk shopping center \"Central\"</td>\n",
       "      <td>Якутск</td>\n",
       "      <td>Yakutsk</td>\n",
       "    </tr>\n",
       "  </tbody>\n",
       "</table>\n",
       "</div>"
      ],
      "text/plain": [
       "                        shop_name  shop_id  \\\n",
       "0   !Якутск Орджоникидзе, 56 фран        0   \n",
       "1   !Якутск ТЦ \"Центральный\" фран        1   \n",
       "10     Жуковский ул. Чкалова 39м?       10   \n",
       "11     Жуковский ул. Чкалова 39м²       11   \n",
       "57        Якутск Орджоникидзе, 56       57   \n",
       "58        Якутск ТЦ \"Центральный\"       58   \n",
       "\n",
       "                                shop_name_en       city    city_en  \n",
       "0           ! Yakutsk Ordzhonikidze, 56 fran     Якутск          !  \n",
       "1   ! Yakutsk shopping center \"Central\" fran     Якутск          !  \n",
       "10               Zhukovsky st. Chkalova 39m?  Жуковский  Zhukovsky  \n",
       "11               Zhukovsky st. Chkalova 39m²  Жуковский  Zhukovsky  \n",
       "57                 Yakutsk Ordzhonikidze, 56     Якутск    Yakutsk  \n",
       "58         Yakutsk shopping center \"Central\"     Якутск    Yakutsk  "
      ]
     },
     "execution_count": 16,
     "metadata": {},
     "output_type": "execute_result"
    }
   ],
   "source": [
    "shops.loc[shops['shop_id'].isin([0,57,1,58,10,11])]"
   ]
  },
  {
   "cell_type": "markdown",
   "metadata": {},
   "source": [
    "#### based on the shop name the above are the duplicate shops present in the shops dataset"
   ]
  },
  {
   "cell_type": "markdown",
   "metadata": {},
   "source": [
    "### Items"
   ]
  },
  {
   "cell_type": "code",
   "execution_count": 17,
   "metadata": {},
   "outputs": [
    {
     "data": {
      "text/html": [
       "<div>\n",
       "<style scoped>\n",
       "    .dataframe tbody tr th:only-of-type {\n",
       "        vertical-align: middle;\n",
       "    }\n",
       "\n",
       "    .dataframe tbody tr th {\n",
       "        vertical-align: top;\n",
       "    }\n",
       "\n",
       "    .dataframe thead th {\n",
       "        text-align: right;\n",
       "    }\n",
       "</style>\n",
       "<table border=\"1\" class=\"dataframe\">\n",
       "  <thead>\n",
       "    <tr style=\"text-align: right;\">\n",
       "      <th></th>\n",
       "      <th>item_name</th>\n",
       "      <th>item_id</th>\n",
       "      <th>item_category_id</th>\n",
       "      <th>item_name_en</th>\n",
       "    </tr>\n",
       "  </thead>\n",
       "  <tbody>\n",
       "    <tr>\n",
       "      <td>0</td>\n",
       "      <td>! ВО ВЛАСТИ НАВАЖДЕНИЯ (ПЛАСТ.)         D</td>\n",
       "      <td>0</td>\n",
       "      <td>40</td>\n",
       "      <td>! IN AUTHORITY OF HAVING (PLASTIC) D</td>\n",
       "    </tr>\n",
       "    <tr>\n",
       "      <td>1</td>\n",
       "      <td>!ABBYY FineReader 12 Professional Edition Full...</td>\n",
       "      <td>1</td>\n",
       "      <td>76</td>\n",
       "      <td>! ABBYY FineReader 12 Professional Edition Ful...</td>\n",
       "    </tr>\n",
       "    <tr>\n",
       "      <td>2</td>\n",
       "      <td>***В ЛУЧАХ СЛАВЫ   (UNV)                    D</td>\n",
       "      <td>2</td>\n",
       "      <td>40</td>\n",
       "      <td>*** IN THE RAYS OF GLORY (UNV) D</td>\n",
       "    </tr>\n",
       "    <tr>\n",
       "      <td>3</td>\n",
       "      <td>***ГОЛУБАЯ ВОЛНА  (Univ)                      D</td>\n",
       "      <td>3</td>\n",
       "      <td>40</td>\n",
       "      <td>*** BLUE WAVE (Univ) D</td>\n",
       "    </tr>\n",
       "    <tr>\n",
       "      <td>4</td>\n",
       "      <td>***КОРОБКА (СТЕКЛО)                       D</td>\n",
       "      <td>4</td>\n",
       "      <td>40</td>\n",
       "      <td>*** BOX (GLASS) D</td>\n",
       "    </tr>\n",
       "    <tr>\n",
       "      <td>...</td>\n",
       "      <td>...</td>\n",
       "      <td>...</td>\n",
       "      <td>...</td>\n",
       "      <td>...</td>\n",
       "    </tr>\n",
       "    <tr>\n",
       "      <td>95</td>\n",
       "      <td>1812. ЭНЦИКЛОПЕДИЯ ВЕЛИКОЙ ВОЙНЫ</td>\n",
       "      <td>95</td>\n",
       "      <td>40</td>\n",
       "      <td>1812. ENCYCLOPEDIA OF THE GREAT WAR</td>\n",
       "    </tr>\n",
       "    <tr>\n",
       "      <td>96</td>\n",
       "      <td>1812. ЭНЦИКЛОПЕДИЯ ВОЙНЫ (регион)</td>\n",
       "      <td>96</td>\n",
       "      <td>40</td>\n",
       "      <td>1812. ENCYCLOPEDIA OF WAR (region)</td>\n",
       "    </tr>\n",
       "    <tr>\n",
       "      <td>97</td>\n",
       "      <td>1812: 4 СЕРИИ (регион)</td>\n",
       "      <td>97</td>\n",
       "      <td>40</td>\n",
       "      <td>1812: 4 SERIES (region)</td>\n",
       "    </tr>\n",
       "    <tr>\n",
       "      <td>98</td>\n",
       "      <td>1812: УЛАНСКАЯ БАЛЛАДА</td>\n",
       "      <td>98</td>\n",
       "      <td>40</td>\n",
       "      <td>1812: ULAN BALLAD</td>\n",
       "    </tr>\n",
       "    <tr>\n",
       "      <td>99</td>\n",
       "      <td>1812: УЛАНСКАЯ БАЛЛАДА (BD)</td>\n",
       "      <td>99</td>\n",
       "      <td>37</td>\n",
       "      <td>1812: ULANA BALLADA (BD)</td>\n",
       "    </tr>\n",
       "  </tbody>\n",
       "</table>\n",
       "<p>100 rows × 4 columns</p>\n",
       "</div>"
      ],
      "text/plain": [
       "                                            item_name  item_id  \\\n",
       "0           ! ВО ВЛАСТИ НАВАЖДЕНИЯ (ПЛАСТ.)         D        0   \n",
       "1   !ABBYY FineReader 12 Professional Edition Full...        1   \n",
       "2       ***В ЛУЧАХ СЛАВЫ   (UNV)                    D        2   \n",
       "3     ***ГОЛУБАЯ ВОЛНА  (Univ)                      D        3   \n",
       "4         ***КОРОБКА (СТЕКЛО)                       D        4   \n",
       "..                                                ...      ...   \n",
       "95                   1812. ЭНЦИКЛОПЕДИЯ ВЕЛИКОЙ ВОЙНЫ       95   \n",
       "96                  1812. ЭНЦИКЛОПЕДИЯ ВОЙНЫ (регион)       96   \n",
       "97                             1812: 4 СЕРИИ (регион)       97   \n",
       "98                             1812: УЛАНСКАЯ БАЛЛАДА       98   \n",
       "99                        1812: УЛАНСКАЯ БАЛЛАДА (BD)       99   \n",
       "\n",
       "    item_category_id                                       item_name_en  \n",
       "0                 40               ! IN AUTHORITY OF HAVING (PLASTIC) D  \n",
       "1                 76  ! ABBYY FineReader 12 Professional Edition Ful...  \n",
       "2                 40                   *** IN THE RAYS OF GLORY (UNV) D  \n",
       "3                 40                             *** BLUE WAVE (Univ) D  \n",
       "4                 40                                  *** BOX (GLASS) D  \n",
       "..               ...                                                ...  \n",
       "95                40                1812. ENCYCLOPEDIA OF THE GREAT WAR  \n",
       "96                40                 1812. ENCYCLOPEDIA OF WAR (region)  \n",
       "97                40                            1812: 4 SERIES (region)  \n",
       "98                40                                  1812: ULAN BALLAD  \n",
       "99                37                           1812: ULANA BALLADA (BD)  \n",
       "\n",
       "[100 rows x 4 columns]"
      ]
     },
     "execution_count": 17,
     "metadata": {},
     "output_type": "execute_result"
    }
   ],
   "source": [
    "items.head(100)"
   ]
  },
  {
   "cell_type": "code",
   "execution_count": 18,
   "metadata": {},
   "outputs": [],
   "source": [
    "#Already we know what these items belong to the types and subtypes"
   ]
  },
  {
   "cell_type": "code",
   "execution_count": null,
   "metadata": {},
   "outputs": [],
   "source": []
  }
 ],
 "metadata": {
  "kernelspec": {
   "display_name": "Python 3",
   "language": "python",
   "name": "python3"
  },
  "language_info": {
   "codemirror_mode": {
    "name": "ipython",
    "version": 3
   },
   "file_extension": ".py",
   "mimetype": "text/x-python",
   "name": "python",
   "nbconvert_exporter": "python",
   "pygments_lexer": "ipython3",
   "version": "3.7.3"
  }
 },
 "nbformat": 4,
 "nbformat_minor": 2
}
