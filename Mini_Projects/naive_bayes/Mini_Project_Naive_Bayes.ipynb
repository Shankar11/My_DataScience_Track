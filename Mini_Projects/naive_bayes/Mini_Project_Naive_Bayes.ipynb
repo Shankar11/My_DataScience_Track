{
 "cells": [
  {
   "cell_type": "markdown",
   "metadata": {},
   "source": [
    "# Basic Text Classification with Naive Bayes\n",
    "***\n",
    "In the mini-project, you'll learn the basics of text analysis using a subset of movie reviews from the rotten tomatoes database. You'll also use a fundamental technique in Bayesian inference, called Naive Bayes. This mini-project is based on [Lab 10 of Harvard's CS109](https://github.com/cs109/2015lab10) class.  Please free to go to the original lab for additional exercises and solutions."
   ]
  },
  {
   "cell_type": "code",
   "execution_count": 1,
   "metadata": {},
   "outputs": [],
   "source": [
    "%matplotlib inline\n",
    "import numpy as np\n",
    "import scipy as sp\n",
    "import matplotlib as mpl\n",
    "import matplotlib.cm as cm\n",
    "import matplotlib.pyplot as plt\n",
    "import pandas as pd\n",
    "import seaborn as sns\n",
    "from six.moves import range\n",
    "\n",
    "# Setup Pandas\n",
    "pd.set_option('display.width', 500)\n",
    "pd.set_option('display.max_columns', 100)\n",
    "pd.set_option('display.notebook_repr_html', True)\n",
    "\n",
    "# Setup Seaborn\n",
    "sns.set_style(\"whitegrid\")\n",
    "sns.set_context(\"poster\")"
   ]
  },
  {
   "cell_type": "markdown",
   "metadata": {},
   "source": [
    "# Table of Contents\n",
    "\n",
    "* [Rotten Tomatoes Dataset](#Rotten-Tomatoes-Dataset)\n",
    "    * [Explore](#Explore)\n",
    "* [The Vector Space Model and a Search Engine](#The-Vector-Space-Model-and-a-Search-Engine)\n",
    "    * [In Code](#In-Code)\n",
    "* [Naive Bayes](#Naive-Bayes)\n",
    "    * [Multinomial Naive Bayes and Other Likelihood Functions](#Multinomial-Naive-Bayes-and-Other-Likelihood-Functions)\n",
    "    * [Picking Hyperparameters for Naive Bayes and Text Maintenance](#Picking-Hyperparameters-for-Naive-Bayes-and-Text-Maintenance)\n",
    "* [Interpretation](#Interpretation)\n"
   ]
  },
  {
   "cell_type": "markdown",
   "metadata": {},
   "source": [
    "## Rotten Tomatoes Dataset"
   ]
  },
  {
   "cell_type": "code",
   "execution_count": 2,
   "metadata": {},
   "outputs": [
    {
     "data": {
      "text/html": [
       "<div>\n",
       "<style scoped>\n",
       "    .dataframe tbody tr th:only-of-type {\n",
       "        vertical-align: middle;\n",
       "    }\n",
       "\n",
       "    .dataframe tbody tr th {\n",
       "        vertical-align: top;\n",
       "    }\n",
       "\n",
       "    .dataframe thead th {\n",
       "        text-align: right;\n",
       "    }\n",
       "</style>\n",
       "<table border=\"1\" class=\"dataframe\">\n",
       "  <thead>\n",
       "    <tr style=\"text-align: right;\">\n",
       "      <th></th>\n",
       "      <th>critic</th>\n",
       "      <th>fresh</th>\n",
       "      <th>imdb</th>\n",
       "      <th>publication</th>\n",
       "      <th>quote</th>\n",
       "      <th>review_date</th>\n",
       "      <th>rtid</th>\n",
       "      <th>title</th>\n",
       "    </tr>\n",
       "  </thead>\n",
       "  <tbody>\n",
       "    <tr>\n",
       "      <td>1</td>\n",
       "      <td>Derek Adams</td>\n",
       "      <td>fresh</td>\n",
       "      <td>114709</td>\n",
       "      <td>Time Out</td>\n",
       "      <td>So ingenious in concept, design and execution ...</td>\n",
       "      <td>2009-10-04</td>\n",
       "      <td>9559</td>\n",
       "      <td>Toy story</td>\n",
       "    </tr>\n",
       "    <tr>\n",
       "      <td>2</td>\n",
       "      <td>Richard Corliss</td>\n",
       "      <td>fresh</td>\n",
       "      <td>114709</td>\n",
       "      <td>TIME Magazine</td>\n",
       "      <td>The year's most inventive comedy.</td>\n",
       "      <td>2008-08-31</td>\n",
       "      <td>9559</td>\n",
       "      <td>Toy story</td>\n",
       "    </tr>\n",
       "    <tr>\n",
       "      <td>3</td>\n",
       "      <td>David Ansen</td>\n",
       "      <td>fresh</td>\n",
       "      <td>114709</td>\n",
       "      <td>Newsweek</td>\n",
       "      <td>A winning animated feature that has something ...</td>\n",
       "      <td>2008-08-18</td>\n",
       "      <td>9559</td>\n",
       "      <td>Toy story</td>\n",
       "    </tr>\n",
       "    <tr>\n",
       "      <td>4</td>\n",
       "      <td>Leonard Klady</td>\n",
       "      <td>fresh</td>\n",
       "      <td>114709</td>\n",
       "      <td>Variety</td>\n",
       "      <td>The film sports a provocative and appealing st...</td>\n",
       "      <td>2008-06-09</td>\n",
       "      <td>9559</td>\n",
       "      <td>Toy story</td>\n",
       "    </tr>\n",
       "    <tr>\n",
       "      <td>5</td>\n",
       "      <td>Jonathan Rosenbaum</td>\n",
       "      <td>fresh</td>\n",
       "      <td>114709</td>\n",
       "      <td>Chicago Reader</td>\n",
       "      <td>An entertaining computer-generated, hyperreali...</td>\n",
       "      <td>2008-03-10</td>\n",
       "      <td>9559</td>\n",
       "      <td>Toy story</td>\n",
       "    </tr>\n",
       "  </tbody>\n",
       "</table>\n",
       "</div>"
      ],
      "text/plain": [
       "               critic  fresh    imdb     publication                                              quote review_date  rtid      title\n",
       "1         Derek Adams  fresh  114709        Time Out  So ingenious in concept, design and execution ...  2009-10-04  9559  Toy story\n",
       "2     Richard Corliss  fresh  114709   TIME Magazine                  The year's most inventive comedy.  2008-08-31  9559  Toy story\n",
       "3         David Ansen  fresh  114709        Newsweek  A winning animated feature that has something ...  2008-08-18  9559  Toy story\n",
       "4       Leonard Klady  fresh  114709         Variety  The film sports a provocative and appealing st...  2008-06-09  9559  Toy story\n",
       "5  Jonathan Rosenbaum  fresh  114709  Chicago Reader  An entertaining computer-generated, hyperreali...  2008-03-10  9559  Toy story"
      ]
     },
     "execution_count": 2,
     "metadata": {},
     "output_type": "execute_result"
    }
   ],
   "source": [
    "critics = pd.read_csv('./critics.csv')\n",
    "#let's drop rows with missing quotes\n",
    "critics = critics[~critics.quote.isnull()]\n",
    "critics.head()"
   ]
  },
  {
   "cell_type": "markdown",
   "metadata": {},
   "source": [
    "### Explore"
   ]
  },
  {
   "cell_type": "code",
   "execution_count": 3,
   "metadata": {},
   "outputs": [
    {
     "name": "stdout",
     "output_type": "stream",
     "text": [
      "Number of reviews: 15561\n",
      "Number of critics: 623\n",
      "Number of movies:  1921\n"
     ]
    }
   ],
   "source": [
    "n_reviews = len(critics)\n",
    "n_movies = critics.rtid.unique().size\n",
    "n_critics = critics.critic.unique().size\n",
    "\n",
    "\n",
    "print(\"Number of reviews: {:d}\".format(n_reviews))\n",
    "print(\"Number of critics: {:d}\".format(n_critics))\n",
    "print(\"Number of movies:  {:d}\".format(n_movies))"
   ]
  },
  {
   "cell_type": "code",
   "execution_count": 4,
   "metadata": {},
   "outputs": [
    {
     "data": {
      "image/png": "[encoded data removed]",
      "text/plain": [
       "<Figure size 432x288 with 1 Axes>"
      ]
     },
     "metadata": {
      "needs_background": "light"
     },
     "output_type": "display_data"
    }
   ],
   "source": [
    "df = critics.copy()\n",
    "df['fresh'] = df.fresh == 'fresh'\n",
    "grp = df.groupby('critic')\n",
    "counts = grp.critic.count()  # number of reviews by each critic\n",
    "means = grp.fresh.mean()     # average freshness for each critic\n",
    "\n",
    "means[counts > 100].hist(bins=10, edgecolor='w', lw=1)\n",
    "plt.xlabel(\"Average Rating per critic\")\n",
    "plt.ylabel(\"Number of Critics\")\n",
    "plt.yticks([0, 2, 4, 6, 8, 10]);"
   ]
  },
  {
   "cell_type": "markdown",
   "metadata": {},
   "source": [
    "<div class=\"span5 alert alert-info\">\n",
    "<h3>Exercise Set I</h3>\n",
    "<br/>\n",
    "<b>Exercise:</b> Look at the histogram above. Tell a story about the average ratings per critic. What shape does the distribution look like? What is interesting about the distribution? What might explain these interesting things?\n",
    "</div>"
   ]
  },
  {
   "cell_type": "markdown",
   "metadata": {},
   "source": [
    "#### Ans: This histogram is plotted for critics who have more than 100 movie reviews\n",
    "- The above is a Normal distribution are skewed to the left\n",
    "- The lowest average rating per critic is 0.4\n",
    "- The highest average rating per critic is 0.8\n",
    "- The mean of average rating per critic is 0.6\n",
    "- Most critics have given positive reviews\n",
    "- There could be missing data between 0.5 and 0.6 as there is no resaon why critics would not have given 55-60% fresh review"
   ]
  },
  {
   "cell_type": "markdown",
   "metadata": {},
   "source": [
    "## The Vector Space Model and a Search Engine"
   ]
  },
  {
   "cell_type": "markdown",
   "metadata": {},
   "source": [
    "All the diagrams here are snipped from [*Introduction to Information Retrieval* by Manning et. al.]( http://nlp.stanford.edu/IR-book/) which is a great resource on text processing. For additional information on text mining and natural language processing, see [*Foundations of Statistical Natural Language Processing* by Manning and Schutze](http://nlp.stanford.edu/fsnlp/).\n",
    "\n",
    "Also check out Python packages [`nltk`](http://www.nltk.org/), [`spaCy`](https://spacy.io/), [`pattern`](http://www.clips.ua.ac.be/pattern), and their associated resources. Also see [`word2vec`](https://en.wikipedia.org/wiki/Word2vec).\n",
    "\n",
    "Let us define the vector derived from document $d$ by $\\bar V(d)$. What does this mean? Each document is treated as a vector containing information about the words contained in it. Each vector has the same length and each entry \"slot\" in the vector contains some kind of data about the words that appear in the document such as presence/absence (1/0), count (an integer) or some other statistic. Each vector has the same length because each document shared the same vocabulary across the full collection of documents -- this collection is called a *corpus*.\n",
    "\n",
    "To define the vocabulary, we take a union of all words we have seen in all documents. We then just associate an array index with them. So \"hello\" may be at index 5 and \"world\" at index 99.\n",
    "\n",
    "Suppose we have the following corpus:\n",
    "\n",
    "`A Fox one day spied a beautiful bunch of ripe grapes hanging from a vine trained along the branches of a tree. The grapes seemed ready to burst with juice, and the Fox's mouth watered as he gazed longingly at them.`\n",
    "\n",
    "Suppose we treat each sentence as a document $d$. The vocabulary (often called the *lexicon*) is the following:\n",
    "\n",
    "$V = \\left\\{\\right.$ `a, along, and, as, at, beautiful, branches, bunch, burst, day, fox, fox's, from, gazed, grapes, hanging, he, juice, longingly, mouth, of, one, ready, ripe, seemed, spied, the, them, to, trained, tree, vine, watered, with`$\\left.\\right\\}$\n",
    "\n",
    "Then the document\n",
    "\n",
    "`A Fox one day spied a beautiful bunch of ripe grapes hanging from a vine trained along the branches of a tree`\n",
    "\n",
    "may be represented as the following sparse vector of word counts:\n",
    "\n",
    "$$\\bar V(d) = \\left( 4,1,0,0,0,1,1,1,0,1,1,0,1,0,1,1,0,0,0,0,2,1,0,1,0,0,1,0,0,1,1,1,0,0 \\right)$$\n",
    "\n",
    "or more succinctly as\n",
    "\n",
    "`[(0, 4), (1, 1), (5, 1), (6, 1), (7, 1), (9, 1), (10, 1), (12, 1), (14, 1), (15, 1), (20, 2), (21, 1), (23, 1),`\n",
    "`(26, 1), (29,1), (30, 1), (31, 1)]`\n",
    "\n",
    "along with a dictionary\n",
    "\n",
    "``\n",
    "{\n",
    "    0: a, 1: along, 5: beautiful, 6: branches, 7: bunch, 9: day, 10: fox, 12: from, 14: grapes, 15: hanging, 19: mouth, 20: of, 21: one, 23: ripe, 24: seemed, 25: spied, 26: the, 29:trained, 30: tree, 31: vine, \n",
    "}\n",
    "``\n",
    "\n",
    "Then, a set of documents becomes, in the usual `sklearn` style, a sparse matrix with rows being sparse arrays representing documents and columns representing the features/words in the vocabulary.\n",
    "\n",
    "Notice that this representation loses the relative ordering of the terms in the document. That is \"cat ate rat\" and \"rat ate cat\" are the same. Thus, this representation is also known as the Bag-Of-Words representation.\n",
    "\n",
    "Here is another example, from the book quoted above, although the matrix is transposed here so that documents are columns:\n",
    "\n",
    "![novel terms](terms.png)\n",
    "\n",
    "Such a matrix is also catted a Term-Document Matrix. Here, the terms being indexed could be stemmed before indexing; for instance, `jealous` and `jealousy` after stemming are the same feature. One could also make use of other \"Natural Language Processing\" transformations in constructing the vocabulary. We could use Lemmatization, which reduces words to lemmas: work, working, worked would all reduce to work. We could remove \"stopwords\" from our vocabulary, such as common words like \"the\". We could look for particular parts of speech, such as adjectives. This is often done in Sentiment Analysis. And so on. It all depends on our application.\n",
    "\n",
    "From the book:\n",
    ">The standard way of quantifying the similarity between two documents $d_1$ and $d_2$  is to compute the cosine similarity of their vector representations $\\bar V(d_1)$ and $\\bar V(d_2)$:\n",
    "\n",
    "$$S_{12} = \\frac{\\bar V(d_1) \\cdot \\bar V(d_2)}{|\\bar V(d_1)| \\times |\\bar V(d_2)|}$$\n",
    "\n",
    "![Vector Space Model](vsm.png)\n",
    "\n",
    "\n",
    ">There is a far more compelling reason to represent documents as vectors: we can also view a query as a vector. Consider the query q = jealous gossip. This query turns into the unit vector $\\bar V(q)$ = (0, 0.707, 0.707) on the three coordinates below. \n",
    "\n",
    "![novel terms](terms2.png)\n",
    "\n",
    ">The key idea now: to assign to each document d a score equal to the dot product:\n",
    "\n",
    "$$\\bar V(q) \\cdot \\bar V(d)$$\n",
    "\n",
    "Then we can use this simple Vector Model as a Search engine."
   ]
  },
  {
   "cell_type": "markdown",
   "metadata": {},
   "source": [
    "### In Code"
   ]
  },
  {
   "cell_type": "code",
   "execution_count": 19,
   "metadata": {},
   "outputs": [
    {
     "name": "stdout",
     "output_type": "stream",
     "text": [
      "Original text is\n",
      "Hop on pop\n",
      "Hop off pop\n",
      "Hop Hop hop\n",
      "csc    (0, 0)\t1\n",
      "  (1, 0)\t1\n",
      "  (2, 0)\t3\n",
      "  (1, 1)\t1\n",
      "  (0, 2)\t1\n",
      "  (0, 3)\t1\n",
      "  (1, 3)\t1\n",
      "\n",
      "Transformed text vector is \n",
      "[[1 0 1 1]\n",
      " [1 1 0 1]\n",
      " [3 0 0 0]]\n",
      "\n",
      "Words for each feature:\n",
      "['hop', 'off', 'on', 'pop']\n"
     ]
    }
   ],
   "source": [
    "from sklearn.feature_extraction.text import CountVectorizer\n",
    "\n",
    "text = ['Hop on pop', 'Hop off pop', 'Hop Hop hop']\n",
    "print(\"Original text is\\n{}\".format('\\n'.join(text)))\n",
    "\n",
    "vectorizer = CountVectorizer(min_df=0)\n",
    "\n",
    "# call `fit` to build the vocabulary\n",
    "vectorizer.fit(text)\n",
    "\n",
    "# call `transform` to convert text to a bag of words\n",
    "x = vectorizer.transform(text)\n",
    "\n",
    "print(\"csc \", x.tocsc())\n",
    "\n",
    "# CountVectorizer uses a sparse array to save memory, but it's easier in this assignment to \n",
    "# convert back to a \"normal\" numpy array\n",
    "x = x.toarray()\n",
    "\n",
    "print(\"\")\n",
    "print(\"Transformed text vector is \\n{}\".format(x))\n",
    "\n",
    "\n",
    "\n",
    "# `get_feature_names` tracks which word is associated with each column of the transformed x\n",
    "print(\"\")\n",
    "print(\"Words for each feature:\")\n",
    "print(vectorizer.get_feature_names())\n",
    "\n",
    "# Notice that the bag of words treatment doesn't preserve information about the *order* of words, \n",
    "# just their frequency"
   ]
  },
  {
   "cell_type": "code",
   "execution_count": 49,
   "metadata": {},
   "outputs": [
    {
     "name": "stdout",
     "output_type": "stream",
     "text": [
      "Transformed text vector is \n",
      "  (1028, 0)\t1\n",
      "  (3215, 0)\t1\n",
      "  (4740, 0)\t1\n",
      "  (4741, 0)\t1\n",
      "  (8722, 0)\t2\n",
      "  (8820, 0)\t1\n",
      "  (12118, 0)\t1\n",
      "  (4031, 1)\t1\n",
      "  (74, 2)\t1\n",
      "  (76, 2)\t1\n",
      "  (3653, 2)\t1\n",
      "  (4031, 2)\t1\n",
      "  (8023, 2)\t1\n",
      "  (10704, 2)\t1\n",
      "  (13425, 2)\t1\n",
      "  (13435, 2)\t1\n",
      "  (13668, 2)\t1\n",
      "  (13693, 2)\t1\n",
      "  (8647, 3)\t1\n",
      "  (369, 4)\t1\n",
      "  (24, 5)\t1\n",
      "  (65, 5)\t1\n",
      "  (472, 5)\t1\n",
      "  (625, 5)\t1\n",
      "  (731, 5)\t1\n",
      "  :\t:\n",
      "  (14548, 22402)\t1\n",
      "  (14551, 22402)\t1\n",
      "  (958, 22403)\t1\n",
      "  (10209, 22403)\t1\n",
      "  (6804, 22404)\t1\n",
      "  (8594, 22405)\t1\n",
      "  (14697, 22406)\t1\n",
      "  (6465, 22407)\t1\n",
      "  (4134, 22408)\t1\n",
      "  (8145, 22408)\t1\n",
      "  (4471, 22409)\t1\n",
      "  (4477, 22409)\t1\n",
      "  (4478, 22409)\t1\n",
      "  (4476, 22410)\t1\n",
      "  (8847, 22411)\t1\n",
      "  (1076, 22412)\t1\n",
      "  (3126, 22412)\t1\n",
      "  (3128, 22412)\t1\n",
      "  (9252, 22412)\t1\n",
      "  (2774, 22413)\t1\n",
      "  (3360, 22414)\t1\n",
      "  (5930, 22414)\t1\n",
      "  (10457, 22414)\t1\n",
      "  (4473, 22415)\t1\n",
      "  (8518, 22416)\t1\n",
      "\n",
      "Words for each feature:\n",
      "['000', '0014', '007', '044', '07', '10', '100', '101', '102', '104', '105', '108', '10th', '11', '110', '112', '1138', '114', '118', '11th', '12', '124', '125', '128', '13', '130', '131', '132', '133', '134', '136', '137', '13th', '14', '141', '145', '15', '153', '15th', '16', '160', '161', '1660s', '16mm', '16th', '17', '17th', '18', '180', '185', '1850', '187', '1873', '1879', '1880s', '1898', '18a', '18th', '19', '1900s', '1910', '1911', '1914', '1917', '1920', '1920s', '1921', '1922', '1925', '1926', '1927', '1930', '1930s', '1931', '1932', '1933', '1934', '1935', '1936', '1937', '1938', '1939', '1940', '1940s', '1941', '1942', '1943', '1946', '1948', '1950', '1950s', '1951', '1952', '1953', '1954', '1955', '1956', '1957', '1958', '1959', '1960', '1960s', '1961', '1962', '1963', '1964', '1965', '1966', '1967', '1968', '1969', '1970', '1970s', '1971', '1972', '1973', '1974', '1975', '1976', '1977', '1978', '1979', '1980', '1980s', '1981', '1982', '1983', '1984', '1985', '1986', '1987', '1988', '1989', '1990', '1990s', '1991', '1992', '1993', '1994', '1995', '1996', '1997', '1998', '1999', '19th', '20', '200', '2000', '20000', '2001', '2002', '2003', '2004', '2006', '2007', '2008', '2009', '2010', '2019', '202', '2033', '207', '208', '20s', '20th', '21st', '22', '231', '24', '240', '25', '250', '25th', '26', '27', '28', '29', '2d', '30', '300', '3000', '30s', '31', '312', '33', '33rd', '34', '34th', '35', '35mm', '36', '37', '39', '3d', '40', '400', '40s', '41', '42', '42nd', '45', '467', '48', '48hrs', '50', '500', '50s', '51', '52', '54', '55', '56', '60', '60s', '63', '64257', '65', '666', '69', '70', '70s', '72', '73', '74', '747', '747s', '75', '75th', '76', '78', '79', '80', '80s', '81', '82', '8212', '83', '84', '85', '87', '88', '90', '90s', '91', '92', '93', '94', '95', '96', '97', '98', '99', '_and_', 'aaron', 'abandon', 'abandoned', 'abandonment', 'abandons', 'abbott', 'abbreviated', 'abc', 'abdominal', 'abduct', 'abe', 'abel', 'abets', 'abiding', 'abilities', 'ability', 'abject', 'ablazin', 'able', 'abler', 'ably', 'aboard', 'abominable', 'abomination', 'aborted', 'abortion', 'abounce', 'abound', 'abounds', 'about', 'above', 'abrams', 'abrasion', 'abrasive', 'abroad', 'abrupt', 'abruptly', 'absence', 'absent', 'absolute', 'absolutely', 'absorbed', 'absorbing', 'absorbingly', 'absorption', 'abstinence', 'abstract', 'abstraction', 'abstractions', 'absurd', 'absurdism', 'absurdist', 'absurdities', 'absurdity', 'absurdly', 'absurdum', 'abundance', 'abundant', 'abundantly', 'abuse', 'abused', 'abusing', 'abysmal', 'abysmally', 'abyss', 'academic', 'academically', 'academy', 'accelerates', 'accelerating', 'accent', 'accents', 'accentuate', 'accentuated', 'accept', 'acceptable', 'acceptance', 'accepted', 'accepts', 'accessible', 'accident', 'accidental', 'accidential', 'acclaim', 'acclaimed', 'accommodation', 'accompanied', 'accompanies', 'accompany', 'accompanying', 'accomplices', 'accomplish', 'accomplished', 'accomplishes', 'accomplishment', 'accomplishments', 'accorded', 'according', 'accordion', 'account', 'accounting', 'accounts', 'accouterments', 'accrues', 'accumulated', 'accumulates', 'accumulating', 'accumulation', 'accuracy', 'accurate', 'accurately', 'accusations', 'accusatory', 'accused', 'accustomed', 'ace', 'acerbic', 'aces', 'ache', 'achieve', 'achieved', 'achievement', 'achievements', 'achieves', 'achieving', 'achilles', 'aching', 'achingly', 'acid', 'ackerman', 'acknowledge', 'acknowledged', 'acknowledgment', 'acne', 'acolytes', 'acquaintance', 'acquainted', 'acquire', 'acquired', 'acquires', 'acquit', 'acquits', 'acrid', 'acrimonious', 'acrobatics', 'acrophobia', 'across', 'act', 'acted', 'acting', 'action', 'actioner', 'actioners', 'actionful', 'actions', 'active', 'actively', 'activists', 'activities', 'activity', 'actor', 'actors', 'actress', 'actresses', 'acts', 'actual', 'actuality', 'actually', 'acuity', 'acute', 'acutely', 'ad', 'adage', 'adam', 'adams', 'adapation', 'adapt', 'adaptable', 'adaptation', 'adaptations', 'adapted', 'adapters', 'adapting', 'adaption', 'adapts', 'add', 'addams', 'addamses', 'added', 'addiction', 'addictive', 'addicts', 'adding', 'addition', 'additional', 'additions', 'addled', 'address', 'addresses', 'addressing', 'adds', 'adele', 'adept', 'adeptly', 'adeptness', 'adequate', 'adequately', 'adhere', 'adherence', 'adheres', 'adieu', 'adjective', 'adjectives', 'adjoining', 'adjust', 'adjuster', 'adler', 'administration', 'admirable', 'admirably', 'admiration', 'admire', 'admired', 'admirer', 'admirers', 'admires', 'admiring', 'admiringly', 'admission', 'admit', 'admitted', 'admittedly', 'adolescence', 'adolescent', 'adolescents', 'adolf', 'adolph', 'adopt', 'adopted', 'adopting', 'adoption', 'adorable', 'adorableness', 'adoration', 'adored', 'adores', 'adoring', 'adorning', 'adrenaline', 'adrenalized', 'adrian', 'adrienne', 'adrift', 'adroit', 'adroitly', 'ads', 'adulation', 'adult', 'adulterous', 'adultery', 'adulthood', 'adults', 'advance', 'advanced', 'advancements', 'advances', 'advancing', 'advantage', 'adventure', 'adventurer', 'adventures', 'adventurism', 'adventurous', 'adversaries', 'advert', 'advertised', 'advertises', 'advertising', 'advice', 'advised', 'advising', 'advocate', 'aerial', 'aerobic', 'aeronautically', 'aerosol', 'aeschylus', 'aesthetic', 'aesthetically', 'aestheticism', 'aestheticization', 'aestheticized', 'afar', 'affability', 'affable', 'affair', 'affairs', 'affect', 'affectation', 'affectations', 'affected', 'affecting', 'affectingly', 'affection', 'affectionate', 'affectionately', 'affections', 'affective', 'affectless', 'affectlessness', 'affects', 'affirmation', 'affirming', 'affirms', 'affixed', 'affleck', 'afflict', 'affliction', 'afflicts', 'afford', 'affords', 'afi', 'aficionado', 'aficionados', 'afloat', 'aforementioned', 'aforethought', 'afraid', 'afresh', 'africa', 'african', 'after', 'aftereffect', 'afterlife', 'aftermath', 'afternoon', 'aftertaste', 'afterthought', 'afterward', 'afterwards', 'again', 'against', 'age', 'aged', 'agee', 'ageless', 'agencies', 'agenda', 'agendas', 'agent', 'agents', 'ager', 'agers', 'ages', 'aggregation', 'aggressive', 'aggressively', 'aggrieved', 'aghast', 'agile', 'aging', 'agitprop', 'agnes', 'agnieszka', 'ago', 'agonies', 'agonized', 'agonizing', 'agony', 'agree', 'agreeable', 'agreeably', 'agreed', 'agreement', 'agrees', 'agripping', 'aground', 'aguirre', 'ah', 'ahead', 'ahhhs', 'ahhing', 'aid', 'aide', 'aided', 'aids', 'aim', 'aimed', 'aimee', 'aiming', 'aimless', 'aimlessness', 'aims', 'ain', 'air', 'airborne', 'airheaded', 'airheads', 'airier', 'airiness', 'airless', 'airness', 'airplane', 'airport', 'airports', 'airy', 'aisle', 'aisles', 'aka', 'akerman', 'akin', 'akira', 'akiva', 'al', 'alabama', 'aladdin', 'alan', 'alanis', 'alarm', 'alarmed', 'alarming', 'alarmingly', 'alarmist', 'alarms', 'alas', 'alaska', 'alaskan', 'albatross', 'albee', 'albeit', 'albert', 'album', 'alcatraz', 'alchemist', 'alchemizes', 'alchemy', 'alcoholics', 'alcoholism', 'aldrich', 'alec', 'alecky', 'alert', 'alertly', 'alex', 'alexander', 'alfonso', 'alfred', 'algar', 'algebra', 'algiers', 'algonquin', 'ali', 'alias', 'alibi', 'alibis', 'alice', 'alien', 'alienated', 'alienates', 'alienating', 'alienation', 'aliens', 'alientaion', 'alike', 'alive', 'alkalai', 'all', 'alleged', 'allegedly', 'alleges', 'allegorical', 'allegory', 'allen', 'allende', 'alley', 'alliance', 'alliances', 'allied', 'alligator', 'allow', 'allowance', 'allowed', 'allowing', 'allows', 'allright', 'allude', 'alluding', 'allure', 'alluring', 'allusions', 'allusive', 'almodovar', 'almodovariety', 'almost', 'alone', 'along', 'alongside', 'aloof', 'aloofness', 'aloud', 'alphabet', 'alphabetical', 'already', 'alright', 'also', 'altar', 'alter', 'alteration', 'altered', 'altering', 'alternate', 'alternately', 'alternates', 'alternating', 'alternations', 'alternative', 'althea', 'although', 'altitude', 'altman', 'altogether', 'altruism', 'alvin', 'always', 'alyssa', 'am', 'amadeus', 'amalgam', 'amalgamates', 'amalgamation', 'amalgams', 'amalric', 'amanda', 'amarcord', 'amateur', 'amateurish', 'amateurishly', 'amateurs', 'amaze', 'amazed', 'amazement', 'amazements', 'amazes', 'amazing', 'amazingly', 'amazon', 'ambiance', 'ambience', 'ambient', 'ambiguities', 'ambiguity', 'ambiguous', 'ambiguously', 'ambition', 'ambitions', 'ambitious', 'ambivalence', 'ambivalent', 'amble', 'ambles', 'amblin', 'ambush', 'ameche', 'amenabar', 'amendment', 'amends', 'america', 'american', 'americana', 'americans', 'ames', 'amiability', 'amiable', 'amiably', 'amicus', 'amid', 'amidst', 'amigos', 'amin', 'amiss', 'amistad', 'amityville', 'amma', 'ammunition', 'amnesia', 'amok', 'among', 'amoral', 'amorality', 'amore', 'amount', 'amounting', 'amounts', 'amour', 'amp', 'amped', 'amphetamines', 'amphibian', 'ample', 'amplified', 'amplifier', 'amplify', 'amply', 'amuse', 'amused', 'amusement', 'amusing', 'amusingly', 'amy', 'amyotrophic', 'an', 'anachronistic', 'anachronistically', 'anaconda', 'anaemic', 'analog', 'analogies', 'analogy', 'analysis', 'analytic', 'analytical', 'anamolously', 'anarchic', 'anarchical', 'anarchies', 'anarchist', 'anarchistic', 'anarchy', 'anarene', 'anastasia', 'anatole', 'anatomy', 'ancestors', 'anchor', 'anchored', 'anchoring', 'anchors', 'ancient', 'and', 'anders', 'andersen', 'anderson', 'andiswa', 'andre', 'andrea', 'andrei', 'andress', 'andrew', 'andrews', 'androgynous', 'androgynously', 'android', 'androids', 'andronicus', 'andrus', 'andrzej', 'andy', 'anecdotal', 'anecdote', 'anecdotes', 'anemic', 'anesthesia', 'anew', 'ang', 'angel', 'angela', 'angeleno', 'angeles', 'angelic', 'angelina', 'angelo', 'angelopoulos', 'angels', 'anger', 'angle', 'angled', 'angles', 'anglo', 'angora', 'angry', 'angst', 'anguish', 'anguished', 'angular', 'animal', 'animals', 'animated', 'animates', 'animating', 'animation', 'animator', 'animators', 'animatronic', 'animatronics', 'anime', 'animism', 'animistic', 'aniston', 'anjelica', 'ankle', 'ankles', 'ann', 'anna', 'annals', 'anne', 'annie', 'annihilating', 'anniversary', 'announce', 'annoy', 'annoyance', 'annoying', 'annoyingly', 'annual', 'annually', 'anomalous', 'anomaly', 'anonymous', 'another', 'anouk', 'anspaugh', 'answer', 'answers', 'ant', 'antagonists', 'ante', 'anthem', 'anthems', 'anthology', 'anthony', 'anthropomorphic', 'anthropomorphism', 'anti', 'antiadult', 'antic', 'anticipate', 'anticipated', 'anticipates', 'anticipating', 'anticipation', 'anticlerical', 'anticlimactic', 'anticlimax', 'antics', 'antidote', 'antipollution', 'antiquated', 'antique', 'antiquity', 'antiseptic', 'antisocial', 'antiwestern', 'antlered', 'anton', 'antoni', 'antonia', 'antonio', 'ants', 'antz', 'anxieties', 'anxiety', 'anxious', 'any', 'anybody', 'anymore', 'anyone', 'anyplace', 'anything', 'anyway', 'anywhere', 'aorta', 'apart', 'apartment', 'apatow', 'ape', 'apes', 'aping', 'aplenty', 'aplomb', 'apocalypse', 'apocalyptic', 'apolitical', 'apollo', 'apologia', 'apologies', 'apologize', 'apology', 'apoplexy', 'apotheosis', 'appalled', 'appalling', 'appallingly', 'apparent', 'apparently', 'apparitions', 'appeal', 'appealing', 'appealingly', 'appeals', 'appear', 'appearance', 'appearances', 'appeared', 'appearing', 'appears', 'appease', 'appeasing', 'append', 'appetite', 'appetites', 'appetizing', 'applaud', 'applauded', 'applause', 'apple', 'appliances', 'application', 'applications', 'applied', 'applies', 'apply', 'appointed', 'apportioned', 'appreciate', 'appreciated', 'appreciates', 'appreciation', 'appreciative', 'apprehensive', 'apprentice', 'approach', 'approached', 'approaches', 'approaching', 'appropriate', 'appropriately', 'appropriation', 'approval', 'approved', 'approximately', 'approximates', 'approximation', 'approximations', 'april', 'apsiration', 'apt', 'apted', 'aptitude', 'aptly', 'apu', 'arab', 'arabesques', 'arabia', 'arabian', 'arabs', 'arachnaphobes', 'arachnophobia', 'araki', 'aramaic', 'arbitrary', 'arbus', 'arc', 'arcade', 'arcane', 'arch', 'archaeological', 'archaeologist', 'archaic', 'archetypal', 'archetypes', 'architecture', 'archival', 'archives', 'archly', 'archness', 'ardent', 'ardently', 'ardor', 'are', 'area', 'areas', 'aren', 'arena', 'arenas', 'arguably', 'argue', 'argued', 'argues', 'arguing', 'argument', 'arguments', 'ari', 'arias', 'ariel', 'arise', 'arises', 'aristocats', 'aristocrats', 'arizona', 'ark', 'arkin', 'arlington', 'arm', 'armageddon', 'armchair', 'armed', 'armies', 'armin', 'armistead', 'armitage', 'armor', 'armored', 'armrests', 'arms', 'armstrong', 'army', 'arnie', 'arnold', 'aroma', 'aron', 'aronofsky', 'around', 'arouse', 'aroused', 'arousing', 'arquette', 'arrange', 'arranged', 'arranging', 'array', 'arrest', 'arrested', 'arresting', 'arrhythmic', 'arrival', 'arrive', 'arrived', 'arrives', 'arriving', 'arrogance', 'arrogant', 'arrow', 'arrows', 'arsenal', 'arsenic', 'arson', 'art', 'arteries', 'artery', 'artful', 'artfully', 'artfulness', 'arthouse', 'arthritic', 'arthur', 'arthurian', 'article', 'articles', 'articulate', 'articulated', 'articulates', 'articulating', 'artifact', 'artifice', 'artificial', 'artificiality', 'artificially', 'artillery', 'artily', 'artisan', 'artist', 'artistic', 'artistically', 'artistry', 'artists', 'artless', 'artlessness', 'arts', 'artsy', 'arty', 'as', 'asbury', 'ascent', 'ash', 'ashamed', 'ashby', 'ashes', 'ashley', 'ashore', 'ashton', 'asian', 'aside', 'asides', 'asinine', 'ask', 'asked', 'askew', 'asking', 'asks', 'asleep', 'aspect', 'aspects', 'aspiration', 'aspirations', 'aspire', 'aspired', 'aspires', 'aspiring', 'ass', 'assail', 'assassin', 'assassination', 'assassins', 'assault', 'assaulted', 'assaults', 'assayas', 'assays', 'assemblage', 'assemble', 'assembled', 'assembles', 'assembling', 'assembly', 'assertion', 'assertive', 'asserts', 'assessment', 'assessments', 'asset', 'assets', 'assiduously', 'assign', 'assigned', 'assignment', 'assignments', 'assisted', 'associated', 'associates', 'associating', 'association', 'associations', 'assorted', 'assortedly', 'assortment', 'assume', 'assumed', 'assumes', 'assuming', 'assumption', 'assumptions', 'assurance', 'assure', 'assured', 'assures', 'astaire', 'asteroids', 'asthmatic', 'astin', 'astonished', 'astonishing', 'astonishingly', 'astonishment', 'astor', 'astound', 'astounding', 'astoundingly', 'astounds', 'astray', 'astringency', 'astringent', 'astronaut', 'astronomer', 'astronomers', 'astronomic', 'astute', 'astutely', 'asurprisingly', 'asylum', 'at', 'ate', 'atheist', 'athlete', 'athletes', 'athletic', 'athleticism', 'athletics', 'athough', 'atkins', 'atkinson', 'atlantic', 'atmosphere', 'atmospheric', 'atmospherics', 'atom', 'atomic', 'atonement', 'atop', 'atrocious', 'atrocity', 'attach', 'attached', 'attack', 'attacked', 'attacks', 'attain', 'attained', 'attaining', 'attains', 'attanasio', 'attempt', 'attempted', 'attempting', 'attempts', 'attenborough', 'attend', 'attendant', 'attended', 'attending', 'attends', 'attention', 'attentive', 'attenuated', 'attire', 'attitude', 'attitudes', 'attorney', 'attract', 'attracted', 'attraction', 'attractions', 'attractive', 'attractively', 'attracts', 'attributable', 'attributed', 'attuned', 'atypical', 'atypically', 'au', 'auburn', 'aud', 'audacious', 'audaciously', 'audacity', 'audience', 'audiences', 'audio', 'auditor', 'audits', 'audrey', 'auds', 'augmented', 'augments', 'augurs', 'august', 'aunt', 'auntie', 'aunties', 'aura', 'aural', 'auspicious', 'aussie', 'austen', 'auster', 'austere', 'austerity', 'austin', 'australian', 'auteil', 'auteur', 'auteurist', 'authentic', 'authentically', 'authenticity', 'author', 'authorial', 'authoritarian', 'authoritatian', 'authoritative', 'authority', 'autistic', 'auto', 'autobiographical', 'autobiographies', 'autodestruct', 'automatic', 'automatically', 'automobile', 'automobiles', 'automotive', 'autonomy', 'autopilot', 'autopopathism', 'autry', 'autumn', 'autumnal', 'available', 'avalanche', 'avant', 'avenged', 'avenger', 'avengers', 'avenue', 'average', 'averagely', 'averse', 'avert', 'avertingly', 'avery', 'avian', 'aviators', 'avid', 'avildsen', 'aviva', 'avoid', 'avoidance', 'avoided', 'avoiding', 'avoids', 'avowed', 'aw', 'awaited', 'awaits', 'awake', 'awakening', 'awakens', 'award', 'awards', 'aware', 'awareness', 'awash', 'away', 'awe', 'awed', 'awesome', 'awesomely', 'awestruck', 'awful', 'awfully', 'awfulness', 'awhile', 'awkward', 'awkwardly', 'awkwardness', 'awol', 'awry', 'awwwwww', 'axe', 'axelrod', 'axis', 'aye', 'aykroyd', 'ayres', 'baaaaad', 'babaloo', 'babble', 'babe', 'babes', 'babies', 'baby', 'babylonian', 'babysitter', 'babysitters', 'bac', 'bacchanalia', 'bach', 'bacharach', 'bachelor', 'back', 'backbeat', 'backbone', 'backchat', 'backdraft', 'backdrop', 'backdrops', 'backed', 'backers', 'backes', 'backfire', 'backfires', 'background', 'backgrounds', 'backhanded', 'backlighting', 'backlot', 'backs', 'backside', 'backstage', 'backstory', 'backward', 'backwards', 'backwoods', 'backyard', 'bacon', 'bad', 'baddie', 'badly', 'badness', 'baffling', 'bag', 'bagdad', 'baggage', 'bags', 'bah', 'baha', 'bahamas', 'bai', 'baigelman', 'bail', 'bailey', 'bailing', 'baird', 'bait', 'baiter', 'baked', 'baker', 'bakery', 'baking', 'bakshi', 'bakula', 'balaban', 'balance', 'balanced', 'balances', 'balancing', 'balboa', 'balcony', 'bald', 'baldacci', 'balder', 'balderston', 'baldwin', 'bale', 'balks', 'ball', 'ballad', 'ballads', 'ballard', 'ballast', 'ballerina', 'ballet', 'ballgame', 'ballhaus', 'ballistic', 'ballistics', 'balloon', 'balloons', 'ballots', 'ballpark', 'ballplayer', 'ballroom', 'balls', 'ballyhooed', 'balmy', 'baloney', 'balsa', 'baltimore', 'balto', 'bambi', 'bambini', 'bambino', 'bamboo', 'bamboozled', 'bana', 'banal', 'banalities', 'banality', 'banana', 'bananas', 'bancroft', 'band', 'bandages', 'banderas', 'bandit', 'bandits', 'bands', 'bandwidth', 'bandy', 'bane', 'bang', 'bangles', 'bangs', 'banishes', 'bank', 'bankable', 'banking', 'bankrolled', 'bankrupt', 'bankruptcy', 'banks', 'banners', 'banning', 'banquet', 'bans', 'banshee', 'bantamweight', 'banter', 'banzai', 'bar', 'barba', 'barbara', 'barbarella', 'barbarian', 'barbaric', 'barbeau', 'barbecues', 'barbed', 'barbershop', 'barbet', 'barbra', 'barbs', 'barcelona', 'bard', 'bardem', 'bare', 'bared', 'barefaced', 'barefoot', 'barely', 'barest', 'bargain', 'bargained', 'bargains', 'barge', 'bargian', 'barhydt', 'baring', 'barish', 'bark', 'barker', 'barkin', 'barking', 'barmy', 'barn', 'barneys', 'barnyard', 'baroque', 'baroquely', 'barr', 'barrage', 'barrel', 'barrels', 'barren', 'barricade', 'barricaded', 'barrie', 'barriers', 'barry', 'barrymore', 'bars', 'bart', 'bartholomews', 'bartkowiak', 'bartleby', 'base', 'baseball', 'based', 'baseman', 'basement', 'baser', 'bash', 'bashing', 'basic', 'basically', 'basics', 'basing', 'basinger', 'basis', 'bask', 'basket', 'basketball', 'basks', 'bass', 'basset', 'bassett', 'bastard', 'bastardised', 'bat', 'batboat', 'batch', 'batchler', 'batcycle', 'bates', 'bathetic', 'bathing', 'bathos', 'bathroom', 'bathtub', 'batman', 'batmania', 'batmobile', 'baton', 'batplane', 'bats', 'battered', 'batteries', 'battering', 'batters', 'battery', 'battier', 'batting', 'battle', 'battleground', 'battles', 'battlescenes', 'bauble', 'bava', 'bawdiest', 'bawdy', 'bay', 'bayou', 'bazelli', 'bbc', 'be', 'beach', 'beacon', 'beacons', 'bead', 'beads', 'beagle', 'beals', 'beam', 'beamed', 'beaming', 'bean', 'beane', 'beans', 'bear', 'bearability', 'bearable', 'bearing', 'bearings', 'bears', 'beart', 'beast', 'beasties', 'beasts', 'beat', 'beaten', 'beatific', 'beating', 'beatings', 'beatle', 'beatlemania', 'beatles', 'beats', 'beatty', 'beauteous', 'beautician', 'beauties', 'beautiful', 'beautifully', 'beauty', 'beaver', 'beavis', 'becalmed', 'became', 'because', 'becker', 'beckert', 'beckett', 'beckinsale', 'beckons', 'become', 'becomes', 'becoming', 'bed', 'bedeviled', 'bedlam', 'bedraggled', 'bedridden', 'bedrock', 'bedroom', 'bedside', 'bedtime', 'beefburger', 'beefed', 'beefy', 'beelzebubbin', 'been', 'beer', 'bees', 'beethoven', 'beetle', 'beetlejuice', 'befitting', 'before', 'beforehand', 'befriend', 'befuddled', 'began', 'begets', 'beggars', 'begging', 'begin', 'beginning', 'begins', 'begotten', 'begrudge', 'begs', 'beguiling', 'beguilingly', 'begun', 'behalf', 'behave', 'behaved', 'behaving', 'behavior', 'behavioral', 'behaviour', 'behind', 'behold', 'beholder', 'beineix', 'being', 'beings', 'bejesus', 'bekmambetov', 'belabored', 'belabors', 'belaboured', 'belated', 'belatedly', 'beleaguered', 'belfry', 'belgian', 'belgium', 'belie', 'belief', 'belies', 'believability', 'believable', 'believably', 'believe', 'believed', 'believer', 'believes', 'believing', 'belizaire', 'bell', 'bella', 'bellamy', 'belle', 'belles', 'bellicose', 'bellowed', 'bellowing', 'belly', 'bellylaugh', 'belong', 'belonging', 'belongs', 'beloved', 'below', 'belt', 'belts', 'belushi', 'belying', 'bemused', 'ben', 'bench', 'benchmark', 'bend', 'bender', 'bending', 'bends', 'beneath', 'benedictions', 'beneficent', 'beneficial', 'benefit', 'benefited', 'benefits', 'benefitted', 'benevolent', 'benevolently', 'benign', 'benigni', 'bening', 'benjamin', 'bennett', 'benning', 'benny', 'benoit', 'bent', 'benton', 'bereft', 'beresford', 'beret', 'berg', 'bergen', 'bergerac', 'bergere', 'bergman', 'bergstein', 'berkeley', 'berkley', 'berkowitz', 'berlin', 'berman', 'bernadette', 'bernadine', 'bernard', 'bernstein', 'berri', 'berry', 'berserk', 'berth', 'bertino', 'bertolucci', 'beside', 'besides', 'bespeaks', 'bespectacled', 'bessie', 'besson', 'best', 'bestialities', 'bestowed', 'bestows', 'bestseller', 'bet', 'betcha', 'bete', 'beth', 'bethany', 'betray', 'betrayal', 'betrayals', 'betrayed', 'betrays', 'bette', 'better', 'betty', 'between', 'beverly', 'bewailing', 'beware', 'bewildered', 'bewitching', 'beymer', 'beyond', 'bi2', 'bialystock', 'bias', 'bible', 'biblical', 'bicentennial', 'biceps', 'bicker', 'bickering', 'bickle', 'bicycle', 'bicycles', 'bid', 'bide', 'biel', 'bienen', 'big', 'bigalow', 'bigelow', 'bigger', 'biggest', 'biggie', 'biggs', 'bighearted', 'bigotry', 'bigots', 'bigscreen', 'bigtime', 'bigwigs', 'bijoux', 'bikini', 'bile', 'bilious', 'bilk', 'bilko', 'bill', 'billboards', 'bille', 'billed', 'billina', 'billing', 'billow', 'billowing', 'billows', 'bills', 'billy', 'bimbo', 'bin', 'bind', 'bindings', 'bindler', 'binds', 'bing', 'bingo', 'binoche', 'bins', 'bio', 'biographical', 'biographies', 'biography', 'biological', 'biology', 'biopic', 'biopics', 'biotechnology', 'birch', 'birckmayer', 'bird', 'birdcage', 'birdy', 'birth', 'birthday', 'birthed', 'birthright', 'bisexuality', 'bishop', 'bishops', 'biswas', 'bit', 'bitchiness', 'bitchy', 'bite', 'biter', 'bites', 'biting', 'bitingly', 'bits', 'bitten', 'bitter', 'bitterly', 'bitterness', 'bittersweet', 'bivalve', 'biz', 'bizarre', 'bizarrely', 'bizet', 'black', 'blackboard', 'blackest', 'blackly', 'blackmail', 'blackmailers', 'blackouts', 'blacks', 'blacktop', 'blacula', 'bladders', 'blade', 'blades', 'blah', 'blahblahblah', 'blahs', 'blair', 'blake', 'blakeney', 'blame', 'blanchett', 'bland', 'blanding', 'blandly', 'blandness', 'blank', 'blanket', 'blankly', 'blanks', 'blare', 'blares', 'blaring', 'blarney', 'blasphemous', 'blast', 'blaster', 'blasts', 'blatant', 'blatantly', 'blather', 'blatty', 'blau', 'blaustein', 'blaze', 'blazed', 'blazes', 'blazing', 'bleached', 'bleak', 'bleaker', 'bleakly', 'bleakness', 'bleary', 'bleccchh', 'bleeding', 'bleeth', 'blend', 'blended', 'blender', 'blending', 'blends', 'bless', 'blessed', 'blessedly', 'blessing', 'blew', 'bligh', 'blind', 'blinding', 'blindingly', 'bling', 'blink', 'blinking', 'blinks', 'blip', 'bliss', 'blissed', 'blissful', 'blisslessness', 'blister', 'blistering', 'blisteringly', 'blithe', 'blithely', 'blitz', 'blitzed', 'blizzard', 'bloated', 'bloc', 'block', 'blockbuster', 'blockbusters', 'blocked', 'blond', 'blonde', 'blood', 'bloodbath', 'bloodbaths', 'bloodcurdling', 'blooded', 'bloodfest', 'bloodied', 'blooding', 'bloodless', 'bloodletting', 'bloodlettings', 'bloodlust', 'bloodshed', 'bloodstream', 'bloodsuckers', 'bloodthirsty', 'bloody', 'bloom', 'blooms', 'blossom', 'blossoming', 'blossoms', 'blow', 'blowhards', 'blowing', 'blown', 'blows', 'blowtorches', 'blowups', 'blubbering', 'bludgeon', 'bludgeoning', 'blue', 'bluebirds', 'blueprint', 'blues', 'bluff', 'bluffing', 'blundering', 'blunders', 'blunt', 'blunted', 'bluntly', 'blur', 'blurbs', 'blurred', 'blurring', 'blurry', 'blushing', 'bluster', 'bluth', 'blvd', 'bly', 'boam', 'board', 'boarders', 'boarding', 'boast', 'boasting', 'boasts', 'boat', 'boatload', 'bob', 'bobbitt', 'bobby', 'bobs', 'bodied', 'bodies', 'bodily', 'bodmer', 'bodrov', 'body', 'bodyguard', 'bodyguards', 'boff', 'bog', 'bogart', 'bogdanovich', 'bogeymen', 'bogged', 'boggling', 'bogie', 'bogs', 'bogus', 'boil', 'boiled', 'boiler', 'boilerplate', 'boils', 'boisterous', 'bojan', 'bold', 'bolder', 'boldfaced', 'boldly', 'boldness', 'bolger', 'bollywood', 'bolotin', 'bolstered', 'bolsters', 'bolt', 'bolting', 'bolts', 'bomb', 'bombardment', 'bombast', 'bombastic', 'bombastitude', 'bombed', 'bombs', 'bombshell', 'bon', 'bona', 'bonanza', 'bonbons', 'bond', 'bonding', 'bonds', 'bone', 'boned', 'bones', 'bonfire', 'bonham', 'bonkers', 'bonnaire', 'bonnie', 'bont', 'bonus', 'boo', 'boob', 'boobs', 'booby', 'booga', 'boogeymen', 'boogie', 'book', 'bookcases', 'bookend', 'booker', 'books', 'boom', 'boomer', 'boomerang', 'boomers', 'booming', 'boon', 'boorish', 'boorman', 'boost', 'boosters', 'boosts', 'boot', 'boothe', 'boots', 'booty', 'bop', 'bops', 'bordello', 'border', 'bordering', 'borderline', 'borders', 'bore', 'bored', 'boredom', 'borefest', 'bores', 'borg', 'borgnine', 'boring', 'boringly', 'born', 'borough', 'borrow', 'borrowed', 'borrowing', 'borrowings', 'borrows', 'borsch', 'borscht', 'bosch', 'bosie', 'bosley', 'bosnia', 'bosnian', 'bosom', 'bosoms', 'boss', 'boston', 'botanical', 'botched', 'botches', 'both', 'bother', 'bothered', 'bothers', 'bothersome', 'bottle', 'bottles', 'bottom', 'bouchez', 'boulevard', 'bounce', 'bounces', 'bouncing', 'bouncy', 'bound', 'boundaries', 'boundary', 'boundless', 'bounds', 'bountiful', 'bounty', 'bourgeois', 'bourgeoise', 'bourgeoisie', 'bousman', 'bout', 'bouts', 'bow', 'bowels', 'bowerman', 'bowfinger', 'bowl', 'bowled', 'bowles', 'bowling', 'bowman', 'bows', 'box', 'boxed', 'boxer', 'boxers', 'boxes', 'boxing', 'boxoffice', 'boy', 'boyd', 'boyfriend', 'boyfriends', 'boyhood', 'boyish', 'boyishness', 'boyle', 'boys', 'boyz', 'bozo', 'bozos', 'brace', 'bracing', 'bracingly', 'brad', 'bradstreet', 'brady', 'brahim', 'brain', 'brainchild', 'brainer', 'brainless', 'brains', 'brainwashing', 'brainy', 'brakes', 'bram', 'bramon', 'branagh', 'branch', 'brand', 'brandauer', 'brando', 'brandon', 'brash', 'brashness', 'brass', 'brassed', 'brassiness', 'brassy', 'bravado', 'brave', 'braveheart', 'bravely', 'bravery', 'bravo', 'bravura', 'brawling', 'brawny', 'brays', 'brazen', 'brazenly', 'brazil', 'brazilian', 'bread', 'breadth', 'break', 'breakaway', 'breakdown', 'breaker', 'breakfast', 'breaking', 'breakneck', 'breaks', 'breakthrough', 'breakthroughs', 'breakup', 'breath', 'breathe', 'breathed', 'breather', 'breathes', 'breathing', 'breathless', 'breathlessly', 'breathtaking', 'breathtakingly', 'breathy', 'bred', 'breed', 'breeding', 'breeds', 'breeze', 'breezes', 'breezier', 'breezily', 'breezy', 'bremer', 'brenda', 'brest', 'brevity', 'brew', 'brewing', 'brewski', 'brian', 'bribed', 'brice', 'brick', 'brickman', 'bride', 'bridehead', 'bridge', 'bridges', 'bridget', 'bridging', 'brief', 'briefly', 'bright', 'brightened', 'brighter', 'brightest', 'brightly', 'brightness', 'brill', 'brilliance', 'brilliant', 'brilliantly', 'brillo', 'brimley', 'brimming', 'brims', 'brine', 'bring', 'bringing', 'brings', 'brink', 'brinkerhoff', 'brio', 'brisk', 'briskly', 'bristles', 'bristling', 'brit', 'britain', 'british', 'briton', 'britons', 'brits', 'brittle', 'broached', 'broad', 'broadaxe', 'broadbent', 'broadcast', 'broadening', 'broader', 'broadest', 'broadly', 'broadway', 'broccoli', 'brochure', 'broderick', 'broke', 'broken', 'bromides', 'bronx', 'brooding', 'brooklyn', 'brooks', 'broomfield', 'bros', 'broschi', 'brosnan', 'brother', 'brotherhood', 'brothers', 'brought', 'broughton', 'brow', 'brown', 'browning', 'browns', 'bruce', 'bruckheimer', 'bruised', 'bruises', 'bruising', 'bruisingly', 'brunch', 'brush', 'brushes', 'brushing', 'brussels', 'brutal', 'brutality', 'brutalized', 'brutally', 'brute', 'brutish', 'bryan', 'bs', 'bubble', 'bubblebrained', 'bubblegum', 'bubbleheaded', 'bubbles', 'bubbling', 'bubbly', 'buchan', 'buck', 'buckaroo', 'bucket', 'buckets', 'bucking', 'buckingham', 'bucks', 'bucktoothed', 'bud', 'budapest', 'budd', 'buddha', 'buddhism', 'buddhist', 'buddies', 'budding', 'buddy', 'buddyisms', 'budge', 'budget', 'budgetary', 'budgeted', 'bueller', 'buff', 'buffed', 'buffet', 'buffoon', 'buffoonery', 'buffoonish', 'buffoons', 'buffs', 'buffy', 'bug', 'buggy', 'bugs', 'build', 'building', 'buildings', 'builds', 'buildup', 'built', 'bujold', 'bulk', 'bull', 'bullet', 'bulletproof', 'bullets', 'bullied', 'bullies', 'bullock', 'bullseye', 'bully', 'bullying', 'bulworth', 'bum', 'bumble', 'bumblers', 'bumbling', 'bumlets', 'bummer', 'bump', 'bumper', 'bumping', 'bumpkin', 'bumps', 'bumpy', 'bunch', 'bundle', 'bungled', 'bunk', 'bunny', 'bunuel', 'bunyan', 'bunyans', 'buoy', 'buoyancy', 'buoyant', 'buoyantly', 'buoyed', 'burbank', 'burden', 'burdened', 'burdens', 'burdensome', 'bureaucracy', 'bureaucrat', 'bureaucratic', 'burgeoning', 'burger', 'buried', 'buries', 'burke', 'burl', 'burlesque', 'burlesquing', 'burn', 'burned', 'burnett', 'burning', 'burnings', 'burnished', 'burns', 'burnt', 'burroughs', 'burrow', 'burrows', 'burst', 'bursting', 'bursts', 'burstyn', 'burt', 'burton', 'bury', 'bus', 'busby', 'buscemi', 'buses', 'busey', 'bush', 'bushel', 'bushes', 'bushrangers', 'bushwhacked', 'busily', 'business', 'businessman', 'businessmen', 'bust', 'buster', 'busting', 'bustling', 'busts', 'busy', 'but', 'butch', 'butcher', 'butchery', 'butoy', 'butt', 'butter', 'butterball', 'buttercup', 'buttered', 'butterfly', 'butterscotch', 'button', 'buttons', 'butts', 'buy', 'buyer', 'buyin', 'buying', 'buys', 'buzz', 'buzzer', 'buzzes', 'buzzing', 'buzzkill', 'bwana', 'by', 'byatt', 'bygone', 'byproducts', 'byzantine', 'c1942', 'caan', 'cab', 'cabaret', 'cabbage', 'cabinet', 'cabiria', 'cable', 'cache', 'cackling', 'cacklingly', 'cacophonous', 'cacophony', 'cactus', 'cad', 'caddyshack', 'cadenceo', 'cadillac', 'cadre', 'caesar', 'cafe', 'cafeteria', 'caffeinated', 'caftan', 'cage', 'cagney', 'cain', 'caine', 'cairo', 'cajoles', 'cajun', 'cajuns', 'cake', 'caked', 'cal', 'calamities', 'calamity', 'calcified', 'calculated', 'calculating', 'calculation', 'calculations', 'calendar', 'caliber', 'calibrated', 'calif', 'california', 'californian', 'caligari', 'caligula', 'call', 'callaway', 'called', 'calling', 'callous', 'callously', 'callousness', 'callow', 'calls', 'calm', 'calmly', 'calvin', 'camaraderie', 'cambridge', 'came', 'camel', 'camelite', 'camelot', 'camels', 'cameo', 'cameos', 'camera', 'cameraman', 'cameramen', 'cameras', 'camerawork', 'cameron', 'camille', 'camouflage', 'camouflaged', 'camouflages', 'camp', 'campaign', 'campaigner', 'campbell', 'campfires', 'campiness', 'camping', 'campion', 'camps', 'campus', 'campy', 'can', 'canadian', 'canal', 'cancel', 'canceled', 'cancer', 'candice', 'candid', 'candidacy', 'candidate', 'candle', 'candor', 'candy', 'candyfloss', 'candyman', 'caned', 'canine', 'canned', 'cannes', 'cannibalism', 'cannibals', 'cannier', 'cannily', 'cannon', 'cannonball', 'cannons', 'cannot', 'canny', 'canon', 'canonically', 'canonisation', 'canonized', 'cans', 'cant', 'cantankerous', 'canted', 'cantet', 'canvas', 'cap', 'capable', 'capably', 'capacity', 'cape', 'caper', 'capers', 'capital', 'capitalise', 'capitalism', 'capitalize', 'capitalizes', 'capote', 'capped', 'capper', 'capra', 'capraesque', 'caps', 'capshaw', 'capstone', 'capsule', 'captain', 'captivate', 'captivated', 'captivates', 'captivating', 'captivations', 'captive', 'captives', 'captor', 'capture', 'captured', 'captures', 'capturing', 'car', 'cara', 'carat', 'carbon', 'card', 'cardboard', 'cardinal', 'cardone', 'cards', 'care', 'cared', 'careening', 'careens', 'career', 'careers', 'carefree', 'careful', 'carefully', 'carefuly', 'careless', 'carelessness', 'cares', 'caressing', 'carey', 'cargo', 'caricature', 'caricatures', 'caring', 'carl', 'carlito', 'carlo', 'carmen', 'carnage', 'carnal', 'carnality', 'carnation', 'carne', 'carnival', 'carnivore', 'carny', 'caro', 'carol', 'carole', 'carolina', 'caroline', 'carom', 'caron', 'carousel', 'carousels', 'carpenter', 'carping', 'carrey', 'carrie', 'carried', 'carries', 'carrington', 'carroll', 'carrot', 'carrousel', 'carry', 'carrying', 'cars', 'carson', 'carter', 'cartman', 'cartoon', 'cartooning', 'cartoonish', 'cartoonishly', 'cartoonist', 'cartoonlike', 'cartoons', 'cartoony', 'caruso', 'carve', 'carved', 'carver', 'carvey', 'cary', 'casablanca', 'case', 'cased', 'cases', 'casey', 'cash', 'cashmere', 'casino', 'casper', 'cassavetes', 'cassidy', 'cast', 'caste', 'casting', 'castle', 'castor', 'castrates', 'castrating', 'castrato', 'casts', 'casual', 'casually', 'casualty', 'cat', 'cataclysm', 'catacombs', 'catalog', 'catalogue', 'cataloguing', 'catapulted', 'catastrophe', 'catastrophic', 'catastrophically', 'catch', 'catches', 'catching', 'catchpenny', 'catchphrases', 'cate', 'categorically', 'categorise', 'categorization', 'categorize', 'category', 'cater', 'caters', 'catfighting', 'catfish', 'catharsis', 'cathartic', 'catherine', 'catholic', 'catholicism', 'catholics', 'catis', 'catlike', 'catlin', 'caton', 'cats', 'cattle', 'caught', 'cauldron', 'cause', 'caused', 'causes', 'causing', 'caustic', 'caustically', 'caution', 'cautionary', 'cautionless', 'cautious', 'cautiously', 'cava', 'cavalier', 'cavalry', 'cavani', 'cave', 'caveats', 'caves', 'caviar', 'cavity', 'cease', 'ceased', 'ceaseless', 'ceaselessly', 'cecil', 'cedars', 'cedric', 'cel', 'celeb', 'celebrate', 'celebrated', 'celebrates', 'celebrating', 'celebration', 'celebratory', 'celebrity', 'celestial', 'cell', 'cellar', 'cellars', 'cellist', 'cells', 'celluloid', 'cels', 'celtic', 'celtics', 'cement', 'cements', 'censors', 'censorship', 'cent', 'centaurs', 'center', 'centered', 'centering', 'centerpiece', 'central', 'centrally', 'centred', 'centreing', 'centres', 'centric', 'centuries', 'century', 'cer', 'cerchio', 'cereal', 'cerebral', 'cerebration', 'ceremonies', 'ceremony', 'certain', 'certainly', 'certainty', 'certifiably', 'certify', 'cesar', 'cesare', 'cesspool', 'cg', 'cgi', 'chabrol', 'chad', 'chafe', 'chafing', 'chain', 'chaingang', 'chainsaw', 'chair', 'chairs', 'chalk', 'challenge', 'challenged', 'challenges', 'challenging', 'challengingly', 'chamber', 'chamberlain', 'chameleon', 'champ', 'champagne', 'champion', 'championed', 'champions', 'championship', 'championships', 'chan', 'chance', 'chances', 'chandelier', 'chandler', 'chaney', 'change', 'changed', 'changer', 'changes', 'changin', 'changing', 'channel', 'channeling', 'channels', 'channing', 'chanting', 'chaos', 'chaotic', 'chap', 'chapelle', 'chaplin', 'chapman', 'chapter', 'character', 'characterisation', 'characterisations', 'characteristic', 'characteristically', 'characteristics', 'characterization', 'characterizations', 'characterized', 'characterizes', 'characters', 'charade', 'charge', 'charged', 'charges', 'chariots', 'charisma', 'charismatic', 'charlatans', 'charles', 'charlie', 'charlotte', 'charlton', 'charly', 'charm', 'charmed', 'charmer', 'charming', 'charmingly', 'charmless', 'charmlessness', 'charms', 'chart', 'charted', 'charter', 'charting', 'chartoff', 'charts', 'chase', 'chased', 'chaser', 'chases', 'chasing', 'chassis', 'chaste', 'chastened', 'chat', 'chateau', 'chatterboxes', 'chauffeur', 'chauvinism', 'chazz', 'cheadle', 'cheap', 'cheapens', 'cheaper', 'cheapies', 'cheaply', 'cheapo', 'cheat', 'cheated', 'cheating', 'cheats', 'chechik', 'check', 'checked', 'checking', 'checklist', 'cheek', 'cheekbones', 'cheekiness', 'cheeks', 'cheeky', 'cheer', 'cheered', 'cheerful', 'cheerfully', 'cheerfulness', 'cheerily', 'cheering', 'cheerios', 'cheerleader', 'cheerleaders', 'cheerleading', 'cheers', 'cheery', 'cheese', 'cheeseathon', 'cheesecake', 'cheesecakes', 'cheesier', 'cheesiest', 'cheesiness', 'cheesy', 'cheetah', 'cheez', 'chekhov', 'chelsom', 'chemistry', 'chemo', 'chen', 'chequebook', 'cher', 'cherbourg', 'cherished', 'cherishes', 'cherokee', 'cherry', 'chess', 'chessmen', 'chest', 'chester', 'chestnut', 'chestnuts', 'cheung', 'chevy', 'chew', 'chewing', 'chewy', 'chi', 'chiaroscuro', 'chic', 'chicago', 'chicanery', 'chichi', 'chick', 'chicken', 'chickens', 'chicly', 'chico', 'chief', 'chiefly', 'child', 'childbirth', 'childhood', 'childish', 'childishly', 'childlike', 'children', 'childrens', 'childress', 'chili', 'chill', 'chiller', 'chilling', 'chillingly', 'chills', 'chilly', 'chime', 'chimps', 'china', 'chinatown', 'chinese', 'chintzy', 'chipmunks', 'chipper', 'chips', 'chitchat', 'chivalrous', 'choc', 'chock', 'chockablock', 'chockfull', 'chocolate', 'chocolatey', 'choice', 'choices', 'choir', 'choke', 'choked', 'chokes', 'choking', 'cholodenko', 'chomping', 'choose', 'choosers', 'chooses', 'choosing', 'chop', 'chopped', 'chopper', 'choppers', 'choppily', 'chopping', 'choppy', 'chops', 'choral', 'chord', 'chords', 'chore', 'choreograph', 'choreographed', 'choreographer', 'choreographic', 'choreographs', 'choreography', 'chores', 'chorus', 'chosen', 'chow', 'chris', 'christened', 'christian', 'christie', 'christine', 'christmas', 'christopher', 'christy', 'chrome', 'chromium', 'chronic', 'chronically', 'chronicle', 'chronicles', 'chronicling', 'chrysler', 'chuck', 'chuckle', 'chuckled', 'chucklers', 'chuckles', 'chuckling', 'chucky', 'chug', 'chummy', 'chungwei', 'chunk', 'chunks', 'church', 'churlish', 'churlishly', 'churning', 'chutzpah', 'cia', 'cider', 'cigar', 'cigarettes', 'cimarron', 'cimino', 'cinch', 'cinderella', 'cine', 'cineaste', 'cineastes', 'cinema', 'cinemascope', 'cinematic', 'cinematically', 'cinematographer', 'cinematography', 'cinemax', 'cineplex', 'cipher', 'circa', 'circle', 'circles', 'circling', 'circumference', 'circumstances', 'circus', 'citadel', 'cities', 'citing', 'citizen', 'citizens', 'citizenship', 'city', 'cityscape', 'civic', 'civics', 'civil', 'civilian', 'civilians', 'civility', 'civilization', 'civilized', 'civilizing', 'clad', 'claim', 'claimed', 'claiming', 'claims', 'claire', 'clambake', 'clammiest', 'clammy', 'clamor', 'clamorous', 'clamped', 'clan', 'clancy', 'clanging', 'clangorous', 'clap', 'clapping', 'claptrap', 'clara', 'clare', 'clarence', 'clarify', 'clarifying', 'clarity', 'clark', 'clarkson', 'clash', 'clashed', 'clashes', 'clashing', 'class', 'classes', 'classic', 'classical', 'classically', 'classicism', 'classics', 'classification', 'classified', 'classify', 'classiness', 'classmates', 'classroom', 'classy', 'claude', 'claus', 'clause', 'claustrophobia', 'claustrophobic', 'claws', 'clay', 'clayton', 'clean', 'cleaned', 'cleaner', 'cleanly', 'cleans', 'cleansing', 'clear', 'clearance', 'clearasil', 'clearer', 'clearest', 'clearly', 'clears', 'cleavage', 'cleaver', 'cleavers', 'cleese', 'clef', 'clement', 'clements', 'clenched', 'cleo', 'clerks', 'cleveland', 'clever', 'cleverer', 'cleverest', 'cleverly', 'cleverness', 'cliche', 'cliched', 'cliches', 'click', 'clicks', 'cliff', 'cliffhanger', 'cliffhangers', 'cliffhanging', 'cliffs', 'clifftop', 'clifton', 'climactic', 'climate', 'climatic', 'climax', 'climaxes', 'climb', 'climbed', 'climbing', 'clinging', 'clinic', 'clinical', 'clint', 'clinton', 'clippers', 'clips', 'cloakwork', 'clock', 'clockers', 'clocking', 'clocks', 'clockwork', 'cloddish', 'clogged', 'clomp', 'clone', 'cloned', 'clones', 'clooney', 'close', 'closed', 'closely', 'closer', 'closes', 'closest', 'closet', 'closeup', 'closeups', 'closing', 'closure', 'clothes', 'clothing', 'clotted', 'cloud', 'cloudburst', 'clouded', 'clouds', 'cloudy', 'clouseau', 'clout', 'clouzot', 'clown', 'clowning', 'clownish', 'clowns', 'cloyed', 'cloying', 'cloys', 'club', 'clubbing', 'clue', 'clueless', 'clues', 'clumsier', 'clumsily', 'clumsiness', 'clumsy', 'clunk', 'clunker', 'clunkers', 'clunkiest', 'clunky', 'clutcher', 'clutching', 'clutter', 'cluttered', 'cluzet', 'clyde', 'cnn', 'co', 'coach', 'coaches', 'coachmen', 'coagulated', 'coal', 'coalesce', 'coalesced', 'coalition', 'coarse', 'coarseness', 'coast', 'coaster', 'coasting', 'coasts', 'coat', 'coated', 'coating', 'coauthored', 'coaxes', 'cobain', 'cobb', 'cobble', 'cobra', 'cobwebs', 'cocaine', 'cock', 'cockamamie', 'cockamamy', 'cocked', 'cockeyed', 'cockney', 'cockpit', 'cockroaches', 'cocktail', 'cocky', 'cocoa', 'cocoon', 'cocteau', 'cod', 'coda', 'codas', 'coddle', 'code', 'codes', 'codirectors', 'codswallop', 'coen', 'coens', 'coexist', 'coffee', 'coffers', 'coffin', 'coffins', 'cog', 'cogent', 'cogitation', 'cogs', 'cohen', 'cohere', 'coherence', 'coherent', 'coherently', 'cohesion', 'cohesive', 'cohesiveness', 'cohorts', 'coil', 'coiled', 'coincide', 'coincidence', 'coincidences', 'cojones', 'coke', 'col', 'cola', 'colbert', 'colburn', 'cold', 'coldest', 'coldly', 'coldness', 'cole', 'colick', 'collaborate', 'collaborated', 'collaborating', 'collaboration', 'collaborationism', 'collaborations', 'collaborator', 'collaborators', 'collage', 'collapse', 'collapses', 'collar', 'colleagues', 'collection', 'collections', 'collective', 'collector', 'collectors', 'college', 'collegial', 'collegiate', 'colli', 'colliding', 'collier', 'colliery', 'collins', 'collision', 'collisions', 'colloquialisms', 'cologne', 'colonial', 'colonialism', 'colonialists', 'colonials', 'colony', 'color', 'colored', 'colorful', 'colorfully', 'coloring', 'colorless', 'colorlessly', 'colors', 'colossal', 'colossally', 'colour', 'colourful', 'coltrane', 'columbia', 'columbus', 'column', 'columns', 'com', 'coma', 'comatose', 'combat', 'combatant', 'combatants', 'combative', 'combativeness', 'combination', 'combinations', 'combine', 'combined', 'combines', 'combining', 'combo', 'combs', 'combust', 'comden', 'come', 'comeback', 'comedian', 'comedians', 'comedic', 'comedienne', 'comediennes', 'comedies', 'comedy', 'comeptent', 'comes', 'comet', 'comfort', 'comfortable', 'comfortably', 'comforting', 'comforts', 'comic', 'comical', 'comically', 'comics', 'comin', 'coming', 'command', 'commandant', 'commanded', 'commander', 'commanding', 'commandingly', 'commando', 'commandos', 'commands', 'commenced', 'commend', 'commendable', 'commensurate', 'comment', 'commentary', 'commenting', 'comments', 'commerce', 'commercial', 'commercialization', 'commercially', 'commercials', 'commingling', 'commit', 'commitment', 'commitments', 'commits', 'committed', 'committee', 'committing', 'commodity', 'common', 'commonplace', 'communal', 'communicate', 'communicated', 'communicating', 'communication', 'communism', 'communist', 'community', 'compact', 'compacted', 'compactly', 'companion', 'companionable', 'companions', 'company', 'comparable', 'comparably', 'comparative', 'comparatively', 'compare', 'compared', 'compares', 'comparison', 'comparisons', 'compass', 'compassion', 'compassionate', 'compatibility', 'compatible', 'compatriot', 'compel', 'compelled', 'compelling', 'compellingly', 'compels', 'compendium', 'compensate', 'compensates', 'compensating', 'compensations', 'compensatory', 'competence', 'competent', 'competently', 'competing', 'competition', 'competitive', 'competitor', 'competitors', 'complacence', 'complacency', 'complain', 'complaint', 'complaints', 'complement', 'complemented', 'complementing', 'complements', 'complete', 'completely', 'completes', 'completion', 'complex', 'complexities', 'complexity', 'complicated', 'complications', 'complicity', 'compliment', 'compliments', 'comply', 'component', 'components', 'compose', 'composed', 'composer', 'composers', 'composes', 'composing', 'composite', 'composition', 'compositions', 'compost', 'composure', 'compound', 'compounded', 'compounds', 'comprehensible', 'comprehension', 'compressed', 'compressions', 'comprising', 'compromise', 'compromised', 'compromises', 'compulsion', 'compulsions', 'compulsive', 'compulsively', 'compute', 'computer', 'computerized', 'computers', 'comrades', 'con', 'conan', 'conceal', 'concealed', 'concede', 'conceit', 'conceits', 'conceivable', 'conceivably', 'conceive', 'conceived', 'conceives', 'concentrated', 'concentrates', 'concentrating', 'concentration', 'concept', 'conception', 'concepts', 'conceptual', 'conceptually', 'concern', 'concerned', 'concerning', 'concerns', 'concert', 'concerted', 'concerto', 'concession', 'concessions', 'concise', 'conclude', 'concludes', 'conclusion', 'conclusions', 'conclusively', 'concocted', 'concoction', 'concoctions', 'concorde', 'concrete', 'concussion', 'condemn', 'condemnation', 'condemns', 'condenses', 'condensing', 'condescend', 'condescended', 'condescending', 'condescends', 'condescension', 'condition', 'conditional', 'conditioning', 'conditions', 'condon', 'condor', 'conduct', 'conducted', 'conducts', 'coneheads', 'confection', 'confections', 'confederates', 'conference', 'confess', 'confessed', 'confession', 'confessional', 'confetti', 'confidants', 'confidence', 'confidences', 'confident', 'confidential', 'confidently', 'configurations', 'confines', 'confining', 'confirmation', 'confirming', 'confirms', 'conflict', 'conflicted', 'conflicting', 'conflicts', 'confluence', 'confluences', 'conforming', 'conformist', 'conformity', 'confounding', 'confoundingly', 'confront', 'confrontation', 'confrontational', 'confrontations', 'confronted', 'confronts', 'confused', 'confuses', 'confusing', 'confusingly', 'confusion', 'confusions', 'congeal', 'congealed', 'conglomeration', 'congratulates', 'congratulations', 'congratulatory', 'congress', 'conines', 'conjure', 'conjured', 'conjures', 'conjuring', 'conk', 'conlons', 'conn', 'connect', 'connected', 'connecting', 'connection', 'connections', 'connects', 'conned', 'connell', 'connells', 'connelly', 'connery', 'connick', 'conning', 'conniptions', 'conniving', 'connoisseur', 'connoisseurs', 'connor', 'connors', 'conquering', 'conquers', 'conrad', 'conroy', 'cons', 'conscience', 'conscientious', 'conscious', 'consciously', 'consciousness', 'consecutively', 'consent', 'consequence', 'consequences', 'consequently', 'conservative', 'conservatoire', 'consider', 'considerable', 'considerably', 'considerate', 'consideration', 'considerations', 'considered', 'considering', 'considers', 'consigned', 'consistency', 'consistent', 'consistently', 'consisting', 'consists', 'consitutes', 'consolation', 'consolations', 'consolingly', 'conspicuous', 'conspicuously', 'conspiracy', 'conspirator', 'conspire', 'conspired', 'conspires', 'constant', 'constantly', 'consternatingly', 'constipation', 'constitute', 'constitutes', 'constrain', 'constrained', 'constraints', 'constricted', 'construct', 'constructed', 'constructing', 'construction', 'constructs', 'consume', 'consumed', 'consumerism', 'consumerist', 'consumers', 'consuming', 'consummate', 'consumption', 'contact', 'contagious', 'contain', 'contained', 'containing', 'contains', 'contemplates', 'contemplating', 'contemplation', 'contemplations', 'contemplative', 'contempo', 'contemporaneous', 'contemporaries', 'contemporary', 'contempt', 'contemptible', 'contemptuous', 'contend', 'contender', 'contenders', 'content', 'contents', 'contest', 'context', 'continental', 'contingent', 'contingents', 'continual', 'continually', 'continuance', 'continue', 'continued', 'continues', 'continuing', 'continuity', 'continuous', 'continuously', 'contortional', 'contortions', 'contract', 'contracts', 'contradicted', 'contradicting', 'contradiction', 'contradictions', 'contradictory', 'contraption', 'contrapuntal', 'contrary', 'contrast', 'contrasted', 'contrasting', 'contrasts', 'contribute', 'contributed', 'contributes', 'contributing', 'contribution', 'contributions', 'contributor', 'contrivance', 'contrivances', 'contrived', 'contrives', 'control', 'controlled', 'controllers', 'controls', 'controversial', 'controversy', 'conundrum', 'convenience', 'conveniently', 'convent', 'convention', 'conventional', 'conventionality', 'conventionally', 'conventions', 'converge', 'conversant', 'conversation', 'conversations', 'conversion', 'conversions', 'convert', 'converted', 'converting', 'converts', 'convey', 'conveyed', 'conveying', 'conveys', 'convict', 'convicted', 'conviction', 'convictionless', 'convictions', 'convince', 'convinced', 'convinces', 'convincing', 'convincingly', 'convoluted', 'convolutions', 'convulsed', 'cook', 'cooked', 'cookie', 'cooking', 'cooks', 'cool', 'cooler', 'coolest', 'coolidge', 'coolly', 'coolness', 'cooperish', 'coordinated', 'coordinates', 'coordinator', 'coot', 'cop', 'copes', 'copied', 'copies', 'coping', 'copious', 'copland', 'coppers', 'coppola', 'cops', 'copshow', 'copy', 'copycat', 'cor', 'coraci', 'cordovan', 'core', 'corker', 'corking', 'corkscrew', 'corleone', 'corman', 'corn', 'cornball', 'corner', 'corners', 'corniest', 'corniness', 'cornucopia', 'corny', 'corporate', 'corporation', 'corps', 'corpse', 'corpses', 'correct', 'corrected', 'correctly', 'correctness', 'corrente', 'corridors', 'corrosive', 'corrupt', 'corrupted', 'corruption', 'corruptor', 'corsage', 'cort', 'cosa', 'cosby', 'coscripter', 'cosmetic', 'cosmic', 'cosmopolitan', 'cost', 'costa', 'costar', 'costars', 'costello', 'costly', 'costner', 'costneresque', 'costs', 'costume', 'costumes', 'costuming', 'cosy', 'cotta', 'cotton', 'couch', 'could', 'couldn', 'council', 'counsellor', 'count', 'countdown', 'countdowns', 'counted', 'counter', 'countercultural', 'counterculture', 'counterfeit', 'counterpart', 'counterparts', 'counterpoint', 'counterproductive', 'counterspies', 'counterweight', 'counting', 'countless', 'country', 'countryside', 'counts', 'county', 'coup', 'couple', 'coupled', 'couples', 'coupleting', 'courage', 'courageous', 'courant', 'course', 'court', 'courtenay', 'courtesy', 'courting', 'courtney', 'courtroom', 'courts', 'courtship', 'courtships', 'cousin', 'coutard', 'couture', 'covens', 'cover', 'coverage', 'covered', 'covering', 'covers', 'covert', 'coveted', 'covey', 'cow', 'coward', 'cowardice', 'cowardly', 'cowboy', 'cowboyish', 'cowboys', 'cowered', 'cowriter', 'cows', 'cox', 'coy', 'coyness', 'coyote', 'cozy', 'crab', 'crack', 'cracked', 'cracker', 'crackerjack', 'cracking', 'crackingly', 'crackle', 'crackled', 'crackles', 'crackling', 'crackpot', 'cracks', 'cradle', 'craft', 'crafted', 'craftiest', 'crafting', 'craftmanship', 'craftsman', 'craftsmanly', 'craftsmanship', 'craftsmen', 'crafty', 'craggy', 'craig', 'cram', 'crammed', 'cramming', 'cramped', 'crane', 'crank', 'cranking', 'crap', 'crapola', 'crash', 'crashed', 'crashes', 'crashing', 'crass', 'crassly', 'crave', 'craved', 'craven', 'craves', 'craving', 'craw', 'crawfish', 'crawford', 'crawl', 'crawled', 'crawls', 'crazed', 'crazies', 'craziest', 'crazily', 'craziness', 'crazy', 'creak', 'creakiest', 'creaking', 'creaky', 'cream', 'creased', 'create', 'created', 'creates', 'creating', 'creation', 'creations', 'creative', 'creativeness', 'creativity', 'creator', 'creators', 'creature', 'creatures', 'cred', 'credence', 'credentials', 'credibility', 'credible', 'credit', 'creditable', 'credited', 'credits', 'credo', 'credulity', 'creepiest', 'creepiness', 'creeping', 'creepingly', 'creeps', 'creepshow', 'creepy', 'creole', 'crescendo', 'crew', 'crews', 'cribbing', 'crichton', 'crickett', 'cries', 'crime', 'crimelord', 'crimer', 'crimes', 'criminal', 'criminality', 'criminally', 'criminals', 'crimson', 'cringe', 'cringing', 'cringingly', 'cripple', 'crippled', 'crippling', 'crises', 'crisis', 'crisp', 'crisper', 'crisply', 'crispness', 'cristina', 'cristo', 'cristofer', 'criswell', 'criterion', 'critic', 'critical', 'critically', 'criticism', 'criticizes', 'criticizing', 'critics', 'critique', 'critters', 'crix', 'crock', 'crockett', 'crocodile', 'croix', 'cronenberg', 'cronies', 'cronos', 'cronyn', 'crookback', 'crooked', 'crooklyn', 'crooks', 'crop', 'cropped', 'cropping', 'crosby', 'cross', 'crosscurrents', 'crossed', 'crosses', 'crossfire', 'crossing', 'crossover', 'crossword', 'crotch', 'crotchery', 'crothers', 'crouching', 'crow', 'crowd', 'crowdpleasing', 'crowds', 'crowe', 'crowley', 'crown', 'crowning', 'crowther', 'crucial', 'crucible', 'crude', 'crudely', 'crudeness', 'cruder', 'crudest', 'crudities', 'crudity', 'crudup', 'cruel', 'cruelest', 'cruella', 'cruelties', 'cruelty', 'cruise', 'cruises', 'crumb', 'crummy', 'crumple', 'crumpled', 'crunch', 'crunching', 'crusade', 'crusader', 'crusaders', 'crush', 'crushed', 'crushes', 'crushing', 'crust', 'crusty', 'crutchy', 'crux', 'cruz', 'cry', 'crying', 'crypt', 'crystal', 'crystalline', 'crystallises', 'csi', 'csupo', 'cuaron', 'cuba', 'cuban', 'cube', 'cubic', 'cuckoo', 'cuddlesome', 'cuddly', 'cue', 'cues', 'cuff', 'cuisinart', 'cuisine', 'cujo', 'cukor', 'cul', 'culkin', 'culled', 'culminates', 'culminating', 'culprit', 'cult', 'cultivated', 'cults', 'cultural', 'culturally', 'culture', 'cultured', 'cultures', 'cum', 'cumbersome', 'cumming', 'cumulative', 'cumulatively', 'cundey', 'cundieff', 'cunning', 'cunningham', 'cunningly', 'cup', 'cupcake', 'cupcakes', 'cupids', 'cur', 'curb', 'curbing', 'curdle', 'curdled', 'cure', 'curio', 'curioisity', 'curiosity', 'curious', 'curiously', 'curlers', 'curlicues', 'curmudgeonly', 'currency', 'current', 'currently', 'currents', 'curriculum', 'curse', 'cursed', 'cursory', 'curtail', 'curtailed', 'curtains', 'curtin', 'curtis', 'curtiz', 'curve', 'cusack', 'cusacks', 'cushing', 'cuss', 'custody', 'custom', 'customary', 'customer', 'customers', 'cut', 'cute', 'cuteness', 'cutesy', 'cutey', 'cuthbert', 'cutie', 'cutouts', 'cuts', 'cutter', 'cutthroat', 'cutting', 'cutups', 'cyber', 'cyberfuture', 'cyberpunk', 'cyberpunks', 'cyborg', 'cyborgs', 'cycle', 'cylinder', 'cynic', 'cynical', 'cynically', 'cynicism', 'cynics', 'cyrano', 'cyril', 'da', 'dab', 'dabba', 'dabbles', 'dad', 'daddy', 'daffy', 'daft', 'dafter', 'daftness', 'daggers', 'dahl', 'daily', 'dainty', 'daisy', 'dakota', 'dalai', 'dalliances', 'dalloway', 'dalton', 'damage', 'damaged', 'damages', 'damagingly', 'damands', 'dame', 'damme', 'dammit', 'damn', 'damnation', 'damned', 'damning', 'damon', 'damp', 'dampen', 'dampens', 'damsel', 'dan', 'dana', 'dance', 'dancer', 'dancers', 'dances', 'dancing', 'dandy', 'danforth', 'danger', 'dangerfield', 'dangerous', 'dangerously', 'dangers', 'dangling', 'daniel', 'daniels', 'dank', 'danna', 'danny', 'danson', 'dante', 'danube', 'daphne', 'dapper', 'dappled', 'darabont', 'darby', 'dardenne', 'dare', 'dared', 'daredevil', 'daredeviltry', 'dares', 'daring', 'daringly', 'dariusz', 'dark', 'darkened', 'darkens', 'darker', 'darkest', 'darkly', 'darkness', 'darn', 'darned', 'darren', 'darryl', 'darth', 'darting', 'darwinian', 'daryl', 'das', 'dash', 'dashiell', 'dashing', 'data', 'date', 'dated', 'datedness', 'dates', 'dating', 'daughter', 'daughters', 'daunting', 'dauntless', 'davalos', 'dave', 'david', 'davies', 'davis', 'dawdle', 'dawdles', 'dawdling', 'dawn', 'dax', 'day', 'daydream', 'daylight', 'daylights', 'days', 'daytime', 'dazed', 'dazs', 'dazzle', 'dazzled', 'dazzlement', 'dazzler', 'dazzles', 'dazzling', 'dazzlingly', 'dc', 'de', 'deactivate', 'dead', 'deaden', 'deadened', 'deadening', 'deader', 'deadest', 'deadline', 'deadly', 'deadpan', 'deadpanned', 'deaf', 'deafening', 'deafness', 'deakins', 'deal', 'dealership', 'dealing', 'dealings', 'deals', 'dean', 'dear', 'dearer', 'dearly', 'dears', 'dearth', 'death', 'deathlessly', 'deaths', 'debased', 'debatable', 'debate', 'debauchery', 'debonair', 'deborah', 'debra', 'debt', 'debunk', 'debunking', 'debut', 'debutante', 'debuting', 'debuts', 'decade', 'decadence', 'decadent', 'decades', 'decamped', 'decapitations', 'decay', 'decayed', 'decaying', 'deceit', 'deceits', 'december', 'decency', 'decent', 'decently', 'deception', 'deceptive', 'deceptively', 'decibel', 'decide', 'decided', 'decidedly', 'decides', 'decision', 'decisions', 'decisive', 'decisiveness', 'deck', 'declare', 'declared', 'declares', 'decline', 'declines', 'decoding', 'deconstruct', 'deconstructing', 'deconstruction', 'decor', 'decorated', 'decorating', 'decoration', 'decorative', 'decors', 'decorum', 'decree', 'decreeing', 'decrepit', 'dedicated', 'dedication', 'dee', 'deeds', 'deemed', 'deep', 'deepen', 'deepened', 'deepening', 'deepens', 'deeper', 'deepest', 'deeply', 'deer', 'deere', 'defamation', 'default', 'defeat', 'defeated', 'defeats', 'defend', 'defended', 'defense', 'defenses', 'defensible', 'defensive', 'defensiveness', 'defiance', 'defiant', 'defiantly', 'deficiencies', 'deficient', 'defies', 'defilement', 'define', 'defined', 'defines', 'defining', 'definite', 'definitely', 'definition', 'definitive', 'deflated', 'deflates', 'deflating', 'deformed', 'deft', 'deftly', 'deftness', 'defunct', 'defuse', 'defy', 'defying', 'degenerate', 'degenerated', 'degenerates', 'degenerating', 'degeneres', 'degovia', 'degradation', 'degraded', 'degree', 'degrees', 'dehn', 'dehumanizing', 'dehydrated', 'deighton', 'deity', 'deja', 'dekker', 'del', 'delany', 'delay', 'delayed', 'delectable', 'delete', 'deleted', 'deleting', 'deliberate', 'deliberately', 'deliberateness', 'deliberation', 'delicacies', 'delicacy', 'delicate', 'delicately', 'delicious', 'deliciously', 'deliciousness', 'delight', 'delighted', 'delightful', 'delightfully', 'delighting', 'delights', 'delinquency', 'delirious', 'deliriously', 'delirium', 'delite', 'deliver', 'deliverance', 'delivered', 'delivering', 'delivers', 'delivery', 'della', 'delli', 'delon', 'delpy', 'deluge', 'delusion', 'delusions', 'deluxe', 'delve', 'delves', 'demagoguery', 'demand', 'demanded', 'demanding', 'demands', 'demeanor', 'demented', 'dementedly', 'dementia', 'demi', 'demille', 'demimonde', 'deming', 'demise', 'demme', 'demo', 'democratic', 'demographic', 'demolished', 'demolishes', 'demolition', 'demon', 'demonic', 'demonise', 'demonizes', 'demons', 'demonstrably', 'demonstrate', 'demonstrated', 'demonstrates', 'demonstrating', 'demonstration', 'demoralizing', 'demotic', 'dempsey', 'demurs', 'demy', 'dench', 'deneuve', 'denham', 'denial', 'denied', 'denies', 'dennis', 'denominator', 'denouement', 'denouements', 'dense', 'densely', 'density', 'dental', 'denting', 'dentist', 'denuded', 'denver', 'deny', 'denying', 'denzel', 'depalma', 'departed', 'department', 'departments', 'departure', 'depend', 'dependable', 'dependably', 'dependence', 'dependent', 'depending', 'depends', 'depict', 'depicting', 'depiction', 'depictions', 'depicts', 'depleted', 'deplorable', 'deplore', 'deplored', 'deployment', 'depp', 'depraved', 'depravity', 'deprecating', 'deprecation', 'depredations', 'depressed', 'depresses', 'depressing', 'depressingly', 'depression', 'depressive', 'depressives', 'deprived', 'depth', 'depths', 'deranged', 'derangement', 'derby', 'derek', 'derelict', 'derided', 'derisive', 'derivative', 'derive', 'derived', 'derives', 'dern', 'derring', 'dervish', 'descend', 'descendant', 'descendants', 'descended', 'descending', 'descends', 'descent', 'describe', 'described', 'describes', 'describing', 'description', 'desensitized', 'desensitizing', 'desert', 'deserted', 'deserts', 'deserve', 'deserved', 'deservedly', 'deserves', 'deserving', 'design', 'designated', 'designed', 'designer', 'designers', 'designing', 'designs', 'desire', 'desired', 'desires', 'desk', 'desmond', 'despair', 'desperado', 'desperate', 'desperately', 'desperation', 'despicable', 'despicably', 'despised', 'despite', 'despondency', 'desselle', 'dessert', 'destabilizing', 'destination', 'destined', 'destinies', 'destiny', 'destitute', 'destitution', 'destroy', 'destroyed', 'destroying', 'destroys', 'destruction', 'destructive', 'destructs', 'detached', 'detachment', 'detail', 'detailed', 'detailing', 'details', 'detect', 'detective', 'detention', 'detergent', 'deteriorates', 'deterioration', 'determination', 'determine', 'determined', 'determinedly', 'determinism', 'deterred', 'deterrence', 'detestable', 'dethroned', 'detonates', 'detour', 'detours', 'detract', 'detracting', 'detractors', 'detracts', 'detritus', 'detroit', 'deuce', 'deux', 'devastating', 'devastation', 'develop', 'developed', 'developing', 'development', 'developments', 'develops', 'devi', 'deviance', 'deviant', 'deviates', 'device', 'devices', 'devil', 'devilish', 'devilishly', 'devils', 'devine', 'deviously', 'devise', 'devised', 'devito', 'devoid', 'devolution', 'devolve', 'devolves', 'devoted', 'devotees', 'devotes', 'devotion', 'devoured', 'devout', 'devoutly', 'dewy', 'dexterity', 'diabetes', 'diabolical', 'diabolically', 'diabolique', 'diagnosed', 'diagonally', 'diagram', 'diagrammed', 'diagrams', 'dial', 'dialectic', 'dialectics', 'dialed', 'dialog', 'dialogue', 'dialogues', 'diamond', 'diamonds', 'diane', 'dianne', 'diaries', 'diarist', 'diarrhea', 'diary', 'diaz', 'dicaprio', 'dice', 'dicillo', 'dick', 'dickens', 'dickensian', 'dickey', 'dictate', 'dictated', 'dictator', 'dictators', 'diction', 'dictionary', 'did', 'didactic', 'didacticism', 'didactics', 'didn', 'die', 'died', 'diego', 'diehard', 'dien', 'dies', 'diesel', 'diet', 'dietrich', 'differ', 'difference', 'differences', 'different', 'differentiate', 'difficult', 'difficulties', 'difficulty', 'diffidence', 'diffident', 'diffuse', 'dig', 'digest', 'digested', 'digestible', 'digestive', 'digger', 'digital', 'digitally', 'digitized', 'dignified', 'dignifies', 'dignity', 'digresses', 'digression', 'digressive', 'digs', 'dilemma', 'dilemmas', 'diligence', 'dillon', 'dilute', 'diluted', 'dilutes', 'dim', 'dime', 'dimension', 'dimensional', 'dimensionality', 'dimensions', 'diminish', 'diminished', 'diminishes', 'diminishing', 'dimly', 'dimmed', 'dimness', 'dimpled', 'dimwit', 'diner', 'ding', 'dinner', 'dino', 'dinos', 'dinosaur', 'dinosaurs', 'dip', 'dippe', 'dipping', 'dippy', 'dire', 'direct', 'directed', 'directing', 'direction', 'directions', 'directly', 'directness', 'director', 'directorial', 'directorially', 'directors', 'directs', 'dirge', 'dirt', 'dirtier', 'dirtiest', 'dirty', 'dis', 'disaffection', 'disagreeable', 'disappear', 'disappearances', 'disappeared', 'disappearing', 'disappears', 'disappoint', 'disappointed', 'disappointing', 'disappointingly', 'disappointment', 'disappointments', 'disappoints', 'disarming', 'disarmingly', 'disarms', 'disaster', 'disasters', 'disastrous', 'disastrously', 'disbelief', 'discard', 'discern', 'discernable', 'discernibel', 'discernible', 'discerning', 'discharged', 'discipline', 'disciplined', 'disclaimer', 'disclosure', 'disco', 'discombobulate', 'discomfiting', 'discomfort', 'discomforting', 'disconnected', 'disconnectedly', 'discontent', 'discords', 'discotheque', 'discount', 'discounting', 'discourage', 'discouragement', 'discourages', 'discouraging', 'discourses', 'discover', 'discovered', 'discovering', 'discovers', 'discovery', 'discreet', 'discreetly', 'discrepancy', 'discriminating', 'discrimination', 'discussed', 'discussing', 'discussion', 'discussions', 'disdain', 'disease', 'diseased', 'disembodied', 'disembowelment', 'disgrace', 'disgruntled', 'disguise', 'disguised', 'disguises', 'disguising', 'disgust', 'disgusted', 'disgusting', 'disgustingly', 'disgusts', 'dish', 'dishearten', 'disheartened', 'disheartening', 'dished', 'dishes', 'dishiest', 'dishonest', 'dishonorably', 'dishonour', 'dishy', 'disillusionment', 'disinfects', 'disintegrating', 'disintegration', 'disinterest', 'disjointed', 'disjunction', 'disjunctive', 'dislikable', 'dislike', 'disliked', 'dislocate', 'dislocation', 'dislodged', 'dislodging', 'dismal', 'dismally', 'dismay', 'dismiss', 'dismissed', 'disney', 'disneyland', 'disneyquest', 'disorder', 'disorganized', 'disorientation', 'disorienting', 'disparage', 'disparate', 'disparity', 'dispassionate', 'dispatch', 'dispatches', 'dispatching', 'dispels', 'dispensable', 'dispensers', 'dispenses', 'dispensing', 'dispiriting', 'dispiritingly', 'display', 'displayed', 'displaying', 'displays', 'displeasure', 'disposable', 'disposables', 'disposition', 'dispositioned', 'disprove', 'dispute', 'disregard', 'disregarding', 'disreputable', 'disrespect', 'disrespectful', 'disrupted', 'disruptions', 'dissatisfaction', 'dissatisfied', 'dissatisfying', 'dissected', 'dissection', 'dissects', 'disservice', 'dissipated', 'dissipates', 'dissolution', 'dissolve', 'dissolves', 'dissonance', 'dissonances', 'distaff', 'distance', 'distanced', 'distancing', 'distant', 'distantly', 'distaste', 'distasteful', 'distastefully', 'distended', 'distill', 'distillation', 'distilled', 'distills', 'distinct', 'distinction', 'distinctions', 'distinctive', 'distinctively', 'distinctiveness', 'distinctly', 'distinguish', 'distinguishable', 'distinguished', 'distinguishes', 'distort', 'distract', 'distracted', 'distracting', 'distraction', 'distracts', 'distress', 'distressing', 'distressingly', 'distributor', 'disturb', 'disturbed', 'disturbing', 'disturbingly', 'ditka', 'ditsier', 'ditsy', 'ditty', 'diva', 'dive', 'diver', 'diverse', 'diversion', 'diversions', 'diversity', 'divert', 'diverted', 'diverting', 'divertissement', 'dives', 'divide', 'divided', 'dividends', 'dividing', 'divine', 'divinely', 'diving', 'divinity', 'divisions', 'divorce', 'divorced', 'divorcing', 'divulge', 'divulged', 'dixon', 'dizzy', 'dizzying', 'dj', 'dna', 'do', 'doa', 'doas', 'dobbs', 'dobkin', 'doc', 'docile', 'dock', 'docter', 'doctor', 'doctors', 'docu', 'docudrama', 'document', 'documentaries', 'documentary', 'documentation', 'documenting', 'dodge', 'dodging', 'dodgy', 'does', 'doesn', 'dog', 'dogfights', 'dogged', 'doggedly', 'doggie', 'doggish', 'doggone', 'dogma', 'dogmatic', 'dogpaddling', 'dogs', 'doing', 'doings', 'doldrum', 'dolittle', 'doll', 'dollar', 'dollars', 'dolley', 'dollhouse', 'dollop', 'dollops', 'dolls', 'dolly', 'doltish', 'domain', 'domestic', 'dominant', 'dominate', 'dominated', 'dominates', 'domination', 'dominik', 'domino', 'don', 'donahue', 'donald', 'donation', 'done', 'donen', 'donkey', 'donna', 'donnas', 'donnell', 'donner', 'doo', 'doodles', 'doody', 'doofdom', 'doofus', 'doofy', 'doom', 'doomed', 'doomsday', 'doomy', 'door', 'doors', 'doozy', 'dope', 'dopey', 'dora', 'dore', 'dorff', 'dorfman', 'dorky', 'dormant', 'dormer', 'dornford', 'dorothy', 'dosage', 'dose', 'doses', 'doting', 'dots', 'dotting', 'double', 'doubles', 'doublethink', 'doubling', 'doubt', 'doubtfire', 'doubtful', 'doubting', 'doubtless', 'doubts', 'douches', 'doug', 'dough', 'douglas', 'dougs', 'dour', 'dourest', 'doused', 'down', 'downbeat', 'downer', 'downey', 'downhill', 'downmarket', 'downright', 'downs', 'downsides', 'downsized', 'downstairs', 'downtown', 'downward', 'doze', 'dozed', 'dozen', 'dozens', 'dr', 'drab', 'dracula', 'draft', 'drag', 'dragged', 'dragging', 'draggy', 'dragon', 'drags', 'drain', 'draining', 'drainpipe', 'drains', 'drama', 'dramamine', 'dramas', 'dramatic', 'dramatically', 'dramatics', 'dramatization', 'dramatized', 'dramatizes', 'dramatizing', 'dramaturgy', 'dramedies', 'dramedy', 'drape', 'draw', 'drawback', 'drawbacks', 'drawer', 'drawing', 'drawings', 'drawn', 'draws', 'dread', 'dreadful', 'dreadfully', 'dream', 'dreamed', 'dreamer', 'dreamers', 'dreaminess', 'dreaming', 'dreamlife', 'dreamlike', 'dreams', 'dreamworks', 'dreamy', 'dreary', 'drebin', 'dreck', 'dreckiest', 'dredd', 'drenched', 'drescher', 'dress', 'dressed', 'dressers', 'dressing', 'drew', 'dreyer', 'dreyfuss', 'dribble', 'drift', 'drifter', 'drifters', 'drifting', 'drifts', 'drill', 'drilled', 'drilling', 'drily', 'drink', 'drinking', 'dripping', 'drippings', 'drive', 'drivel', 'driven', 'driver', 'drivers', 'drives', 'driving', 'droll', 'drolleries', 'drollery', 'drolly', 'drone', 'drones', 'droney', 'drongo', 'drool', 'drooled', 'drop', 'droplets', 'dropouts', 'dropped', 'dropper', 'dropping', 'droppingly', 'drops', 'drought', 'drove', 'drowned', 'drowning', 'drowsiness', 'drowsy', 'drudge', 'drug', 'drugs', 'drugstore', 'drum', 'drumbeat', 'drummer', 'drunk', 'drunken', 'drunkenly', 'drunkenness', 'dry', 'dryer', 'drying', 'dryly', 'du', 'dual', 'dubbed', 'dubbing', 'dubious', 'dubiously', 'dublin', 'dubliners', 'duchovny', 'duck', 'duckling', 'ducks', 'ducts', 'dud', 'dude', 'dudes', 'duds', 'due', 'duel', 'dues', 'duet', 'dufaux', 'duff', 'duffield', 'dugan', 'duguay', 'duke', 'dull', 'dulled', 'duller', 'dullest', 'dulling', 'dullness', 'dulls', 'dully', 'dumaurier', 'dumb', 'dumbed', 'dumber', 'dumbest', 'dumbfounded', 'dumbfoundingly', 'dumbing', 'dumbly', 'dumbness', 'dumbo', 'dumbstruck', 'dumfounded', 'dummies', 'dump', 'dumps', 'dunaway', 'dundee', 'dune', 'dunes', 'dunham', 'dunk', 'dunker', 'dunking', 'dunston', 'duo', 'dupe', 'duped', 'dupes', 'duplex', 'duplicate', 'duplicating', 'duplicitous', 'duplicity', 'durability', 'durable', 'duration', 'durham', 'during', 'dusk', 'dust', 'dusted', 'dustin', 'dusting', 'dusts', 'dusty', 'dutch', 'dutchy', 'duties', 'dutifully', 'duty', 'duvall', 'duwayne', 'dvd', 'dw', 'dwarfed', 'dwarfs', 'dwell', 'dwellers', 'dwindles', 'dyed', 'dying', 'dylan', 'dylans', 'dynamic', 'dynamically', 'dynamics', 'dynamism', 'dynamite', 'dynamo', 'dysfunction', 'dysfunctional', 'dyspeptics', 'dystopia', 'dystopian', 'dzundza', 'each', 'eager', 'eagerly', 'eagerness', 'eagle', 'ear', 'eared', 'earl', 'earlier', 'earliest', 'early', 'earn', 'earned', 'earnest', 'earnestly', 'earnestness', 'earns', 'earphone', 'earphones', 'earplugs', 'earrings', 'ears', 'earth', 'earthbound', 'earthiness', 'earthlings', 'earthly', 'earthshaking', 'earthy', 'ease', 'easement', 'eases', 'easier', 'easiest', 'easily', 'east', 'easter', 'eastern', 'eastmancolor', 'eastwood', 'easy', 'easygoing', 'eat', 'eaten', 'eaters', 'eating', 'eats', 'eavesdropping', 'ebb', 'ebber', 'eberhardt', 'ebert', 'ebony', 'ebullient', 'ec', 'eccentric', 'eccentricities', 'eccentricity', 'eccentrics', 'eccleston', 'echelon', 'echo', 'echoed', 'echoes', 'echoing', 'eckhart', 'eclectic', 'eclecticism', 'eclipse', 'eclipsed', 'eclipsing', 'eco', 'ecological', 'economic', 'economical', 'economically', 'economy', 'ecstasy', 'ecuadorean', 'ed', 'eddie', 'eden', 'edens', 'edge', 'edged', 'edges', 'edgy', 'edie', 'edification', 'edify', 'edifying', 'edinburgh', 'edit', 'edited', 'editing', 'edition', 'editor', 'editorialize', 'editorializing', 'edmund', 'edna', 'eduardo', 'educated', 'educating', 'education', 'educational', 'edward', 'edwardian', 'edwards', 'eerie', 'eeriest', 'eerily', 'eeriness', 'ees', 'effacement', 'effacing', 'effacingly', 'effect', 'effective', 'effectively', 'effectiveness', 'effects', 'effervescent', 'efficiency', 'efficient', 'efficiently', 'effort', 'effortless', 'effortlessly', 'efforts', 'efron', 'egg', 'ego', 'egomaniac', 'egomaniacal', 'egos', 'egotistical', 'egoyan', 'egregious', 'egregiously', 'egypt', 'eight', 'eighth', 'eighties', 'eighty', 'eiko', 'eileen', 'eisenhower', 'eisenmann', 'eisenstein', 'either', 'eke', 'el', 'elaborate', 'elaborately', 'elaboration', 'elaine', 'elapsed', 'elated', 'elbows', 'elder', 'elderly', 'eldest', 'eleanor', 'elect', 'election', 'electoral', 'electorate', 'electric', 'electricity', 'electrifies', 'electrifying', 'electrifyingly', 'electronic', 'electronica', 'elegance', 'elegant', 'elegantly', 'elegiac', 'elegy', 'element', 'elemental', 'elements', 'elephant', 'elephantine', 'elevate', 'elevated', 'elevates', 'elevating', 'elevation', 'elevator', 'eleven', 'eleventh', 'elfman', 'elia', 'elicit', 'elicited', 'eliciting', 'elicits', 'elijah', 'eliminate', 'eliminated', 'eliminates', 'eliot', 'elisa', 'elisabeth', 'elite', 'eliza', 'elizabeth', 'ellen', 'ellie', 'ellington', 'elliot', 'elliott', 'ellipses', 'elliptical', 'ellroy', 'elm', 'elmer', 'elmo', 'elmore', 'elocution', 'elongate', 'eloquence', 'eloquent', 'eloquently', 'else', 'elsewhere', 'elsinore', 'elton', 'elucidation', 'elude', 'eludes', 'elusive', 'elvis', 'em', 'embarks', 'embarrass', 'embarrassed', 'embarrasses', 'embarrassing', 'embarrassingly', 'embarrassment', 'embarrassments', 'embedded', 'embeds', 'embellish', 'embellishes', 'embellishment', 'embellishments', 'emblematic', 'embodied', 'embodies', 'embodiment', 'emboldened', 'embrace', 'embraceable', 'embraced', 'embraces', 'embracing', 'embroiders', 'embry', 'embryo', 'emerald', 'emerge', 'emerged', 'emergence', 'emerges', 'emerging', 'emily', 'eminently', 'emir', 'emma', 'emmanuelle', 'emmerich', 'emmet', 'emmy', 'emotion', 'emotional', 'emotionalism', 'emotionality', 'emotionally', 'emotions', 'empathetic', 'empathic', 'empathize', 'empathy', 'emperor', 'emphases', 'emphasis', 'emphasising', 'emphasize', 'emphasized', 'emphasizes', 'emphatically', 'empire', 'employed', 'employee', 'employees', 'employing', 'employs', 'emporium', 'empowerment', 'empties', 'emptily', 'emptiness', 'empty', 'emulate', 'en', 'enacted', 'enactment', 'enamel', 'enamored', 'encapsulate', 'encapsulated', 'encase', 'enchant', 'enchanted', 'enchanting', 'enchantingly', 'enchantment', 'enchants', 'encino', 'enclosed', 'encoded', 'encompassing', 'encounter', 'encountered', 'encountering', 'encounters', 'encourage', 'encouraged', 'encourages', 'encouraging', 'encyclopedic', 'end', 'endangered', 'endear', 'endearing', 'endearingly', 'endearment', 'endeavor', 'endeavors', 'endeavour', 'ended', 'endemic', 'ending', 'endings', 'endless', 'endlessly', 'endorsed', 'endorsement', 'endow', 'endowed', 'endows', 'ends', 'endurable', 'endurance', 'endure', 'endures', 'enduring', 'enemies', 'enemy', 'energetic', 'energetically', 'energies', 'energize', 'energized', 'energizer', 'energizes', 'energy', 'enervating', 'enfant', 'enfants', 'enforced', 'engage', 'engaged', 'engagement', 'engages', 'engaging', 'engagingly', 'engender', 'engenders', 'engigmatic', 'engine', 'engineered', 'engineering', 'engines', 'england', 'englanders', 'english', 'englishisms', 'englund', 'engraving', 'engross', 'engrossed', 'engrosser', 'engrosses', 'engrossing', 'engrossingly', 'engulfed', 'engulfing', 'enhance', 'enhanced', 'enhancement', 'enhances', 'enigma', 'enigmas', 'enigmatic', 'enjoy', 'enjoyability', 'enjoyable', 'enjoyably', 'enjoyed', 'enjoying', 'enjoyment', 'enjoys', 'enlarge', 'enlarged', 'enlightened', 'enlightening', 'enlightenment', 'enlist', 'enlisted', 'enliven', 'enlivened', 'enlivening', 'enmeshed', 'ennio', 'ennobling', 'ennui', 'enormous', 'enormously', 'enough', 'enoyable', 'enrage', 'enrich', 'enriched', 'enriches', 'enriching', 'ensemble', 'ensembles', 'enshrine', 'enshrined', 'enslavement', 'ensorcelling', 'ensues', 'ensuing', 'ensure', 'ensured', 'ensures', 'ensuring', 'entanglements', 'entendres', 'enter', 'entering', 'enterprise', 'enterprising', 'enters', 'entertain', 'entertained', 'entertainer', 'entertaining', 'entertainingly', 'entertainment', 'entertainments', 'entertains', 'enthrall', 'enthralled', 'enthralling', 'enthralls', 'enthusiasm', 'enthusiastic', 'enthusiastically', 'enthusiasts', 'entices', 'enticing', 'enticingly', 'entire', 'entirely', 'entrails', 'entrancement', 'entrances', 'entrancing', 'entrant', 'entrapment', 'entrapments', 'entrenched', 'entries', 'entropic', 'entropy', 'entry', 'envelope', 'enveloping', 'envelops', 'environment', 'environmentalists', 'environments', 'environs', 'envisioned', 'envisioning', 'epa', 'ephemera', 'ephemeral', 'ephron', 'epic', 'epicly', 'epics', 'epigrams', 'epigraph', 'epilogues', 'epiphanies', 'epiphany', 'episode', 'episodes', 'episodic', 'epitaph', 'epithet', 'epithets', 'epitome', 'epochs', 'epps', 'ept', 'equal', 'equaled', 'equalled', 'equally', 'equals', 'equation', 'equilibriums', 'equipment', 'equipped', 'equivalent', 'equivalents', 'equivocating', 'er', 'era', 'eras', 'erase', 'erased', 'eraser', 'erbe', 'erects', 'eric', 'erie', 'erik', 'ernest', 'ernie', 'ernst', 'eroded', 'erogenous', 'erotic', 'erotica', 'erotically', 'eroticism', 'eroticize', 'erotics', 'erotomania', 'errant', 'erratic', 'errol', 'errors', 'errs', 'ersatz', 'erstwhile', 'erudition', 'eruption', 'es', 'escalating', 'escalation', 'escapade', 'escape', 'escaped', 'escapes', 'escapism', 'escapist', 'eschatological', 'escher', 'eschewing', 'eschews', 'escort', 'escorts', 'esophagus', 'esp', 'especially', 'espionage', 'espouses', 'espresso', 'esque', 'essay', 'essays', 'essence', 'essences', 'essential', 'essentially', 'essentials', 'est', 'establish', 'established', 'establishes', 'establishing', 'establishment', 'estate', 'esteem', 'estevez', 'esther', 'esthetically', 'estimable', 'estonia', 'estrogen', 'estuary', 'eszterhas', 'et', 'etc', 'etched', 'etches', 'eternal', 'eternity', 'ethan', 'ether', 'ethereal', 'ethereally', 'ethic', 'ethical', 'ethics', 'ethnic', 'ethnicity', 'ethos', 'etre', 'ets', 'eugenia', 'euphoria', 'euro', 'eurocast', 'europe', 'european', 'eva', 'evan', 'evangelical', 'evans', 'evaporate', 'evaporated', 'evaporates', 'evasion', 'evasive', 'eve', 'evel', 'even', 'evenhanded', 'evening', 'event', 'eventful', 'events', 'eventual', 'eventually', 'ever', 'eveready', 'everett', 'evergreen', 'evers', 'every', 'everybody', 'everyday', 'everyman', 'everyone', 'everyplace', 'everything', 'everytime', 'everywhere', 'evict', 'evidence', 'evidenced', 'evident', 'evidently', 'evil', 'evils', 'evince', 'evinces', 'evita', 'evocation', 'evocative', 'evoke', 'evoked', 'evokes', 'evoking', 'evolution', 'evolutionary', 'evolve', 'evolved', 'evolves', 'evolving', 'ex', 'exact', 'exacting', 'exactly', 'exaggerate', 'exaggerated', 'exaggerating', 'exaggeration', 'exaggerations', 'exalted', 'exalting', 'exam', 'examination', 'examine', 'examined', 'examines', 'example', 'examples', 'exasperated', 'exasperating', 'excalibur', 'exceeding', 'exceedingly', 'exceeds', 'excel', 'excelled', 'excellence', 'excellent', 'excellently', 'excels', 'except', 'excepted', 'exception', 'exceptional', 'exceptionally', 'exceptions', 'excerpts', 'excess', 'excesses', 'excessive', 'excessively', 'exchange', 'exchanges', 'excising', 'excitable', 'excite', 'excited', 'excitement', 'excites', 'exciting', 'excitingly', 'exclaims', 'excluding', 'exclusive', 'exclusively', 'excoriate', 'excoriating', 'excrement', 'excretions', 'excruciating', 'excruciatingly', 'excursion', 'excursions', 'excusable', 'excuse', 'excuses', 'excusing', 'execrable', 'execs', 'executed', 'executing', 'execution', 'executive', 'executives', 'executor', 'exemplary', 'exemplified', 'exemplifies', 'exercise', 'exercises', 'exercising', 'exert', 'exertion', 'exerts', 'exhale', 'exhausted', 'exhausting', 'exhaustingly', 'exhaustion', 'exhausts', 'exhibit', 'exhibiting', 'exhibitionism', 'exhibitionists', 'exhibitors', 'exhibits', 'exhilarated', 'exhilarates', 'exhilarating', 'exhilaratingly', 'exhilaration', 'exhumations', 'exhumed', 'exigencies', 'exiles', 'exist', 'existed', 'existence', 'existential', 'existentialist', 'existenz', 'existing', 'exists', 'exit', 'exiting', 'exits', 'exorbitant', 'exorcist', 'exotic', 'exotica', 'expand', 'expanded', 'expanding', 'expands', 'expanse', 'expansion', 'expansive', 'expansiveness', 'expatriate', 'expect', 'expectations', 'expected', 'expecting', 'expects', 'expedient', 'expedition', 'expendable', 'expense', 'expensive', 'expensively', 'experience', 'experienced', 'experiences', 'experiencing', 'experiment', 'experimental', 'experimentation', 'experimenter', 'experimenting', 'expert', 'expertise', 'expertly', 'experts', 'expired', 'explain', 'explained', 'explaining', 'explains', 'explanation', 'explanations', 'expletives', 'explicit', 'explicitness', 'explode', 'explodes', 'exploding', 'exploit', 'exploitation', 'exploitative', 'exploited', 'exploiting', 'exploitive', 'exploits', 'exploration', 'explorations', 'explore', 'explored', 'explores', 'exploring', 'explosion', 'explosions', 'explosive', 'explosively', 'exponentially', 'expose', 'exposed', 'exposes', 'exposing', 'exposition', 'expository', 'exposure', 'express', 'expressed', 'expresses', 'expressing', 'expression', 'expressionism', 'expressionist', 'expressionistic', 'expressions', 'expressive', 'expressiveness', 'exquisite', 'exquisitely', 'extend', 'extended', 'extends', 'extension', 'extensions', 'extensive', 'extensively', 'extent', 'exterior', 'extinct', 'extolling', 'extols', 'extra', 'extract', 'extracted', 'extracting', 'extracts', 'extraneous', 'extraordinarily', 'extraordinary', 'extras', 'extraterrestrial', 'extraterrestrials', 'extravagance', 'extravagances', 'extravagant', 'extravagantly', 'extravaganza', 'extreme', 'extremely', 'extremes', 'extremists', 'exuberance', 'exuberant', 'exuberantly', 'exude', 'exudes', 'exuding', 'exultant', 'eye', 'eyeball', 'eyeballs', 'eyed', 'eyeful', 'eyeliner', 'eyes', 'fab', 'fable', 'fables', 'fabric', 'fabulist', 'fabulous', 'facade', 'face', 'faced', 'faceless', 'faces', 'facet', 'faceted', 'facetious', 'facetiousness', 'facets', 'facial', 'facile', 'facilitate', 'facility', 'facing', 'facsimile', 'fact', 'factness', 'facto', 'factor', 'factories', 'factory', 'facts', 'factual', 'faculties', 'faculty', 'fade', 'faded', 'fadeout', 'fades', 'fading', 'fahrenheit', 'fail', 'failed', 'failing', 'failings', 'fails', 'failure', 'failures', 'faint', 'faintly', 'fair', 'fairbanks', 'faire', 'fairground', 'fairies', 'fairly', 'fairness', 'fairy', 'fairyland', 'fairystory', 'fairytale', 'faith', 'faithful', 'faithfully', 'faithfulness', 'fake', 'faked', 'fakers', 'fakery', 'falcon', 'falk', 'fall', 'fallacy', 'fallen', 'fallibility', 'fallible', 'falling', 'fallon', 'fallout', 'fallow', 'falls', 'false', 'falsehoods', 'falsely', 'falsity', 'falstaff', 'faltering', 'falters', 'faludi', 'falwell', 'fame', 'famed', 'famer', 'familiar', 'familiarity', 'familiarly', 'families', 'family', 'famine', 'famke', 'famous', 'famously', 'famuyiwa', 'fan', 'fanatic', 'fanatical', 'fanatics', 'fanboy', 'fanciful', 'fancifully', 'fancily', 'fancy', 'fang', 'fangs', 'fanning', 'fanny', 'fans', 'fantasia', 'fantasies', 'fantastic', 'fantastical', 'fantastically', 'fantasy', 'far', 'faraway', 'farce', 'farces', 'farceur', 'farcical', 'fare', 'fared', 'farewell', 'farfetched', 'fargo', 'farinelli', 'farley', 'farm', 'farmhouse', 'farms', 'farnsworth', 'farrands', 'farrelly', 'farrellys', 'fart', 'fascinate', 'fascinated', 'fascinating', 'fascinatingly', 'fascination', 'fascinations', 'fascism', 'fascist', 'fascists', 'fashion', 'fashionable', 'fashionably', 'fashioned', 'fast', 'fasten', 'faster', 'fastest', 'fastidious', 'fat', 'fatal', 'fatale', 'fatalism', 'fatalistic', 'fatally', 'fate', 'fated', 'fateful', 'father', 'fathers', 'fathom', 'fatigue', 'fatten', 'fattened', 'fatuous', 'faulkner', 'fault', 'faulting', 'faultless', 'faultlessly', 'faults', 'faux', 'faves', 'favor', 'favorably', 'favoreet', 'favorite', 'favorites', 'favors', 'favour', 'favoured', 'favourite', 'favreau', 'fawley', 'fawn', 'fay', 'fdr', 'fear', 'feared', 'fearful', 'fearing', 'fearless', 'fearlessly', 'fearlessness', 'fears', 'fearsome', 'feast', 'feasting', 'feat', 'feather', 'featherbed', 'featherbrained', 'feathers', 'feats', 'feature', 'featured', 'features', 'featuring', 'febrile', 'february', 'feckless', 'fect', 'fed', 'federal', 'fedora', 'fee', 'feeble', 'feebleness', 'feed', 'feeder', 'feeding', 'feeds', 'feel', 'feelgood', 'feeling', 'feelings', 'feels', 'feely', 'feet', 'fein', 'feint', 'feints', 'feisty', 'feldman', 'felicities', 'felicitous', 'felicity', 'feline', 'felix', 'fell', 'fella', 'fellatio', 'fellini', 'felliniesque', 'fellow', 'fellowship', 'felons', 'felt', 'female', 'females', 'feminazi', 'feminine', 'feminism', 'feminist', 'femme', 'fence', 'fences', 'fend', 'fending', 'fenn', 'fens', 'ferber', 'fergus', 'ferment', 'ferments', 'fern', 'fernanda', 'ferociously', 'ferocity', 'ferrara', 'ferrell', 'ferrets', 'ferris', 'ferry', 'fertile', 'fertilizer', 'fervently', 'fervor', 'fervour', 'fess', 'fest', 'festering', 'festival', 'fests', 'fetched', 'fetching', 'fetchit', 'fetishes', 'fetishisation', 'fetishist', 'fetishize', 'fetishizes', 'fever', 'fevered', 'feverish', 'few', 'fewer', 'fey', 'feyman', 'fhuggedaboudit', 'fi', 'fiasco', 'fiction', 'fictional', 'fictionalized', 'fictions', 'fiddle', 'fide', 'fidelity', 'fidgeting', 'fidgety', 'fido', 'fiduciary', 'field', 'fielding', 'fields', 'fiend', 'fiendish', 'fiendishly', 'fiends', 'fiennes', 'fier', 'fierce', 'fiercely', 'fierceness', 'fiery', 'fifth', 'fifties', 'fifty', 'fiftysomething', 'figgis', 'fight', 'fighter', 'fighters', 'fighting', 'fights', 'figment', 'figuratively', 'figure', 'figured', 'figures', 'file', 'files', 'filigree', 'filing', 'fill', 'filled', 'filler', 'filling', 'fills', 'film', 'filmed', 'filmgoer', 'filmgoers', 'filmgoing', 'filmic', 'filming', 'filmization', 'filmmaker', 'filmmakers', 'filmmaking', 'filmography', 'films', 'filmthat', 'filmusical', 'fils', 'filter', 'filtered', 'filtering', 'filth', 'final', 'finale', 'finally', 'finals', 'financial', 'financially', 'financiers', 'financing', 'finch', 'fincher', 'find', 'finding', 'findings', 'finds', 'fine', 'finely', 'finer', 'finery', 'finesse', 'finessed', 'finessing', 'finest', 'finger', 'fingered', 'fingernails', 'fingerpainted', 'fingerprints', 'fingers', 'finish', 'finished', 'finishes', 'finney', 'fins', 'fiona', 'fiorentino', 'fire', 'firearm', 'fireball', 'fireballs', 'firecracker', 'firecrackers', 'fired', 'fireflies', 'firefly', 'firefox', 'firepower', 'firework', 'fireworks', 'firing', 'firm', 'firmer', 'firmest', 'firmly', 'first', 'firsthand', 'firstrate', 'firsttime', 'fiscal', 'fischer', 'fish', 'fishburne', 'fisher', 'fisherman', 'fishin', 'fishing', 'fishtar', 'fisted', 'fistedly', 'fistfight', 'fistful', 'fists', 'fit', 'fitful', 'fitfully', 'fitly', 'fits', 'fitted', 'fitting', 'fitzgerald', 'five', 'fix', 'fixating', 'fixations', 'fixed', 'fixer', 'fizz', 'fizzing', 'fizzle', 'fizzled', 'fizzles', 'fizzy', 'flab', 'flabbergasting', 'flabbier', 'flabby', 'flaccid', 'flaccidly', 'flackery', 'flag', 'flagging', 'flagrant', 'flailing', 'flails', 'flair', 'flaky', 'flamboyance', 'flamboyant', 'flame', 'flames', 'flaming', 'flamingo', 'flamingos', 'flanery', 'flanked', 'flaps', 'flare', 'flaring', 'flash', 'flashback', 'flashbacks', 'flashdance', 'flashes', 'flashiness', 'flashing', 'flashlight', 'flashy', 'flat', 'flatly', 'flatness', 'flattened', 'flattered', 'flattering', 'flatulence', 'flatulent', 'flaunting', 'flavor', 'flavorful', 'flavors', 'flavorsome', 'flavour', 'flaw', 'flawed', 'flawless', 'flaws', 'flecked', 'fled', 'fleder', 'fledged', 'fledgling', 'flee', 'fleece', 'fleecy', 'fleeing', 'flees', 'fleet', 'fleeting', 'fleetingly', 'fleischer', 'fleming', 'flesh', 'fleshed', 'fleshing', 'fletcher', 'flew', 'flex', 'flexible', 'flick', 'flicked', 'flicks', 'flier', 'flies', 'flight', 'flightiness', 'flights', 'flighty', 'flimsily', 'flimsy', 'flinch', 'fling', 'flinging', 'flings', 'flint', 'flintstone', 'flip', 'flippancy', 'flippant', 'flippantly', 'flipped', 'flipper', 'flipping', 'flips', 'flirt', 'flirtation', 'flirting', 'flirts', 'flits', 'flitted', 'float', 'floated', 'floating', 'floats', 'flock', 'flood', 'floor', 'floors', 'flop', 'flops', 'flora', 'florida', 'floridity', 'florist', 'floundering', 'flounders', 'flourish', 'flourishes', 'flouts', 'flow', 'flower', 'flowers', 'flowing', 'flows', 'flubber', 'fluency', 'fluent', 'fluently', 'fluff', 'fluffier', 'fluffy', 'fluid', 'fluidity', 'fluidly', 'fluke', 'flung', 'flurry', 'flush', 'flushed', 'flutter', 'flux', 'fly', 'flyers', 'flying', 'flymo', 'flynn', 'flynt', 'flyperson', 'flyweight', 'foam', 'foamy', 'focal', 'focus', 'focused', 'focuses', 'focusing', 'fodder', 'foe', 'fog', 'foggy', 'foibles', 'foil', 'foils', 'foisted', 'folded', 'folding', 'folds', 'foley', 'folies', 'folk', 'folklore', 'folkloric', 'folks', 'folksy', 'folky', 'folley', 'follie', 'follow', 'followed', 'follower', 'followers', 'following', 'follows', 'followup', 'folly', 'fond', 'fonda', 'fondly', 'fondness', 'foner', 'font', 'foo', 'food', 'foods', 'fool', 'fooled', 'foolery', 'foolhardy', 'fooling', 'foolish', 'foolishly', 'foolishness', 'foolproof', 'fools', 'foot', 'footage', 'football', 'footchase', 'foote', 'footed', 'footfalls', 'footing', 'footnote', 'footnotes', 'footprint', 'footsteps', 'foppish', 'for', 'foray', 'forays', 'forbidden', 'forbidding', 'force', 'forced', 'forceful', 'forcefully', 'forces', 'forcing', 'ford', 'fordian', 'forearm', 'forefront', 'foregone', 'foreground', 'forehead', 'foreheads', 'foreign', 'foreman', 'foremost', 'forensic', 'foreplay', 'forerunner', 'foreshadowings', 'forest', 'forestalls', 'forester', 'foretold', 'forever', 'forewarned', 'forfeiting', 'forged', 'forges', 'forget', 'forgets', 'forgettable', 'forgetting', 'forgivably', 'forgive', 'forgiven', 'forgiveness', 'forgiving', 'forgo', 'forgoing', 'forgot', 'forgotten', 'fork', 'forlorn', 'form', 'formal', 'formaldehyded', 'formalist', 'formally', 'forman', 'format', 'formats', 'formed', 'former', 'formerly', 'formidable', 'forming', 'formless', 'forms', 'formula', 'formulaic', 'formularised', 'formulas', 'formulating', 'forrest', 'forsaking', 'forster', 'forsyth', 'fort', 'forte', 'fortenberry', 'forth', 'forthcoming', 'forthright', 'fortification', 'fortified', 'fortress', 'fortuitous', 'fortunately', 'fortune', 'fortunes', 'forty', 'forum', 'forward', 'foster', 'fought', 'foul', 'foulmouthed', 'fouls', 'found', 'foundation', 'founded', 'fountain', 'fountainhead', 'fountains', 'four', 'fours', 'fourteen', 'fourth', 'fourths', 'fowl', 'fown', 'fox', 'foxy', 'fractionally', 'fractious', 'fractured', 'fragile', 'fragmentary', 'fragments', 'fragrance', 'frail', 'frailties', 'frailty', 'fraker', 'frakes', 'frame', 'framed', 'frames', 'framework', 'framing', 'fran', 'france', 'frances', 'francesca', 'franchise', 'francis', 'francisco', 'franco', 'francois', 'franju', 'frank', 'franken', 'frankenheimer', 'frankenstein', 'frankest', 'frankie', 'franklin', 'frankly', 'franks', 'frantic', 'franz', 'fraser', 'frasier', 'fraternity', 'fraud', 'frauds', 'fraudulent', 'fraught', 'fraulein', 'fray', 'frayed', 'frazzled', 'freak', 'freakin', 'freakish', 'freakishly', 'freaks', 'freaky', 'frears', 'freckle', 'fred', 'freddie', 'freddy', 'frederick', 'fredric', 'free', 'freed', 'freedom', 'freedoms', 'freely', 'freeman', 'freest', 'freeway', 'freewheeling', 'freeze', 'freezer', 'freezes', 'freezing', 'freight', 'french', 'frenetic', 'frenetically', 'frenzied', 'frenzy', 'frequency', 'frequent', 'frequently', 'fresh', 'freshened', 'freshening', 'freshens', 'fresher', 'freshest', 'freshly', 'freshman', 'freshness', 'fresno', 'freud', 'freudian', 'freudianism', 'freund', 'freundlich', 'frey', 'friction', 'friday', 'fried', 'friedenberg', 'friedkin', 'friend', 'friendhsip', 'friendlier', 'friendliest', 'friendliness', 'friendly', 'friends', 'friendship', 'friendships', 'fright', 'frighten', 'frightened', 'frighteners', 'frightening', 'frighteningly', 'frightfully', 'frights', 'frigidaire', 'frills', 'frilly', 'fringe', 'friskiness', 'frisky', 'frissons', 'frittery', 'fritz', 'frivolity', 'frivolous', 'frodo', 'froid', 'frolic', 'from', 'front', 'frontal', 'frontier', 'frontiers', 'fronts', 'froot', 'frost', 'frostbite', 'frosted', 'frosty', 'froth', 'frothiest', 'frothy', 'frown', 'frozen', 'fruit', 'fruitcake', 'fruitfully', 'fruition', 'frump', 'frustrated', 'frustrates', 'frustrating', 'frustratingly', 'frustration', 'frustrations', 'fry', 'frying', 'ft', 'ftd', 'fu', 'fudd', 'fudges', 'fuel', 'fueled', 'fuels', 'fugitive', 'fulfill', 'fulfilling', 'fulfillment', 'fulfills', 'fulfilment', 'fulfils', 'full', 'fuller', 'fullest', 'fullhearted', 'fullisade', 'fully', 'fumbles', 'fumbling', 'fun', 'function', 'functioning', 'functions', 'fund', 'fundamental', 'fundamentally', 'fundamentals', 'funeral', 'funereal', 'funhouse', 'funk', 'funky', 'funnier', 'funniest', 'funny', 'fur', 'furious', 'furiously', 'furlong', 'furnished', 'furnishings', 'furniture', 'furrow', 'furry', 'further', 'fury', 'fusco', 'fuse', 'fused', 'fuses', 'fusillade', 'fusing', 'fusion', 'fuss', 'futile', 'futilely', 'futility', 'future', 'futurist', 'futuristic', 'fuzzballs', 'fuzzier', 'fuzzies', 'fuzzily', 'fuzzy', 'fw2', 'fx', 'gab', 'gabbeh', 'gabble', 'gabby', 'gabfest', 'gable', 'gabor', 'gabriel', 'gabs', 'gadget', 'gadgets', 'gaelic', 'gag', 'gaga', 'gaggle', 'gags', 'gaiety', 'gaily', 'gain', 'gained', 'gaining', 'gains', 'gait', 'gal', 'galaxy', 'gale', 'gall', 'gallant', 'gallantly', 'gallantry', 'gallery', 'gallic', 'gallon', 'gallows', 'galoot', 'galore', 'galsworthy', 'galumphing', 'galvanic', 'galvanized', 'galvanizes', 'galvanizing', 'galway', 'gambini', 'gambit', 'gambits', 'gamble', 'gambler', 'gambling', 'gamboling', 'gambon', 'game', 'gameis', 'gamely', 'games', 'gamesmanship', 'gamut', 'gamy', 'gance', 'gandhi', 'gang', 'gangbusters', 'gangland', 'gangs', 'gangster', 'gangsters', 'ganz', 'gap', 'gape', 'gaping', 'gaps', 'garb', 'garbage', 'garbed', 'garbled', 'garbo', 'garcia', 'garde', 'garden', 'gardener', 'gardenias', 'gardist', 'gardner', 'garfield', 'gargantuan', 'garish', 'garishly', 'garland', 'garner', 'garnering', 'garners', 'garp', 'garrett', 'garrulous', 'garry', 'garth', 'gary', 'gas', 'gaseous', 'gasp', 'gasping', 'gast', 'gaston', 'gate', 'gates', 'gather', 'gathered', 'gathering', 'gatherings', 'gathers', 'gatling', 'gattaca', 'gauche', 'gauchery', 'gaudiest', 'gaudy', 'gauge', 'gauges', 'gaunt', 'gauntlet', 'gave', 'gavras', 'gay', 'gayness', 'gays', 'gaze', 'gazed', 'gazes', 'gazing', 'gazzara', 'gear', 'geared', 'gears', 'gee', 'geek', 'geena', 'geese', 'geezer', 'gel', 'gelman', 'gels', 'gem', 'gemlike', 'gems', 'gen', 'gena', 'gender', 'gene', 'genealogical', 'general', 'generality', 'generalized', 'generally', 'generate', 'generated', 'generates', 'generating', 'generation', 'generational', 'generations', 'generic', 'generosity', 'generous', 'generously', 'genesis', 'genet', 'genetic', 'genevieve', 'genial', 'genie', 'genies', 'genius', 'geniuses', 'genocidal', 'genocide', 'genre', 'genres', 'genteel', 'genteelness', 'gentility', 'gentle', 'gentleman', 'gentlemanliness', 'gentlemanly', 'gentlemen', 'gentleness', 'gentler', 'gentlest', 'gently', 'gentry', 'genuine', 'genuinely', 'genuineness', 'geographic', 'geographical', 'geography', 'geological', 'geometric', 'geometrically', 'geometry', 'george', 'georgia', 'gepetto', 'ger', 'gere', 'german', 'germanic', 'germany', 'germs', 'gerry', 'gershwin', 'gertrude', 'gestural', 'gesture', 'gestures', 'get', 'getaway', 'gets', 'getters', 'getting', 'gewgaws', 'gewirtz', 'geysers', 'ghastly', 'ghetto', 'ghost', 'ghostbusters', 'ghostly', 'ghosts', 'ghoulish', 'ghoulishness', 'ghouls', 'giant', 'giants', 'gibberish', 'gibbons', 'gibes', 'giblets', 'gibson', 'giddiest', 'giddily', 'giddiness', 'giddy', 'gielgud', 'gies', 'gift', 'gifted', 'gifts', 'gigantic', 'giganticism', 'giggle', 'giggles', 'giggling', 'giggly', 'gigi', 'gigolo', 'gil', 'gilbert', 'gilded', 'gilkyson', 'gillespie', 'gillette', 'gilliam', 'gillian', 'gillo', 'gilmore', 'gilroy', 'gimcrack', 'gimmick', 'gimmickry', 'gimmicks', 'gimmicky', 'ginger', 'gingerbread', 'gird', 'girdles', 'girl', 'girlfriend', 'girlfriends', 'girlish', 'girls', 'girlsa', 'gis', 'gist', 'gits', 'giuseppe', 'give', 'given', 'gives', 'giving', 'gizmo', 'gizmos', 'glad', 'gladly', 'glam', 'glamor', 'glamorized', 'glamorous', 'glamour', 'glance', 'glances', 'glancing', 'glaring', 'glaringly', 'glaser', 'glass', 'glasses', 'glassy', 'glazed', 'glazing', 'gleam', 'gleaming', 'glee', 'gleeful', 'gleefully', 'glen', 'glenda', 'glengarry', 'glenn', 'glib', 'glibly', 'glide', 'glides', 'glimmer', 'glimmerings', 'glimmers', 'glimpse', 'glimpses', 'glint', 'glints', 'glinty', 'glisten', 'glistening', 'glistens', 'glitches', 'glittered', 'glittering', 'glitz', 'glitzy', 'gloating', 'global', 'globe', 'globs', 'gloom', 'gloomy', 'gloppy', 'gloria', 'gloried', 'glories', 'glorification', 'glorified', 'glorifying', 'glorious', 'gloriously', 'glory', 'gloss', 'glossary', 'glossed', 'glosses', 'glossier', 'glossing', 'glossy', 'glove', 'glover', 'glow', 'glower', 'glowers', 'glowing', 'glowingly', 'glows', 'glue', 'glued', 'glumness', 'glut', 'glutted', 'glutton', 'gnarled', 'gnarlier', 'gnashing', 'gnawing', 'go', 'goal', 'goalie', 'goals', 'goat', 'goats', 'gobble', 'gobbled', 'gobbledygook', 'gobbler', 'gobs', 'god', 'godard', 'goddess', 'godfather', 'godfrey', 'godless', 'godsend', 'godzilla', 'goer', 'goers', 'goes', 'goggles', 'going', 'gold', 'goldberg', 'goldblum', 'golden', 'goldeneye', 'goldfinger', 'goldie', 'goldman', 'goldsman', 'goldsmith', 'golf', 'goliath', 'golightly', 'golino', 'gomez', 'gonadal', 'gone', 'gong', 'gonna', 'gonzo', 'goo', 'good', 'goodbar', 'goodbye', 'gooder', 'goodfella', 'goodfellas', 'goodhearted', 'gooding', 'goodness', 'goodnight', 'goods', 'goodwill', 'gooey', 'goof', 'goofball', 'goofily', 'goofiness', 'goofing', 'goofs', 'goofy', 'gooier', 'gook', 'goonery', 'goonies', 'gooniness', 'goopy', 'goose', 'goosebumps', 'gooses', 'gordon', 'gore', 'gorefest', 'goreheads', 'gorehound', 'gorehounds', 'gorgeous', 'gorgeously', 'gorgeousness', 'goriest', 'gorilla', 'gorris', 'gort', 'gory', 'gosh', 'goslar', 'gospel', 'gossip', 'gossipy', 'got', 'gotcha', 'goth', 'gotham', 'gothic', 'gotta', 'gotten', 'gottfried', 'gottleib', 'gottlieb', 'gouge', 'goulash', 'gould', 'gourmet', 'government', 'gowns', 'goya', 'goyer', 'grab', 'grabber', 'grabbers', 'grabbing', 'grabs', 'grace', 'graced', 'graceful', 'gracefully', 'graceless', 'graces', 'gracious', 'grad', 'grade', 'gradual', 'gradually', 'graduate', 'graduating', 'graduation', 'grady', 'graffiti', 'graft', 'grafted', 'graham', 'grail', 'grain', 'grained', 'grainily', 'grainy', 'grammar', 'grammatical', 'grammer', 'grand', 'grandchild', 'grandest', 'grandeur', 'grandfather', 'grandiloquence', 'grandiose', 'grandly', 'grandma', 'grandmother', 'grandson', 'grandstanding', 'granger', 'granny', 'grant', 'granted', 'granting', 'grants', 'grape', 'grapes', 'graphed', 'graphic', 'graphics', 'grapples', 'grappling', 'grasp', 'grasped', 'grasping', 'grass', 'grate', 'grateful', 'gratefully', 'gratification', 'gratifies', 'gratify', 'gratifying', 'grating', 'gratitude', 'gratuitous', 'gratuitously', 'grave', 'gravely', 'graves', 'gravitas', 'gravitational', 'gravity', 'gray', 'grayish', 'grays', 'graysmark', 'grease', 'great', 'greater', 'greatest', 'greatly', 'greatness', 'greco', 'greed', 'greedy', 'greek', 'green', 'greenaway', 'greenberg', 'greene', 'greenery', 'greenpeace', 'greet', 'greeted', 'greeter', 'greeting', 'greetings', 'greg', 'gregg', 'gregory', 'gremlins', 'grenade', 'gresham', 'greta', 'gretchen', 'grew', 'grey', 'greying', 'gridlock', 'grief', 'grier', 'grieves', 'grievous', 'grievously', 'griffith', 'griffiths', 'grifters', 'grim', 'grimaces', 'grime', 'grimethorpe', 'grimly', 'grimness', 'grimy', 'grin', 'grinches', 'grind', 'grinder', 'grinding', 'grindingly', 'grinds', 'grins', 'grip', 'gripped', 'gripping', 'grippingly', 'grips', 'grisham', 'grisliness', 'grisly', 'gristly', 'griswolds', 'grit', 'grits', 'grittier', 'grittily', 'grittiness', 'gritty', 'groan', 'groaned', 'groaner', 'groans', 'grocery', 'grodin', 'grokked', 'groom', 'groomed', 'grooming', 'groove', 'grooved', 'groovy', 'gross', 'grosse', 'grosses', 'grossest', 'grossing', 'grossness', 'grotesque', 'grotesquely', 'grotesqueries', 'grotesques', 'grotto', 'grouches', 'grouchland', 'groucho', 'ground', 'groundbreaker', 'groundbreaking', 'grounded', 'groundhog', 'grounding', 'grounds', 'groundwork', 'group', 'groupie', 'groupies', 'groups', 'grow', 'growing', 'growl', 'growling', 'growls', 'grown', 'grownup', 'grownups', 'grows', 'growth', 'grubbing', 'grubby', 'grudges', 'grudging', 'grue', 'grueling', 'gruelling', 'gruesome', 'gruesomely', 'gruesomeness', 'grumps', 'grumpy', 'grunge', 'grungy', 'grunt', 'grunts', 'guarantee', 'guaranteed', 'guarantees', 'guard', 'guarded', 'guardian', 'guardians', 'guare', 'guaspari', 'guccione', 'guerre', 'guerrilla', 'guess', 'guessed', 'guessing', 'guest', 'guests', 'guffawed', 'guffaws', 'guffey', 'guffman', 'guidance', 'guide', 'guides', 'guido', 'guignol', 'guileless', 'guilelessness', 'guillermin', 'guillermo', 'guilt', 'guiltier', 'guiltily', 'guilty', 'guinness', 'guise', 'guises', 'guitar', 'gulf', 'gullibility', 'gullible', 'gulliver', 'gulls', 'gulp', 'gum', 'gumbo', 'gump', 'gums', 'gun', 'gunderson', 'gunfest', 'gunfire', 'gung', 'gunk', 'gunned', 'gunplay', 'gunpowder', 'guns', 'gunshots', 'gunslinger', 'gus', 'gushy', 'gussied', 'gust', 'gusto', 'gut', 'guterson', 'gutless', 'guts', 'gutsier', 'gutsy', 'gutter', 'gutters', 'guttural', 'guy', 'guys', 'guzzling', 'gwen', 'gwyneth', 'gyllenhaal', 'gym', 'gymnastic', 'gypsy', 'gyrating', 'gyrational', 'gyrations', 'h20', 'h2o', 'h4', 'ha', 'haagen', 'haas', 'habit', 'habits', 'hach', 'hack', 'hacked', 'hackensacker', 'hacker', 'hackers', 'hackford', 'hackles', 'hackman', 'hackneyed', 'hacks', 'hackulon', 'hackwork', 'had', 'haddonfielder', 'hadn', 'hagen', 'haggard', 'haggiag', 'haggis', 'hagiographic', 'hagiography', 'haiku', 'hail', 'hailed', 'hailers', 'hailey', 'haines', 'hair', 'haircut', 'haired', 'hairspray', 'hairstyles', 'hal', 'half', 'halfhearted', 'halfway', 'hall', 'hallam', 'hallmark', 'hallmarks', 'hallow', 'halloween', 'hallstrom', 'hallucinations', 'hallucinatory', 'hallucinogenic', 'halstrom', 'halting', 'halves', 'halvorson', 'ham', 'hamfisted', 'hamill', 'hamilton', 'hamlet', 'hammer', 'hammered', 'hammering', 'hammers', 'hammerstein', 'hammett', 'hamming', 'hammy', 'hamper', 'hampered', 'hampering', 'hampers', 'hampton', 'hams', 'hand', 'handbook', 'handcrafted', 'handcuffed', 'handed', 'handedly', 'handedness', 'handful', 'handheld', 'handicap', 'handily', 'handle', 'handlebar', 'handled', 'handles', 'handling', 'handmade', 'hands', 'handsome', 'handsomely', 'handwringing', 'handwritten', 'handy', 'haneke', 'hang', 'hangdog', 'hanger', 'hanging', 'hangover', 'hangovers', 'hangs', 'hank', 'hankers', 'hankie', 'hanks', 'hannah', 'hanneli', 'hannibal', 'hans', 'hanson', 'haphazard', 'haphazardly', 'hapless', 'haplessly', 'happen', 'happened', 'happening', 'happens', 'happier', 'happiest', 'happily', 'happiness', 'happy', 'hara', 'harassed', 'harassment', 'harbor', 'harbou', 'hard', 'hardballing', 'hardboiled', 'hardcore', 'hardened', 'harder', 'harders', 'hardest', 'hardhitting', 'hardly', 'hards', 'hardscrabble', 'hardships', 'hardware', 'hardwicke', 'hardworking', 'hardy', 'harking', 'harks', 'harlem', 'harlin', 'harlot', 'harm', 'harmless', 'harmonious', 'harmonists', 'harmonize', 'harmony', 'harness', 'harold', 'harper', 'harpo', 'harr', 'harrell', 'harrelson', 'harridan', 'harried', 'harriet', 'harris', 'harrison', 'harrowing', 'harry', 'harsh', 'hart', 'hartley', 'harvest', 'harvey', 'harveys', 'has', 'hash', 'hashes', 'haskell', 'hasn', 'haste', 'hastily', 'hasty', 'hat', 'hatched', 'hatcher', 'hatchet', 'hate', 'hated', 'hateful', 'hater', 'hates', 'hatful', 'hating', 'hatred', 'hats', 'haughty', 'haul', 'hauling', 'haullucinatory', 'haunt', 'haunted', 'haunting', 'hauntingly', 'haunts', 'haute', 'hauteur', 'have', 'haven', 'haver', 'haves', 'having', 'havoc', 'hawk', 'hawke', 'hawkish', 'hawks', 'hawn', 'hawthorne', 'hayao', 'hayley', 'haynes', 'haywire', 'haze', 'hazily', 'hbo', 'he', 'head', 'headache', 'headed', 'heading', 'headings', 'headless', 'headlight', 'headlights', 'headlines', 'headlong', 'heads', 'headstrong', 'headwaters', 'heady', 'heal', 'healing', 'heals', 'health', 'healthier', 'healthiest', 'healthily', 'healthy', 'healy', 'heap', 'heaped', 'heaping', 'heaps', 'hear', 'heard', 'hearing', 'hearken', 'hearse', 'heart', 'heartache', 'heartbeats', 'heartbreak', 'heartbreaking', 'heartbreakingly', 'heartburn', 'hearted', 'heartedly', 'heartedness', 'heartening', 'heartfelt', 'heartily', 'heartland', 'heartless', 'heartmending', 'hearts', 'heartsick', 'heartstopping', 'heartstrings', 'heartthrob', 'heartwarmer', 'heartwarming', 'heartwarmingly', 'hearty', 'heat', 'heated', 'heather', 'heathers', 'heave', 'heaven', 'heavenly', 'heavens', 'heavier', 'heavies', 'heaviest', 'heavily', 'heavy', 'heavyweight', 'heche', 'heck', 'heckerling', 'hecklers', 'hectoring', 'hedaya', 'hedge', 'heedless', 'heeere', 'heels', 'heft', 'hefty', 'heh', 'height', 'heightened', 'heightening', 'heightens', 'heights', 'heinies', 'heinous', 'heinously', 'heiress', 'heirs', 'heist', 'heists', 'held', 'helena', 'helens', 'helicopter', 'helicopters', 'helium', 'helix', 'hell', 'hellbent', 'hellboy', 'hellish', 'hello', 'helluva', 'hellzapoppin', 'helm', 'helmer', 'helmers', 'helms', 'help', 'helped', 'helper', 'helpers', 'helping', 'helpings', 'helpless', 'helplessness', 'helps', 'helsing', 'helsinki', 'helter', 'hemingway', 'hemmed', 'hen', 'hence', 'henceforth', 'hendel', 'henkel', 'henkin', 'henley', 'henny', 'henri', 'henry', 'henrys', 'henson', 'hepburn', 'hepped', 'her', 'heralded', 'heralds', 'herb', 'herbie', 'herbivore', 'herculean', 'hercules', 'herd', 'here', 'hereafter', 'herein', 'herek', 'heritage', 'herky', 'herlihy', 'herman', 'hermes', 'hermetic', 'hermetically', 'hermits', 'hero', 'heroes', 'heroic', 'heroics', 'heroin', 'heroine', 'heroines', 'heroism', 'herr', 'herrings', 'herrmann', 'hers', 'herself', 'hershey', 'herz', 'herzfeld', 'herzog', 'hesitancy', 'hesitant', 'hesitates', 'hesse', 'hester', 'heston', 'heterosexual', 'hewitt', 'hex', 'hey', 'hhandicapped', 'hi', 'hibernian', 'hick', 'hickner', 'hickock', 'hickory', 'hicks', 'hidalgo', 'hidden', 'hide', 'hidebound', 'hideous', 'hideously', 'hiding', 'hiep', 'higgins', 'high', 'highbrow', 'higher', 'highest', 'highfalutin', 'highlander', 'highlands', 'highlight', 'highlighted', 'highlights', 'highly', 'highs', 'highschool', 'highsmith', 'highway', 'highways', 'highwayscapes', 'hijacked', 'hijacking', 'hijinx', 'hike', 'hiking', 'hilarious', 'hilariously', 'hilarity', 'hilary', 'hill', 'hillary', 'hillbillies', 'hillcoat', 'hiller', 'hills', 'hilt', 'him', 'himself', 'hindenburg', 'hinges', 'hint', 'hinton', 'hints', 'hip', 'hipness', 'hipper', 'hippest', 'hippie', 'hipster', 'hire', 'hired', 'hiring', 'hiroshi', 'hiroshima', 'his', 'hisaishi', 'hiss', 'hissing', 'hissy', 'historian', 'historic', 'historical', 'historically', 'history', 'histrionic', 'histrionics', 'hit', 'hitch', 'hitchcock', 'hitchcockian', 'hitched', 'hitler', 'hits', 'hitting', 'hive', 'hmmmmm', 'hmo', 'ho', 'hoarding', 'hoarse', 'hoarsely', 'hoary', 'hobbled', 'hoberman', 'hoblit', 'hockey', 'hockney', 'hodge', 'hodgepodge', 'hodgson', 'hoffe', 'hoffman', 'hoffs', 'hogan', 'hogwallow', 'hoists', 'hoke', 'hoked', 'hokey', 'hokiness', 'hokum', 'hold', 'holden', 'holder', 'holders', 'holding', 'holds', 'hole', 'holes', 'holiday', 'holidaymakers', 'holidays', 'holland', 'holliday', 'hollow', 'holloway', 'hollowness', 'holly', 'hollywood', 'holm', 'holocaust', 'holtz', 'holy', 'holzman', 'homage', 'home', 'homecoming', 'homeland', 'homely', 'homer', 'homers', 'homes', 'homesick', 'hometown', 'homeward', 'homework', 'homey', 'homicidal', 'homicide', 'homiletic', 'homilies', 'homily', 'hommage', 'hommages', 'homogenized', 'homophobic', 'homosexual', 'homosexuality', 'homosexuals', 'honchos', 'honda', 'honest', 'honestly', 'honesty', 'honey', 'hong', 'honk', 'honor', 'honorable', 'honorably', 'honors', 'honour', 'honourable', 'honours', 'honroable', 'hoo', 'hood', 'hoodlums', 'hooey', 'hoof', 'hoofer', 'hoofing', 'hook', 'hooked', 'hooker', 'hooks', 'hoop', 'hooper', 'hoot', 'hooved', 'hop', 'hope', 'hoped', 'hopeful', 'hopefully', 'hopeless', 'hopelessly', 'hopers', 'hopes', 'hoping', 'hopkins', 'hopped', 'hopper', 'hopping', 'hops', 'hopscotch', 'horde', 'horizontal', 'hormone', 'horner', 'horrendous', 'horrible', 'horribly', 'horrific', 'horrifically', 'horrified', 'horrifying', 'horrifyingly', 'horrocks', 'horror', 'horrors', 'horrorshow', 'horse', 'horseback', 'horseplay', 'horses', 'horton', 'hos', 'hospital', 'host', 'hostel', 'hostile', 'hostility', 'hosting', 'hosts', 'hot', 'hotbed', 'hotel', 'hotels', 'hothouse', 'hotshots', 'hottest', 'hotties', 'hound', 'hour', 'hours', 'house', 'houseguest', 'household', 'houses', 'housesitting', 'housewife', 'houston', 'hover', 'hovercraft', 'hovering', 'hovers', 'how', 'howard', 'however', 'howl', 'howler', 'howlers', 'howling', 'howlingly', 'howls', 'hp', 'hsm', 'huang', 'hub', 'hubbie', 'hubbub', 'hubley', 'hubris', 'hucksterism', 'hudgens', 'hudlin', 'hudson', 'hudsucker', 'hued', 'hues', 'huey', 'huffing', 'huffs', 'hug', 'huge', 'hugely', 'huggable', 'hugging', 'hugh', 'hughes', 'hugo', 'hugs', 'hula', 'hulce', 'hulking', 'hullabaloo', 'hum', 'human', 'humane', 'humanism', 'humanist', 'humanistic', 'humanity', 'humanized', 'humanizing', 'humankind', 'humanly', 'humans', 'humble', 'humbling', 'humbug', 'humbugs', 'humdinger', 'humdrum', 'hume', 'humid', 'humiliated', 'humiliation', 'humility', 'hummable', 'humming', 'humongous', 'humor', 'humored', 'humorless', 'humorlessness', 'humorous', 'humorously', 'humour', 'humoured', 'humourless', 'humours', 'humphrey', 'hundred', 'hundreds', 'hung', 'hungarian', 'hungaro', 'hunger', 'hungers', 'hungry', 'hunk', 'hunkers', 'hunt', 'hunted', 'hunter', 'hunters', 'hunting', 'huntington', 'hunts', 'huppert', 'huppertz', 'hur', 'hurd', 'hurdles', 'hurl', 'hurlbut', 'hurled', 'hurling', 'hurlyburly', 'hurricane', 'hurried', 'hurries', 'hurry', 'hurt', 'hurtling', 'hurts', 'husband', 'husbands', 'hush', 'hushed', 'husks', 'husky', 'hustler', 'huston', 'hutton', 'hutz', 'hyams', 'hybrid', 'hybrids', 'hype', 'hyped', 'hyper', 'hyperactive', 'hyperaddled', 'hyperbole', 'hyperbolic', 'hypercaffeinated', 'hypergruesome', 'hyperironic', 'hyperkinetic', 'hypermaternal', 'hyperrealist', 'hyperventilating', 'hyperventilation', 'hyphenate', 'hypnotic', 'hypocrisies', 'hypocrisy', 'hypocritical', 'hypocritically', 'hypothetical', 'hysteria', 'hysterical', 'hysterically', 'hytner', 'iacone', 'iain', 'iambic', 'ian', 'ic', 'ice', 'iceberg', 'icily', 'icky', 'icon', 'iconic', 'iconized', 'iconoclastic', 'iconographic', 'iconography', 'icons', 'icy', 'id', 'id4', 'idea', 'ideal', 'idealism', 'idealist', 'idealistic', 'idealization', 'idealized', 'ideally', 'ideals', 'ideas', 'identical', 'identifiable', 'identification', 'identified', 'identifies', 'identify', 'identifying', 'identikit', 'identities', 'identity', 'ideogram', 'ideological', 'ideologically', 'ideology', 'idi', 'idiocy', 'idiom', 'idiosyncratic', 'idiot', 'idiotic', 'idiotically', 'idiots', 'idle', 'idly', 'idol', 'idolatry', 'idyllic', 'idyls', 'if', 'ified', 'ignite', 'ignoble', 'ignorance', 'ignorant', 'ignore', 'ignored', 'ignores', 'igor', 'ii', 'iii', 'ike', 'ikea', 'ikiru', 'il', 'ilk', 'ill', 'illiberal', 'illicit', 'illiterate', 'illness', 'illogic', 'illogical', 'ills', 'illsley', 'illuminate', 'illuminated', 'illuminates', 'illuminating', 'illuminatingly', 'illusion', 'illusions', 'illustrate', 'illustrated', 'illustrates', 'illustration', 'illustrative', 'illustrious', 'image', 'imagery', 'images', 'imaginable', 'imaginary', 'imagination', 'imaginations', 'imaginative', 'imaginatively', 'imagine', 'imagined', 'imagines', 'imagining', 'imamura', 'imax', 'imbalance', 'imbecilic', 'imbroglio', 'imbued', 'imbues', 'imitate', 'imitated', 'imitating', 'imitation', 'imitations', 'imitative', 'imitators', 'immaculate', 'immaculately', 'immature', 'immaturity', 'immeasurably', 'immediacy', 'immediate', 'immediately', 'immense', 'immensely', 'immerse', 'immersed', 'immersing', 'immersion', 'immersive', 'immigrant', 'immigrants', 'imminent', 'immobile', 'immolating', 'immoralists', 'immorality', 'immortal', 'immortality', 'immortalized', 'immortalizing', 'immortals', 'immovable', 'immunity', 'immutability', 'imogen', 'imp', 'impact', 'impacts', 'impaired', 'impart', 'imparts', 'impassioned', 'impatient', 'impeccable', 'impeccably', 'impediment', 'impending', 'impenetrable', 'imperfect', 'imperial', 'imperialistic', 'imperiling', 'imperious', 'impersonal', 'impersonally', 'impersonating', 'impersonation', 'impersonator', 'impervious', 'impious', 'impish', 'implacable', 'implausibilities', 'implausibility', 'implausible', 'implausibly', 'implements', 'implication', 'implications', 'implicit', 'implodes', 'imply', 'implying', 'impolite', 'import', 'importance', 'important', 'importantly', 'imported', 'impose', 'imposed', 'imposes', 'imposing', 'imposingly', 'imposition', 'impossible', 'impossibly', 'impostor', 'impotence', 'impotent', 'impove', 'impoverished', 'impregnable', 'impress', 'impressed', 'impresses', 'impressing', 'impression', 'impressions', 'impressive', 'impressively', 'imprisonment', 'improbabilities', 'improbable', 'improper', 'improv', 'improve', 'improved', 'improvement', 'improves', 'improving', 'improvisation', 'improvisational', 'improvised', 'improvising', 'impu', 'impudence', 'impudent', 'impudently', 'impulse', 'impulses', 'impulsively', 'impure', 'in', 'inability', 'inadequacy', 'inadequate', 'inadvertent', 'inadvertently', 'inane', 'inanely', 'inanimate', 'inanities', 'inanity', 'inappropriate', 'inappropriately', 'inarguably', 'inarticulate', 'inattention', 'inaugural', 'inaugurates', 'inauspicious', 'inauthentic', 'inbred', 'incandescent', 'incapable', 'incarceration', 'incarnates', 'incarnation', 'incarnations', 'incendiary', 'incessant', 'incessantly', 'incest', 'inch', 'inching', 'inchoate', 'incident', 'incidental', 'incidentally', 'incidents', 'incisive', 'inclined', 'include', 'included', 'includes', 'including', 'inclusion', 'incoherence', 'incoherent', 'incoherently', 'incomparable', 'incomparably', 'incompatibility', 'incompatible', 'incompetence', 'incompetent', 'incomplete', 'incompletely', 'incomprehensible', 'inconclusive', 'incongruous', 'incongruously', 'inconsequence', 'inconsequential', 'inconsistencies', 'inconsistency', 'inconsistent', 'inconsistently', 'incontestably', 'incorporate', 'incorporates', 'incorporating', 'incorrect', 'incorruptibility', 'increasing', 'increasingly', 'incredible', 'incredibly', 'incredulity', 'incredulous', 'incrementally', 'increments', 'incriminating', 'incurable', 'incursions', 'indebted', 'indecently', 'indecipherable', 'indecisive', 'indecisiveness', 'indeed', 'indefatigable', 'indefatigible', 'indefensible', 'indefensibly', 'indefinable', 'indelible', 'indelibly', 'independence', 'independent', 'indescribably', 'index', 'india', 'indian', 'indiana', 'indians', 'indicate', 'indicates', 'indicating', 'indication', 'indications', 'indicative', 'indict', 'indictment', 'indictments', 'indie', 'indiewood', 'indifference', 'indifferent', 'indigents', 'indigestible', 'indignation', 'indirection', 'indisputable', 'indisputably', 'indistinguishable', 'individual', 'individualist', 'individuality', 'individualized', 'individually', 'individuals', 'indolence', 'indomitable', 'indoors', 'induce', 'induced', 'induces', 'inducing', 'indulge', 'indulged', 'indulgence', 'indulgences', 'indulgent', 'indulgently', 'indulges', 'indulging', 'industrial', 'industries', 'industry', 'indy', 'ineffable', 'ineffably', 'ineffective', 'ineffectual', 'ineffectually', 'inense', 'inept', 'ineptitude', 'ineptly', 'inert', 'inertia', 'inescapable', 'inescapably', 'inevitable', 'inevitably', 'inexhaustible', 'inexorable', 'inexorably', 'inexpensive', 'inexperienced', 'inexpertly', 'inexplicable', 'inexplicably', 'inextricable', 'infamous', 'infancy', 'infanticide', 'infantile', 'infants', 'infatuate', 'infatuations', 'infected', 'infection', 'infectious', 'infectiously', 'infects', 'inferior', 'inferno', 'infernos', 'infestation', 'infidelity', 'infighting', 'infinite', 'infinitely', 'infinitesimal', 'infinitesimally', 'infirm', 'inflame', 'inflamed', 'inflatable', 'inflate', 'inflated', 'inflected', 'inflection', 'inflections', 'influence', 'influenced', 'influences', 'influential', 'infomercial', 'infomercials', 'inform', 'informal', 'information', 'informative', 'informed', 'informing', 'informs', 'infrequent', 'infrequently', 'infuential', 'infuriating', 'infus', 'infuse', 'infused', 'infuses', 'infusing', 'ingenious', 'ingeniously', 'ingenue', 'ingenuity', 'ingenuousness', 'inglewood', 'ingrained', 'ingratiate', 'ingratiating', 'ingratiatingly', 'ingredient', 'ingredients', 'ingrid', 'inhabit', 'inhabited', 'inhabiting', 'inhabits', 'inhaled', 'inherent', 'inherently', 'inherits', 'inhibitions', 'inhuman', 'inhumanly', 'inigo', 'inimitable', 'inish', 'initial', 'initially', 'initiates', 'initiation', 'inject', 'injecting', 'injection', 'injects', 'injured', 'injury', 'injustice', 'ink', 'inky', 'inn', 'innards', 'innate', 'inner', 'inning', 'innings', 'innocence', 'innocent', 'innocents', 'innocuous', 'innocuously', 'innovation', 'innovations', 'innovative', 'innuendo', 'innumerable', 'inoffensive', 'inordinate', 'inorganic', 'inquire', 'inquiry', 'inquisitive', 'inroads', 'insane', 'insanely', 'insanity', 'insatiable', 'inscrutable', 'insects', 'insecure', 'insecurities', 'insecurity', 'inseparable', 'inseparably', 'insert', 'inserted', 'inserts', 'inside', 'insider', 'insiders', 'insidious', 'insidiously', 'insight', 'insightful', 'insightfully', 'insights', 'insignificance', 'insignificant', 'insignts', 'insinuatingly', 'insipid', 'insisted', 'insistence', 'insistent', 'insistently', 'insisting', 'insists', 'insofar', 'insolence', 'insomnia', 'insomniac', 'inspection', 'inspector', 'inspiration', 'inspirational', 'inspirations', 'inspire', 'inspired', 'inspires', 'inspiring', 'insta', 'installations', 'installment', 'installments', 'instalment', 'instance', 'instances', 'instant', 'instantly', 'instead', 'instilling', 'instinct', 'instinctive', 'instinctively', 'instincts', 'instinctual', 'institute', 'institution', 'institutions', 'instructive', 'instructor', 'instructs', 'instrument', 'insubstantial', 'insufferable', 'insufferably', 'insufficiently', 'insularity', 'insulated', 'insult', 'insulted', 'insulting', 'insultingly', 'insults', 'insurance', 'insures', 'insurrection', 'intact', 'integral', 'integrate', 'integrated', 'integration', 'integrity', 'intellect', 'intellectual', 'intellectualism', 'intellectually', 'intellectuals', 'intelligence', 'intelligent', 'intelligently', 'intelligentsia', 'intelligibility', 'intend', 'intended', 'intending', 'intends', 'intense', 'intensely', 'intensity', 'intent', 'intention', 'intentional', 'intentionally', 'intentioned', 'intentions', 'intently', 'inter', 'interact', 'interacting', 'interaction', 'interactivity', 'interconnected', 'intercourse', 'intercut', 'intercuts', 'intercutting', 'interest', 'interested', 'interesting', 'interestingly', 'interests', 'interfere', 'interference', 'intergalactic', 'intergender', 'interior', 'interiors', 'interleaving', 'interlinks', 'interlocked', 'interlocking', 'interlude', 'interludes', 'interminable', 'interminably', 'intermission', 'intermittent', 'intermittently', 'intermixing', 'internal', 'internalised', 'internalize', 'internalized', 'international', 'internecine', 'internet', 'interplanetary', 'interplay', 'interpretable', 'interpretation', 'interpreter', 'interracial', 'interrogating', 'interrogation', 'interrupted', 'interruptions', 'intersection', 'interspersed', 'interstellar', 'intertwined', 'intertwining', 'intervals', 'intervened', 'intervention', 'interview', 'interviews', 'interweaves', 'interwoven', 'intimacy', 'intimate', 'intimately', 'intimidate', 'intimidation', 'intl', 'into', 'intolerable', 'intolerably', 'intolerance', 'intone', 'intoning', 'intoxicated', 'intoxicating', 'intoxicatingly', 'intricacies', 'intricacy', 'intricate', 'intricately', 'intrigue', 'intrigued', 'intrigues', 'intriguing', 'intriguingly', 'intrinsic', 'intrinsically', 'introduce', 'introduced', 'introduces', 'introducing', 'introduction', 'introspection', 'introspective', 'intrude', 'intruders', 'intrudes', 'intrusions', 'intrusive', 'intuition', 'inured', 'inutterably', 'invaluable', 'invariably', 'invasion', 'invasions', 'invented', 'inventing', 'invention', 'inventive', 'inventively', 'inventiveness', 'inventor', 'inversion', 'invert', 'invest', 'invested', 'investigated', 'investigation', 'investigations', 'investigators', 'investiture', 'investment', 'investors', 'invests', 'inveterate', 'invigorate', 'invigorating', 'invigoratingly', 'inviolable', 'invisibility', 'invisible', 'invitation', 'invite', 'invited', 'invites', 'inviting', 'invokes', 'involve', 'involved', 'involvement', 'involves', 'involving', 'inwardly', 'ipcress', 'iq', 'irascible', 'ireland', 'irene', 'irish', 'irize', 'irksome', 'iron', 'ironclad', 'ironic', 'ironically', 'ironies', 'irons', 'irony', 'irrational', 'irrationality', 'irredeemable', 'irredeemably', 'irrelevancy', 'irrelevant', 'irrepressible', 'irrepressibly', 'irresistible', 'irresistibly', 'irresponsible', 'irreverence', 'irreverent', 'irreverently', 'irrevocably', 'irritate', 'irritating', 'irritatingly', 'irritation', 'irvin', 'irving', 'irwin', 'is', 'isa', 'isable', 'isacsson', 'isaiah', 'iscove', 'ish', 'ishiguro', 'ishioka', 'ishly', 'isiah', 'island', 'isles', 'ismail', 'isn', 'isolated', 'isolation', 'israeli', 'issue', 'issues', 'it', 'ita', 'italian', 'italians', 'italicize', 'italo', 'italy', 'itch', 'item', 'items', 'itinerary', 'its', 'itself', 'itsperformances', 'iv', 'ivan', 'ives', 'ivey', 'ivory', 'ivy', 'jab', 'jabs', 'jack', 'jackal', 'jacked', 'jacket', 'jackhammers', 'jackie', 'jackson', 'jacob', 'jacobean', 'jacobi', 'jacqueline', 'jacques', 'jacquleine', 'jacquot', 'jade', 'jaded', 'jagged', 'jagger', 'jaglom', 'jags', 'jailbait', 'jaime', 'jake', 'jakob', 'jam', 'jamaica', 'jamaicans', 'james', 'jamie', 'jammed', 'jampacked', 'jan', 'jane', 'janet', 'jangled', 'jangles', 'jangling', 'jangly', 'janssen', 'january', 'japan', 'japanese', 'jape', 'japes', 'jar', 'jargon', 'jarmusch', 'jarring', 'jarringly', 'jason', 'jaundice', 'jaundiced', 'jaunt', 'jauntily', 'jaunty', 'jaw', 'jawbreaker', 'jawed', 'jaws', 'jay', 'jazz', 'je', 'jealously', 'jealousy', 'jean', 'jeannot', 'jeans', 'jed', 'jedi', 'jediresembles', 'jeep', 'jeering', 'jeff', 'jefferies', 'jeffrey', 'jelly', 'jenkins', 'jenna', 'jennifer', 'jenny', 'jeopardy', 'jeremiah', 'jeremy', 'jerk', 'jerked', 'jerker', 'jerkhood', 'jerking', 'jerkingly', 'jerky', 'jerry', 'jersey', 'jerzy', 'jess', 'jesse', 'jessica', 'jester', 'jesters', 'jesus', 'jet', 'jetsonian', 'jettisons', 'jeunet', 'jewel', 'jewish', 'jewison', 'jews', 'jhabvala', 'jibes', 'jigsaw', 'jim', 'jimcracks', 'jiminy', 'jimmy', 'jin', 'jingoism', 'jingoistic', 'jinks', 'jinx', 'jitter', 'jitters', 'jittery', 'jiving', 'jizzy', 'jo', 'joan', 'joanie', 'joanna', 'job', 'jobs', 'jocks', 'jocular', 'jocularity', 'jodie', 'jodorowski', 'joe', 'joel', 'joey', 'joffe', 'john', 'johnny', 'johnson', 'join', 'joined', 'joining', 'joins', 'joint', 'jointed', 'joke', 'joker', 'jokes', 'jokey', 'jolie', 'jollies', 'jolliness', 'jolly', 'jolt', 'jolted', 'jolting', 'jolts', 'jon', 'jonathan', 'jones', 'jonze', 'joon', 'jordan', 'jorgen', 'jose', 'joseph', 'josey', 'josh', 'josie', 'joss', 'josue', 'jour', 'jourdan', 'journalism', 'journalist', 'journalistic', 'journey', 'journeyman', 'jovial', 'joy', 'joyce', 'joycean', 'joyces', 'joyful', 'joyfully', 'joyless', 'joylessly', 'joyous', 'joyously', 'joyride', 'joys', 'jr', 'jubilant', 'judd', 'jude', 'judge', 'judged', 'judging', 'judgment', 'judgmental', 'judi', 'judicial', 'judicious', 'judith', 'judy', 'jug', 'juggernaut', 'juggle', 'juggled', 'juggling', 'jugular', 'juice', 'juiced', 'juiceless', 'juices', 'juiciest', 'juiciness', 'juicing', 'juicy', 'juilliard', 'jujube', 'julep', 'jules', 'julia', 'julian', 'julianne', 'julie', 'julien', 'julienne', 'juliet', 'julius', 'jumble', 'jumbled', 'jumbo', 'jump', 'jumped', 'jumping', 'jumps', 'jumpy', 'junctures', 'junger', 'jungle', 'junior', 'junk', 'junkie', 'junkies', 'junkiest', 'junky', 'juno', 'jurado', 'jurassic', 'jurgen', 'juror', 'jury', 'just', 'justice', 'justification', 'justified', 'justifies', 'justify', 'justifying', 'justly', 'jutt', 'juvenile', 'juxtaposed', 'juxtaposing', 'juxtaposition', 'juxtapositions', 'kafka', 'kafkaesque', 'kagan', 'kagemusha', 'kaleidoscope', 'kaleidoscopic', 'kaleidoscopically', 'kalvert', 'kane', 'kaplan', 'kapur', 'karaoke', 'karate', 'karl', 'karloff', 'kasdan', 'kasi', 'kassovitz', 'kate', 'katharine', 'katherine', 'kathleen', 'kathryn', 'kathy', 'katsuhiro', 'kattan', 'katy', 'katzenberg', 'kaufman', 'kay', 'kaye', 'kaysen', 'kazaam', 'kazan', 'keane', 'keanu', 'keaton', 'keatonesque', 'kedama', 'keel', 'keen', 'keenen', 'keenly', 'keep', 'keeper', 'keeping', 'keeps', 'keg', 'keitel', 'keith', 'kelley', 'kelly', 'kelp', 'kempner', 'ken', 'kennedy', 'kenneth', 'kenobi', 'kenton', 'kept', 'kermit', 'kernel', 'kershner', 'kesey', 'kesselring', 'kessler', 'ketchup', 'kettle', 'kevin', 'key', 'keyed', 'keyser', 'keystone', 'kfc', 'khan', 'khayelitsha', 'khouri', 'ki', 'kiarastomi', 'kiarostami', 'kick', 'kicked', 'kicker', 'kickier', 'kicking', 'kicks', 'kicky', 'kid', 'kidder', 'kiddie', 'kiddies', 'kidding', 'kidnapers', 'kidnaping', 'kidnapped', 'kidnapping', 'kidron', 'kids', 'kiefer', 'kiel', 'kieslowski', 'kieslowskian', 'kika', 'kill', 'killed', 'killer', 'killers', 'killing', 'killingly', 'killings', 'kills', 'kilmer', 'kilter', 'kim', 'kin', 'kinberg', 'kincaid', 'kind', 'kinder', 'kindliness', 'kindness', 'kindred', 'kinds', 'kinetic', 'kinetically', 'kineticism', 'king', 'kingdom', 'kingpin', 'kingpins', 'kings', 'kingsley', 'kink', 'kinka', 'kinkier', 'kinkiness', 'kinks', 'kinky', 'kinnear', 'kino', 'kinsey', 'kinshasa', 'kinship', 'kinski', 'kirby', 'kirk', 'kirkman', 'kirsten', 'kiss', 'kissed', 'kisses', 'kissing', 'kitano', 'kitchen', 'kitchenware', 'kitsch', 'kitschy', 'kittens', 'kitty', 'kiwi', 'klaatu', 'klasky', 'klaus', 'kleenex', 'klein', 'kline', 'klingons', 'kloves', 'klump', 'klunky', 'klutz', 'klutzy', 'knack', 'knee', 'knees', 'knew', 'knickknack', 'knievel', 'knife', 'knight', 'knights', 'knish', 'knit', 'knitted', 'knives', 'knock', 'knockabout', 'knocked', 'knocking', 'knockoff', 'knockoffs', 'knockout', 'knocks', 'knot', 'knott', 'knotted', 'knotting', 'know', 'knowable', 'knowhow', 'knowing', 'knowingly', 'knowingness', 'knowledge', 'known', 'knows', 'knuckle', 'knuckleball', 'knuckleheaded', 'knuckles', 'koans', 'kobo', 'koepp', 'kohler', 'kolya', 'kombat', 'konchalovsky', 'kong', 'kooky', 'kopple', 'kops', 'korea', 'korean', 'kosar', 'kosinski', 'kotcheff', 'kotter', 'kraft', 'kramer', 'kramerwayne', 'krazy', 'kriegman', 'kris', 'kristin', 'krueger', 'kruger', 'krypton', 'krzysztof', 'kubrick', 'kudos', 'kudrow', 'kudzu', 'kumble', 'kundun', 'kung', 'kureishi', 'kurosawa', 'kurt', 'kurtz', 'kusturica', 'kutcher', 'kvetching', 'kwai', 'kwapis', 'la', 'lab', 'label', 'labeled', 'labels', 'labor', 'labored', 'laboring', 'laborious', 'laboriously', 'labors', 'laboured', 'labute', 'labyrinth', 'labyrinthine', 'laced', 'laces', 'lachrymose', 'lack', 'lackadaisical', 'lacked', 'lacking', 'lackluster', 'lacklustre', 'lacks', 'laconic', 'laconically', 'lactate', 'lacunae', 'lad', 'ladder', 'laden', 'ladies', 'lady', 'laff', 'lag', 'laggards', 'lagravenese', 'lags', 'lai', 'laid', 'lair', 'lake', 'lam', 'lama', 'lambert', 'lambs', 'lame', 'lamely', 'lament', 'lamentable', 'lamer', 'lamest', 'lamotta', 'lampoon', 'lampooned', 'lancaster', 'lance', 'lancelot', 'lancing', 'land', 'landau', 'landed', 'landing', 'landis', 'landlubber', 'landmark', 'landmarks', 'landmass', 'lands', 'landscape', 'landscapes', 'lane', 'laney', 'lang', 'lange', 'langian', 'langorous', 'language', 'languages', 'languid', 'languish', 'languishes', 'languishing', 'languorous', 'lanier', 'lanky', 'lantern', 'lap', 'lapels', 'lapped', 'laps', 'lapse', 'lapses', 'larceny', 'large', 'largely', 'larger', 'largest', 'lark', 'larky', 'larry', 'larsen', 'las', 'lascivious', 'laser', 'lasers', 'lasse', 'lasseter', 'lassie', 'last', 'lasting', 'lasts', 'latch', 'late', 'latecomers', 'lately', 'later', 'lateral', 'latest', 'latex', 'latifah', 'latter', 'laudable', 'lauded', 'laugh', 'laughable', 'laughably', 'laughed', 'laughing', 'laughs', 'laughter', 'laughton', 'launch', 'launched', 'launching', 'laundry', 'laura', 'laurels', 'lauren', 'laurence', 'laurent', 'lava', 'lavish', 'lavished', 'lavishly', 'lavishness', 'law', 'lawless', 'lawlessness', 'lawn', 'lawnmower', 'lawrence', 'laws', 'lawyer', 'lawyerly', 'lawyers', 'lax', 'lay', 'layabouts', 'layer', 'layered', 'layers', 'laying', 'laymen', 'layout', 'lays', 'lazarus', 'lazenby', 'laziest', 'lazily', 'laziness', 'lazy', 'lcd', 'le', 'lea', 'leach', 'lead', 'leaden', 'leader', 'leaders', 'leadership', 'leading', 'leads', 'leafing', 'league', 'leagues', 'leak', 'leaks', 'leaky', 'lean', 'leanings', 'leans', 'leap', 'leaped', 'leaping', 'leaps', 'lear', 'learn', 'learned', 'learning', 'learns', 'leary', 'least', 'leather', 'leathery', 'leaud', 'leave', 'leavening', 'leaves', 'leaving', 'lebowski', 'lecter', 'lecture', 'led', 'ledger', 'ledoyen', 'lee', 'leering', 'left', 'leftover', 'lefty', 'legacies', 'legacy', 'legal', 'legally', 'legend', 'legendary', 'legends', 'legged', 'leggy', 'legion', 'legions', 'legislation', 'legit', 'legitimacy', 'legitimate', 'legrand', 'legros', 'legs', 'leguizamo', 'lehane', 'lehman', 'leigh', 'leighish', 'leisurely', 'lem', 'lemmon', 'lemmons', 'lemon', 'len', 'lend', 'lending', 'lends', 'length', 'lengths', 'lengthy', 'lennie', 'lennon', 'lennox', 'lens', 'lensed', 'lenses', 'lensing', 'lent', 'leo', 'leon', 'leonard', 'leonardo', 'leone', 'leopards', 'leora', 'leranze', 'lerner', 'leroy', 'les', 'lesbian', 'lesbianism', 'lesbians', 'lesley', 'leslie', 'less', 'lessened', 'lesser', 'lesson', 'lessons', 'lest', 'lestat', 'lester', 'let', 'letdown', 'letdowns', 'lethal', 'lethargic', 'lethargy', 'leto', 'lets', 'letter', 'letterman', 'letters', 'letting', 'levant', 'level', 'levels', 'lever', 'leviathan', 'levine', 'levinson', 'levity', 'levy', 'lewd', 'lewis', 'lewton', 'lex', 'lexi', 'lexicon', 'li', 'liabilities', 'liability', 'liable', 'liaisons', 'liam', 'liar', 'liars', 'libby', 'liberal', 'liberally', 'liberals', 'liberate', 'liberated', 'liberating', 'liberation', 'liberties', 'liberty', 'libido', 'library', 'libretto', 'libsker', 'licence', 'license', 'licensed', 'lick', 'lickety', 'licking', 'lie', 'lies', 'lieutenant', 'life', 'lifeboat', 'lifeless', 'lifelong', 'lifers', 'lifestyle', 'lifestyles', 'lifetime', 'lift', 'lifted', 'lifting', 'lifts', 'light', 'lighted', 'lightened', 'lighter', 'lighthearted', 'lightheartedly', 'lightheartedness', 'lighting', 'lightly', 'lightness', 'lightning', 'lights', 'lightweight', 'likability', 'likable', 'likably', 'like', 'likeable', 'likeably', 'liked', 'likelihood', 'likeluy', 'likely', 'likes', 'likewise', 'liking', 'lili', 'lilies', 'lillard', 'lilting', 'lima', 'liman', 'limb', 'limbed', 'limber', 'limbo', 'limbs', 'limey', 'limit', 'limitation', 'limitations', 'limited', 'limiting', 'limitless', 'limits', 'limp', 'limping', 'limply', 'linchpin', 'lincoln', 'linda', 'lindo', 'lindy', 'line', 'linear', 'lined', 'linen', 'liner', 'liners', 'lines', 'lineup', 'ling', 'linger', 'lingerie', 'lingering', 'lingers', 'lining', 'link', 'linked', 'linklater', 'links', 'linus', 'lion', 'lionel', 'lions', 'lip', 'liposuction', 'lipped', 'lippy', 'lips', 'lisa', 'lisberger', 'lisp', 'list', 'listed', 'listen', 'listened', 'listening', 'listless', 'listlessness', 'lists', 'lit', 'lite', 'literacy', 'literal', 'literalization', 'literally', 'literary', 'literate', 'literates', 'literature', 'litmus', 'litter', 'littered', 'little', 'littles', 'liv', 'live', 'lived', 'livelier', 'liveliest', 'lively', 'liven', 'livened', 'liver', 'lives', 'livestock', 'living', 'lizard', 'll', 'llosa', 'lloyd', 'lm', 'lo', 'loach', 'loachian', 'load', 'loaded', 'loads', 'loan', 'loathe', 'loathed', 'loathing', 'loathsome', 'lobby', 'lobotomies', 'lobotomized', 'lobs', 'loc', 'local', 'locales', 'locally', 'locals', 'locate', 'located', 'locates', 'location', 'locations', 'lock', 'locked', 'locker', 'locomotive', 'locust', 'lode', 'lodestone', 'lodger', 'loewe', 'loft', 'lofty', 'log', 'logan', 'logic', 'logical', 'logically', 'logistical', 'logjam', 'logo', 'logy', 'lohan', 'loitering', 'lola', 'lolita', 'lollygags', 'lombard', 'lon', 'london', 'lone', 'loneliness', 'lonely', 'loner', 'long', 'longer', 'longest', 'longing', 'longings', 'longitudinal', 'longs', 'longtime', 'longueurs', 'look', 'lookalike', 'looked', 'looking', 'lookout', 'looks', 'loom', 'looming', 'looney', 'loony', 'looooooong', 'looow', 'loop', 'loopiest', 'loopiness', 'looping', 'loops', 'loopy', 'loose', 'loosely', 'loosest', 'loot', 'lope', 'lopez', 'lopped', 'lopsided', 'lord', 'lore', 'loren', 'lori', 'lorre', 'los', 'lose', 'loser', 'losers', 'loses', 'losing', 'loss', 'losses', 'lost', 'lot', 'lots', 'lotsa', 'lou', 'louanne', 'loud', 'louder', 'loudest', 'loudly', 'louis', 'louise', 'louisiana', 'lounge', 'lousy', 'lout', 'lovability', 'lovable', 'lovably', 'love', 'loveable', 'lovecraft', 'loved', 'loveless', 'lovelessness', 'loveliest', 'lovell', 'lovely', 'lover', 'lovers', 'loves', 'lovesick', 'loving', 'lovingly', 'lovitz', 'low', 'lowbrow', 'lowdown', 'lowell', 'lower', 'lowers', 'lowest', 'lowlier', 'lowlife', 'lowlifes', 'lows', 'loy', 'loyal', 'loyalties', 'loyalty', 'lozenge', 'lt', 'ltimately', 'lubitsch', 'lubricated', 'lubricious', 'luc', 'luca', 'lucas', 'lucid', 'lucien', 'lucille', 'luck', 'luckily', 'luckless', 'lucky', 'lucre', 'lucy', 'ludicrous', 'ludicrously', 'ludicrousness', 'ludwig', 'lugosi', 'lugubrious', 'luis', 'lukewarm', 'lull', 'lulling', 'lumbering', 'lumbers', 'lumet', 'luminaries', 'luminescence', 'luminosity', 'luminous', 'lump', 'lumpen', 'lumpily', 'lumps', 'lumpy', 'lunacies', 'lunacy', 'lunar', 'lunatic', 'lunch', 'lund', 'lundgren', 'lunging', 'lunk', 'lunkhead', 'lurches', 'lure', 'lured', 'lures', 'lurid', 'luridly', 'luring', 'lurking', 'lurks', 'luscious', 'lusciously', 'lush', 'lushly', 'lushness', 'lust', 'luster', 'lusterless', 'lusting', 'lustre', 'lustrously', 'lusts', 'lusty', 'lutheran', 'luthor', 'lutz', 'lutzes', 'luxe', 'luxuriant', 'luxuriate', 'luxuriates', 'luxurious', 'luxury', 'lycanthropy', 'lydecker', 'lying', 'lymon', 'lynch', 'lynde', 'lyndon', 'lyne', 'lynn', 'lynskey', 'lyonne', 'lyric', 'lyrical', 'lyricism', 'lyrics', 'lysol', 'ma', 'mac', 'macabre', 'macaroni', 'macaulay', 'macbeth', 'macchio', 'macdonald', 'machanics', 'machete', 'machiavellian', 'machinations', 'machine', 'machined', 'machinery', 'machines', 'machismo', 'macho', 'mack', 'mackie', 'mackinac', 'mackinnon', 'mackintosh', 'maclaine', 'macleod', 'macmurray', 'macnicol', 'macy', 'mad', 'madam', 'madams', 'madcap', 'maddening', 'maddeningly', 'maddin', 'madding', 'made', 'madeleine', 'madeline', 'madigan', 'madison', 'madly', 'madman', 'madness', 'madonna', 'madre', 'madsen', 'madtv', 'maelstrom', 'mafia', 'magali', 'magazine', 'magazines', 'maggie', 'magic', 'magical', 'magically', 'magisterial', 'magisterially', 'magnetic', 'magnetism', 'magnification', 'magnificence', 'magnificent', 'magnificently', 'magnified', 'magnifies', 'magnify', 'magnitude', 'magnolia', 'magnum', 'magoo', 'maguire', 'mahal', 'maiden', 'mail', 'mailbox', 'mailer', 'maimings', 'main', 'mainly', 'mainspring', 'mainstay', 'mainstays', 'mainstream', 'maintain', 'maintained', 'maintaining', 'maintains', 'maintenance', 'majestic', 'majesty', 'major', 'majority', 'make', 'makebelieve', 'makeover', 'maker', 'makers', 'makes', 'makeup', 'makhmalbaf', 'making', 'makings', 'maladjusted', 'maladroit', 'malady', 'malaise', 'malapropisms', 'malaysian', 'malcolm', 'male', 'malefane', 'males', 'malevolence', 'malevolent', 'malfunctions', 'malice', 'malicious', 'maliciously', 'malick', 'malignant', 'malkovich', 'mall', 'malle', 'mallet', 'malley', 'mallrats', 'malmsey', 'malnourished', 'maltese', 'mama', 'mame', 'mamet', 'mametspeak', 'mammals', 'mammoth', 'mamoru', 'man', 'manage', 'managed', 'management', 'manager', 'manages', 'managing', 'manchurian', 'mandate', 'mandel', 'mandrills', 'mangled', 'mangling', 'mangold', 'mangy', 'manhattan', 'manhood', 'mania', 'maniac', 'maniacal', 'maniacally', 'maniacs', 'manic', 'manically', 'manicure', 'manicured', 'manifest', 'manifestation', 'manifested', 'manifestos', 'manilow', 'manipulate', 'manipulated', 'manipulates', 'manipulating', 'manipulation', 'manipulations', 'manipulative', 'mankiewicz', 'mankind', 'manliness', 'manly', 'mann', 'manned', 'mannequin', 'mannequins', 'manner', 'mannered', 'mannerism', 'mannerisms', 'mannerist', 'manners', 'manny', 'manoeuvres', 'manon', 'manor', 'manors', 'mansell', 'mansfield', 'mansion', 'mantell', 'mantello', 'manual', 'manufacture', 'manufactured', 'manufactures', 'manwhore', 'many', 'maoists', 'maori', 'map', 'mara', 'marathon', 'marauders', 'marble', 'marbled', 'marc', 'marceau', 'marcel', 'marcello', 'march', 'marched', 'marches', 'marching', 'marcus', 'margaret', 'margarethe', 'margin', 'marginal', 'marginalia', 'marginally', 'margins', 'margo', 'margolo', 'maria', 'mariachi', 'mariah', 'marie', 'marilyn', 'marinated', 'marine', 'marines', 'mario', 'marital', 'mark', 'marked', 'markedly', 'markers', 'market', 'marketing', 'marking', 'marks', 'marksmanship', 'marleen', 'marley', 'marlon', 'marlowe', 'marnie', 'marquand', 'marquee', 'marred', 'marriage', 'married', 'marries', 'marry', 'mars', 'marshal', 'marshall', 'marshmallow', 'mart', 'martha', 'martial', 'martialed', 'martin', 'martini', 'marty', 'martyred', 'marvel', 'marveling', 'marvellous', 'marvellously', 'marvelous', 'marvelously', 'marvels', 'marvin', 'marx', 'marxist', 'mary', 'masala', 'mascot', 'masculine', 'masculinity', 'mash', 'masina', 'mask', 'masked', 'masks', 'maslansky', 'masochism', 'masochistic', 'masochists', 'masquerade', 'masquerades', 'masquerading', 'mass', 'massachusetts', 'massacre', 'massacres', 'massaging', 'masses', 'massive', 'massively', 'master', 'masterclass', 'mastered', 'masterful', 'masterfully', 'masterly', 'mastermind', 'masterpiece', 'masterpieces', 'masters', 'masterson', 'masterwork', 'mastery', 'mastroianni', 'masturbation', 'mat', 'matador', 'match', 'matched', 'matches', 'matching', 'mate', 'mateo', 'material', 'materialism', 'materialistic', 'materialized', 'materializes', 'materials', 'maternal', 'mates', 'matewan', 'math', 'mathematical', 'mathematically', 'mathias', 'mathieu', 'mathilda', 'maths', 'matilda', 'matinee', 'mating', 'matlin', 'matriarchal', 'matrix', 'matt', 'matter', 'mattered', 'matters', 'matthau', 'matthew', 'mattson', 'maturation', 'mature', 'matured', 'matures', 'maturity', 'maudlin', 'mauled', 'mauller', 'maupin', 'maureen', 'maurice', 'maurier', 'maven', 'maverick', 'maw', 'mawkish', 'mawkishness', 'max', 'maxim', 'maximalist', 'maximize', 'maximum', 'may', 'maybe', 'mayer', 'mayfair', 'mayhem', 'mayoral', 'maze', 'mazelike', 'mazes', 'mazzarino', 'mba', 'mcadams', 'mcalpine', 'mcbain', 'mccabe', 'mccanlies', 'mccarey', 'mccarthy', 'mccarthyism', 'mccartney', 'mcchicken', 'mcclane', 'mcconaughey', 'mccormick', 'mccourt', 'mcdermott', 'mcdonald', 'mcdormand', 'mcelhone', 'mcg', 'mcgann', 'mcgillis', 'mcgowan', 'mcgregor', 'mckay', 'mckellar', 'mckellen', 'mcmillan', 'mcmovie', 'mcmullen', 'mcmurphy', 'mcmurtry', 'mcnally', 'mcnaughton', 'mcpelican', 'mcpherson', 'mcquarrie', 'mcteer', 'mcteigue', 'mctiernan', 'md', 'me', 'mead', 'meadows', 'meager', 'meal', 'mean', 'meander', 'meandering', 'meanders', 'meaner', 'meanies', 'meaning', 'meaningful', 'meaningless', 'meaninglessness', 'meanings', 'means', 'meanspirited', 'meanspiritedness', 'meant', 'meantime', 'meanwhile', 'meara', 'measure', 'measured', 'measures', 'meat', 'meathead', 'meaty', 'mecca', 'mechanic', 'mechanical', 'mechanically', 'mechanics', 'mechanism', 'mechanisms', 'mechanistic', 'mechanized', 'medgar', 'media', 'medical', 'medieval', 'mediocre', 'mediocrity', 'meditation', 'meditations', 'meditative', 'medium', 'medley', 'meet', 'meeting', 'meets', 'meg', 'mega', 'megahit', 'megalomania', 'megaphone', 'mel', 'melancholia', 'melancholic', 'melancholy', 'melange', 'melanie', 'melding', 'melds', 'melissa', 'meller', 'mellow', 'mellows', 'melodic', 'melodies', 'melodrama', 'melodramas', 'melodramatic', 'melodramatics', 'melody', 'melrose', 'melt', 'melted', 'melting', 'melts', 'melville', 'melvin', 'member', 'members', 'membrane', 'memento', 'memo', 'memoir', 'memoirs', 'memorable', 'memorably', 'memorial', 'memories', 'memorized', 'memorizing', 'memory', 'men', 'menace', 'menacing', 'menagerie', 'mendes', 'menges', 'menken', 'mental', 'mentality', 'mentally', 'mention', 'mentioned', 'mentioning', 'mentions', 'mentor', 'menu', 'meowing', 'mephisto', 'mercedes', 'mercenary', 'merchandise', 'merchandisers', 'merchandising', 'merchant', 'merchants', 'merciful', 'mercifully', 'merciless', 'mercilessly', 'mercurial', 'mercury', 'mercy', 'mere', 'meredith', 'merely', 'meretricious', 'merges', 'merit', 'meriting', 'meritorious', 'merits', 'merlin', 'merrick', 'merriest', 'merrily', 'merriment', 'merry', 'mervyn', 'meryl', 'mesh', 'meshed', 'meshing', 'mesmeric', 'mesmerising', 'mesmerization', 'mesmerized', 'mesmerizing', 'mesmerizingly', 'mesozoic', 'mess', 'message', 'messages', 'messed', 'messenger', 'messengers', 'messers', 'messes', 'messianic', 'messily', 'messina', 'messing', 'messrs', 'messy', 'met', 'meta', 'metabolism', 'metafictional', 'metal', 'metallic', 'metamorphosis', 'metaphor', 'metaphoric', 'metaphorical', 'metaphorically', 'metaphors', 'metaphysic', 'metaphysical', 'metaphysics', 'meteor', 'meteors', 'method', 'methodical', 'methodically', 'methods', 'meticulous', 'meticulously', 'meticulousness', 'metier', 'metro', 'metronomic', 'metropolis', 'metropolitan', 'mettle', 'mewing', 'mexican', 'mexicans', 'mexico', 'meyer', 'meyers', 'mgm', 'miami', 'miasmic', 'mic', 'mice', 'michael', 'michel', 'michele', 'michelin', 'michell', 'michelle', 'mick', 'mickey', 'micklewhite', 'microcosm', 'microscopic', 'mid', 'middle', 'middlebrow', 'middling', 'midler', 'midlife', 'midnight', 'midpoint', 'midsection', 'midsized', 'midst', 'midstream', 'midsummer', 'midway', 'midwest', 'midwestern', 'miep', 'mifune', 'might', 'mightily', 'mighty', 'migraine', 'migrants', 'mike', 'miklos', 'mil', 'mild', 'mildly', 'mildness', 'mile', 'mileage', 'miles', 'milestone', 'milieu', 'militant', 'militaristic', 'military', 'milk', 'milking', 'milks', 'milkshake', 'mill', 'mille', 'millennial', 'millennium', 'miller', 'millie', 'milligrams', 'millimeter', 'million', 'millionaire', 'millions', 'mills', 'milos', 'milwaukee', 'mimi', 'mimic', 'mimicking', 'mimicry', 'mimics', 'mincing', 'mind', 'minded', 'mindedness', 'mindless', 'mindlessness', 'minds', 'mine', 'miner', 'mines', 'minghella', 'mingle', 'mingled', 'mingling', 'mini', 'miniature', 'minimal', 'minimalism', 'minimalist', 'minimally', 'minimum', 'mining', 'miniplots', 'ministrations', 'minkoff', 'minnelli', 'minnesota', 'minnesotan', 'minnie', 'minor', 'minority', 'minty', 'minus', 'minuscule', 'minute', 'minutely', 'minutes', 'minutia', 'minutiae', 'mira', 'miracle', 'miracles', 'miraculous', 'miraculously', 'mirage', 'miramax', 'miranda', 'mire', 'mired', 'mirren', 'mirror', 'mirrored', 'mirroring', 'mirrors', 'mirth', 'mirthful', 'mirthless', 'misadventure', 'misadventures', 'misanthrope', 'misanthropic', 'misanthropy', 'misappreciated', 'misbegotten', 'misbehaves', 'misbehaving', 'miscalculation', 'miscalculations', 'miscarried', 'miscast', 'miscasting', 'miscellany', 'mischief', 'mischievous', 'mischievously', 'miscommunication', 'misconceived', 'misconception', 'misconceptions', 'misdemeanors', 'misdirected', 'misdirection', 'mise', 'miserable', 'miserably', 'misery', 'misfire', 'misfired', 'misfires', 'misfit', 'misfits', 'misfortune', 'misguided', 'mish', 'mishandles', 'mishaps', 'mishmash', 'misjudges', 'misjudgments', 'mislaid', 'mislead', 'misleading', 'mismatch', 'mismatched', 'misnomer', 'misogynist', 'misogynistic', 'misogyny', 'misperceptions', 'misplaced', 'misprint', 'misrepresents', 'miss', 'missed', 'misselthwaite', 'misses', 'missiles', 'missing', 'mission', 'mississippi', 'misspellings', 'misstep', 'missteps', 'mist', 'mistake', 'mistaken', 'mistakenly', 'mistakes', 'mistaking', 'mister', 'mistletoe', 'mistress', 'mistrust', 'misty', 'misunderstanding', 'misunderstood', 'misused', 'mitchell', 'mitchum', 'mite', 'mitigated', 'mitty', 'mix', 'mixed', 'mixes', 'mixing', 'mixture', 'miyagi', 'miyazaki', 'mizrahi', 'mm', 'mmmbop', 'mnemonic', 'mnny', 'moan', 'mob', 'mobile', 'mobster', 'mobsters', 'moby', 'mock', 'mockery', 'mocking', 'mockingbird', 'mockish', 'mockumentary', 'mod', 'mode', 'model', 'modeled', 'models', 'moderate', 'moderately', 'moderation', 'modern', 'modernism', 'modernist', 'modes', 'modest', 'modestly', 'modesty', 'modicum', 'modified', 'modish', 'modishly', 'modulated', 'modulating', 'modules', 'mogul', 'mohr', 'mojo', 'mol', 'molasses', 'mold', 'molding', 'moldy', 'molly', 'molten', 'mom', 'moment', 'momentarily', 'momentary', 'momentous', 'moments', 'momentum', 'momoments', 'mon', 'mona', 'monckton', 'monday', 'money', 'moneymaker', 'mongoose', 'monitor', 'monk', 'monkey', 'monologue', 'monologues', 'mononoke', 'monopoly', 'monosyllable', 'monotone', 'monotonous', 'monotonously', 'monotony', 'monroe', 'monsoon', 'monster', 'monsters', 'monstrous', 'monstrously', 'montage', 'montages', 'montagu', 'montana', 'monte', 'montenegro', 'monterey', 'month', 'months', 'montoya', 'montreal', 'monty', 'monument', 'monumental', 'monumentality', 'monumentally', 'monuments', 'mood', 'moodier', 'moodily', 'moods', 'moodscape', 'moody', 'moog', 'moolah', 'moon', 'moonlight', 'moonlighting', 'moonshine', 'moonstruck', 'moore', 'moors', 'moot', 'mop', 'mopey', 'moping', 'moral', 'moralising', 'moralism', 'moralistic', 'moralistically', 'morality', 'moralizing', 'morally', 'morals', 'morant', 'moratorium', 'morbid', 'morbidity', 'morbidly', 'mordant', 'more', 'moreau', 'mores', 'morgan', 'moribund', 'morissette', 'morita', 'morn', 'mornay', 'morning', 'moroccan', 'moron', 'moronic', 'morons', 'morose', 'morph', 'morphed', 'morphin', 'morphing', 'morpho', 'morphs', 'morrell', 'morricone', 'morrisey', 'morrison', 'morrissey', 'morsel', 'morsels', 'mortal', 'mortality', 'mortensen', 'mortgage', 'mortified', 'mortis', 'morton', 'mosaic', 'moscow', 'moses', 'moseying', 'mosh', 'mosher', 'moss', 'most', 'mostly', 'motel', 'mother', 'mothers', 'motif', 'motifs', 'motion', 'motions', 'motivate', 'motivated', 'motivation', 'motivational', 'motivations', 'motives', 'motley', 'motor', 'motorbike', 'motormouth', 'motors', 'motta', 'mountain', 'mountains', 'mountaintop', 'mounted', 'mounting', 'mounts', 'mourn', 'mournful', 'mourning', 'mouse', 'mousekewitzes', 'mousetrap', 'moustache', 'mouth', 'mouthed', 'mouthing', 'mouthpiece', 'mouths', 'movable', 'move', 'moved', 'movement', 'movements', 'movers', 'moves', 'movie', 'moviegoer', 'moviegoers', 'moviegoing', 'movieish', 'movielike', 'moviemaker', 'moviemakers', 'moviemaking', 'movies', 'moving', 'movingly', 'mower', 'mowing', 'mozart', 'mpaa', 'mph', 'mr', 'mrs', 'ms', 'mst3k', 'mtv', 'much', 'muck', 'mud', 'muddle', 'muddled', 'muddy', 'muffled', 'mug', 'mugging', 'muggings', 'mugs', 'muhammad', 'mulan', 'mulch', 'mule', 'mulishness', 'mullan', 'mulled', 'mullen', 'muller', 'mulligan', 'mulling', 'multi', 'multiculturalism', 'multidisciplinary', 'multimedia', 'multinational', 'multiplaned', 'multiple', 'multiplex', 'multiplexes', 'multiplicity', 'multiplied', 'multiplying', 'multitude', 'multizillion', 'mumbling', 'mumbo', 'mumford', 'mummies', 'mummy', 'mummys', 'munch', 'mundane', 'munny', 'munro', 'muppet', 'muppetlike', 'muppets', 'murder', 'murdered', 'murderer', 'murderous', 'murders', 'murdochian', 'muriel', 'murk', 'murkier', 'murkiness', 'murky', 'murmurs', 'murnau', 'murphy', 'murray', 'murtaugh', 'muscle', 'musclebound', 'muscles', 'muscular', 'muse', 'museum', 'mush', 'mushy', 'music', 'musical', 'musicals', 'musician', 'musicians', 'musicomedy', 'musing', 'musings', 'musker', 'muslim', 'mussolini', 'must', 'mustaches', 'muster', 'mustered', 'musty', 'musuraca', 'muted', 'mutilated', 'mutiny', 'mutiplexes', 'mutt', 'mutter', 'muttering', 'mutual', 'mutually', 'mvp', 'my', 'mychael', 'myer', 'myers', 'myles', 'myopia', 'myriad', 'myrick', 'myrna', 'myself', 'mysteries', 'mysterious', 'mysteriously', 'mystery', 'mystic', 'mystical', 'mysticism', 'mystification', 'mystified', 'mystify', 'mystifying', 'mystifyingly', 'mystique', 'myth', 'mythic', 'mythical', 'mythically', 'mythmaking', 'mythological', 'mythology', 'mythos', 'myths', 'na', 'nabokov', 'nadir', 'nagging', 'naggingly', 'naif', 'nail', 'nailed', 'nails', 'nair', 'naive', 'naively', 'naivete', 'nakata', 'naked', 'nakedly', 'nakedness', 'nam', 'name', 'named', 'nameless', 'namely', 'names', 'namesake', 'nancy', 'nanny', 'naomi', 'nap', 'napalm', 'napoleon', 'narcissism', 'narcissistic', 'narcotically', 'narrated', 'narrates', 'narrating', 'narration', 'narrative', 'narratively', 'narratives', 'narrator', 'narrow', 'narrowly', 'nary', 'nasal', 'nashville', 'nastier', 'nastiest', 'nastiness', 'nasty', 'natali', 'natalie', 'natascha', 'nathan', 'nathaniel', 'nation', 'national', 'native', 'natives', 'natural', 'naturalism', 'naturalistic', 'naturally', 'naturalness', 'nature', 'natured', 'natures', 'naught', 'naughtiness', 'naughty', 'nausea', 'nauseating', 'nava', 'naval', 'navels', 'navigate', 'navigating', 'navy', 'naylor', 'nazi', 'nazis', 'nazism', 'nba', 'nc', 'ne', 'neal', 'near', 'nearby', 'nearest', 'nearly', 'neat', 'neater', 'neatly', 'nebraska', 'nebulous', 'necessarily', 'necessary', 'necessities', 'necessity', 'neck', 'necklace', 'necklines', 'necrophilia', 'necrophiliac', 'ned', 'need', 'needed', 'needles', 'needless', 'needlessly', 'needn', 'needs', 'needy', 'neeson', 'nefarious', 'negate', 'negated', 'negative', 'negatives', 'negativity', 'neglect', 'neglected', 'neglects', 'negligent', 'negligible', 'negotiated', 'negotiator', 'neighbor', 'neighborhood', 'neighbors', 'neighbour', 'neil', 'neill', 'neither', 'nekkid', 'nelson', 'nemesis', 'neo', 'neocons', 'neon', 'neophyte', 'neorealist', 'neos', 'nerd', 'nerds', 'nerve', 'nervelessly', 'nerves', 'nervewracking', 'nervily', 'nervous', 'nervousness', 'nervy', 'ness', 'nest', 'nestling', 'net', 'network', 'neumeier', 'neuralizer', 'neuroses', 'neurotic', 'neutral', 'neutralizes', 'nevada', 'neve', 'never', 'neverland', 'nevertheless', 'new', 'newcomer', 'newcomers', 'newell', 'newfangled', 'newfound', 'newly', 'newlywed', 'newman', 'news', 'newsies', 'newspaper', 'newsrooms', 'newton', 'next', 'nexus', 'niagara', 'niccol', 'nice', 'nicely', 'niceness', 'nicer', 'nicest', 'niceties', 'niche', 'nicholas', 'nichols', 'nicholson', 'nick', 'nickname', 'nico', 'nicolas', 'nielsen', 'niffenegger', 'nifty', 'nigel', 'niggas', 'nigh', 'night', 'nighthawks', 'nightlives', 'nightmare', 'nightmares', 'nightmarish', 'nights', 'nighttime', 'nighy', 'nihilism', 'nihilist', 'nihilistic', 'niki', 'nikita', 'nile', 'nimble', 'nimoy', 'nine', 'ninety', 'ninja', 'nino', 'ninotchka', 'ninth', 'niro', 'nirvana', 'nispel', 'nit', 'nitroglycerine', 'nitrous', 'nitwits', 'nixon', 'no', 'noah', 'nobility', 'noble', 'nobody', 'nod', 'nodding', 'nods', 'noel', 'nog', 'noggin', 'noir', 'noirish', 'noirishly', 'noirs', 'noise', 'noisemakers', 'noises', 'noisy', 'nolan', 'nolte', 'nominal', 'nominated', 'nominating', 'nomination', 'nominations', 'nominee', 'nominees', 'nommed', 'non', 'nonchalance', 'nonchalantly', 'noncultist', 'nondocumentary', 'none', 'nonetheless', 'nonevent', 'nonexistent', 'nonfans', 'nonjudgmental', 'nonlethal', 'nonlife', 'nonprofessional', 'nonprofessionals', 'nonpunishment', 'nonsensationalistic', 'nonsense', 'nonsensical', 'nonstop', 'nonstyle', 'nonthreatening', 'nonverbal', 'noon', 'noonan', 'nope', 'nor', 'nora', 'norberto', 'nordic', 'norm', 'norma', 'normal', 'normally', 'norman', 'norms', 'norris', 'norsemen', 'norte', 'north', 'northam', 'northwest', 'norton', 'norville', 'norway', 'norwegian', 'nose', 'nosed', 'nosedive', 'nosedives', 'nosferatu', 'nostalgia', 'nostalgic', 'nostalgically', 'nostra', 'not', 'notable', 'notably', 'notch', 'notches', 'note', 'notebook', 'noted', 'notes', 'noteworthy', 'nothing', 'nothingness', 'notice', 'noticeable', 'noticeably', 'noticed', 'notion', 'notions', 'notorious', 'notoriously', 'notre', 'nots', 'notting', 'notwithstanding', 'nougat', 'nourish', 'nourished', 'nourishes', 'nourishment', 'nouveau', 'novel', 'novelistic', 'novella', 'novels', 'novelties', 'novelty', 'november', 'novice', 'novices', 'now', 'nowadays', 'nowhere', 'nowheresville', 'noxeema', 'noxious', 'noyce', 'nuance', 'nuanced', 'nuances', 'nuclear', 'nude', 'nudge', 'nudges', 'nudging', 'nudity', 'nuggets', 'nuke', 'nullified', 'number', 'numbered', 'numbers', 'numbing', 'numbingly', 'numbness', 'numerous', 'nunez', 'nunn', 'nuremberg', 'nursed', 'nurtures', 'nurturing', 'nussbaum', 'nut', 'nutball', 'nutcracker', 'nuthin', 'nuts', 'nutshell', 'nuttiness', 'nutty', 'ny', 'nykvist', 'nyman', 'oaded', 'oaf', 'oafishness', 'oat', 'oater', 'oaters', 'oates', 'obedience', 'obedient', 'obey', 'obfuscation', 'obi', 'obie', 'object', 'objectified', 'objectionable', 'objections', 'objective', 'objectivity', 'objects', 'obligated', 'obligation', 'obligatory', 'obliged', 'oblique', 'obliterates', 'oblivion', 'oblivious', 'obliviousness', 'obnoxious', 'obnoxiously', 'oboes', 'obscene', 'obscenely', 'obscenity', 'obscure', 'obscured', 'obscures', 'obscurity', 'observances', 'observant', 'observation', 'observational', 'observations', 'observe', 'observed', 'observer', 'observes', 'observing', 'obsessed', 'obsession', 'obsessions', 'obsessive', 'obsessively', 'obsessiveness', 'obstacles', 'obstreperous', 'obtain', 'obtrusive', 'obtuse', 'obvious', 'obviously', 'obviousness', 'occasion', 'occasional', 'occasionally', 'occasions', 'occult', 'occupants', 'occupied', 'occupiers', 'occupies', 'occupy', 'occupying', 'occur', 'occurred', 'ocean', 'oceans', 'oct', 'octane', 'octet', 'october', 'octopus', 'octopussy', 'odd', 'oddball', 'oddballs', 'oddest', 'oddity', 'oddly', 'odds', 'ode', 'odell', 'odilon', 'odious', 'odor', 'odoriferous', 'odyssey', 'odysseys', 'oedipal', 'oeuvre', 'of', 'off', 'offal', 'offbeat', 'offended', 'offense', 'offensive', 'offensively', 'offer', 'offered', 'offering', 'offerings', 'offers', 'offhand', 'offhanded', 'office', 'officer', 'officers', 'offices', 'official', 'officially', 'officious', 'offputting', 'offs', 'offscreen', 'offset', 'offshoot', 'offspring', 'offstage', 'offy', 'often', 'ofteringer', 'ogden', 'ogled', 'oglers', 'oh', 'ohio', 'oil', 'oiled', 'oils', 'oirish', 'ois', 'ok', 'okay', 'ol', 'old', 'older', 'oldest', 'oldfashioned', 'oldie', 'oldies', 'oldman', 'olds', 'oldsters', 'oldtime', 'olfactory', 'olin', 'oliver', 'olivia', 'olivier', 'olsen', 'olympian', 'olympics', 'olyphant', 'omar', 'omega', 'omen', 'ominous', 'omissions', 'omnipotence', 'omnipotent', 'omnipresent', 'omnivorous', 'on', 'onatopp', 'once', 'ondaatje', 'one', 'onegin', 'ones', 'oneself', 'oneupwomanship', 'onlooker', 'onlookers', 'only', 'onna', 'onofrio', 'ons', 'onscreen', 'onstage', 'onto', 'ontological', 'onus', 'oodles', 'ooga', 'oohing', 'ooky', 'oomph', 'oooh', 'ooohs', 'ooze', 'oozes', 'oozing', 'op', 'open', 'opened', 'openhearted', 'opening', 'openly', 'openness', 'opens', 'opera', 'operas', 'operate', 'operates', 'operatic', 'operating', 'operation', 'operations', 'operative', 'operators', 'operetta', 'opining', 'opinion', 'opinions', 'opponent', 'opportunism', 'opportunistic', 'opportunists', 'opportunities', 'opportunity', 'opposed', 'opposing', 'opposite', 'opposites', 'opposition', 'oppression', 'oppressive', 'oppressively', 'oppressiveness', 'oprah', 'opt', 'optic', 'optical', 'optimism', 'optimistic', 'option', 'optional', 'options', 'opts', 'opulence', 'opulent', 'opus', 'or', 'oracular', 'oral', 'orange', 'orangey', 'orangutan', 'orbison', 'orbit', 'orbits', 'orchestra', 'orchestral', 'orchestrated', 'ordained', 'ordeal', 'ordeals', 'order', 'ordered', 'orderly', 'orders', 'ordinances', 'ordinarily', 'ordinariness', 'ordinary', 'ordnance', 'organ', 'organic', 'organised', 'organism', 'organization', 'organized', 'organizing', 'organs', 'orgy', 'orientation', 'orientations', 'oriented', 'original', 'originality', 'originally', 'originals', 'origins', 'orion', 'orkin', 'orlando', 'orleans', 'orlok', 'ornament', 'ornate', 'ornately', 'orphan', 'orphans', 'orson', 'orthodox', 'orwellian', 'osborne', 'oscar', 'oscars', 'oscillates', 'oshii', 'oskar', 'osment', 'ossie', 'ostensibly', 'ostentatious', 'otel', 'othello', 'other', 'others', 'otherwise', 'otherworldly', 'otomo', 'ought', 'ounce', 'our', 'ours', 'ourselves', 'out', 'outback', 'outcast', 'outclass', 'outcome', 'outdated', 'outdistancing', 'outdoes', 'outdone', 'outdoor', 'outdoors', 'outer', 'outfit', 'outfits', 'outgrowing', 'outgrown', 'outing', 'outings', 'outlandish', 'outlandishly', 'outlast', 'outlaw', 'outlawry', 'outlaws', 'outline', 'outlines', 'outlived', 'outlives', 'outlook', 'outpouring', 'outpourings', 'output', 'outrage', 'outraged', 'outrageous', 'outrageously', 'outrageousness', 'outrages', 'outre', 'outreaches', 'outright', 'outs', 'outset', 'outshine', 'outside', 'outsider', 'outsiders', 'outsides', 'outsized', 'outskirts', 'outsourcing', 'outstanding', 'outstay', 'outstrip', 'outta', 'outtakes', 'outward', 'outweighed', 'outweighs', 'outwitting', 'oval', 'ovens', 'over', 'overachievers', 'overachieving', 'overacted', 'overacting', 'overall', 'overambitious', 'overarching', 'overbaked', 'overbearing', 'overbearingly', 'overbite', 'overblown', 'overbroad', 'overcalculated', 'overcame', 'overcoat', 'overcome', 'overcomes', 'overcoming', 'overcommercialization', 'overcooked', 'overcrowded', 'overcrowds', 'overdecorated', 'overdetermined', 'overdeveloped', 'overdirected', 'overdoing', 'overdone', 'overdose', 'overdosed', 'overdrawn', 'overdressed', 'overdrive', 'overdue', 'overestimates', 'overexplanatory', 'overexposed', 'overextended', 'overflows', 'overgrown', 'overhangs', 'overhaul', 'overheard', 'overheated', 'overjoyed', 'overkill', 'overlap', 'overlapping', 'overlaps', 'overlay', 'overlength', 'overliterary', 'overload', 'overloaded', 'overloading', 'overlong', 'overlook', 'overlooked', 'overloud', 'overly', 'overmannered', 'overnight', 'overpadded', 'overplayed', 'overplays', 'overplotted', 'overplotting', 'overpopulated', 'overpowering', 'overpoweringly', 'overpowers', 'overpraised', 'overpriced', 'overproduced', 'overqualified', 'overrate', 'overrated', 'overreach', 'overreachers', 'overreaching', 'overreliance', 'override', 'overrides', 'overriding', 'overripe', 'overs', 'overscaled', 'overseas', 'oversell', 'overshadowed', 'overshadows', 'overshot', 'oversimplification', 'oversized', 'oversold', 'overspectacular', 'overstaged', 'overstated', 'overstatement', 'overstates', 'overstay', 'overstays', 'overstimulated', 'overstuffed', 'oversupply', 'oversweet', 'overt', 'overtake', 'overtime', 'overtly', 'overtones', 'overturns', 'overused', 'overwhelm', 'overwhelmed', 'overwhelming', 'overwhelmingly', 'overwritten', 'overwrought', 'overzealous', 'ovine', 'owe', 'owens', 'owes', 'owing', 'own', 'owned', 'owner', 'owners', 'owns', 'oxide', 'oxygen', 'oxymoron', 'oz', 'ozone', 'pa', 'pablo', 'pablum', 'pace', 'paced', 'pacemaker', 'paces', 'pacific', 'pacifist', 'pacify', 'pacing', 'pacino', 'pack', 'package', 'packaged', 'packages', 'packaging', 'packed', 'packing', 'packs', 'pacts', 'pacy', 'pad', 'padded', 'padding', 'paddling', 'pads', 'paean', 'page', 'pageant', 'pageantry', 'pageants', 'pagemaster', 'pages', 'paid', 'pail', 'pain', 'pained', 'painfest', 'painful', 'painfully', 'painless', 'painlessly', 'pains', 'painstaking', 'painstakingly', 'paint', 'painted', 'painter', 'painting', 'paintings', 'paints', 'pair', 'pairing', 'pairings', 'pajamas', 'pakula', 'pal', 'palace', 'palaces', 'palatable', 'pale', 'pales', 'palette', 'palin', 'pall', 'pallid', 'palm', 'palma', 'palmer', 'palminteri', 'palookaville', 'palpable', 'pals', 'palsied', 'palsy', 'paltrow', 'paltry', 'palud', 'pampered', 'pan', 'panache', 'panahi', 'pancake', 'panda', 'pandas', 'pander', 'pandering', 'panders', 'panel', 'panhandle', 'panic', 'panicky', 'panorama', 'panoramic', 'pans', 'panther', 'panties', 'pantingly', 'pantoliano', 'pantomimist', 'pants', 'pap', 'papa', 'paparazzi', 'paper', 'paperback', 'papers', 'paperweight', 'par', 'parable', 'parade', 'paraded', 'parades', 'paradigm', 'paradigms', 'parading', 'paradis', 'paradise', 'paradiso', 'paradox', 'paradoxes', 'paradoxical', 'paragon', 'parallel', 'parallels', 'paralysis', 'parameters', 'paramount', 'paranoia', 'paranoid', 'paranormal', 'paraphernalia', 'paraphrase', 'parasite', 'parcel', 'parcels', 'parched', 'pardner', 'pardon', 'pardons', 'pared', 'parent', 'parental', 'parenting', 'parents', 'paring', 'paris', 'parisians', 'park', 'parked', 'parker', 'parking', 'parks', 'parlayed', 'parlor', 'parodic', 'parodied', 'parodies', 'parody', 'parodying', 'paroxysm', 'parrot', 'parroting', 'parrots', 'part', 'partake', 'partial', 'participate', 'participation', 'particleboard', 'particular', 'particularly', 'particulars', 'parties', 'partisan', 'partly', 'partner', 'partnered', 'partners', 'parts', 'party', 'pass', 'passable', 'passably', 'passage', 'passages', 'passageways', 'passed', 'passengers', 'passer', 'passes', 'passeth', 'passing', 'passion', 'passionate', 'passionately', 'passionless', 'passions', 'passive', 'passport', 'past', 'paste', 'pasteboard', 'pasted', 'pastel', 'pastels', 'pasternak', 'pasteurised', 'pastiche', 'pastoral', 'pasts', 'pat', 'patch', 'patched', 'patches', 'patchily', 'patchwork', 'patchy', 'patented', 'patently', 'paterfamilias', 'paterson', 'path', 'pathetic', 'pathetically', 'pathological', 'pathology', 'pathos', 'paths', 'patience', 'patient', 'patients', 'patina', 'patinkin', 'patness', 'patriarchal', 'patricia', 'patrick', 'patriotic', 'patronising', 'patronizing', 'patrons', 'patter', 'pattern', 'patterned', 'patterns', 'pattinson', 'patton', 'paucity', 'paul', 'paula', 'paulie', 'pauline', 'paull', 'pauly', 'pauper', 'pause', 'pauses', 'pavlovian', 'paws', 'pay', 'payable', 'payback', 'paydirt', 'paying', 'payload', 'payne', 'payoff', 'payoffs', 'pays', 'payson', 'pc', 'pcs', 'peace', 'peaceful', 'peach', 'peachy', 'peacock', 'peak', 'peaked', 'peaks', 'peanut', 'peanuts', 'pear', 'pearce', 'pearl', 'pearls', 'peas', 'peasant', 'peck', 'pecking', 'peckinpah', 'pecos', 'pecs', 'peculiar', 'peculiarities', 'peculiarly', 'pedal', 'pedaled', 'pedalled', 'pedals', 'pedantic', 'peddled', 'peddlers', 'pedestal', 'pedestrian', 'pedigree', 'pedro', 'peek', 'peeks', 'peel', 'peeled', 'peels', 'peep', 'peeper', 'peer', 'peerless', 'peers', 'peevish', 'peg', 'pegged', 'pekar', 'peking', 'pelican', 'peloponnesians', 'pen', 'penance', 'penchant', 'penelope', 'penetrate', 'penetrated', 'penetrates', 'penetrating', 'penetration', 'penn', 'penned', 'penny', 'pens', 'pension', 'pent', 'pentagon', 'pentameter', 'people', 'peopled', 'peoples', 'pep', 'peploe', 'pepped', 'peppered', 'peppering', 'pepperland', 'peppery', 'peppy', 'per', 'perceive', 'perceived', 'percent', 'percentage', 'perception', 'perceptions', 'perceptive', 'perceptively', 'percolates', 'percolating', 'percussion', 'percussive', 'pere', 'perennial', 'perez', 'perfect', 'perfectably', 'perfected', 'perfection', 'perfectly', 'perforated', 'perform', 'performance', 'performances', 'performed', 'performer', 'performers', 'performing', 'performs', 'perfromance', 'perfs', 'perfunctory', 'perhaps', 'peril', 'perilous', 'perilously', 'perils', 'period', 'periodically', 'periods', 'peripheral', 'perkins', 'perlman', 'permanent', 'permanently', 'permeable', 'permeate', 'permeates', 'permit', 'permits', 'permitted', 'permitting', 'perpetrates', 'perpetrators', 'perpetual', 'perpetually', 'perpetuating', 'perpetuation', 'perplexed', 'perplexing', 'perplexities', 'perry', 'persecuted', 'persecution', 'persecutors', 'perseverance', 'persian', 'persist', 'persistence', 'persistent', 'persists', 'person', 'persona', 'personable', 'personably', 'personae', 'personal', 'personalities', 'personality', 'personalize', 'personally', 'personas', 'personification', 'personify', 'perspective', 'perspectives', 'persson', 'persuaders', 'persuades', 'persuasion', 'persuasions', 'persuasive', 'persuasively', 'persuasiveness', 'pertains', 'pertinent', 'pervades', 'pervasive', 'perverse', 'perversely', 'perversion', 'perversities', 'perversity', 'perverted', 'pesca', 'pesci', 'pesky', 'pessimism', 'pessimistic', 'pet', 'pete', 'peter', 'peterbilt', 'peters', 'petersen', 'petrie', 'pets', 'petticoats', 'petty', 'petulance', 'peyton', 'pfeiffer', 'pfieffer', 'pg', 'phallic', 'phantasm', 'phantasmagoria', 'phantom', 'phase', 'phenomenal', 'phenomenon', 'phil', 'philadelphia', 'philip', 'philippe', 'phillip', 'philosopher', 'philosophical', 'philosophically', 'philosophies', 'philosophising', 'philosophy', 'phobias', 'phoenix', 'phone', 'phoned', 'phoniness', 'phony', 'phoolan', 'photogenic', 'photograph', 'photographed', 'photographer', 'photographic', 'photographing', 'photographs', 'photography', 'photos', 'phrase', 'phyllis', 'physical', 'physicality', 'physicalizing', 'physically', 'physics', 'physique', 'physiques', 'pi', 'piano', 'pianos', 'pic', 'picard', 'picaresque', 'picasso', 'picerni', 'pick', 'picked', 'pickle', 'pickpocket', 'pickup', 'picky', 'picnic', 'pics', 'pictorial', 'picture', 'picturemaking', 'pictures', 'picturesque', 'pidgeon', 'pie', 'piece', 'piecemeal', 'pieces', 'pierce', 'piercing', 'pierre', 'pieta', 'piety', 'piffle', 'pig', 'pigeonholed', 'pigeons', 'piggy', 'piglet', 'pigout', 'pigs', 'pigtail', 'pikachu', 'pike', 'pile', 'piled', 'piles', 'pileup', 'pilfers', 'piling', 'pillaged', 'pillow', 'pilot', 'pilots', 'pimples', 'pimply', 'pin', 'pinch', 'pinched', 'pinfeather', 'pining', 'pink', 'pinkins', 'pinks', 'pinnacle', 'pinnacles', 'pinned', 'pinocchio', 'pinpoint', 'pinpoints', 'pins', 'pint', 'pints', 'pinup', 'pioneer', 'pioneering', 'pious', 'piousness', 'pip', 'pipe', 'piping', 'pips', 'pique', 'piques', 'pirate', 'pirates', 'pisoni', 'pissingly', 'pistol', 'pit', 'pitapatational', 'pitbullish', 'pitch', 'pitched', 'pitcher', 'pitches', 'pitfall', 'pitfalls', 'pitiful', 'pitifully', 'pitiless', 'pitilessly', 'pitilessness', 'pits', 'pitt', 'pitting', 'pity', 'pivitol', 'pivot', 'pivotal', 'pix', 'pixar', 'pixel', 'pixilated', 'pizazz', 'pizza', 'pizzazz', 'pizzo', 'pl', 'place', 'placed', 'placement', 'placements', 'places', 'placid', 'placing', 'plagiarism', 'plagiarist', 'plague', 'plagued', 'plaguing', 'plain', 'plainness', 'plains', 'plaintive', 'plan', 'plane', 'planer', 'planes', 'planet', 'planetary', 'planned', 'planning', 'plans', 'plantation', 'planted', 'plants', 'plastic', 'plasticene', 'plasticity', 'plate', 'plateau', 'platform', 'platitude', 'platitudes', 'platoon', 'platters', 'plaudits', 'plausibility', 'plausible', 'plausibly', 'plaved', 'play', 'playable', 'played', 'player', 'players', 'playful', 'playfully', 'playfulness', 'playground', 'playgrounds', 'playing', 'playland', 'playoffs', 'plays', 'playstation', 'playthings', 'playwright', 'plea', 'pleasance', 'pleasant', 'pleasantly', 'pleasantries', 'pleasantville', 'please', 'pleased', 'pleaser', 'pleasers', 'pleases', 'pleasing', 'pleasingly', 'pleasurable', 'pleasurably', 'pleasure', 'pleasures', 'pledge', 'plentiful', 'plenty', 'plethora', 'plexus', 'plight', 'plink', 'plinky', 'plisskin', 'plodding', 'ploddingly', 'plods', 'plot', 'plotless', 'plotline', 'plotlines', 'plots', 'plotted', 'plotting', 'plowright', 'ploys', 'plucked', 'plucking', 'plucky', 'plug', 'plugging', 'plugs', 'plum', 'plumbing', 'plummet', 'plummeting', 'plummets', 'plumps', 'plunge', 'plunged', 'plunges', 'plunging', 'plurality', 'plus', 'plush', 'plutocracy', 'plymouth', 'po', 'pocahontas', 'pocketbook', 'pockets', 'pod', 'podge', 'poe', 'poem', 'poesy', 'poet', 'poetic', 'poetically', 'poeticism', 'poetry', 'poets', 'pogue', 'poignance', 'poignancy', 'poignant', 'poignantly', 'point', 'pointe', 'pointed', 'pointedly', 'pointers', 'pointing', 'pointless', 'pointlessly', 'pointlessness', 'points', 'poise', 'poised', 'poison', 'poisonous', 'poitier', 'poke', 'pokemon', 'poker', 'pokes', 'poking', 'poky', 'poland', 'polanski', 'polar', 'polarities', 'pole', 'polemic', 'polemics', 'poles', 'police', 'policemen', 'policier', 'policing', 'policy', 'polinating', 'polish', 'polished', 'polishing', 'polite', 'politeness', 'political', 'politically', 'politician', 'politicians', 'politics', 'poll', 'pollack', 'pollak', 'polls', 'pollutants', 'pollyanna', 'polonsky', 'poltergeist', 'polyglot', 'pomeranc', 'pomo', 'pomp', 'pompous', 'pond', 'ponder', 'pondering', 'ponderous', 'ponderously', 'pong', 'pontecorvo', 'poo', 'poodle', 'poodles', 'pooh', 'pool', 'poop', 'pooped', 'poor', 'poorer', 'poorest', 'poorly', 'pop', 'popcorn', 'popcorniest', 'popeye', 'popper', 'poppers', 'popping', 'poppins', 'poppy', 'pops', 'popular', 'popularity', 'popularized', 'popularly', 'populate', 'populated', 'populating', 'populism', 'populist', 'porcine', 'pores', 'porky', 'porn', 'porno', 'pornographer', 'pornographic', 'pornography', 'porridge', 'portable', 'portals', 'portentous', 'porter', 'portfolios', 'portion', 'portions', 'portman', 'portmanteau', 'portofino', 'portrait', 'portraits', 'portraiture', 'portray', 'portrayal', 'portrayals', 'portrayed', 'portraying', 'portrays', 'pose', 'posed', 'poseidon', 'poses', 'poseur', 'posey', 'posh', 'posing', 'position', 'positioned', 'positioning', 'positions', 'positive', 'positively', 'posits', 'possess', 'possessed', 'possesses', 'possessing', 'possession', 'possessions', 'possessive', 'possibilities', 'possibility', 'possible', 'possibly', 'post', 'postage', 'postal', 'postapocalyptic', 'postcards', 'poster', 'postfeminist', 'posthumous', 'postino', 'postlethwaite', 'postman', 'postmodern', 'postmodernist', 'postmortem', 'posts', 'postulate', 'posturing', 'postwar', 'pot', 'potatoes', 'potatohead', 'potboiler', 'potboilers', 'potency', 'potent', 'potential', 'potentially', 'potentials', 'potently', 'potholes', 'potpourri', 'potshots', 'potter', 'potty', 'pound', 'pounded', 'pounding', 'pounds', 'poupaud', 'pour', 'poured', 'pours', 'pouty', 'pov', 'poverty', 'pow', 'powder', 'powell', 'power', 'powered', 'powerful', 'powerfully', 'powerhouse', 'powerlessly', 'powerlessness', 'powers', 'practical', 'practically', 'practice', 'practiced', 'practices', 'practicing', 'prada', 'pragmatic', 'pragmatism', 'prairie', 'praise', 'praised', 'prancer', 'prank', 'prankish', 'prankishness', 'pranks', 'prankster', 'pranksters', 'pratfall', 'pratfalls', 'pratt', 'prattle', 'prawer', 'prayer', 'prayers', 'pre', 'preach', 'preached', 'preacher', 'preachiness', 'preaching', 'preachment', 'preachy', 'preadolescent', 'preadolescents', 'preceded', 'precedence', 'precedent', 'precedes', 'preceding', 'precious', 'precipitated', 'precise', 'precisely', 'precision', 'preclude', 'precocious', 'precomputer', 'preconceptions', 'predate', 'predator', 'predatory', 'predecessor', 'predecessors', 'predetermined', 'predicably', 'predicated', 'predict', 'predictability', 'predictable', 'predictably', 'predicted', 'prediction', 'predominant', 'predominantly', 'preeminence', 'preen', 'preening', 'preens', 'prefab', 'prefabricated', 'prefer', 'preferable', 'preferably', 'preference', 'preferences', 'prefers', 'prefontaine', 'pregnancy', 'pregnant', 'prehistoric', 'prehistory', 'prehumans', 'prejudice', 'prejudices', 'prejudicial', 'premature', 'prematurely', 'premier', 'premiere', 'premiering', 'premillennial', 'premise', 'premises', 'preoccupation', 'preoccupations', 'preoccupied', 'preordained', 'prep', 'preparation', 'prepare', 'prepared', 'prepares', 'preparing', 'preponderance', 'preposterous', 'preposterously', 'preppies', 'preppy', 'preprogrammed', 'prepubescent', 'prequel', 'prerequisite', 'prerogatives', 'preschoolers', 'prescient', 'presciently', 'prescribed', 'presence', 'present', 'presentable', 'presentation', 'presentations', 'presented', 'presenter', 'presenting', 'presently', 'presents', 'preserved', 'preserver', 'preserves', 'preserving', 'presidency', 'president', 'presidents', 'presley', 'press', 'pressburger', 'pressed', 'presses', 'pressing', 'pressure', 'pressured', 'prestige', 'prestigious', 'preston', 'prestton', 'presumably', 'presumed', 'preteen', 'pretend', 'pretenders', 'pretending', 'pretends', 'pretense', 'pretension', 'pretensions', 'pretentious', 'pretentiously', 'pretentiousness', 'preternatural', 'preternaturally', 'pretext', 'prettied', 'pretties', 'prettified', 'prettily', 'pretty', 'prevail', 'prevailing', 'prevails', 'prevalent', 'prevent', 'prevented', 'preventing', 'prevents', 'preview', 'previews', 'previous', 'previously', 'prewar', 'prey', 'preying', 'price', 'priced', 'priceless', 'pricey', 'prick', 'prickles', 'prickly', 'pride', 'priests', 'primal', 'primarily', 'primary', 'primates', 'prime', 'primed', 'primer', 'primitive', 'primitivisms', 'primordial', 'prince', 'princess', 'princesses', 'principal', 'principally', 'principals', 'principle', 'principles', 'print', 'printed', 'printing', 'prinze', 'prior', 'priorities', 'priority', 'priscilla', 'prism', 'prison', 'prisoner', 'prisoners', 'prisons', 'pristine', 'privacy', 'private', 'privilege', 'privileges', 'prize', 'prizewinning', 'pro', 'proactive', 'probably', 'probe', 'probed', 'probes', 'probing', 'problem', 'problematic', 'problemo', 'problems', 'procedural', 'procedurals', 'proceed', 'proceeding', 'proceedings', 'proceeds', 'process', 'processed', 'prochnow', 'proclaim', 'proclaims', 'prod', 'prodigious', 'prodigy', 'prods', 'produce', 'produced', 'producer', 'producers', 'produces', 'producing', 'product', 'production', 'productional', 'productions', 'products', 'prof', 'profane', 'profanity', 'profession', 'professional', 'professionalism', 'professionally', 'professionals', 'professor', 'proficiency', 'proficient', 'profile', 'profiles', 'profit', 'profitable', 'profiteer', 'profits', 'profound', 'profoundly', 'profundities', 'profundity', 'progenitor', 'progeny', 'program', 'programmatically', 'programme', 'programmed', 'programmers', 'programs', 'progress', 'progresses', 'progression', 'progressive', 'progressively', 'progressiveness', 'prohibition', 'project', 'projected', 'projectiles', 'projecting', 'projection', 'projections', 'projector', 'projects', 'proletarian', 'proliferating', 'prolific', 'prologue', 'prologues', 'prolong', 'prolonged', 'prom', 'prominence', 'prominent', 'prominently', 'promiscuity', 'promise', 'promised', 'promises', 'promising', 'promisingly', 'promos', 'promote', 'promoter', 'promotion', 'promotional', 'prompt', 'prompted', 'prone', 'pronounce', 'pronounced', 'pronto', 'proof', 'prop', 'propaganda', 'propagandist', 'propagandistic', 'propel', 'propelled', 'propelling', 'propels', 'propensity', 'proper', 'properly', 'property', 'prophecy', 'prophetic', 'proportion', 'proportionate', 'proportioned', 'proportions', 'proposition', 'propounded', 'propounds', 'propped', 'propriety', 'props', 'propulsive', 'propulsively', 'pros', 'prosaic', 'proscenium', 'prose', 'prosecutor', 'prospect', 'prospective', 'prospectors', 'prospects', 'prosper', 'prospero', 'prostitute', 'prostituting', 'protagonist', 'protagonists', 'protean', 'protect', 'protection', 'protectiveness', 'protein', 'protest', 'protesting', 'protests', 'prototype', 'prototypes', 'protracted', 'protruding', 'proud', 'proudest', 'proudly', 'prove', 'proved', 'proven', 'proves', 'provide', 'provided', 'providence', 'provider', 'providers', 'provides', 'providing', 'province', 'provincetown', 'provincials', 'proving', 'provocation', 'provocations', 'provocative', 'provocatively', 'provoke', 'provoked', 'provokes', 'provoking', 'prowess', 'prowl', 'prowling', 'proximate', 'proximity', 'proxy', 'proyas', 'prozac', 'prude', 'prudish', 'pruned', 'pruning', 'prurience', 'prurient', 'prying', 'psa', 'pse', 'pseudo', 'pseudodocumentary', 'pseudomystical', 'psyche', 'psychedelia', 'psychedelic', 'psyches', 'psychic', 'psychics', 'psycho', 'psychoanalysis', 'psychoanalytic', 'psychodrama', 'psychodramatic', 'psychological', 'psychologically', 'psychologist', 'psychology', 'psychopath', 'psychopathically', 'psychopathy', 'psychosexual', 'psychothriller', 'pt', 'pu', 'pubescent', 'pubescents', 'public', 'publicity', 'publicized', 'published', 'publisher', 'puck', 'pudding', 'puerile', 'puerto', 'puffed', 'puffing', 'puffs', 'pug', 'pulcini', 'pulitzer', 'pull', 'pulled', 'pulling', 'pullman', 'pulls', 'pulp', 'pulpy', 'pulsating', 'pulse', 'pulses', 'pulsing', 'pummelling', 'pump', 'pumped', 'pumping', 'pumps', 'pun', 'punch', 'punched', 'punches', 'punching', 'punchline', 'punchlines', 'punchy', 'punctuated', 'pundit', 'pungency', 'pungent', 'punish', 'punished', 'punisher', 'punishes', 'punishing', 'punishment', 'punk', 'puns', 'puny', 'pup', 'pupil', 'puppet', 'puppeteering', 'puppeteers', 'puppetry', 'puppets', 'puppies', 'puppy', 'purchase', 'pure', 'puree', 'purely', 'purer', 'purest', 'purgatory', 'purge', 'purged', 'purists', 'puritanical', 'purity', 'purple', 'purported', 'purportedly', 'purports', 'purpose', 'purposed', 'purposeful', 'purposefully', 'purposelessness', 'purposely', 'purposes', 'purr', 'purring', 'purse', 'pursed', 'pursue', 'pursuing', 'pursuit', 'purveyors', 'push', 'pushed', 'pusher', 'pushes', 'pushing', 'pushkin', 'pushover', 'pushy', 'put', 'putrid', 'puts', 'putting', 'puttnam', 'putty', 'puzo', 'puzzle', 'puzzled', 'puzzlement', 'puzzles', 'puzzling', 'puzzlingly', 'pygmalion', 'pyramids', 'pyrotechnics', 'pyschological', 'python', 'pythonesque', 'pythonites', 'pythons', 'qua', 'quack', 'quaid', 'quaint', 'quaintly', 'quaintness', 'qualifies', 'qualify', 'qualifying', 'qualities', 'quality', 'qualms', 'quandary', 'quantities', 'quantity', 'quantum', 'quarrel', 'quarter', 'quarters', 'quartet', 'quarts', 'quasi', 'quasidocumentary', 'queasily', 'queasy', 'queeg', 'queen', 'queens', 'queeny', 'queer', 'quentin', 'quest', 'questing', 'question', 'questionable', 'questioning', 'questions', 'quibble', 'quibbles', 'quiche', 'quick', 'quickie', 'quickly', 'quicksilver', 'quiet', 'quietly', 'quilt', 'quilty', 'quinn', 'quintanilla', 'quintet', 'quip', 'quipping', 'quippy', 'quips', 'quirk', 'quirkier', 'quirkily', 'quirkiness', 'quirks', 'quirky', 'quit', 'quite', 'quits', 'quiz', 'quizzical', 'quizzically', 'quota', 'quotable', 'quote', 'quoted', 'quotient', 'quoting', 'ra', 'rabbit', 'rabbits', 'rabble', 'rabid', 'race', 'raced', 'racehorse', 'races', 'rachel', 'racial', 'racially', 'racing', 'racism', 'racist', 'racists', 'rack', 'racking', 'racy', 'radar', 'radford', 'radiance', 'radiant', 'radiates', 'radiating', 'radical', 'radically', 'radio', 'radios', 'rae', 'rafael', 'rafelson', 'raft', 'rag', 'ragbag', 'rage', 'rages', 'ragged', 'raggedness', 'raggy', 'raging', 'ragtag', 'rah', 'raid', 'raiders', 'rail', 'rails', 'railway', 'raimi', 'rain', 'rainbow', 'raining', 'rainmaker', 'rainstorm', 'raise', 'raised', 'raiser', 'raises', 'raising', 'raison', 'ralph', 'rama', 'ramage', 'ramble', 'rambles', 'rambling', 'rambo', 'rambunctious', 'rambunctiously', 'rambunctiousness', 'ramifications', 'ramis', 'ramone', 'rampage', 'rampages', 'rampaging', 'rampant', 'ramrodded', 'ramsey', 'ramshackle', 'ran', 'rancid', 'rancorous', 'randall', 'randle', 'random', 'randomly', 'randy', 'ranft', 'rang', 'range', 'rangers', 'ranges', 'ranging', 'rangoon', 'rangy', 'rank', 'ranking', 'ranks', 'rans', 'ransom', 'rant', 'ranting', 'raoul', 'rap', 'rape', 'raphaelson', 'rapid', 'rapidly', 'rapist', 'rapists', 'rapper', 'rappers', 'rapport', 'rapt', 'raptor', 'raptors', 'rapture', 'rapturous', 'rapturously', 'rare', 'rarefied', 'rarely', 'rarer', 'rarest', 'rarity', 'rasa', 'rascal', 'rash', 'rashomon', 'raspberry', 'rasping', 'raspy', 'rat', 'ratchet', 'ratcheted', 'ratcheting', 'ratchets', 'rate', 'rated', 'rates', 'rather', 'ratify', 'rating', 'ratings', 'ratio', 'rational', 'rationality', 'rationalizes', 'rationally', 'rats', 'ratso', 'rattled', 'rattles', 'rattlesnake', 'rattling', 'ratty', 'raucous', 'raucously', 'raul', 'raunch', 'raunchier', 'raunchy', 'ravage', 'ravaged', 'raven', 'ravened', 'ravich', 'ravished', 'ravishing', 'raw', 'rawer', 'rawest', 'rawness', 'ray', 'raymond', 'raziah', 'razieh', 'razor', 'razzle', 'razzledazzle', 'razzmatazz', 'rb', 'rbi', 're', 'reach', 'reached', 'reaches', 'reaching', 'react', 'reacting', 'reaction', 'reactionary', 'reactions', 'reactor', 'read', 'reader', 'readers', 'readily', 'reading', 'readings', 'reads', 'ready', 'reaffirms', 'reagan', 'reaganite', 'real', 'realise', 'realised', 'realism', 'realist', 'realistic', 'realistically', 'realists', 'realities', 'reality', 'realization', 'realize', 'realized', 'really', 'realm', 'realms', 'realpolitik', 'reap', 'reappear', 'rear', 'reason', 'reasonable', 'reasonably', 'reasoned', 'reasons', 'reassessment', 'reassures', 'reassuring', 'rebecca', 'rebel', 'rebellion', 'rebellious', 'rebels', 'rebirth', 'reboot', 'rebounds', 'rebuffs', 'rebuild', 'rebuke', 'recalcitrant', 'recall', 'recalled', 'recalling', 'recalls', 'recapture', 'recaptured', 'recaptures', 'recapturing', 'recasting', 'recede', 'receive', 'received', 'receiver', 'receiving', 'recent', 'recently', 'reception', 'recesses', 'recharging', 'recipe', 'recite', 'reciting', 'reckless', 'recklessly', 'recklessness', 'reckon', 'reckoned', 'reclaim', 'reclaims', 'reclusive', 'recognisably', 'recognition', 'recognizable', 'recognizably', 'recognize', 'recognized', 'recoil', 'recollection', 'recollections', 'recommend', 'recommended', 'recommending', 'reconcile', 'reconciled', 'reconciliation', 'reconciliations', 'reconstruct', 'reconstruction', 'reconstructions', 'record', 'recorded', 'recording', 'records', 'recount', 'recounting', 'recounts', 'recover', 'recovering', 'recovers', 'recovery', 'recreation', 'recreational', 'recruit', 'recruited', 'recruiter', 'recruiters', 'recruiting', 'recruits', 'rectum', 'recurring', 'recycled', 'recycles', 'recycling', 'red', 'redeem', 'redeemable', 'redeemed', 'redeeming', 'redeems', 'redefine', 'redefines', 'redemption', 'redford', 'redgrave', 'rediscovered', 'rediscovering', 'rediscovers', 'redlichs', 'redneck', 'redo', 'redoing', 'redon', 'redone', 'redoubtable', 'redound', 'reduce', 'reduced', 'reduces', 'reductio', 'reduction', 'reductive', 'redundancies', 'redundancy', 'redundant', 'reed', 'reede', 'reeks', 'reel', 'reeling', 'reels', 'reemploying', 'reese', 'reeve', 'reeves', 'ref', 'refer', 'reference', 'references', 'referential', 'referred', 'referring', 'refers', 'refined', 'refinement', 'refitting', 'reflect', 'reflected', 'reflecting', 'reflection', 'reflective', 'reflects', 'reflex', 'reflexive', 'reflexively', 'reflexivity', 'reformation', 'refracts', 'refrained', 'refreshes', 'refreshing', 'refreshingly', 'refried', 'refrigerators', 'refuge', 'refurbished', 'refusal', 'refuse', 'refused', 'refuses', 'refusing', 'regains', 'regales', 'regaling', 'regard', 'regarded', 'regarding', 'regardless', 'regards', 'regathered', 'regenerate', 'regeneration', 'reggae', 'regime', 'reginald', 'regional', 'register', 'registering', 'registers', 'regnier', 'regressed', 'regression', 'regressive', 'regret', 'regrettable', 'regrettably', 'regular', 'regularity', 'regularly', 'regulars', 'regurgitate', 'rehab', 'rehabilitate', 'rehabilitation', 'rehash', 'rehashes', 'rehearsal', 'rehearsals', 'reheating', 'reich', 'reid', 'reign', 'reigning', 'reilly', 'reimagined', 'reimagining', 'rein', 'reincarnation', 'reindeer', 'reiner', 'reinforce', 'reinforced', 'reinforces', 'reinforcing', 'reintroduce', 'reintroduces', 'reinvent', 'reinvented', 'reinventing', 'reinvention', 'reinvents', 'reinvigorate', 'reinvigorated', 'reinvigorates', 'reissue', 'reiterated', 'reiteration', 'reitmam', 'reitman', 'reject', 'rejected', 'rejection', 'rejoice', 'rejoices', 'rejuvenates', 'rejuvenation', 'rekindle', 'relatable', 'relate', 'related', 'relates', 'relating', 'relation', 'relations', 'relationship', 'relationships', 'relative', 'relatively', 'relatives', 'relax', 'relaxed', 'relaying', 'release', 'released', 'releases', 'releasing', 'relegate', 'relegates', 'relegating', 'relentless', 'relentlessly', 'relentlessness', 'relevance', 'relevant', 'reliable', 'reliance', 'relic', 'relief', 'relies', 'relieved', 'relieves', 'relieving', 'religion', 'religious', 'relinquishes', 'relish', 'relishes', 'relishing', 'relive', 'reluctance', 'reluctant', 'rely', 'relying', 'remade', 'remain', 'remainder', 'remained', 'remaining', 'remains', 'remake', 'remakes', 'remaking', 'remarkable', 'remarkably', 'remarks', 'remarriage', 'rembrandt', 'remedied', 'remedy', 'remember', 'remembered', 'remembering', 'remembers', 'remembrance', 'remind', 'reminded', 'reminder', 'reminding', 'reminds', 'reminiscence', 'reminiscences', 'reminiscent', 'reminiscing', 'remorse', 'remorseless', 'remote', 'remotely', 'remove', 'removed', 'removes', 'removing', 'remulakian', 'remy', 'renaissance', 'render', 'rendered', 'rendering', 'renders', 'rendezvous', 'rending', 'rendition', 'renditions', 'rene', 'renee', 'renew', 'renewal', 'renewed', 'renfield', 'rennison', 'renny', 'renoir', 'renowned', 'rent', 'rental', 'rented', 'renter', 'renting', 'repair', 'repartee', 'repast', 'repeat', 'repeated', 'repeatedly', 'repeating', 'repeats', 'repellent', 'repetition', 'repetitions', 'repetitious', 'repetitive', 'repetitively', 'repetitiveness', 'replace', 'replaced', 'replacement', 'replay', 'replayed', 'replaying', 'replays', 'replete', 'replicate', 'repo', 'report', 'reportage', 'reported', 'reportedly', 'reporter', 'reporting', 'reportorial', 'reposition', 'repository', 'repossessed', 'reprehensible', 'represent', 'representation', 'representative', 'representatives', 'represented', 'representing', 'represents', 'repressed', 'repression', 'repressive', 'reprise', 'reprising', 'reproduce', 'reproduces', 'reproduction', 'reps', 'reptile', 'reptilian', 'republic', 'republican', 'repulses', 'repulsion', 'repulsive', 'reputation', 'reputations', 'repute', 'reputedly', 'request', 'requiem', 'require', 'required', 'requirements', 'requires', 'requiring', 'requisite', 'requoted', 'rereleased', 'rerun', 'reruns', 'rescue', 'rescued', 'rescuers', 'rescues', 'rescuing', 'researched', 'researcher', 'reseen', 'resemblance', 'resemble', 'resembled', 'resembles', 'resembling', 'resented', 'resentment', 'resentments', 'reservations', 'reserve', 'reserved', 'reserves', 'reservoir', 'reservoirs', 'reside', 'resides', 'residue', 'resignation', 'resigned', 'resilience', 'resilient', 'resist', 'resistance', 'resistant', 'resisted', 'resists', 'resolute', 'resolutely', 'resolution', 'resolutions', 'resolve', 'resolved', 'resolves', 'resolving', 'resonance', 'resonances', 'resonant', 'resonantly', 'resonate', 'resonates', 'resort', 'resorts', 'resounding', 'resoundingly', 'resounds', 'resourceful', 'resourcefulness', 'resources', 'respect', 'respectability', 'respectable', 'respectably', 'respected', 'respectful', 'respectfully', 'respecting', 'respective', 'respectively', 'respects', 'resplendent', 'resplendently', 'respond', 'responding', 'response', 'responses', 'responsibility', 'responsible', 'responsive', 'rest', 'restating', 'restaurant', 'restaurants', 'resting', 'restless', 'restoration', 'restorative', 'restore', 'restored', 'restores', 'restoring', 'restrained', 'restraining', 'restraint', 'restricted', 'restrictions', 'rests', 'restyles', 'result', 'resulted', 'resulting', 'results', 'resume', 'resuming', 'resurrect', 'resurrected', 'resurrection', 'resurrects', 'resuscitated', 'retail', 'retain', 'retained', 'retaining', 'retains', 'retardation', 'retarded', 'retelling', 'rethinking', 'rethought', 'reticence', 'retire', 'retirement', 'retiring', 'retold', 'retort', 'retorts', 'retraces', 'retracing', 'retread', 'retreads', 'retrieve', 'retrieves', 'retro', 'retrofitting', 'retrograde', 'retrospect', 'return', 'returned', 'returning', 'returns', 'reunion', 'reunions', 'reunite', 'reunited', 'reunites', 'reuniting', 'revamped', 'revamping', 'revamps', 'reveal', 'revealed', 'revealing', 'reveals', 'revel', 'revelation', 'revelations', 'revelatory', 'revelers', 'reveling', 'revelled', 'revelling', 'revels', 'revenge', 'revered', 'reverence', 'reverent', 'reverential', 'reverentially', 'reverently', 'reverie', 'reversal', 'reversals', 'reverse', 'reverting', 'review', 'reviewers', 'reviewing', 'reviews', 'reviled', 'revises', 'revising', 'revision', 'revisionist', 'revisions', 'revisit', 'revisited', 'revisiting', 'revisits', 'revitalizes', 'revival', 'revive', 'revived', 'reviving', 'revolt', 'revolting', 'revolution', 'revolutionaries', 'revolutionary', 'revolutions', 'revue', 'revved', 'reward', 'rewarded', 'rewarding', 'rewardingly', 'rewards', 'reworked', 'reworking', 'rewrite', 'rewrites', 'rewriting', 'rewritten', 'rex', 'reynolds', 'rhames', 'rhapsodic', 'rhapsodizes', 'rhetoric', 'rhetorical', 'rhett', 'rhode', 'rhyme', 'rhythm', 'rhythmic', 'rhythms', 'rialto', 'rib', 'ribald', 'ribaldry', 'ribisi', 'ribs', 'rican', 'ricci', 'rice', 'rich', 'richard', 'richards', 'richardson', 'richer', 'riches', 'richest', 'richie', 'richly', 'richmond', 'richness', 'richter', 'rick', 'rickety', 'ricki', 'rickles', 'ricochet', 'ricocheting', 'rid', 'ridden', 'riddle', 'riddled', 'riddler', 'ride', 'rider', 'riders', 'rides', 'ridgemont', 'ridicule', 'ridiculing', 'ridiculous', 'ridiculously', 'ridiculousness', 'riding', 'ridley', 'riefenstahl', 'rife', 'riff', 'riffing', 'riffs', 'rig', 'riggs', 'right', 'righteous', 'righteousness', 'rightful', 'rightfully', 'righting', 'rightly', 'rights', 'rigid', 'rigidity', 'rigor', 'rigorous', 'rigorously', 'rigueur', 'riker', 'rim', 'ring', 'ringers', 'ringmaster', 'rings', 'ringwald', 'riot', 'riotous', 'riotously', 'rip', 'ripe', 'ripely', 'ripen', 'ripley', 'ripleyoffers', 'riposte', 'ripped', 'ripper', 'ripping', 'rippled', 'risa', 'rise', 'risen', 'rises', 'risible', 'rising', 'risk', 'risked', 'riskin', 'risking', 'risks', 'risky', 'risque', 'ritchie', 'rites', 'ritt', 'rituals', 'rival', 'rivalled', 'rivalry', 'rivals', 'river', 'rivera', 'rivers', 'rivet', 'riveted', 'riveting', 'rivets', 'rizzo', 'rko', 'roach', 'road', 'roaders', 'roads', 'roald', 'roams', 'roan', 'roaring', 'roaringly', 'roast', 'rob', 'robb', 'robbed', 'robber', 'robbers', 'robbersons', 'robbery', 'robbie', 'robbing', 'robbins', 'robby', 'robert', 'roberta', 'roberto', 'roberts', 'robertson', 'robery', 'robin', 'robins', 'robinson', 'robocop', 'robosuit', 'robot', 'robotic', 'robotkind', 'robots', 'robs', 'robust', 'robustly', 'rocco', 'rock', 'rocked', 'rockers', 'rocket', 'rocketeer', 'rocketing', 'rockets', 'rocks', 'rocksploitation', 'rockwell', 'rocky', 'rod', 'rodents', 'rodgers', 'rodman', 'rodney', 'rodrigues', 'rodriguez', 'roeg', 'roger', 'rogers', 'rogue', 'rogues', 'rohmer', 'roland', 'role', 'roles', 'roll', 'rolle', 'rolled', 'roller', 'rollercoaster', 'rollicking', 'rolling', 'rollingly', 'rolls', 'roman', 'romance', 'romances', 'romancing', 'romanian', 'romantic', 'romanticised', 'romanticises', 'romanticism', 'romanticized', 'romanticizing', 'romantics', 'romcoms', 'rome', 'romeo', 'romero', 'romp', 'romped', 'romper', 'romping', 'romps', 'ron', 'ronald', 'rondo', 'ronin', 'roof', 'rooftop', 'rookie', 'room', 'roommate', 'rooms', 'roos', 'roosevelt', 'roost', 'root', 'rootbound', 'rooted', 'rootin', 'rooting', 'rootless', 'rootlessness', 'roots', 'rope', 'ropelewski', 'rorschach', 'rosalind', 'rose', 'roseanne', 'rosemary', 'rosenberg', 'rosenblum', 'rosenthal', 'roses', 'rosewood', 'ross', 'rossellini', 'rostand', 'roster', 'rosza', 'rot', 'rota', 'rotating', 'rote', 'roth', 'rotten', 'rottenness', 'rotting', 'rotund', 'roue', 'rough', 'roughest', 'roughhouse', 'roughly', 'round', 'roundabout', 'roundball', 'rounded', 'rounder', 'rounders', 'rounds', 'rouse', 'roused', 'rousing', 'rousselot', 'route', 'routine', 'routinely', 'routines', 'row', 'rowan', 'rowdier', 'rowdily', 'rowdy', 'rowlands', 'roxbury', 'roy', 'royal', 'royale', 'rozema', 'rr', 'rub', 'rubber', 'rubbing', 'rubble', 'ruben', 'rubin', 'rubinstein', 'ruby', 'rudd', 'rude', 'rudely', 'rudimentary', 'rudiments', 'rudnick', 'rudolph', 'rudy', 'rue', 'rueful', 'ruefully', 'ruehl', 'ruettiger', 'ruffled', 'rug', 'rugged', 'rugrats', 'ruin', 'ruined', 'rule', 'ruled', 'ruler', 'rules', 'ruling', 'rumble', 'rumbling', 'ruminating', 'ruminations', 'rumpled', 'run', 'runaway', 'rung', 'runner', 'running', 'runninng', 'runs', 'rupert', 'rural', 'rush', 'rushed', 'rushes', 'rushmore', 'russ', 'russell', 'russia', 'russian', 'russo', 'rusty', 'rut', 'ruth', 'ruthless', 'ruthlessly', 'rwanda', 'ryan', 'ryder', 'rymer', 'sabotaged', 'sabotages', 'sabotaging', 'sac', 'saccharine', 'sacred', 'sacrifice', 'sacrificed', 'sacrifices', 'sacrificing', 'sacrilege', 'sacrilegious', 'sad', 'saddened', 'saddest', 'saddle', 'saddled', 'saddles', 'sadism', 'sadistic', 'sadly', 'sadness', 'sado', 'sadomasochistic', 'sadsack', 'safari', 'safe', 'safely', 'safer', 'saffron', 'saga', 'sagan', 'sagas', 'sage', 'sagging', 'sags', 'said', 'saigon', 'sail', 'sailing', 'sailors', 'sails', 'saint', 'saintliness', 'saints', 'sake', 'sakes', 'salacious', 'salaciously', 'salad', 'sale', 'saleh', 'salem', 'salenger', 'sales', 'salesman', 'salesmen', 'salient', 'salles', 'sally', 'salon', 'salsa', 'salt', 'salted', 'salten', 'salty', 'salute', 'salutes', 'salva', 'salvage', 'salvageable', 'salvaged', 'salvaging', 'salvation', 'salwen', 'sam', 'samantha', 'same', 'sami', 'sample', 'samples', 'sampling', 'samson', 'samuel', 'samurai', 'san', 'sanchez', 'sanctimonious', 'sanctions', 'sand', 'sanded', 'sander', 'sanders', 'sandler', 'sandra', 'sands', 'sandwich', 'sane', 'saner', 'sang', 'sanguinary', 'sanitized', 'sans', 'sant', 'santa', 'santaclausing', 'sap', 'sappingly', 'sappy', 'saps', 'sara', 'sarah', 'sarajevo', 'sarandon', 'sarcasm', 'sarcastic', 'sardonic', 'sardonically', 'sargent', 'sarossy', 'sarris', 'sashaying', 'sass', 'sassy', 'sat', 'satan', 'satanic', 'sated', 'satellite', 'satire', 'satires', 'satiric', 'satirical', 'satirise', 'satirist', 'satirize', 'satirized', 'satirizes', 'satirizing', 'satisfaction', 'satisfactions', 'satisfactorily', 'satisfactory', 'satisfied', 'satisfies', 'satisfy', 'satisfying', 'satisfyingly', 'saturated', 'saturation', 'saturday', 'satyajit', 'sauce', 'saucer', 'saucers', 'saunter', 'sautet', 'savage', 'savagely', 'savagery', 'savages', 'save', 'saved', 'saves', 'savile', 'saving', 'savoir', 'savor', 'savors', 'savvier', 'savvy', 'saw', 'say', 'saying', 'sayles', 'sayonara', 'says', 'scab', 'scabrous', 'scald', 'scalding', 'scale', 'scaled', 'scalphunters', 'scam', 'scandal', 'scandalized', 'scandals', 'scanning', 'scar', 'scarcely', 'scare', 'scared', 'scareless', 'scaremeister', 'scares', 'scarface', 'scarier', 'scariest', 'scarifying', 'scariness', 'scaring', 'scarlet', 'scarlett', 'scarred', 'scars', 'scary', 'scat', 'scatalogical', 'scathing', 'scathingly', 'scatman', 'scatological', 'scatter', 'scatterbrained', 'scattered', 'scattershot', 'scatty', 'scavenge', 'scenario', 'scenarios', 'scenarist', 'scenarists', 'scene', 'scenemaker', 'scenery', 'scenes', 'scenic', 'scent', 'schaeffer', 'schamus', 'schary', 'schedule', 'scheider', 'scheinman', 'schelsinger', 'schematic', 'schematically', 'scheme', 'schemes', 'scheming', 'schepisi', 'schiff', 'schiffer', 'schindler', 'schizoid', 'schizophrenia', 'schizophrenic', 'schizopolis', 'schlamme', 'schlesinger', 'schlichtmann', 'schlock', 'schlocker', 'schlocky', 'schlondorff', 'schmaltz', 'schmaltzy', 'schmalz', 'schmo', 'schnabel', 'schneider', 'schoeffling', 'scholar', 'scholars', 'school', 'schoolchildren', 'schoolgirl', 'schoolmaster', 'schoolmates', 'schools', 'schrader', 'schreck', 'schroeder', 'schtick', 'schumacher', 'schwan', 'schwartzman', 'schwartzy', 'schwarzenegger', 'schweeeet', 'sci', 'science', 'scientific', 'scientist', 'scientists', 'scifi', 'scintillating', 'scion', 'scissorhands', 'sclerosis', 'sclerotic', 'scoff', 'scofield', 'sconce', 'scoop', 'scope', 'scopes', 'scorching', 'scorchingly', 'score', 'scored', 'scorer', 'scores', 'scoring', 'scorn', 'scorned', 'scornfully', 'scorns', 'scorpion', 'scorsese', 'scorta', 'scotch', 'scotland', 'scotsmen', 'scott', 'scottish', 'scoured', 'scout', 'scouting', 'scoutish', 'scowling', 'scraggly', 'scramble', 'scrambled', 'scrambles', 'scrap', 'scrape', 'scrapes', 'scraping', 'scrappy', 'scraps', 'scratch', 'scratcher', 'scratching', 'scratchy', 'scrawny', 'scream', 'screamers', 'screaming', 'screams', 'screeching', 'screed', 'screen', 'screenful', 'screening', 'screenplay', 'screenplays', 'screens', 'screenwriter', 'screenwriters', 'screenwriting', 'screw', 'screwball', 'screwed', 'screws', 'screwy', 'scribe', 'script', 'scripted', 'scripter', 'scripters', 'scriptless', 'scripts', 'scriptwriter', 'scriptwriters', 'scriptwriting', 'scrooge', 'scroungy', 'scruff', 'scrumptious', 'scrupulous', 'scrutiny', 'sctv', 'scuffles', 'scully', 'sculpted', 'sculpture', 'scum', 'scumbled', 'scummy', 'scuppered', 'scuttled', 'scuz', 'scuzz', 'scuzzy', 'se', 'sea', 'seafaring', 'seagal', 'sealed', 'seals', 'seamless', 'seamlessly', 'seamlessness', 'seams', 'seamy', 'sean', 'seaplane', 'sear', 'search', 'searches', 'searching', 'searchlight', 'seared', 'searing', 'sears', 'seas', 'seasickly', 'season', 'seasonal', 'seasoned', 'seasons', 'seat', 'seating', 'seatmates', 'seats', 'seattle', 'secaucus', 'sech', 'second', 'secondary', 'seconds', 'secret', 'secretary', 'secrets', 'section', 'sections', 'secular', 'secure', 'securing', 'security', 'sedgwick', 'seduced', 'seducer', 'seduces', 'seduction', 'seductive', 'seductively', 'see', 'seed', 'seeds', 'seedy', 'seeing', 'seek', 'seekers', 'seeking', 'seeks', 'seem', 'seema', 'seemed', 'seeming', 'seemingly', 'seems', 'seen', 'seep', 'seeping', 'seer', 'sees', 'seesaw', 'seethes', 'seething', 'seg', 'segal', 'segawa', 'segment', 'segments', 'segregated', 'segues', 'seitz', 'seizes', 'selby', 'seldom', 'select', 'selected', 'selecting', 'selection', 'selective', 'selena', 'self', 'selfish', 'selfishness', 'selflessness', 'selick', 'sell', 'seller', 'sellers', 'selling', 'sells', 'selves', 'selznick', 'semblance', 'semen', 'semi', 'semiconsciously', 'seminal', 'semitism', 'senate', 'senator', 'send', 'sendak', 'sending', 'sendoff', 'sends', 'sendup', 'senior', 'seniors', 'sensation', 'sensational', 'sensationalism', 'sensationalistic', 'sensationalizes', 'sensationally', 'sense', 'senseless', 'senses', 'sensibilities', 'sensibility', 'sensible', 'sensitive', 'sensitively', 'sensitivity', 'sensory', 'sensual', 'sensualist', 'sensuality', 'sensuous', 'sent', 'sentence', 'sentences', 'sententiousness', 'sentience', 'sentient', 'sentiment', 'sentimental', 'sentimentalism', 'sentimentality', 'sentimentalized', 'sentimentalizing', 'sentiments', 'separate', 'separated', 'separates', 'separation', 'separatism', 'sepia', 'september', 'septet', 'septuagenarians', 'sequel', 'sequelhood', 'sequels', 'sequence', 'sequences', 'sequitur', 'sequiturs', 'seraphic', 'serene', 'serenely', 'serenity', 'sergeant', 'sergio', 'serial', 'serials', 'series', 'serio', 'seriocomic', 'serious', 'seriously', 'seriousness', 'serkis', 'sermon', 'sermonising', 'serpentine', 'serra', 'servant', 'servants', 'serve', 'served', 'serves', 'service', 'serviceable', 'servicemen', 'serving', 'sesame', 'sessions', 'set', 'seth', 'sets', 'setting', 'settings', 'settle', 'settled', 'settlers', 'settles', 'settling', 'setup', 'setups', 'seven', 'seventies', 'several', 'severe', 'severed', 'severely', 'severity', 'sewer', 'sewers', 'sewn', 'sex', 'sexes', 'sexier', 'sexiness', 'sexism', 'sexist', 'sexless', 'sexual', 'sexuality', 'sexualization', 'sexualized', 'sexually', 'sexy', 'sez', 'sf', 'sfx', 'sgt', 'sh', 'shabbier', 'shabby', 'shackled', 'shackles', 'shackleton', 'shade', 'shaded', 'shades', 'shading', 'shadings', 'shadow', 'shadowlands', 'shadows', 'shadowy', 'shady', 'shadyac', 'shaffer', 'shaft', 'shafts', 'shagadelic', 'shagged', 'shaggy', 'shaiman', 'shake', 'shaken', 'shakers', 'shakes', 'shakespeare', 'shakespearean', 'shakily', 'shakingly', 'shakur', 'shaky', 'shalhoub', 'shalit', 'shall', 'shallow', 'shallowly', 'shallowness', 'shalt', 'shamble', 'shambles', 'shambling', 'shambolic', 'shame', 'shameful', 'shameless', 'shamelessly', 'shamelessness', 'shampoo', 'shana', 'shandling', 'shane', 'shanghai', 'shankman', 'shanley', 'shannon', 'shape', 'shaped', 'shapeless', 'shapelessness', 'shapely', 'shapes', 'shaping', 'shaq', 'shaquille', 'shards', 'share', 'shared', 'shares', 'shari', 'sharing', 'shark', 'sharks', 'sharmila', 'sharon', 'sharp', 'sharpen', 'sharpened', 'sharpening', 'sharper', 'sharply', 'sharpster', 'shatner', 'shattered', 'shattering', 'shatteringly', 'shaved', 'shaves', 'shaw', 'shawn', 'shawshank', 'she', 'shea', 'sheathed', 'shed', 'sheds', 'sheedy', 'sheehan', 'sheen', 'sheep', 'sheer', 'sheerly', 'sheet', 'sheets', 'shekhar', 'shelf', 'shell', 'shellacked', 'shells', 'shelmerdine', 'shelter', 'shelton', 'shelved', 'shelves', 'shenanigans', 'shepard', 'shepherd', 'sheridan', 'sheriff', 'sheriffs', 'sherilyn', 'sherman', 'shield', 'shift', 'shifted', 'shifting', 'shiftless', 'shifts', 'shiloh', 'shimmering', 'shimmeringly', 'shimmers', 'shimmery', 'shine', 'shines', 'shining', 'shiningly', 'shiny', 'ship', 'shipload', 'shipped', 'shipwrecked', 'shirley', 'shirt', 'shirtless', 'shirts', 'shit', 'shivers', 'shlub', 'shock', 'shocked', 'shocker', 'shockers', 'shocking', 'shockingly', 'shocks', 'shoddier', 'shoddiest', 'shoddily', 'shoddiness', 'shoddy', 'shoe', 'shoehorned', 'shoehorning', 'shoehorns', 'shoeish', 'shoes', 'shoestring', 'shone', 'shoot', 'shooting', 'shootings', 'shootout', 'shootouts', 'shoots', 'shop', 'shopping', 'shopworn', 'shore', 'shorn', 'short', 'shortage', 'shortchanges', 'shortcomings', 'shorter', 'shortest', 'shorthand', 'shorts', 'shortsighted', 'shorty', 'shot', 'shotgun', 'shots', 'should', 'shoulder', 'shoulders', 'shouldn', 'shout', 'shouting', 'shove', 'shoved', 'shovelfuls', 'shoves', 'show', 'showbiz', 'showboating', 'showcase', 'showcases', 'showcasing', 'showdown', 'showdowns', 'showed', 'shower', 'showers', 'showgirls', 'showhorse', 'showing', 'showman', 'showmanly', 'showmanship', 'shown', 'showpiece', 'showpieces', 'shows', 'showstopper', 'showy', 'shred', 'shredding', 'shrew', 'shrewd', 'shrewder', 'shrewdest', 'shrewdly', 'shriek', 'shrieking', 'shrieks', 'shrift', 'shrill', 'shrink', 'shrinkage', 'shrinks', 'shriveled', 'shroud', 'shrouded', 'shrug', 'shrugs', 'shrunken', 'shtick', 'shticky', 'shucks', 'shudder', 'shuddering', 'shue', 'shuffle', 'shuffling', 'shuld', 'shulgasser', 'shun', 'shut', 'shuts', 'shutting', 'shuttlesworth', 'shy', 'shyamalan', 'shyer', 'shying', 'shyness', 'siamese', 'sibling', 'siblings', 'sica', 'sick', 'sickened', 'sickening', 'sickeningly', 'sickest', 'sickly', 'sickness', 'sid', 'siddhartha', 'side', 'sidebar', 'sided', 'sidekick', 'sidekicks', 'sidelines', 'sides', 'sideshow', 'sidestep', 'sidesteps', 'sideswipes', 'sideways', 'sidney', 'siecle', 'siege', 'siegel', 'sierra', 'sift', 'sifting', 'sigh', 'sighing', 'sighs', 'sight', 'sightings', 'sightlines', 'sights', 'sign', 'signal', 'signaled', 'signaling', 'signals', 'signature', 'signed', 'signficant', 'significance', 'significant', 'significantly', 'signifiers', 'signify', 'signifying', 'signposted', 'signs', 'sigourney', 'siku', 'silence', 'silences', 'silent', 'silhouetted', 'silk', 'silkwood', 'sillier', 'silliest', 'silliness', 'silly', 'silver', 'simian', 'similar', 'similarities', 'similarly', 'simmering', 'simmers', 'simon', 'simpatico', 'simpering', 'simple', 'simpleminded', 'simplemindedness', 'simpler', 'simplest', 'simpleton', 'simplicities', 'simplicity', 'simplification', 'simplified', 'simplisms', 'simplistic', 'simply', 'simpson', 'simpy', 'simulated', 'simulator', 'simultaneously', 'sin', 'sinatra', 'sinbad', 'since', 'sincere', 'sincerely', 'sincerity', 'sine', 'sinecures', 'sinewy', 'sinfulness', 'sing', 'singe', 'singed', 'singer', 'singers', 'singin', 'singing', 'single', 'singlemindedness', 'singles', 'singleton', 'sings', 'singular', 'singularly', 'sinise', 'sinister', 'sink', 'sinker', 'sinking', 'sinks', 'sinn', 'sins', 'siodmak', 'sip', 'sir', 'siren', 'sirens', 'sirk', 'sirree', 'sissy', 'sister', 'sisterhood', 'sisterly', 'sisters', 'sit', 'sitcom', 'sitcoms', 'sitcomsitcom', 'sites', 'sits', 'sitters', 'sitting', 'situated', 'situation', 'situational', 'situations', 'six', 'sixed', 'sixteenth', 'sixth', 'sixties', 'sixty', 'sixtysome', 'sizable', 'size', 'sized', 'sizemore', 'sizes', 'sizzle', 'sizzles', 'sizzling', 'skeevy', 'skein', 'skeletons', 'skelter', 'skeptical', 'skepticism', 'skeptics', 'skeritt', 'sketch', 'sketchbook', 'sketched', 'sketches', 'sketchily', 'sketchy', 'skewed', 'skewer', 'skewered', 'skewering', 'skewers', 'skewing', 'ski', 'skid', 'skids', 'skies', 'skilful', 'skill', 'skilled', 'skillful', 'skillfully', 'skillfulness', 'skills', 'skimpy', 'skin', 'skinhead', 'skins', 'skip', 'skipper', 'skipping', 'skips', 'skirting', 'skirts', 'skit', 'skits', 'skittish', 'skjoldbjaerg', 'skoal', 'skull', 'skunk', 'sky', 'skye', 'skyline', 'skynet', 'skyscraper', 'skyward', 'skywriting', 'sl2', 'slab', 'slack', 'slacker', 'slackers', 'slackerville', 'slackly', 'slackness', 'slain', 'slam', 'slambang', 'slams', 'slang', 'slant', 'slanted', 'slap', 'slapdash', 'slaphappy', 'slapped', 'slapstick', 'slapsticky', 'slash', 'slasher', 'slashes', 'slashing', 'slashingly', 'slater', 'slaughter', 'slaughtered', 'slaughterer', 'slave', 'slaved', 'slavery', 'slavish', 'slavishly', 'slayer', 'slaying', 'sleaze', 'sleaziest', 'sleazy', 'sledding', 'sledgehammer', 'sleek', 'sleep', 'sleeper', 'sleepers', 'sleeping', 'sleepless', 'sleepover', 'sleepwalking', 'sleepy', 'sleeve', 'sleeves', 'sleight', 'slender', 'sleuthing', 'sleuths', 'slew', 'slews', 'slice', 'sliced', 'slices', 'slick', 'slicked', 'slicker', 'slickers', 'slickly', 'slickness', 'slide', 'slides', 'sliding', 'slight', 'slighted', 'slightest', 'slighting', 'slightly', 'slightness', 'slim', 'slime', 'slimiest', 'slimmer', 'slimy', 'sling', 'slings', 'slink', 'slinks', 'slip', 'slipped', 'slippery', 'slipping', 'slips', 'slipshod', 'slither', 'slithery', 'slob', 'slog', 'slogan', 'slogans', 'slogging', 'sloppily', 'sloppiness', 'sloppy', 'sloshbuckler', 'sloths', 'slotting', 'slouching', 'sloughing', 'slovenly', 'slow', 'slowed', 'slower', 'slowest', 'slowing', 'slowly', 'slugfest', 'sluggish', 'sluggishly', 'slumbering', 'slumdog', 'slumming', 'slump', 'slumped', 'slums', 'slush', 'sly', 'slyly', 'smack', 'smacking', 'small', 'smaller', 'smallest', 'smalley', 'smallish', 'smalls', 'smarm', 'smarmy', 'smart', 'smarter', 'smartest', 'smarties', 'smarting', 'smartly', 'smartness', 'smarts', 'smash', 'smashing', 'smashingly', 'smattering', 'smeared', 'smell', 'smells', 'smile', 'smiled', 'smiles', 'smiling', 'smirk', 'smirkiness', 'smirking', 'smith', 'smitings', 'smog', 'smoke', 'smoked', 'smokehouse', 'smokes', 'smokescreen', 'smokey', 'smokin', 'smoking', 'smoldering', 'smollett', 'smoochers', 'smooth', 'smoothe', 'smoothed', 'smoothes', 'smoothly', 'smoothness', 'smooths', 'smorgasbord', 'smother', 'smothering', 'smothers', 'smudged', 'smudgy', 'smug', 'smuggle', 'smuggling', 'smugness', 'smuttiness', 'smutty', 'snacks', 'snag', 'snail', 'snake', 'snakebitten', 'snakelike', 'snakes', 'snap', 'snappers', 'snappily', 'snappy', 'snaps', 'snapshot', 'snare', 'snarky', 'snarling', 'snatched', 'snatchers', 'snatches', 'snazzy', 'sneak', 'sneakers', 'sneaks', 'sneaky', 'sneeze', 'snicker', 'snickered', 'snickering', 'snide', 'sniff', 'sniffle', 'snipes', 'snippets', 'snl', 'snobbish', 'snobs', 'snookered', 'snooty', 'snooze', 'snoozes', 'snoozing', 'snoozola', 'snoozy', 'snore', 'snorefest', 'snorting', 'snottiness', 'snotty', 'snow', 'snowballs', 'snowboarding', 'snowbound', 'snowman', 'snowstorm', 'snubbed', 'snuff', 'snuggle', 'so', 'soak', 'soaked', 'soaker', 'soap', 'soaper', 'soapy', 'soar', 'soared', 'soaring', 'soaringly', 'soars', 'sob', 'sobbing', 'sobchak', 'sober', 'sobering', 'sobieski', 'sobriety', 'soccer', 'sociable', 'social', 'socialite', 'socialization', 'socially', 'societal', 'society', 'socio', 'sociological', 'sociologically', 'sociology', 'sociopath', 'sociopathology', 'sociopolitical', 'sock', 'socket', 'sockets', 'sockey', 'socko', 'socks', 'socky', 'soda', 'sodden', 'soderbergh', 'soft', 'softcore', 'softened', 'softhearted', 'softie', 'softley', 'softly', 'software', 'soggiest', 'sogginess', 'soggy', 'soho', 'solar', 'solaris', 'sold', 'soldier', 'soldiers', 'sole', 'solely', 'solemn', 'solemnity', 'solemnly', 'solicitor', 'solid', 'solidify', 'solidly', 'soliloquizing', 'solipsism', 'solipsistic', 'solitary', 'solo', 'soloflex', 'solomon', 'solondz', 'solution', 'solutions', 'solve', 'solved', 'solves', 'solving', 'somber', 'somberness', 'sombre', 'some', 'somebody', 'someday', 'somehow', 'someone', 'someplace', 'somersault', 'somersaults', 'something', 'sometime', 'sometimes', 'somewhat', 'somewhere', 'sominex', 'sommersby', 'somnolent', 'son', 'song', 'songs', 'songwriter', 'songwriters', 'songwriting', 'sonic', 'sonically', 'sonnenfeld', 'sonny', 'sons', 'sony', 'soon', 'sooner', 'soothing', 'soothingly', 'sop', 'sophie', 'sophisticated', 'sophisticatedly', 'sophistication', 'sophomore', 'sophomores', 'sophomoric', 'soporific', 'soppiest', 'soppy', 'sordid', 'sore', 'sorely', 'sores', 'sorkin', 'sorrier', 'sorrow', 'sorrowful', 'sorrowing', 'sorrows', 'sorry', 'sort', 'sorts', 'sorvino', 'soubeyrans', 'souffle', 'soul', 'souled', 'soulful', 'soulless', 'soulmate', 'souls', 'sound', 'sounded', 'sounding', 'sounds', 'soundtrack', 'soup', 'soupcon', 'souped', 'soupy', 'sour', 'source', 'sources', 'soured', 'south', 'southeast', 'southern', 'southwestern', 'souvenir', 'souviens', 'souza', 'soviet', 'sow', 'sows', 'sox', 'soylent', 'soze', 'space', 'spaceballs', 'spaced', 'spacek', 'spaces', 'spaceship', 'spaceships', 'spacey', 'spaciousness', 'spackle', 'spade', 'spades', 'spaghetti', 'spain', 'span', 'spangled', 'spangles', 'spanish', 'spanking', 'spanning', 'spans', 'spare', 'spared', 'sparely', 'spareness', 'sparingly', 'spark', 'sparked', 'sparkle', 'sparkled', 'sparkles', 'sparkling', 'sparks', 'sparky', 'sparring', 'sparse', 'spartacus', 'spasmodically', 'spasms', 'spate', 'spatial', 'spats', 'spattered', 'spatters', 'spawn', 'spawned', 'speak', 'speaking', 'speaks', 'spear', 'spearhead', 'spearheaded', 'special', 'specialist', 'specialized', 'specialty', 'species', 'specific', 'specifically', 'specifications', 'specificity', 'specifics', 'specify', 'specimens', 'speciousness', 'specs', 'spectacle', 'spectacles', 'spectacular', 'spectacularly', 'spectator', 'specter', 'specters', 'spectral', 'spectres', 'spectrum', 'speculation', 'speech', 'speeches', 'speechless', 'speechy', 'speed', 'speedboat', 'speeding', 'speeds', 'speedy', 'speilberg', 'spell', 'spellbinder', 'spellbinding', 'spellbound', 'spelling', 'spells', 'spencer', 'spend', 'spending', 'spends', 'spent', 'sperm', 'spheeris', 'sphere', 'spice', 'spiced', 'spicy', 'spider', 'spiders', 'spidery', 'spielberg', 'spielbergian', 'spies', 'spiffy', 'spike', 'spiked', 'spiking', 'spiky', 'spill', 'spilled', 'spillover', 'spills', 'spin', 'spinal', 'spine', 'spinner', 'spinning', 'spinoff', 'spins', 'spinster', 'spinsterish', 'spinwheel', 'spiral', 'spiraling', 'spiralling', 'spirals', 'spirit', 'spirited', 'spiritedness', 'spirits', 'spiritual', 'spiritualist', 'spirituality', 'spiritually', 'spit', 'spitball', 'spitballs', 'spite', 'spiteful', 'spits', 'spitting', 'splash', 'splashed', 'splashes', 'splashing', 'splashy', 'splat', 'splatter', 'splattered', 'splatterfest', 'splattering', 'spleen', 'splendid', 'splendidly', 'splendor', 'splices', 'splicing', 'splintered', 'splinters', 'split', 'splits', 'splitting', 'splotches', 'splotchy', 'spock', 'spoil', 'spoilage', 'spoiled', 'spoke', 'spoken', 'spokesman', 'spokesperson', 'spokeswoman', 'sponge', 'spontaneity', 'spontaneous', 'spoof', 'spoofery', 'spoofing', 'spoofs', 'spoofy', 'spook', 'spooked', 'spookies', 'spooky', 'spoon', 'sporadic', 'sporadically', 'sport', 'sports', 'sportswriters', 'sportswriting', 'spot', 'spotless', 'spotlight', 'spots', 'spottily', 'spotting', 'spottiswoode', 'spotty', 'spouse', 'spouses', 'spouting', 'sprang', 'sprawl', 'sprawling', 'sprawls', 'spraying', 'sprays', 'spread', 'spreading', 'spreads', 'sprightliest', 'sprightly', 'spring', 'springer', 'springing', 'springs', 'sprinkled', 'sprint', 'sprouts', 'spruced', 'spry', 'spun', 'spunk', 'spunky', 'spur', 'spurious', 'spurned', 'spurning', 'spurred', 'spurs', 'spurt', 'spurting', 'spurts', 'sputtering', 'sputters', 'spy', 'spycraft', 'squabble', 'squabbles', 'squad', 'squall', 'squalor', 'squander', 'squandering', 'squanders', 'square', 'squarely', 'squareness', 'squashed', 'squatters', 'squawk', 'squeak', 'squeaking', 'squeaky', 'squeal', 'squealfest', 'squealing', 'squeals', 'squeamish', 'squeegees', 'squeeze', 'squeezes', 'squibs', 'squints', 'squinty', 'squirm', 'squirming', 'squirting', 'squirts', 'squished', 'squishy', 'sr', 'ss', 'st', 'stab', 'stabathons', 'stabbed', 'stabbing', 'stabilizes', 'stabs', 'staccato', 'stack', 'stacked', 'stadium', 'staff', 'staffed', 'staffers', 'stage', 'stagecoach', 'staged', 'stagehands', 'stages', 'stagey', 'staggering', 'staggeringly', 'staginess', 'staging', 'stagnantly', 'stagy', 'staid', 'stained', 'staining', 'stainless', 'stairs', 'stake', 'stakes', 'stalags', 'stale', 'staleness', 'stalk', 'stalkee', 'stalker', 'stalking', 'stalled', 'stallion', 'stallone', 'stalls', 'stamina', 'stamp', 'stamped', 'stampede', 'stampeding', 'stance', 'stand', 'standard', 'standardized', 'standards', 'standby', 'standbys', 'standing', 'standoff', 'standout', 'standpoint', 'stands', 'stanley', 'stanleys', 'stanton', 'stanwyck', 'staple', 'staples', 'star', 'starch', 'starched', 'stardom', 'stardust', 'stare', 'stargate', 'staring', 'stark', 'starkly', 'starkness', 'starlet', 'starred', 'starrer', 'starring', 'starry', 'stars', 'starship', 'starstruck', 'start', 'started', 'starting', 'startle', 'startles', 'startling', 'startlingly', 'starts', 'starved', 'starves', 'state', 'stated', 'stately', 'statement', 'statements', 'staten', 'states', 'statesman', 'static', 'station', 'stationary', 'stature', 'status', 'staunch', 'stave', 'stay', 'staying', 'stays', 'stead', 'steadfast', 'steadfastness', 'steadicam', 'steadily', 'steadiness', 'steady', 'steal', 'stealer', 'stealing', 'stealingly', 'steals', 'stealthily', 'steam', 'steamed', 'steaming', 'steampunk', 'steamy', 'steel', 'steely', 'steenburgen', 'steeped', 'steerage', 'steered', 'steering', 'steers', 'steiger', 'stein', 'steinbeck', 'stella', 'stellar', 'stem', 'stemwinder', 'stench', 'step', 'stepfather', 'stepford', 'stephen', 'stephenie', 'stepin', 'stepmom', 'stepping', 'steps', 'stereoscopic', 'stereotype', 'stereotyped', 'stereotypes', 'stereotypical', 'stereotyping', 'sterile', 'sterility', 'sterilization', 'sterling', 'stern', 'sternberg', 'sternest', 'steve', 'steven', 'stevens', 'stevenson', 'stew', 'stewart', 'stewpot', 'stick', 'stickier', 'stickiness', 'sticking', 'sticks', 'sticky', 'stiff', 'stiffer', 'stiffle', 'stiffly', 'stifled', 'stifles', 'stifling', 'stigmata', 'stiles', 'still', 'stillborn', 'stiller', 'stillman', 'stillness', 'stilted', 'stimulates', 'stimulating', 'stimulation', 'stimuli', 'sting', 'stinging', 'stingy', 'stink', 'stinker', 'stinkeroos', 'stinks', 'stint', 'stir', 'stirred', 'stirring', 'stirringly', 'stirs', 'stitch', 'stitched', 'stitches', 'stitching', 'stock', 'stocked', 'stocking', 'stodginess', 'stodgy', 'stoic', 'stoked', 'stoker', 'stole', 'stolen', 'stolid', 'stoltz', 'stomach', 'stomp', 'stomped', 'stomper', 'stomping', 'stone', 'stoned', 'stoner', 'stoney', 'stood', 'stooges', 'stop', 'stoppard', 'stopped', 'stopping', 'stoppingly', 'stops', 'stopwatch', 'storage', 'storaro', 'store', 'stores', 'stories', 'storm', 'stormed', 'storming', 'stormy', 'story', 'storyboard', 'storybook', 'storybooks', 'storyline', 'storymen', 'storyteller', 'storytellers', 'storytelling', 'straddles', 'straddling', 'stradivarius', 'straight', 'straightened', 'straightforward', 'straightforwardly', 'straightfowardness', 'strain', 'strained', 'straining', 'strains', 'strait', 'straitjacketed', 'straitjackets', 'straitlaced', 'strand', 'stranded', 'strands', 'strange', 'strangelove', 'strangelovian', 'strangely', 'strangeness', 'stranger', 'strangers', 'strangest', 'strangle', 'stranglehold', 'strangulation', 'strapped', 'stratagems', 'strategic', 'strategies', 'strategy', 'straw', 'strawberries', 'strawberry', 'stray', 'strayed', 'straying', 'strays', 'streak', 'streaks', 'stream', 'streamlined', 'streamlining', 'streep', 'street', 'streetcar', 'streetfighting', 'streets', 'streisand', 'strength', 'strengths', 'strenuous', 'strenuously', 'stress', 'stretch', 'stretched', 'stretches', 'stretching', 'strewn', 'strick', 'strict', 'stricter', 'strictest', 'strictly', 'strictures', 'stride', 'strident', 'striding', 'strife', 'strike', 'strikeouts', 'strikes', 'striking', 'strikinglook', 'strikingly', 'strindberg', 'string', 'strings', 'strip', 'stripe', 'stripes', 'stripped', 'stripping', 'strips', 'striptease', 'strives', 'striving', 'strkingly', 'stroke', 'strokes', 'stroll', 'strolls', 'stroman', 'stromberg', 'strong', 'stronger', 'strongest', 'strongly', 'strove', 'strsight', 'struck', 'structural', 'structurally', 'structure', 'structured', 'structures', 'strugatz', 'struggle', 'struggled', 'struggles', 'struggling', 'strung', 'strut', 'struts', 'stuart', 'stub', 'stubborn', 'stubbornly', 'stuck', 'stud', 'studded', 'student', 'students', 'studied', 'studies', 'studio', 'studios', 'studiously', 'study', 'stuff', 'stuffed', 'stuffer', 'stuffiness', 'stuffy', 'stultifying', 'stumble', 'stumbled', 'stumbles', 'stumbling', 'stump', 'stumps', 'stunned', 'stunner', 'stunning', 'stunningly', 'stunt', 'stunted', 'stuntman', 'stunts', 'stupefaction', 'stupefying', 'stupefyingly', 'stupendous', 'stupendously', 'stupid', 'stupidity', 'stupidly', 'sturdy', 'sturges', 'style', 'styled', 'styles', 'styling', 'stylisation', 'stylised', 'stylish', 'stylishly', 'stylishness', 'stylistic', 'stylistically', 'stylists', 'stylization', 'stylized', 'stymied', 'styrofoam', 'styron', 'suave', 'sub', 'subcharacters', 'subconscious', 'subcontracted', 'subculture', 'subdued', 'subduing', 'suberb', 'subgenre', 'subject', 'subjected', 'subjective', 'subjectively', 'subjectivity', 'subjects', 'sublety', 'sublimated', 'sublime', 'sublimely', 'sublimity', 'submarine', 'submarines', 'submerge', 'submission', 'submissive', 'submit', 'submits', 'submitted', 'submitting', 'submoronic', 'subordinate', 'subordinated', 'subpar', 'subplot', 'subplots', 'subsequent', 'subsides', 'substance', 'substantial', 'substantially', 'substantive', 'substitute', 'substituted', 'substitutes', 'substituting', 'substructure', 'subsumed', 'subtext', 'subtexts', 'subtextually', 'subtitle', 'subtitled', 'subtitles', 'subtle', 'subtler', 'subtlest', 'subtleties', 'subtlety', 'subtly', 'subtract', 'subtractions', 'suburban', 'suburbanite', 'suburbia', 'suburbs', 'subversive', 'subversively', 'subversiveness', 'subvert', 'subverting', 'subverts', 'subway', 'succeed', 'succeeded', 'succeeding', 'succeeds', 'success', 'successes', 'successful', 'successfully', 'succession', 'successor', 'successors', 'succotash', 'succumb', 'succumbed', 'succumbing', 'succumbs', 'such', 'suck', 'sucked', 'sucker', 'suckers', 'sucking', 'sucks', 'sudden', 'suddenly', 'suddenness', 'suds', 'sudsiness', 'sue', 'suffer', 'suffered', 'sufferers', 'sufferin', 'suffering', 'suffers', 'sufficient', 'sufficiently', 'suffocates', 'suffocating', 'suffocatingly', 'suffuses', 'sugar', 'sugarcoated', 'sugary', 'suggest', 'suggested', 'suggestibility', 'suggesting', 'suggestion', 'suggestive', 'suggests', 'suicide', 'suicides', 'suit', 'suitable', 'suitably', 'suite', 'suited', 'suitor', 'suitors', 'suits', 'sulk', 'sullavan', 'sullen', 'sullivan', 'sultry', 'sum', 'suma', 'summarily', 'summarize', 'summation', 'summed', 'summer', 'summertime', 'summery', 'summit', 'summon', 'summoned', 'sumptuous', 'sumptuously', 'sumptuousness', 'sums', 'sun', 'sunbelt', 'sundance', 'sunday', 'sundry', 'sung', 'sunglasses', 'sunk', 'sunlight', 'sunlit', 'sunniest', 'sunniness', 'sunny', 'sunrise', 'sunroof', 'sunset', 'sunsets', 'sunshine', 'super', 'superb', 'superbly', 'supercharged', 'supercilious', 'superciliousness', 'superconsequence', 'supercop', 'superfical', 'superficial', 'superficiality', 'superficially', 'superfluous', 'superheated', 'superhero', 'superheroes', 'superheroic', 'superhuman', 'superior', 'superiority', 'superlative', 'superlatively', 'superlatives', 'superman', 'supermodels', 'supermusical', 'supernatural', 'supernova', 'superpower', 'superpowers', 'superproduction', 'superrealism', 'supersexy', 'superspectacle', 'superstar', 'superstars', 'supervillains', 'superviolent', 'supervision', 'superwoman', 'supplement', 'supplemented', 'supplied', 'supplies', 'supply', 'supplying', 'support', 'supported', 'supporters', 'supporting', 'suppose', 'supposed', 'supposedly', 'supposition', 'suppressed', 'suppressing', 'suppressions', 'supreme', 'supremely', 'sure', 'surely', 'surf', 'surface', 'surfaces', 'surfeit', 'surfing', 'surgeon', 'surgery', 'surgical', 'surgically', 'surly', 'surmounting', 'surmounts', 'surpass', 'surpassed', 'surpasses', 'surpassing', 'surplus', 'surprise', 'surprised', 'surprises', 'surprising', 'surprisingly', 'surreal', 'surrealism', 'surrealist', 'surrealistic', 'surrealistically', 'surreally', 'surrender', 'surrendered', 'surrendering', 'surreptitiously', 'surrogate', 'surround', 'surrounded', 'surrounding', 'surroundings', 'surrounds', 'surveillance', 'survey', 'survival', 'survive', 'survived', 'survives', 'surviving', 'survivor', 'survivors', 'susan', 'susann', 'susanna', 'susannah', 'susanne', 'susceptibility', 'sushi', 'suspect', 'suspected', 'suspecting', 'suspects', 'suspend', 'suspended', 'suspense', 'suspenseful', 'suspensefully', 'suspenseless', 'suspenser', 'suspension', 'suspicion', 'suspicions', 'suspicious', 'suspiciously', 'sustain', 'sustained', 'sustains', 'sutherland', 'suvari', 'suzanne', 'suzuki', 'sven', 'swagger', 'swaggerer', 'swaggering', 'swaggers', 'swallow', 'swallowed', 'swallows', 'swamp', 'swamped', 'swan', 'swank', 'swankiest', 'swanson', 'swap', 'swarm', 'swarming', 'swarms', 'swashbuckler', 'swashbucklers', 'swashbuckling', 'swat', 'swatch', 'sway', 'sways', 'swayze', 'swear', 'sweat', 'sweater', 'sweaters', 'sweating', 'sweats', 'sweaty', 'swedish', 'sweeney', 'sweep', 'sweeping', 'sweeps', 'sweepstakes', 'sweet', 'sweeter', 'sweetest', 'sweetie', 'sweetly', 'sweetness', 'swell', 'swells', 'swept', 'swerve', 'swift', 'swiftly', 'swiftness', 'swifty', 'swilling', 'swim', 'swimmer', 'swimming', 'swims', 'swing', 'swingers', 'swinging', 'swings', 'swinton', 'swipes', 'swirling', 'swirls', 'swish', 'swiss', 'switch', 'switchbacks', 'switchblade', 'switcheroo', 'switches', 'switching', 'swivel', 'swizzle', 'swollen', 'swooning', 'swoony', 'sword', 'swordplay', 'swords', 'swordsman', 'swung', 'syd', 'sydney', 'syllable', 'syllabus', 'sylvester', 'symbol', 'symbolic', 'symbolism', 'symbolizes', 'symbols', 'symmetrical', 'symmetry', 'sympathetic', 'sympathetically', 'sympathies', 'sympathise', 'sympathises', 'sympathize', 'sympathy', 'symphonic', 'symphony', 'symptom', 'symptoms', 'sync', 'synchronicity', 'syncopated', 'syndication', 'syndrome', 'synergetic', 'synonymous', 'synonyms', 'synopsis', 'synthesis', 'synthesises', 'synthesizer', 'synthetic', 'synthetically', 'syrup', 'syrupy', 'system', 'systematically', 'szabo', 'szwarc', 't2', 't4', 'tabby', 'table', 'tableaus', 'tableaux', 'tables', 'tabloid', 'taboos', 'tabula', 'tackiest', 'tackiness', 'tackle', 'tackles', 'tackling', 'tacky', 'tact', 'tactful', 'tactical', 'tactics', 'tactile', 'tactless', 'tad', 'tag', 'tagging', 'tagline', 'tagore', 'tail', 'tailfins', 'tailor', 'tailored', 'tailspin', 'tain', 'tainted', 'taiwan', 'taj', 'take', 'taken', 'takes', 'takeshi', 'taking', 'talalay', 'tale', 'talent', 'talented', 'talentless', 'talents', 'tales', 'talk', 'talkathons', 'talkative', 'talked', 'talker', 'talkfest', 'talkie', 'talkier', 'talkiness', 'talking', 'talks', 'talky', 'tall', 'tamahori', 'tamar', 'tamara', 'tame', 'tamora', 'tamped', 'tampering', 'tamra', 'tan', 'tandem', 'tandy', 'tangential', 'tangents', 'tangible', 'tangle', 'tangled', 'tango', 'tangoing', 'tank', 'tantalize', 'tantalized', 'tantalizes', 'tantalizing', 'tantalizingly', 'tantrums', 'tap', 'tape', 'tapestry', 'tapped', 'tapping', 'taps', 'taradash', 'tarantino', 'tarantinos', 'target', 'targeted', 'targets', 'tarkovsky', 'tarnished', 'tarsem', 'tart', 'tartar', 'tarvelogue', 'tarzan', 'tashlin', 'task', 'taste', 'tasteful', 'tastefully', 'tasteless', 'tastelessness', 'tastes', 'tastier', 'tasting', 'tasty', 'tat', 'tate', 'tattered', 'tattooed', 'taught', 'taulbert', 'taut', 'tautest', 'tautly', 'tautness', 'tavoularis', 'tawdry', 'tax', 'taxes', 'taxi', 'taxidermy', 'taxing', 'taylor', 'taymor', 'tchotchkes', 'tea', 'teach', 'teacher', 'teaches', 'teaching', 'teacup', 'team', 'teamed', 'teaming', 'teammates', 'teams', 'teamwork', 'tear', 'tearful', 'tearing', 'tearjerker', 'tears', 'teary', 'tease', 'teased', 'teaser', 'teasers', 'teases', 'teasing', 'tech', 'techies', 'techine', 'technical', 'technicality', 'technically', 'technicians', 'technicolor', 'technique', 'techniques', 'techniscope', 'techno', 'technobabble', 'technobrats', 'technocratic', 'technological', 'technologically', 'technology', 'ted', 'teddy', 'tedious', 'tediously', 'tedium', 'tee', 'teems', 'teen', 'teenage', 'teenager', 'teenagers', 'teenhood', 'teens', 'teensploitation', 'teensy', 'teetering', 'teeters', 'teeth', 'tejano', 'tel', 'telegraph', 'telegraphed', 'telegraphing', 'telegraphs', 'telekinesis', 'telekinetic', 'telepathically', 'telepathy', 'telephone', 'telescope', 'teletubbies', 'television', 'televisionally', 'tell', 'teller', 'telling', 'tellingly', 'tells', 'temerity', 'temperament', 'temperature', 'tempered', 'tempering', 'tempest', 'templar', 'template', 'temple', 'temples', 'tempo', 'temporal', 'temporarily', 'tempt', 'temptation', 'temptations', 'tempted', 'tempting', 'ten', 'tenacity', 'tend', 'tended', 'tendencies', 'tendency', 'tendentious', 'tender', 'tenderly', 'tenderness', 'tends', 'tennant', 'tennessee', 'tenniel', 'tenor', 'tens', 'tense', 'tensely', 'tension', 'tensions', 'tentatively', 'tenterhooks', 'tepid', 'terabithia', 'terence', 'term', 'terminal', 'terminally', 'terminate', 'terminator', 'terms', 'terp', 'terra', 'terrain', 'terrence', 'terrible', 'terribly', 'terriffic', 'terrific', 'terrifically', 'terrified', 'terrifying', 'territory', 'terror', 'terrorism', 'terrorist', 'terrorized', 'terrors', 'terry', 'terse', 'teshigahara', 'test', 'testament', 'testaments', 'tested', 'testifies', 'testify', 'testimony', 'testing', 'testosterone', 'tests', 'tete', 'tethered', 'teutonic', 'tex', 'texan', 'texas', 'texasville', 'text', 'textbook', 'textural', 'texture', 'textured', 'textures', 'thackeray', 'thalberg', 'than', 'thang', 'thank', 'thankfully', 'thankless', 'thanks', 'thanksgiving', 'that', 'thatcherite', 'thawing', 'the', 'thea', 'theater', 'theaters', 'theatre', 'theatrical', 'theatricality', 'theatricals', 'theatrics', 'thee', 'thees', 'theft', 'their', 'theirs', 'thelma', 'them', 'thematic', 'thematically', 'thematics', 'theme', 'themed', 'themees', 'themes', 'themovie', 'themselves', 'then', 'theologian', 'theological', 'theorem', 'theoretically', 'theories', 'theorists', 'theory', 'therapeutic', 'therapy', 'there', 'thereafter', 'thereby', 'therefore', 'thereof', 'theron', 'thesaurus', 'these', 'thesis', 'thesp', 'thespian', 'thespians', 'thesping', 'thesps', 'they', 'thi', 'thick', 'thicker', 'thicket', 'thickets', 'thickly', 'thickness', 'thief', 'thievery', 'thieves', 'thighs', 'thiller', 'thin', 'thing', 'thingamajig', 'things', 'think', 'thinking', 'thinks', 'thinner', 'thinness', 'thinnest', 'third', 'thirds', 'thirsty', 'thirteen', 'thirteenth', 'thirty', 'this', 'thom', 'thomas', 'thompson', 'thomson', 'thornton', 'thoroughbreds', 'thoroughly', 'thorp', 'thorpe', 'those', 'thou', 'though', 'thought', 'thoughtful', 'thoughtfully', 'thoughtfulness', 'thoughtless', 'thoughtlessly', 'thoughts', 'thousand', 'thousands', 'thrall', 'thrashes', 'thread', 'threadbare', 'threads', 'threat', 'threaten', 'threatened', 'threatening', 'threatens', 'three', 'threequel', 'threesome', 'threshold', 'thrill', 'thrilled', 'thriller', 'thrillers', 'thrilling', 'thrillingly', 'thrills', 'thrive', 'thrives', 'throat', 'throats', 'throaty', 'throbbing', 'throbs', 'throes', 'throne', 'throttle', 'through', 'throughout', 'throw', 'throwaway', 'throwaways', 'throwback', 'throwing', 'thrown', 'throws', 'thrumming', 'thrust', 'thrusts', 'thtrtc', 'thud', 'thuddingly', 'thuds', 'thug', 'thugs', 'thumb', 'thumbing', 'thumped', 'thumper', 'thumpingly', 'thunder', 'thunderball', 'thunderclaps', 'thundercrack', 'thundering', 'thunderous', 'thunders', 'thunderstorm', 'thurman', 'thus', 'thwart', 'thwarted', 'thx', 'tibet', 'tibetan', 'tick', 'ticket', 'ticketbuyers', 'tickets', 'tickle', 'tickled', 'tickles', 'tickling', 'ticklish', 'ticks', 'tics', 'tidbits', 'tide', 'tidy', 'tidyman', 'tie', 'tied', 'tier', 'tiered', 'tierney', 'ties', 'tiffany', 'tiger', 'tigers', 'tigger', 'tight', 'tightened', 'tightening', 'tightens', 'tighter', 'tightly', 'tightness', 'tightrope', 'tightwire', 'tilda', 'till', 'tillman', 'tilly', 'tilted', 'tilts', 'tim', 'timbers', 'timbre', 'time', 'timecop', 'timed', 'timeless', 'timeline', 'timely', 'timeout', 'timepiece', 'timer', 'times', 'timeworn', 'timex', 'timid', 'timidity', 'timing', 'timorous', 'timothy', 'tin', 'tina', 'tinged', 'tingle', 'tingling', 'tiniest', 'tinkering', 'tinny', 'tinseltown', 'tinted', 'tinto', 'tiny', 'tip', 'tipped', 'tipping', 'tippy', 'tips', 'tiptop', 'tirade', 'tire', 'tired', 'tiredest', 'tireless', 'tirelessly', 'tires', 'tiresome', 'tissues', 'titanic', 'titans', 'titillate', 'titillated', 'titillation', 'title', 'titled', 'titles', 'titling', 'titter', 'tittering', 'titus', 'tko', 'tm', 'to', 'toast', 'toback', 'tobe', 'tobey', 'tobin', 'toby', 'tod', 'today', 'todd', 'toddler', 'toehold', 'toeing', 'toes', 'together', 'togetherness', 'toho', 'toilet', 'token', 'toland', 'told', 'tolerable', 'tolerably', 'tolerance', 'tolerant', 'tolerate', 'tolerated', 'tolkien', 'toll', 'tom', 'tomatoes', 'tomb', 'tomei', 'tomfoolery', 'tomlin', 'tommy', 'tomorrow', 'ton', 'tonal', 'tone', 'toned', 'tones', 'tong', 'tongue', 'tonic', 'tonight', 'toning', 'tonino', 'tons', 'tony', 'too', 'took', 'toole', 'tooled', 'tools', 'toon', 'toons', 'toot', 'tooth', 'toothless', 'toothlessly', 'toothsome', 'tootin', 'tootsie', 'top', 'topaz', 'topflight', 'topic', 'topical', 'topicalities', 'topicality', 'topics', 'topless', 'toplined', 'topliner', 'topnotch', 'topo', 'topor', 'topped', 'topping', 'tops', 'topspin', 'tora', 'torch', 'toreador', 'torment', 'tormented', 'torments', 'torn', 'tornado', 'tornatore', 'toro', 'toronto', 'torpedo', 'torpedoing', 'torpidly', 'torrent', 'torrid', 'torsos', 'tortuous', 'torture', 'tortured', 'torturer', 'torturing', 'torturous', 'torturously', 'toshiro', 'toss', 'tossed', 'tossing', 'tossup', 'tot', 'total', 'totalitarian', 'totalitarianism', 'totally', 'totems', 'toting', 'tots', 'totty', 'touch', 'touched', 'touches', 'touching', 'touchingly', 'touchstone', 'touchy', 'tough', 'tougher', 'toughest', 'toughly', 'toughness', 'tour', 'tourists', 'tourneur', 'tours', 'touted', 'touting', 'touts', 'tow', 'toward', 'towards', 'towering', 'towers', 'town', 'towne', 'towns', 'townsend', 'townspeople', 'toxic', 'toy', 'toying', 'toys', 'trace', 'traced', 'traces', 'tracing', 'track', 'tracker', 'tracking', 'tracks', 'tract', 'traction', 'tracy', 'trade', 'traded', 'trademark', 'trades', 'trading', 'tradition', 'traditional', 'traditionalist', 'traditionally', 'traditions', 'traeger', 'traffic', 'tragedies', 'tragedy', 'tragic', 'tragically', 'tragicomic', 'trail', 'trailer', 'trailers', 'trailing', 'trails', 'train', 'trained', 'training', 'trains', 'trainspotting', 'trainwrecks', 'traipses', 'trait', 'traits', 'trajectories', 'tramp', 'trampling', 'trance', 'trancelike', 'tranche', 'tranquilized', 'transatlantic', 'transcend', 'transcendence', 'transcendent', 'transcendental', 'transcendently', 'transcending', 'transcends', 'transfer', 'transference', 'transferred', 'transfers', 'transfigure', 'transfixes', 'transfixing', 'transform', 'transformation', 'transformed', 'transforming', 'transforms', 'transfusion', 'transgender', 'transgression', 'transient', 'transition', 'transitional', 'transitions', 'transitory', 'translate', 'translated', 'translates', 'translation', 'translations', 'translators', 'transmitted', 'transparent', 'transpires', 'transplant', 'transport', 'transportation', 'transported', 'transporting', 'transports', 'transposed', 'transsexual', 'transvestite', 'trap', 'trapdoor', 'trapped', 'trapping', 'trappings', 'trash', 'trashdance', 'trashed', 'trashily', 'trashy', 'trattoria', 'trauma', 'traumas', 'traumatize', 'travails', 'travel', 'traveled', 'traveler', 'travelers', 'traveling', 'travelogue', 'travels', 'travers', 'traversed', 'traverses', 'travestied', 'travesty', 'travoilta', 'travolta', 'trawl', 'tray', 'treacheries', 'treacherous', 'treachery', 'treacle', 'treacly', 'tread', 'treadmill', 'treads', 'treasurable', 'treasure', 'treasures', 'treat', 'treated', 'treating', 'treatise', 'treatment', 'treatments', 'treats', 'tree', 'treehouse', 'trees', 'trek', 'trekkers', 'trekkie', 'tremendous', 'tremendously', 'tremors', 'tremulousness', 'trenchant', 'trenchcoat', 'trenchcoats', 'trend', 'trendiness', 'trends', 'trendy', 'tres', 'trevor', 'trey', 'tri', 'triad', 'trial', 'trials', 'triangle', 'triaxial', 'tribe', 'tribulation', 'tribulations', 'tribute', 'trick', 'tricked', 'trickery', 'trickiness', 'tricks', 'tricky', 'tried', 'tries', 'trifecta', 'trifle', 'trigger', 'triggers', 'trilogy', 'trim', 'trimmed', 'trimmer', 'trimmings', 'trims', 'trintignant', 'trio', 'trip', 'tripe', 'triple', 'tripper', 'tripping', 'tripplehorn', 'trips', 'trite', 'triteness', 'tritest', 'triumph', 'triumphant', 'triumphantly', 'triumphed', 'triumphing', 'triumphs', 'trivia', 'trivial', 'trivialise', 'triviality', 'trivialization', 'trivialize', 'trivializing', 'trod', 'trojan', 'trombones', 'tron', 'troop', 'troopers', 'trope', 'tropical', 'trot', 'trots', 'trotta', 'trotting', 'trouble', 'troubled', 'troubles', 'troublesome', 'troubling', 'trough', 'troup', 'troupers', 'troupes', 'trouping', 'trousers', 'trout', 'troweled', 'trowels', 'troy', 'truck', 'trucker', 'trucks', 'trudging', 'true', 'truer', 'truest', 'truffaut', 'truly', 'truman', 'trumbull', 'trump', 'trumpeted', 'trumpets', 'trumps', 'trussed', 'trust', 'trusting', 'truth', 'truthfulness', 'truths', 'try', 'tryin', 'trying', 'tthe', 'tub', 'tubbs', 'tube', 'tubes', 'tucci', 'tucked', 'tucker', 'tuckers', 'tufano', 'tufnel', 'tug', 'tugger', 'tugging', 'tugs', 'tuition', 'tumble', 'tumbled', 'tumbles', 'tumbleweeds', 'tumbling', 'tummies', 'tummy', 'tumult', 'tumultuous', 'tundra', 'tune', 'tuned', 'tuneful', 'tunefulness', 'tunes', 'tuney', 'tuning', 'tunnel', 'tupac', 'turbo', 'turbulent', 'turf', 'turgid', 'turkey', 'turkeys', 'turmoil', 'turn', 'turned', 'turner', 'turning', 'turnover', 'turns', 'turnstiles', 'turny', 'turteltaub', 'turtleneck', 'turturro', 'tushes', 'tussels', 'tussle', 'tuxedo', 'tv', 'twaddle', 'twain', 'tweak', 'tweaked', 'tweaks', 'twee', 'tween', 'tweeners', 'tweeness', 'tweezers', 'twelve', 'twenty', 'twentysomething', 'twice', 'twilight', 'twin', 'twinkie', 'twinkling', 'twins', 'twist', 'twisted', 'twister', 'twisteroos', 'twisting', 'twistings', 'twists', 'twisty', 'twitch', 'twitchiest', 'twitching', 'twittiness', 'two', 'twohy', 'twosome', 'ty', 'tycoon', 'tying', 'tykes', 'tyler', 'type', 'typecasting', 'types', 'typical', 'typically', 'typified', 'typing', 'tyranny', 'tyro', 'uber', 'ubiquitous', 'ugh', 'ugliest', 'ugliness', 'ugly', 'ugolin', 'uh', 'uhb', 'uhry', 'ultimate', 'ultimately', 'ultra', 'ultrafeminine', 'ultralong', 'ultraviolent', 'um', 'uma', 'umbers', 'umbrella', 'umbrellas', 'umpteenth', 'un', 'unabashed', 'unabashedly', 'unabated', 'unable', 'unaccommodating', 'unaccountably', 'unacknowledged', 'unaddressed', 'unadorned', 'unadulterated', 'unadvised', 'unaffected', 'unaffectedly', 'unafraid', 'unaltered', 'unambiguous', 'unambitious', 'unamusing', 'unanesthetized', 'unanswered', 'unapologetic', 'unapologetically', 'unappealing', 'unappealingly', 'unappetizing', 'unappreciated', 'unarguably', 'unashamed', 'unassembling', 'unassuming', 'unassumingly', 'unattractive', 'unavailable', 'unavoidable', 'unavoidably', 'unaware', 'unbearable', 'unbearably', 'unbelievable', 'unbelievably', 'unblemished', 'unblinking', 'unblushing', 'unblushingly', 'unbridled', 'unbroken', 'unbuttoned', 'uncannily', 'uncanny', 'unceasingly', 'unceremoniously', 'uncertain', 'uncertainly', 'uncertainty', 'unchallengeable', 'uncharacteristically', 'uncharted', 'unclassifiable', 'uncle', 'unclear', 'uncluttered', 'uncomfortable', 'uncomfortably', 'uncommon', 'uncommonly', 'uncompelling', 'uncomplicated', 'uncomprehending', 'uncompromised', 'uncompromising', 'unconcerned', 'unconditional', 'unconnected', 'unconscious', 'unconstrained', 'uncontrollable', 'unconventional', 'unconventionally', 'unconverted', 'unconvincing', 'unconvincingly', 'uncool', 'uncorrupted', 'uncorrupting', 'uncorseted', 'uncover', 'uncovered', 'uncovering', 'uncovers', 'uncritical', 'unctuous', 'uncultivated', 'uncut', 'undaunted', 'undead', 'undecided', 'undefinable', 'undefined', 'undemanding', 'undeniable', 'undeniably', 'under', 'underappreciated', 'undercooked', 'undercover', 'undercurrent', 'undercurrents', 'undercut', 'undercuts', 'undercutting', 'underdeveloped', 'underdog', 'underdogs', 'underestimates', 'undergone', 'undergrad', 'undergraduate', 'underground', 'underlies', 'underline', 'underlines', 'underlying', 'undermined', 'undermines', 'undermining', 'underneath', 'undernourished', 'underpants', 'underpinned', 'underpinning', 'underpinnings', 'underplaying', 'underplays', 'underrated', 'unders', 'underscore', 'underscored', 'underscores', 'undersea', 'underserved', 'undershirt', 'underside', 'understand', 'understandable', 'understandably', 'understanding', 'understands', 'understate', 'understated', 'understatement', 'understating', 'understood', 'undertaking', 'undertone', 'undertones', 'undertow', 'underused', 'underwater', 'underwelming', 'underwhelmed', 'underwhelming', 'underwood', 'underworld', 'underwritten', 'undeserved', 'undeserving', 'undetectable', 'undifferentiated', 'undigested', 'undiminished', 'undisciplined', 'undiscovered', 'undiscriminating', 'undisputed', 'undistinguished', 'undone', 'undoubted', 'undoubtedly', 'undramatic', 'undulating', 'unduly', 'undynamic', 'unearned', 'unearthly', 'uneasily', 'uneasiness', 'uneasy', 'uneducated', 'unembarrassed', 'unembellished', 'unemphatic', 'unemployed', 'unencumbered', 'unending', 'unendurable', 'unengaging', 'unenjoyable', 'unentertaining', 'unenviable', 'unequal', 'unequaled', 'unequivocally', 'unerring', 'uneven', 'unevenly', 'unevenness', 'uneventful', 'uneventfulness', 'unexceptional', 'unexciting', 'unexpected', 'unexpectedly', 'unexplained', 'unexpurgated', 'unfailing', 'unfair', 'unfairness', 'unfamiliar', 'unfashionable', 'unfashionably', 'unfathomable', 'unfeeling', 'unfelt', 'unfettered', 'unfinished', 'unflagging', 'unflaggingly', 'unflashy', 'unflattering', 'unflinching', 'unflinchingly', 'unfocused', 'unfold', 'unfolded', 'unfolding', 'unfoldment', 'unfolds', 'unforced', 'unforeseen', 'unforgettable', 'unforgettably', 'unforgivable', 'unforgivably', 'unforgiven', 'unforgiving', 'unformed', 'unfortunate', 'unfortunately', 'unfriendly', 'unfulfilled', 'unfulfilling', 'unfunny', 'unfurls', 'unfussy', 'ungainliness', 'ungainly', 'ungallant', 'unglamorous', 'ungracefully', 'ungrudging', 'unhappily', 'unhappy', 'unhealthy', 'unheard', 'unhinged', 'unholy', 'unhurried', 'unified', 'uniform', 'uniformly', 'unifying', 'unimaginable', 'unimaginative', 'unimaginatively', 'unimportant', 'unimpressed', 'unimpressive', 'uninflated', 'uninhibited', 'uninsistent', 'uninspired', 'uninspiring', 'unintelligent', 'unintelligently', 'unintelligible', 'unintended', 'unintentional', 'unintentionally', 'uninterested', 'uninteresting', 'uninterrupted', 'uninvolved', 'uninvolving', 'union', 'unique', 'uniqueentertainment', 'uniquely', 'uniqueness', 'unit', 'united', 'uniting', 'unity', 'universal', 'universality', 'universally', 'universe', 'university', 'unjustified', 'unkindness', 'unknowable', 'unknowingly', 'unknown', 'unknowns', 'unleash', 'unleashed', 'unleashing', 'unless', 'unlike', 'unlikeable', 'unlikeliest', 'unlikely', 'unlock', 'unlooked', 'unloosed', 'unlucky', 'unmanageable', 'unmemorable', 'unmissable', 'unmistakable', 'unmistakably', 'unmitigated', 'unmotivated', 'unmoved', 'unnecessarily', 'unnecessary', 'unnerstan', 'unnerving', 'unnoticed', 'unobtrusive', 'unofficial', 'unoriginal', 'unorthodox', 'unpalatable', 'unparalleled', 'unpasteurized', 'unpatronizing', 'unpersuasive', 'unpleasant', 'unpleasantness', 'unpleasantville', 'unpredictability', 'unpredictable', 'unpredictably', 'unprepared', 'unpretentious', 'unpretentiously', 'unpromising', 'unpropitiously', 'unpunctuated', 'unqualified', 'unquestionably', 'unquestioningly', 'unquote', 'unrated', 'unravel', 'unraveled', 'unraveling', 'unravels', 'unreal', 'unrealistic', 'unrealistically', 'unreality', 'unreason', 'unreasonable', 'unreasoning', 'unreconstructed', 'unredeemably', 'unrefined', 'unrelenting', 'unrelentingly', 'unreliable', 'unrelieved', 'unremarkable', 'unremitting', 'unremittingly', 'unrepeatable', 'unrepentant', 'unreservedly', 'unresolved', 'unrest', 'unretrievable', 'unrivalled', 'unrolls', 'unromantic', 'unruffled', 'unruly', 'uns', 'unsanitised', 'unsatisfactory', 'unsatisfied', 'unsatisfying', 'unseen', 'unself', 'unselfconscious', 'unselfish', 'unsentimental', 'unsentimentally', 'unsettled', 'unsettling', 'unsexy', 'unshaded', 'unshaken', 'unsheathing', 'unsinkable', 'unsophisticated', 'unsparing', 'unspeakable', 'unspoken', 'unspooling', 'unspools', 'unsportsmanlike', 'unstable', 'unstated', 'unstoppable', 'unstressed', 'unstructured', 'unsuccessful', 'unsuccessfully', 'unsuccessfuly', 'unsullied', 'unsupportive', 'unsure', 'unsurpassed', 'unsurprising', 'unsuspecting', 'unsuspenseful', 'unsympathetic', 'untalented', 'untangle', 'untarnished', 'untaru', 'untaxing', 'untethered', 'unthinkable', 'unthinking', 'until', 'untiring', 'unto', 'untold', 'untouchables', 'untouched', 'untrained', 'untranslatable', 'untrustworthy', 'untwanged', 'unusual', 'unusually', 'unvarnished', 'unveiled', 'unveiling', 'unwatchable', 'unwavering', 'unwaveringly', 'unwieldy', 'unwilling', 'unwillingness', 'unwind', 'unwinning', 'unwisely', 'unwitting', 'unwittingly', 'unworthy', 'unwound', 'unwritten', 'unyielding', 'up', 'upbeat', 'upbeatness', 'upbringing', 'upcoming', 'update', 'updated', 'updates', 'updating', 'updike', 'upends', 'upfront', 'upgrades', 'upheaval', 'upholstery', 'uplift', 'uplifter', 'uplifting', 'upon', 'upper', 'upping', 'uppper', 'uproarious', 'uproariously', 'uprooted', 'ups', 'upscale', 'upset', 'upshot', 'upstage', 'upstages', 'upstaging', 'upstairs', 'upto', 'uranus', 'urban', 'urbane', 'urbanites', 'urbanity', 'urge', 'urged', 'urgency', 'urgent', 'urgently', 'urges', 'urging', 'ursula', 'us', 'usa', 'use', 'used', 'useful', 'usefulness', 'useless', 'uses', 'usher', 'ushered', 'using', 'ustinov', 'usual', 'usually', 'usurp', 'ut', 'utilizes', 'utilizing', 'utmost', 'utopia', 'utopian', 'utter', 'utterances', 'uttered', 'utterly', 'uzi', 'va', 'vacant', 'vacation', 'vaccuum', 'vacuous', 'vacuousness', 'vader', 'vadim', 'vagaries', 'vague', 'vaguely', 'vagueness', 'vain', 'vainglory', 'val', 'valedictory', 'valence', 'valentine', 'valentino', 'valeria', 'valerie', 'valiant', 'valid', 'validation', 'valjean', 'valkyrie', 'vallee', 'valley', 'valleys', 'valor', 'valuable', 'value', 'valued', 'values', 'vamp', 'vamped', 'vampire', 'vampires', 'vampish', 'vamps', 'van', 'vanderbilt', 'vanessa', 'vanish', 'vanished', 'vanishes', 'vanishing', 'vanishings', 'vanities', 'vanity', 'vanquished', 'vanya', 'vapid', 'vapidity', 'vaporous', 'varda', 'variant', 'variation', 'variations', 'varied', 'varieties', 'variety', 'various', 'varsity', 'vary', 'varying', 'vaseline', 'vast', 'vastly', 'vastness', 'vaudeville', 'vaudevillian', 'vaughn', 'vault', 'vaunting', 'vcr', 've', 'veber', 'vector', 'veer', 'veering', 'veers', 'vegas', 'veggie', 'vehicle', 'vehicles', 'vehicular', 'veils', 'vein', 'veins', 'velocity', 'velvet', 'velvety', 'venal', 'venality', 'veneer', 'venerable', 'vengeance', 'vengeful', 'vengefulness', 'venom', 'venomous', 'ventriloquists', 'ventura', 'venture', 'ventures', 'venturing', 'veracity', 'verbal', 'verbiage', 'verbinski', 'verdant', 'verdict', 'verdon', 'verge', 'verges', 'verging', 'verhoeven', 'verisimilitude', 'verite', 'verities', 'vernacular', 'verne', 'veronica', 'veronique', 'versa', 'versatile', 'versatility', 'versed', 'version', 'versions', 'versus', 'vertigo', 'verve', 'very', 'vessel', 'vessels', 'vesting', 'vet', 'veteran', 'veterans', 'vets', 'vetted', 'vexing', 'vi', 'via', 'viable', 'vial', 'vibe', 'vibes', 'vibrance', 'vibrancy', 'vibrant', 'vibrantly', 'vibrates', 'vibration', 'vicariously', 'vice', 'vices', 'vicious', 'viciousness', 'vicissitudes', 'vicky', 'victim', 'victimized', 'victimizers', 'victims', 'victor', 'victoria', 'victorian', 'victory', 'vid', 'vida', 'video', 'videogame', 'videos', 'videotape', 'vie', 'viertel', 'viet', 'vietnam', 'vietnamese', 'view', 'viewed', 'viewer', 'viewers', 'viewing', 'viewings', 'viewpoint', 'viewpoints', 'views', 'vigilante', 'vignettes', 'vigor', 'vigorous', 'vigorously', 'vigour', 'vikings', 'vile', 'villa', 'village', 'villagers', 'villain', 'villainous', 'villains', 'villainy', 'vilsmaier', 'vin', 'vince', 'vincent', 'vincenzo', 'vineyard', 'vinny', 'vintage', 'viola', 'violate', 'violates', 'violating', 'violation', 'violence', 'violent', 'violently', 'violin', 'virginia', 'virginie', 'virginity', 'virtousic', 'virtual', 'virtually', 'virtue', 'virtues', 'virtuosity', 'virtuoso', 'virtuous', 'virus', 'visaul', 'viscera', 'visceral', 'viscerally', 'vise', 'viselike', 'visible', 'visibly', 'vision', 'visionaries', 'visionary', 'visions', 'visit', 'visited', 'visiting', 'visitor', 'visitors', 'visits', 'vistas', 'vistavision', 'visual', 'visualisation', 'visualization', 'visualize', 'visualized', 'visually', 'visuals', 'vital', 'vitality', 'vitalizes', 'vitally', 'vito', 'vitriolic', 'vittorio', 'vitus', 'viva', 'vivacious', 'vivica', 'vivid', 'vividly', 'vocabulary', 'vocal', 'vogue', 'voice', 'voiced', 'voices', 'void', 'voight', 'volatile', 'volcano', 'volkswagen', 'volleys', 'voltage', 'volume', 'volumes', 'voluptuous', 'voluptuously', 'von', 'voodoo', 'voom', 'voracious', 'vortex', 'vote', 'voted', 'voter', 'voters', 'voting', 'voyage', 'voyager', 'voyeurism', 'voyeuristic', 'voyeuristically', 'voyeurs', 'vr', 'vs', 'vu', 'vulgar', 'vulgarises', 'vulgarities', 'vulgarity', 'vulnerability', 'vulnerable', 'waaaay', 'wachowski', 'wackiest', 'wackiness', 'wacko', 'wacky', 'wade', 'wading', 'wafts', 'wag', 'wage', 'wagered', 'wagers', 'wages', 'wagging', 'wagner', 'wagnerian', 'wagons', 'waif', 'wailing', 'wait', 'waited', 'waiting', 'waitress', 'waitresses', 'waits', 'wake', 'waking', 'wald', 'waldo', 'wales', 'walk', 'walkabout', 'walked', 'walken', 'walking', 'walkman', 'walks', 'wall', 'wallace', 'waller', 'wallet', 'walleyed', 'wallop', 'walloper', 'wallops', 'wallow', 'wallowing', 'wallows', 'wallpaper', 'walls', 'walsh', 'walt', 'walter', 'walton', 'waltz', 'wan', 'wanbabe', 'wanda', 'wander', 'wandered', 'wandering', 'wanderings', 'wanders', 'wands', 'wang', 'waning', 'wanly', 'wanna', 'wannabe', 'wannabes', 'want', 'wanted', 'wanting', 'wanton', 'wants', 'war', 'warchus', 'ward', 'wardrobe', 'warehouse', 'warfare', 'warhol', 'warhorse', 'warily', 'warm', 'warmed', 'warmer', 'warmest', 'warmhearted', 'warming', 'warmly', 'warmongering', 'warms', 'warmth', 'warn', 'warner', 'warners', 'warning', 'warnings', 'warns', 'warp', 'warped', 'warping', 'warrant', 'warrants', 'warren', 'warrior', 'warriors', 'wars', 'wart', 'wartime', 'warts', 'wary', 'was', 'wash', 'washed', 'washes', 'washington', 'washout', 'washtub', 'wasn', 'wasps', 'waste', 'wasted', 'wastefulness', 'wasteland', 'waster', 'wastes', 'wasting', 'watch', 'watchability', 'watchable', 'watched', 'watches', 'watchful', 'watchfully', 'watching', 'watchword', 'water', 'waterboy', 'watercolor', 'watercolors', 'waterdrops', 'watered', 'waterfront', 'watergate', 'watering', 'waterlogged', 'watermelon', 'waters', 'waterston', 'watertight', 'waterworld', 'watery', 'watkin', 'watson', 'wattage', 'watts', 'wave', 'wavelength', 'wavers', 'waves', 'waving', 'wax', 'waxahachie', 'waxed', 'waxner', 'waxworks', 'waxy', 'way', 'wayans', 'wayne', 'wayneism', 'ways', 'wayside', 'wayward', 'waywardness', 'we', 'weak', 'weakens', 'weaker', 'weakest', 'weakly', 'weakness', 'weaknesses', 'wealth', 'wealthy', 'weaned', 'weapon', 'weaponry', 'weapons', 'wear', 'weariness', 'wearing', 'wearingly', 'wearisome', 'wears', 'weary', 'wearying', 'wearyingly', 'weather', 'weathered', 'weathers', 'weave', 'weaver', 'weaves', 'web', 'webb', 'webber', 'weber', 'webs', 'wedded', 'wedding', 'weddings', 'wedge', 'wee', 'week', 'weekend', 'weeks', 'weep', 'weeper', 'weepie', 'weepies', 'weeping', 'weepy', 'weigh', 'weighed', 'weighs', 'weight', 'weighted', 'weightier', 'weightily', 'weightless', 'weightlessness', 'weights', 'weighty', 'weimar', 'weir', 'weird', 'weirder', 'weirdest', 'weirdly', 'weirdness', 'weirdos', 'weiss', 'weisz', 'weitz', 'welcome', 'welcoming', 'welfare', 'well', 'welled', 'weller', 'welles', 'wellman', 'wells', 'wellspring', 'wellsprings', 'welter', 'wench', 'wenders', 'wendy', 'went', 'were', 'weren', 'werewolf', 'werner', 'wes', 'wesley', 'wesson', 'west', 'western', 'westerners', 'westernized', 'westerns', 'westlake', 'wet', 'wexler', 'whacked', 'whacks', 'whale', 'whales', 'whammy', 'wharton', 'what', 'whatever', 'whatsoever', 'wheat', 'whedon', 'wheel', 'wheelchair', 'wheelclamped', 'wheeling', 'wheelings', 'wheels', 'wheezing', 'when', 'whenever', 'where', 'whereas', 'whereby', 'wherein', 'wherever', 'whether', 'which', 'whiche', 'whiff', 'while', 'whimper', 'whimsey', 'whimsical', 'whimsically', 'whimsy', 'whine', 'whines', 'whiny', 'whip', 'whiplash', 'whipped', 'whipping', 'whirligigs', 'whirling', 'whiskers', 'whisper', 'whispered', 'whisperer', 'whistled', 'whistling', 'whit', 'whitaker', 'white', 'whitelaw', 'whiten', 'whitewashing', 'whitfield', 'whitmore', 'whitney', 'whiz', 'whizzing', 'who', 'whoa', 'whodunit', 'whodunits', 'whodunnits', 'whoever', 'whole', 'wholehearted', 'wholeheartedly', 'wholeheartedness', 'wholes', 'wholesome', 'wholesomeness', 'wholly', 'whom', 'whoopee', 'whoopi', 'whooshing', 'whopper', 'whopping', 'whore', 'whoring', 'whose', 'whup', 'why', 'wicked', 'wickedly', 'wide', 'widely', 'wider', 'widescreen', 'widow', 'wield', 'wielded', 'wielding', 'wienie', 'wiest', 'wife', 'wig', 'wiggle', 'wild', 'wildcat', 'wilde', 'wildebeest', 'wilder', 'wilderness', 'wildest', 'wildfire', 'wildlife', 'wildly', 'wildness', 'wilds', 'wile', 'wilford', 'wilkinson', 'will', 'willard', 'willed', 'willfully', 'william', 'williams', 'williamson', 'willie', 'willies', 'willing', 'willingess', 'willingness', 'willis', 'willow', 'willpower', 'wills', 'willy', 'wilson', 'wilsons', 'wilted', 'wilts', 'wily', 'wimped', 'wimpier', 'wimpiest', 'wimpiness', 'wimpy', 'win', 'winabis', 'wince', 'wind', 'winded', 'windedness', 'winding', 'window', 'windows', 'winds', 'windshield', 'windshields', 'windswept', 'windup', 'windy', 'wine', 'winepresses', 'wing', 'winger', 'wings', 'winick', 'wink', 'winking', 'winkler', 'winner', 'winners', 'winnie', 'winning', 'winningly', 'winona', 'winos', 'wins', 'winslet', 'winsome', 'winston', 'winter', 'winterbottom', 'wiped', 'wipes', 'wire', 'wired', 'wires', 'wisdom', 'wise', 'wiseacre', 'wisecracking', 'wisecracks', 'wiseguy', 'wiseguys', 'wisely', 'wiseman', 'wiser', 'wisest', 'wish', 'wished', 'wisher', 'wishes', 'wishing', 'wispy', 'wisteria', 'wistful', 'wistfulness', 'wit', 'witch', 'witchcraft', 'witcher', 'witchy', 'with', 'withal', 'withering', 'witherspoon', 'within', 'withnail', 'without', 'withstand', 'witless', 'witlessly', 'witlessness', 'witness', 'witnesses', 'witnessing', 'wits', 'witted', 'wittedness', 'wittier', 'wittiest', 'wittily', 'witty', 'wives', 'wizard', 'wizardly', 'wizardry', 'wla', 'wobbly', 'wodehouse', 'woe', 'woefully', 'woes', 'wolf', 'wolfe', 'wolff', 'wolfgang', 'wolfing', 'wolsey', 'wolski', 'wolves', 'woman', 'womanhood', 'women', 'won', 'wonder', 'wondered', 'wonderful', 'wonderfully', 'wondering', 'wonderland', 'wonderment', 'wonderous', 'wonders', 'wondrous', 'wondrously', 'wong', 'woo', 'wood', 'wooden', 'woodland', 'woods', 'woodsy', 'woody', 'woodyisms', 'wooing', 'wookies', 'woolard', 'woolf', 'woolliness', 'woolly', 'wooshing', 'wooziness', 'woozy', 'word', 'wordplay', 'words', 'wore', 'work', 'workable', 'workaday', 'workaholic', 'worked', 'worker', 'workers', 'working', 'workings', 'workmanlike', 'workmanship', 'workout', 'workouts', 'workplace', 'works', 'workshop', 'world', 'worlds', 'worldview', 'worldwide', 'worm', 'worn', 'worried', 'worry', 'worrying', 'worryingly', 'worse', 'worship', 'worshipping', 'worst', 'worth', 'worthiness', 'worthless', 'worthwhile', 'worthy', 'would', 'wouldn', 'wound', 'wounded', 'wounding', 'woundingly', 'wounds', 'woven', 'wow', 'wowed', 'wracking', 'wrangles', 'wrangling', 'wrap', 'wrapped', 'wrapping', 'wraps', 'wrath', 'wreaked', 'wreaks', 'wreck', 'wreckage', 'wrecks', 'wrench', 'wrenching', 'wrenchingly', 'wrestlers', 'wrestles', 'wrestling', 'wretched', 'wretchedly', 'wright', 'wring', 'wringer', 'wrinkles', 'writ', 'write', 'writer', 'writerly', 'writers', 'writes', 'writhe', 'writing', 'written', 'wrong', 'wrongheaded', 'wrongly', 'wrongs', 'wrote', 'wrought', 'wrung', 'wry', 'wryly', 'wubby', 'wuhl', 'wunderkind', 'wussiest', 'wuthering', 'wuzzy', 'wwii', 'wwriter', 'wyler', 'wyman', 'xavier', 'xenia', 'xerox', 'xhosa', 'xin', 'xiong', 'y2k', 'ya', 'yabba', 'yablans', 'yakkers', 'yank', 'yanked', 'yankee', 'yard', 'yards', 'yarn', 'yarns', 'yasmine', 'yates', 'yawn', 'yawned', 'yawner', 'yawning', 'yawns', 'yay', 'yeah', 'year', 'yearbook', 'yearn', 'yearning', 'yearnings', 'yearns', 'years', 'yell', 'yelling', 'yellow', 'yen', 'yeoh', 'yeoman', 'yes', 'yesterday', 'yesteryear', 'yet', 'yglesias', 'yi', 'yield', 'yielded', 'yielding', 'yields', 'yikes', 'yimou', 'yippie', 'yo', 'yoakam', 'yocks', 'yojimbo', 'yokels', 'yokes', 'yoo', 'yore', 'york', 'yorkers', 'yorkshire', 'yosemite', 'you', 'young', 'younger', 'youngest', 'youngman', 'youngsters', 'your', 'yours', 'yourself', 'youth', 'youthful', 'youthfulness', 'youths', 'yugoslavia', 'yuk', 'yuks', 'yum', 'yun', 'yup', 'yuppie', 'yusna', 'zack', 'zags', 'zahn', 'zaillian', 'zaniness', 'zanuck', 'zany', 'zapped', 'zapping', 'zavattini', 'zeal', 'zealand', 'zealander', 'zealot', 'zealotry', 'zeitgeist', 'zellweger', 'zemeckis', 'zen', 'zero', 'zeroes', 'zest', 'zestfully', 'zesty', 'zeta', 'zhang', 'zhivago', 'ziggurats', 'zigs', 'zigzag', 'zigzags', 'zillion', 'zimmer', 'zing', 'zinger', 'zingers', 'zings', 'zingy', 'zinnemann', 'zinner', 'zip', 'zipper', 'zippo', 'zippy', 'zips', 'zirconium', 'zoe', 'zombie', 'zombies', 'zombified', 'zonca', 'zone', 'zoning', 'zoo', 'zoological', 'zoom', 'zooming', 'zooms', 'zorro', 'zorros', 'zowie', 'zucker', 'zweibel', 'zwick', 'zzzzzs', 'zzzzzzzzz']\n"
     ]
    }
   ],
   "source": [
    "def make_xy(critics, vectorizer=None):\n",
    "    #Your code here    \n",
    "    if vectorizer is None:\n",
    "        vectorizer = CountVectorizer()\n",
    "    X = vectorizer.fit_transform(critics.quote)\n",
    "    X = X.tocsc()  # some versions of sklearn return COO format\n",
    "    y = (critics.fresh == 'fresh').values.astype(np.int)\n",
    "    \n",
    "    print(\"Transformed text vector is \\n{}\".format(X))\n",
    "    print(\"\")\n",
    "    print(\"Words for each feature:\")\n",
    "    print(vectorizer.get_feature_names())\n",
    "    \n",
    "    \n",
    "    return X, y\n",
    "X, y = make_xy(critics)"
   ]
  },
  {
   "cell_type": "markdown",
   "metadata": {},
   "source": [
    "## Naive Bayes"
   ]
  },
  {
   "cell_type": "markdown",
   "metadata": {},
   "source": [
    "From Bayes' Theorem, we have that\n",
    "\n",
    "$$P(c \\vert f) = \\frac{P(c \\cap f)}{P(f)}$$\n",
    "\n",
    "where $c$ represents a *class* or category, and $f$ represents a feature vector, such as $\\bar V(d)$ as above. **We are computing the probability that a document (or whatever we are classifying) belongs to category *c* given the features in the document.** $P(f)$ is really just a normalization constant, so the literature usually writes Bayes' Theorem in context of Naive Bayes as\n",
    "\n",
    "$$P(c \\vert f) \\propto P(f \\vert c) P(c) $$\n",
    "\n",
    "$P(c)$ is called the *prior* and is simply the probability of seeing class $c$. But what is $P(f \\vert c)$? This is the probability that we see feature set $f$ given that this document is actually in class $c$. This is called the *likelihood* and comes from the data. One of the major assumptions of the Naive Bayes model is that the features are *conditionally independent* given the class. While the presence of a particular discriminative word may uniquely identify the document as being part of class $c$ and thus violate general feature independence, conditional independence means that the presence of that term is independent of all the other words that appear *within that class*. This is a very important distinction. Recall that if two events are independent, then:\n",
    "\n",
    "$$P(A \\cap B) = P(A) \\cdot P(B)$$\n",
    "\n",
    "Thus, conditional independence implies\n",
    "\n",
    "$$P(f \\vert c)  = \\prod_i P(f_i | c) $$\n",
    "\n",
    "where $f_i$ is an individual feature (a word in this example).\n",
    "\n",
    "To make a classification, we then choose the class $c$ such that $P(c \\vert f)$ is maximal.\n",
    "\n",
    "There is a small caveat when computing these probabilities. For [floating point underflow](http://nlp.stanford.edu/IR-book/html/htmledition/naive-bayes-text-classification-1.html) we change the product into a sum by going into log space. This is called the LogSumExp trick. So:\n",
    "\n",
    "$$\\log P(f \\vert c)  = \\sum_i \\log P(f_i \\vert c) $$\n",
    "\n",
    "There is another caveat. What if we see a term that didn't exist in the training data? This means that $P(f_i \\vert c) = 0$ for that term, and thus $P(f \\vert c)  = \\prod_i P(f_i | c) = 0$, which doesn't help us at all. Instead of using zeros, we add a small negligible value called $\\alpha$ to each count. This is called Laplace Smoothing.\n",
    "\n",
    "$$P(f_i \\vert c) = \\frac{N_{ic}+\\alpha}{N_c + \\alpha N_i}$$\n",
    "\n",
    "where $N_{ic}$ is the number of times feature $i$ was seen in class $c$, $N_c$ is the number of times class $c$ was seen and $N_i$ is the number of times feature $i$ was seen globally. $\\alpha$ is sometimes called a regularization parameter."
   ]
  },
  {
   "cell_type": "markdown",
   "metadata": {},
   "source": [
    "### Multinomial Naive Bayes and Other Likelihood Functions\n",
    "\n",
    "Since we are modeling word counts, we are using variation of Naive Bayes called Multinomial Naive Bayes. This is because the likelihood function actually takes the form of the multinomial distribution.\n",
    "\n",
    "$$P(f \\vert c) = \\frac{\\left( \\sum_i f_i \\right)!}{\\prod_i f_i!} \\prod_{f_i} P(f_i \\vert c)^{f_i} \\propto \\prod_{i} P(f_i \\vert c)$$\n",
    "\n",
    "where the nasty term out front is absorbed as a normalization constant such that probabilities sum to 1.\n",
    "\n",
    "There are many other variations of Naive Bayes, all which depend on what type of value $f_i$ takes. If $f_i$ is continuous, we may be able to use *Gaussian Naive Bayes*. First compute the mean and variance for each class $c$. Then the likelihood, $P(f \\vert c)$ is given as follows\n",
    "\n",
    "$$P(f_i = v \\vert c) = \\frac{1}{\\sqrt{2\\pi \\sigma^2_c}} e^{- \\frac{\\left( v - \\mu_c \\right)^2}{2 \\sigma^2_c}}$$"
   ]
  },
  {
   "cell_type": "markdown",
   "metadata": {},
   "source": [
    "<div class=\"span5 alert alert-info\">\n",
    "<h3>Exercise Set II</h3>\n",
    "\n",
    "<p><b>Exercise:</b> Implement a simple Naive Bayes classifier:</p>\n",
    "\n",
    "<ol>\n",
    "<li> split the data set into a training and test set\n",
    "<li> Use `scikit-learn`'s `MultinomialNB()` classifier with default parameters.\n",
    "<li> train the classifier over the training set and test on the test set\n",
    "<li> print the accuracy scores for both the training and the test sets\n",
    "</ol>\n",
    "\n",
    "What do you notice? Is this a good classifier? If not, why not?\n",
    "</div>"
   ]
  },
  {
   "cell_type": "code",
   "execution_count": 7,
   "metadata": {},
   "outputs": [
    {
     "name": "stdout",
     "output_type": "stream",
     "text": [
      "Test Score 0.773580056540735\n",
      "Train Score 0.9201371036846615\n"
     ]
    }
   ],
   "source": [
    "#your turn\n",
    "from sklearn.model_selection import train_test_split\n",
    "from sklearn.naive_bayes import MultinomialNB\n",
    "from sklearn import metrics\n",
    "\n",
    "X_train, X_test, y_train, y_test = train_test_split(X,y,test_size=0.25 )\n",
    "model= MultinomialNB()\n",
    "model.fit(X_train,y_train)\n",
    "\n",
    "print(\"Test Score\", model.score(X_test,y_test))\n",
    "print(\"Train Score\", model.score(X_train,y_train))"
   ]
  },
  {
   "cell_type": "code",
   "execution_count": 8,
   "metadata": {},
   "outputs": [
    {
     "name": "stdout",
     "output_type": "stream",
     "text": [
      "Test Score 0.773580056540735\n",
      "Train Score 0.9201371036846615\n"
     ]
    }
   ],
   "source": [
    "#aliter\n",
    "print(\"Test Score\", metrics.accuracy_score(model.predict(X_test),y_test))\n",
    "print(\"Train Score\", metrics.accuracy_score(model.predict(X_train),y_train))"
   ]
  },
  {
   "cell_type": "markdown",
   "metadata": {},
   "source": [
    "#### Observation:\n",
    "- Accuracy on test data os around 76% and on train data is 92%. This shows that the model is overfitting.\n",
    "- The lower accuracy could also be due to bag of words representation, as the sentiment of the review is hard to be detected.\n",
    "- Critics might have used irony or sarcasm which the classifier would not have distinguished."
   ]
  },
  {
   "cell_type": "markdown",
   "metadata": {},
   "source": [
    "### Picking Hyperparameters for Naive Bayes and Text Maintenance"
   ]
  },
  {
   "cell_type": "markdown",
   "metadata": {},
   "source": [
    "We need to know what value to use for $\\alpha$, and we also need to know which words to include in the vocabulary. As mentioned earlier, some words are obvious stopwords. Other words appear so infrequently that they serve as noise, and other words in addition to stopwords appear so frequently that they may also serve as noise."
   ]
  },
  {
   "cell_type": "markdown",
   "metadata": {},
   "source": [
    "First, let's find an appropriate value for `min_df` for the `CountVectorizer`. `min_df` can be either an integer or a float/decimal. If it is an integer, `min_df` represents the minimum number of documents a word must appear in for it to be included in the vocabulary. If it is a float, it represents the minimum *percentage* of documents a word must appear in to be included in the vocabulary. From the documentation:"
   ]
  },
  {
   "cell_type": "markdown",
   "metadata": {},
   "source": [
    ">min_df: When building the vocabulary ignore terms that have a document frequency strictly lower than the given threshold. This value is also called cut-off in the literature. If float, the parameter represents a proportion of documents, integer absolute counts. This parameter is ignored if vocabulary is not None."
   ]
  },
  {
   "cell_type": "markdown",
   "metadata": {},
   "source": [
    "<div class=\"span5 alert alert-info\">\n",
    "<h3>Exercise Set III</h3>\n",
    "\n",
    "<p><b>Exercise:</b> Construct the cumulative distribution of document frequencies (df). The $x$-axis is a document count $x_i$ and the $y$-axis is the percentage of words that appear less than $x_i$ times. For example, at $x=5$, plot a point representing the percentage or number of words that appear in 5 or fewer documents.</p>\n",
    "\n",
    "<p><b>Exercise:</b> Look for the point at which the curve begins climbing steeply. This may be a good value for `min_df`. If we were interested in also picking `max_df`, we would likely pick the value where the curve starts to plateau. What value did you choose?</p>\n",
    "</div>"
   ]
  },
  {
   "cell_type": "code",
   "execution_count": null,
   "metadata": {
    "collapsed": true
   },
   "outputs": [],
   "source": [
    "# Your turn.\n"
   ]
  },
  {
   "cell_type": "code",
   "execution_count": 167,
   "metadata": {},
   "outputs": [
    {
     "data": {
      "text/html": [
       "<div>\n",
       "<style scoped>\n",
       "    .dataframe tbody tr th:only-of-type {\n",
       "        vertical-align: middle;\n",
       "    }\n",
       "\n",
       "    .dataframe tbody tr th {\n",
       "        vertical-align: top;\n",
       "    }\n",
       "\n",
       "    .dataframe thead th {\n",
       "        text-align: right;\n",
       "    }\n",
       "</style>\n",
       "<table border=\"1\" class=\"dataframe\">\n",
       "  <thead>\n",
       "    <tr style=\"text-align: right;\">\n",
       "      <th></th>\n",
       "      <th>word_count</th>\n",
       "      <th>freq</th>\n",
       "    </tr>\n",
       "  </thead>\n",
       "  <tbody>\n",
       "    <tr>\n",
       "      <td>280</td>\n",
       "      <td>9502</td>\n",
       "      <td>1</td>\n",
       "    </tr>\n",
       "    <tr>\n",
       "      <td>66</td>\n",
       "      <td>7552</td>\n",
       "      <td>1</td>\n",
       "    </tr>\n",
       "    <tr>\n",
       "      <td>242</td>\n",
       "      <td>7133</td>\n",
       "      <td>1</td>\n",
       "    </tr>\n",
       "    <tr>\n",
       "      <td>207</td>\n",
       "      <td>5120</td>\n",
       "      <td>1</td>\n",
       "    </tr>\n",
       "    <tr>\n",
       "      <td>290</td>\n",
       "      <td>4957</td>\n",
       "      <td>1</td>\n",
       "    </tr>\n",
       "    <tr>\n",
       "      <td>209</td>\n",
       "      <td>4312</td>\n",
       "      <td>1</td>\n",
       "    </tr>\n",
       "    <tr>\n",
       "      <td>204</td>\n",
       "      <td>3672</td>\n",
       "      <td>1</td>\n",
       "    </tr>\n",
       "    <tr>\n",
       "      <td>279</td>\n",
       "      <td>3290</td>\n",
       "      <td>1</td>\n",
       "    </tr>\n",
       "    <tr>\n",
       "      <td>112</td>\n",
       "      <td>2360</td>\n",
       "      <td>1</td>\n",
       "    </tr>\n",
       "    <tr>\n",
       "      <td>308</td>\n",
       "      <td>2359</td>\n",
       "      <td>1</td>\n",
       "    </tr>\n",
       "  </tbody>\n",
       "</table>\n",
       "</div>"
      ],
      "text/plain": [
       "     word_count  freq\n",
       "280        9502     1\n",
       "66         7552     1\n",
       "242        7133     1\n",
       "207        5120     1\n",
       "290        4957     1\n",
       "209        4312     1\n",
       "204        3672     1\n",
       "279        3290     1\n",
       "112        2360     1\n",
       "308        2359     1"
      ]
     },
     "execution_count": 167,
     "metadata": {},
     "output_type": "execute_result"
    }
   ],
   "source": [
    "count = Counter((X > 0).sum(0).tolist()[0])\n",
    "word_df = pd.DataFrame.from_dict(count, orient='index').reset_index()\n",
    "word_df = word_df.rename(columns={'index': 'word_count', 0: 'freq'})\n",
    "word_df = word_df.sort_values('word_count',ascending=False)\n",
    "word_df.head(10)\n"
   ]
  },
  {
   "cell_type": "code",
   "execution_count": 170,
   "metadata": {},
   "outputs": [
    {
     "data": {
      "text/plain": [
       "Text(0, 0.5, 'Freq of words')"
      ]
     },
     "execution_count": 170,
     "metadata": {},
     "output_type": "execute_result"
    },
    {
     "data": {
      "image/png": "[encoded data removed]",
      "text/plain": [
       "<Figure size 1440x720 with 1 Axes>"
      ]
     },
     "metadata": {
      "needs_background": "light"
     },
     "output_type": "display_data"
    }
   ],
   "source": [
    "plt.figure(figsize=(20,10))\n",
    "plt.plot(word_df['word_count'], word_df['freq'])\n",
    "plt.xlim(-1,20)\n",
    "plt.xlabel(\"Words\")\n",
    "plt.ylabel(\"Freq of words\")"
   ]
  },
  {
   "cell_type": "code",
   "execution_count": 166,
   "metadata": {},
   "outputs": [
    {
     "data": {
      "text/html": [
       "<div>\n",
       "<style scoped>\n",
       "    .dataframe tbody tr th:only-of-type {\n",
       "        vertical-align: middle;\n",
       "    }\n",
       "\n",
       "    .dataframe tbody tr th {\n",
       "        vertical-align: top;\n",
       "    }\n",
       "\n",
       "    .dataframe thead th {\n",
       "        text-align: right;\n",
       "    }\n",
       "</style>\n",
       "<table border=\"1\" class=\"dataframe\">\n",
       "  <thead>\n",
       "    <tr style=\"text-align: right;\">\n",
       "      <th></th>\n",
       "      <th>word_count</th>\n",
       "      <th>freq</th>\n",
       "    </tr>\n",
       "  </thead>\n",
       "  <tbody>\n",
       "    <tr>\n",
       "      <td>1</td>\n",
       "      <td>1</td>\n",
       "      <td>9586</td>\n",
       "    </tr>\n",
       "    <tr>\n",
       "      <td>6</td>\n",
       "      <td>2</td>\n",
       "      <td>3489</td>\n",
       "    </tr>\n",
       "    <tr>\n",
       "      <td>8</td>\n",
       "      <td>3</td>\n",
       "      <td>1913</td>\n",
       "    </tr>\n",
       "    <tr>\n",
       "      <td>5</td>\n",
       "      <td>4</td>\n",
       "      <td>1255</td>\n",
       "    </tr>\n",
       "    <tr>\n",
       "      <td>12</td>\n",
       "      <td>5</td>\n",
       "      <td>897</td>\n",
       "    </tr>\n",
       "    <tr>\n",
       "      <td>...</td>\n",
       "      <td>...</td>\n",
       "      <td>...</td>\n",
       "    </tr>\n",
       "    <tr>\n",
       "      <td>290</td>\n",
       "      <td>4957</td>\n",
       "      <td>1</td>\n",
       "    </tr>\n",
       "    <tr>\n",
       "      <td>207</td>\n",
       "      <td>5120</td>\n",
       "      <td>1</td>\n",
       "    </tr>\n",
       "    <tr>\n",
       "      <td>242</td>\n",
       "      <td>7133</td>\n",
       "      <td>1</td>\n",
       "    </tr>\n",
       "    <tr>\n",
       "      <td>66</td>\n",
       "      <td>7552</td>\n",
       "      <td>1</td>\n",
       "    </tr>\n",
       "    <tr>\n",
       "      <td>280</td>\n",
       "      <td>9502</td>\n",
       "      <td>1</td>\n",
       "    </tr>\n",
       "  </tbody>\n",
       "</table>\n",
       "<p>314 rows × 2 columns</p>\n",
       "</div>"
      ],
      "text/plain": [
       "     word_count  freq\n",
       "1             1  9586\n",
       "6             2  3489\n",
       "8             3  1913\n",
       "5             4  1255\n",
       "12            5   897\n",
       "..          ...   ...\n",
       "290        4957     1\n",
       "207        5120     1\n",
       "242        7133     1\n",
       "66         7552     1\n",
       "280        9502     1\n",
       "\n",
       "[314 rows x 2 columns]"
      ]
     },
     "execution_count": 166,
     "metadata": {},
     "output_type": "execute_result"
    }
   ],
   "source": [
    "word_df"
   ]
  },
  {
   "cell_type": "code",
   "execution_count": 148,
   "metadata": {},
   "outputs": [
    {
     "data": {
      "text/html": [
       "<div>\n",
       "<style scoped>\n",
       "    .dataframe tbody tr th:only-of-type {\n",
       "        vertical-align: middle;\n",
       "    }\n",
       "\n",
       "    .dataframe tbody tr th {\n",
       "        vertical-align: top;\n",
       "    }\n",
       "\n",
       "    .dataframe thead th {\n",
       "        text-align: right;\n",
       "    }\n",
       "</style>\n",
       "<table border=\"1\" class=\"dataframe\">\n",
       "  <thead>\n",
       "    <tr style=\"text-align: right;\">\n",
       "      <th></th>\n",
       "      <th>word_count</th>\n",
       "      <th>freq</th>\n",
       "    </tr>\n",
       "  </thead>\n",
       "  <tbody>\n",
       "    <tr>\n",
       "      <td>count</td>\n",
       "      <td>314.000000</td>\n",
       "      <td>314.000000</td>\n",
       "    </tr>\n",
       "    <tr>\n",
       "      <td>mean</td>\n",
       "      <td>440.621019</td>\n",
       "      <td>71.391720</td>\n",
       "    </tr>\n",
       "    <tr>\n",
       "      <td>std</td>\n",
       "      <td>993.982531</td>\n",
       "      <td>592.394612</td>\n",
       "    </tr>\n",
       "    <tr>\n",
       "      <td>min</td>\n",
       "      <td>1.000000</td>\n",
       "      <td>1.000000</td>\n",
       "    </tr>\n",
       "    <tr>\n",
       "      <td>25%</td>\n",
       "      <td>79.250000</td>\n",
       "      <td>1.000000</td>\n",
       "    </tr>\n",
       "    <tr>\n",
       "      <td>50%</td>\n",
       "      <td>186.500000</td>\n",
       "      <td>1.000000</td>\n",
       "    </tr>\n",
       "    <tr>\n",
       "      <td>75%</td>\n",
       "      <td>360.750000</td>\n",
       "      <td>5.750000</td>\n",
       "    </tr>\n",
       "    <tr>\n",
       "      <td>max</td>\n",
       "      <td>9502.000000</td>\n",
       "      <td>9586.000000</td>\n",
       "    </tr>\n",
       "  </tbody>\n",
       "</table>\n",
       "</div>"
      ],
      "text/plain": [
       "        word_count         freq\n",
       "count   314.000000   314.000000\n",
       "mean    440.621019    71.391720\n",
       "std     993.982531   592.394612\n",
       "min       1.000000     1.000000\n",
       "25%      79.250000     1.000000\n",
       "50%     186.500000     1.000000\n",
       "75%     360.750000     5.750000\n",
       "max    9502.000000  9586.000000"
      ]
     },
     "execution_count": 148,
     "metadata": {},
     "output_type": "execute_result"
    }
   ],
   "source": [
    "word_df.describe()"
   ]
  },
  {
   "cell_type": "code",
   "execution_count": 157,
   "metadata": {},
   "outputs": [
    {
     "data": {
      "text/html": [
       "<div>\n",
       "<style scoped>\n",
       "    .dataframe tbody tr th:only-of-type {\n",
       "        vertical-align: middle;\n",
       "    }\n",
       "\n",
       "    .dataframe tbody tr th {\n",
       "        vertical-align: top;\n",
       "    }\n",
       "\n",
       "    .dataframe thead th {\n",
       "        text-align: right;\n",
       "    }\n",
       "</style>\n",
       "<table border=\"1\" class=\"dataframe\">\n",
       "  <thead>\n",
       "    <tr style=\"text-align: right;\">\n",
       "      <th></th>\n",
       "      <th>word_count</th>\n",
       "      <th>freq</th>\n",
       "    </tr>\n",
       "  </thead>\n",
       "  <tbody>\n",
       "    <tr>\n",
       "      <td>1</td>\n",
       "      <td>1</td>\n",
       "      <td>9586</td>\n",
       "    </tr>\n",
       "    <tr>\n",
       "      <td>6</td>\n",
       "      <td>2</td>\n",
       "      <td>3489</td>\n",
       "    </tr>\n",
       "    <tr>\n",
       "      <td>8</td>\n",
       "      <td>3</td>\n",
       "      <td>1913</td>\n",
       "    </tr>\n",
       "    <tr>\n",
       "      <td>5</td>\n",
       "      <td>4</td>\n",
       "      <td>1255</td>\n",
       "    </tr>\n",
       "    <tr>\n",
       "      <td>12</td>\n",
       "      <td>5</td>\n",
       "      <td>897</td>\n",
       "    </tr>\n",
       "    <tr>\n",
       "      <td>13</td>\n",
       "      <td>6</td>\n",
       "      <td>632</td>\n",
       "    </tr>\n",
       "    <tr>\n",
       "      <td>0</td>\n",
       "      <td>7</td>\n",
       "      <td>540</td>\n",
       "    </tr>\n",
       "    <tr>\n",
       "      <td>11</td>\n",
       "      <td>8</td>\n",
       "      <td>410</td>\n",
       "    </tr>\n",
       "    <tr>\n",
       "      <td>7</td>\n",
       "      <td>9</td>\n",
       "      <td>349</td>\n",
       "    </tr>\n",
       "    <tr>\n",
       "      <td>2</td>\n",
       "      <td>10</td>\n",
       "      <td>294</td>\n",
       "    </tr>\n",
       "    <tr>\n",
       "      <td>14</td>\n",
       "      <td>11</td>\n",
       "      <td>227</td>\n",
       "    </tr>\n",
       "    <tr>\n",
       "      <td>9</td>\n",
       "      <td>12</td>\n",
       "      <td>217</td>\n",
       "    </tr>\n",
       "    <tr>\n",
       "      <td>26</td>\n",
       "      <td>13</td>\n",
       "      <td>181</td>\n",
       "    </tr>\n",
       "    <tr>\n",
       "      <td>10</td>\n",
       "      <td>14</td>\n",
       "      <td>178</td>\n",
       "    </tr>\n",
       "    <tr>\n",
       "      <td>25</td>\n",
       "      <td>15</td>\n",
       "      <td>129</td>\n",
       "    </tr>\n",
       "    <tr>\n",
       "      <td>4</td>\n",
       "      <td>16</td>\n",
       "      <td>111</td>\n",
       "    </tr>\n",
       "  </tbody>\n",
       "</table>\n",
       "</div>"
      ],
      "text/plain": [
       "    word_count  freq\n",
       "1            1  9586\n",
       "6            2  3489\n",
       "8            3  1913\n",
       "5            4  1255\n",
       "12           5   897\n",
       "13           6   632\n",
       "0            7   540\n",
       "11           8   410\n",
       "7            9   349\n",
       "2           10   294\n",
       "14          11   227\n",
       "9           12   217\n",
       "26          13   181\n",
       "10          14   178\n",
       "25          15   129\n",
       "4           16   111"
      ]
     },
     "execution_count": 157,
     "metadata": {},
     "output_type": "execute_result"
    }
   ],
   "source": [
    "word_df[word_df['freq']>100].sort_values('word_count')"
   ]
  },
  {
   "cell_type": "code",
   "execution_count": 39,
   "metadata": {},
   "outputs": [
    {
     "name": "stdout",
     "output_type": "stream",
     "text": [
      "Transformed text vector is \n",
      "  (4, 0)\t1\n",
      "  (3, 1)\t1\n",
      "  (2, 2)\t1\n",
      "  (4, 3)\t1\n",
      "  (4, 4)\t1\n",
      "  (0, 5)\t2\n",
      "  (3, 5)\t1\n",
      "  (2, 6)\t1\n",
      "  (4, 7)\t1\n",
      "  (3, 8)\t1\n",
      "  (0, 9)\t1\n",
      "  (3, 10)\t1\n",
      "  (0, 11)\t1\n",
      "  (4, 12)\t1\n",
      "  (0, 13)\t1\n",
      "  (1, 14)\t1\n",
      "  (4, 15)\t1\n",
      "  (0, 16)\t1\n",
      "  (0, 17)\t1\n",
      "  (0, 18)\t1\n",
      "  (4, 19)\t1\n",
      "  (0, 20)\t1\n",
      "  (4, 21)\t1\n",
      "  (3, 22)\t1\n",
      "  (3, 23)\t1\n",
      "  :\t:\n",
      "  (0, 40)\t1\n",
      "  (3, 41)\t1\n",
      "  (0, 42)\t1\n",
      "  (0, 43)\t1\n",
      "  (0, 44)\t1\n",
      "  (2, 45)\t1\n",
      "  (2, 46)\t1\n",
      "  (3, 47)\t1\n",
      "  (0, 48)\t1\n",
      "  (0, 49)\t1\n",
      "  (3, 50)\t1\n",
      "  (3, 51)\t1\n",
      "  (0, 52)\t1\n",
      "  (2, 52)\t1\n",
      "  (3, 52)\t1\n",
      "  (4, 52)\t1\n",
      "  (1, 53)\t1\n",
      "  (2, 53)\t1\n",
      "  (3, 53)\t2\n",
      "  (3, 54)\t1\n",
      "  (4, 55)\t1\n",
      "  (0, 56)\t1\n",
      "  (2, 57)\t1\n",
      "  (1, 58)\t1\n",
      "  (0, 59)\t1\n",
      "\n",
      "Words for each feature:\n",
      "['1995', 'achievement', 'age', 'also', 'an', 'and', 'animated', 'animation', 'appealing', 'be', 'bit', 'by', 'catalog', 'charm', 'comedy', 'computer', 'concept', 'could', 'design', 'effect', 'engulfed', 'entertaining', 'equal', 'every', 'everyone', 'execution', 'feature', 'film', 'for', 'generated', 'has', 'hyperrealist', 'in', 'ingenious', 'inventive', 'it', 'its', 'most', 'of', 'on', 'postage', 'provocative', 'screen', 'sized', 'so', 'something', 'spectrum', 'sports', 'stamp', 'still', 'story', 'technical', 'that', 'the', 'this', 'toy', 'watch', 'winning', 'year', 'you']\n"
     ]
    }
   ],
   "source": [
    "A, B = make_xy(sample_data) "
   ]
  },
  {
   "cell_type": "code",
   "execution_count": 72,
   "metadata": {},
   "outputs": [
    {
     "data": {
      "text/plain": [
       "<5x60 sparse matrix of type '<class 'numpy.int64'>'\n",
       "\twith 69 stored elements in Compressed Sparse Column format>"
      ]
     },
     "execution_count": 72,
     "metadata": {},
     "output_type": "execute_result"
    }
   ],
   "source": [
    "A"
   ]
  },
  {
   "cell_type": "code",
   "execution_count": 73,
   "metadata": {},
   "outputs": [],
   "source": [
    "from scipy.sparse import coo_matrix"
   ]
  },
  {
   "cell_type": "code",
   "execution_count": 74,
   "metadata": {},
   "outputs": [
    {
     "ename": "NameError",
     "evalue": "name 'sort_coo' is not defined",
     "output_type": "error",
     "traceback": [
      "\u001b[0;31m---------------------------------------------------------------------------\u001b[0m",
      "\u001b[0;31mNameError\u001b[0m                                 Traceback (most recent call last)",
      "\u001b[0;32m<ipython-input-74-a445bf7838cd>\u001b[0m in \u001b[0;36m<module>\u001b[0;34m\u001b[0m\n\u001b[1;32m      1\u001b[0m \u001b[0ms\u001b[0m \u001b[0;34m=\u001b[0m \u001b[0mcoo_matrix\u001b[0m\u001b[0;34m(\u001b[0m\u001b[0mA\u001b[0m\u001b[0;34m)\u001b[0m\u001b[0;34m\u001b[0m\u001b[0;34m\u001b[0m\u001b[0m\n\u001b[0;32m----> 2\u001b[0;31m \u001b[0msort_coo\u001b[0m\u001b[0;34m(\u001b[0m\u001b[0ms\u001b[0m\u001b[0;34m)\u001b[0m\u001b[0;34m\u001b[0m\u001b[0;34m\u001b[0m\u001b[0m\n\u001b[0m",
      "\u001b[0;31mNameError\u001b[0m: name 'sort_coo' is not defined"
     ]
    }
   ],
   "source": [
    "s = coo_matrix(A)\n",
    "sort_coo(s)"
   ]
  },
  {
   "cell_type": "code",
   "execution_count": 78,
   "metadata": {},
   "outputs": [
    {
     "data": {
      "text/plain": [
       "True"
      ]
     },
     "execution_count": 78,
     "metadata": {},
     "output_type": "execute_result"
    }
   ],
   "source": [
    "import scipy as sc\n",
    "from scipy.sparse import isspmatrix_coo, isspmatrix\n",
    "sc.sparse.issparse(A)"
   ]
  },
  {
   "cell_type": "code",
   "execution_count": 100,
   "metadata": {},
   "outputs": [
    {
     "data": {
      "text/plain": [
       "<5x60 sparse matrix of type '<class 'numpy.int64'>'\n",
       "\twith 69 stored elements in Compressed Sparse Column format>"
      ]
     },
     "execution_count": 100,
     "metadata": {},
     "output_type": "execute_result"
    }
   ],
   "source": [
    "A"
   ]
  },
  {
   "cell_type": "code",
   "execution_count": 107,
   "metadata": {},
   "outputs": [],
   "source": [
    "df = (A > 0).sum(0).tolist()[0]\n",
    "c = pd.Series(df) #count of dicts\n",
    "y = np.arange(c.sum())"
   ]
  },
  {
   "cell_type": "code",
   "execution_count": 110,
   "metadata": {},
   "outputs": [
    {
     "data": {
      "text/plain": [
       "array([ 0,  1,  2,  3,  4,  5,  6,  7,  8,  9, 10, 11, 12, 13, 14, 15, 16,\n",
       "       17, 18, 19, 20, 21, 22, 23, 24, 25, 26, 27, 28, 29, 30, 31, 32, 33,\n",
       "       34, 35, 36, 37, 38, 39, 40, 41, 42, 43, 44, 45, 46, 47, 48, 49, 50,\n",
       "       51, 52, 53, 54, 55, 56, 57, 58, 59, 60, 61, 62, 63, 64, 65, 66, 67,\n",
       "       68])"
      ]
     },
     "execution_count": 110,
     "metadata": {},
     "output_type": "execute_result"
    }
   ],
   "source": [
    "y"
   ]
  },
  {
   "cell_type": "code",
   "execution_count": 129,
   "metadata": {},
   "outputs": [
    {
     "data": {
      "text/plain": [
       "[1,\n",
       " 1,\n",
       " 1,\n",
       " 1,\n",
       " 1,\n",
       " 2,\n",
       " 1,\n",
       " 1,\n",
       " 1,\n",
       " 1,\n",
       " 1,\n",
       " 1,\n",
       " 1,\n",
       " 1,\n",
       " 1,\n",
       " 1,\n",
       " 1,\n",
       " 1,\n",
       " 1,\n",
       " 1,\n",
       " 1,\n",
       " 1,\n",
       " 1,\n",
       " 1,\n",
       " 1,\n",
       " 1,\n",
       " 2,\n",
       " 1,\n",
       " 1,\n",
       " 1,\n",
       " 1,\n",
       " 1,\n",
       " 2,\n",
       " 1,\n",
       " 1,\n",
       " 1,\n",
       " 1,\n",
       " 1,\n",
       " 1,\n",
       " 2,\n",
       " 1,\n",
       " 1,\n",
       " 1,\n",
       " 1,\n",
       " 1,\n",
       " 1,\n",
       " 1,\n",
       " 1,\n",
       " 1,\n",
       " 1,\n",
       " 1,\n",
       " 1,\n",
       " 4,\n",
       " 3,\n",
       " 1,\n",
       " 1,\n",
       " 1,\n",
       " 1,\n",
       " 1,\n",
       " 1]"
      ]
     },
     "execution_count": 129,
     "metadata": {},
     "output_type": "execute_result"
    }
   ],
   "source": [
    "(A > 0).sum(0).tolist()[0]"
   ]
  },
  {
   "cell_type": "code",
   "execution_count": 130,
   "metadata": {},
   "outputs": [],
   "source": [
    "from collections import Counter"
   ]
  },
  {
   "cell_type": "code",
   "execution_count": 135,
   "metadata": {},
   "outputs": [],
   "source": [
    "QWE = Counter((A > 0).sum(0).tolist()[0])"
   ]
  },
  {
   "cell_type": "code",
   "execution_count": 142,
   "metadata": {},
   "outputs": [],
   "source": [
    "df = pd.DataFrame.from_dict(QWE, orient='index').reset_index()\n",
    "df = df.rename(columns={'index': 'word count', 0: 'freq'})"
   ]
  },
  {
   "cell_type": "code",
   "execution_count": 143,
   "metadata": {},
   "outputs": [
    {
     "data": {
      "text/html": [
       "<div>\n",
       "<style scoped>\n",
       "    .dataframe tbody tr th:only-of-type {\n",
       "        vertical-align: middle;\n",
       "    }\n",
       "\n",
       "    .dataframe tbody tr th {\n",
       "        vertical-align: top;\n",
       "    }\n",
       "\n",
       "    .dataframe thead th {\n",
       "        text-align: right;\n",
       "    }\n",
       "</style>\n",
       "<table border=\"1\" class=\"dataframe\">\n",
       "  <thead>\n",
       "    <tr style=\"text-align: right;\">\n",
       "      <th></th>\n",
       "      <th>word count</th>\n",
       "      <th>freq</th>\n",
       "    </tr>\n",
       "  </thead>\n",
       "  <tbody>\n",
       "    <tr>\n",
       "      <td>0</td>\n",
       "      <td>1</td>\n",
       "      <td>54</td>\n",
       "    </tr>\n",
       "    <tr>\n",
       "      <td>1</td>\n",
       "      <td>2</td>\n",
       "      <td>4</td>\n",
       "    </tr>\n",
       "    <tr>\n",
       "      <td>2</td>\n",
       "      <td>4</td>\n",
       "      <td>1</td>\n",
       "    </tr>\n",
       "    <tr>\n",
       "      <td>3</td>\n",
       "      <td>3</td>\n",
       "      <td>1</td>\n",
       "    </tr>\n",
       "  </tbody>\n",
       "</table>\n",
       "</div>"
      ],
      "text/plain": [
       "   word count  freq\n",
       "0           1    54\n",
       "1           2     4\n",
       "2           4     1\n",
       "3           3     1"
      ]
     },
     "execution_count": 143,
     "metadata": {},
     "output_type": "execute_result"
    }
   ],
   "source": [
    "df"
   ]
  },
  {
   "cell_type": "code",
   "execution_count": null,
   "metadata": {},
   "outputs": [],
   "source": []
  },
  {
   "cell_type": "code",
   "execution_count": null,
   "metadata": {},
   "outputs": [],
   "source": []
  },
  {
   "cell_type": "markdown",
   "metadata": {},
   "source": [
    "The parameter $\\alpha$ is chosen to be a small value that simply avoids having zeros in the probability computations. This value can sometimes be chosen arbitrarily with domain expertise, but we will use K-fold cross validation. In K-fold cross-validation, we divide the data into $K$ non-overlapping parts. We train on $K-1$ of the folds and test on the remaining fold. We then iterate, so that each fold serves as the test fold exactly once. The function `cv_score` performs the K-fold cross-validation algorithm for us, but we need to pass a function that measures the performance of the algorithm on each fold. "
   ]
  },
  {
   "cell_type": "code",
   "execution_count": 171,
   "metadata": {},
   "outputs": [],
   "source": [
    "from sklearn.model_selection import KFold\n",
    "def cv_score(clf, X, y, scorefunc):\n",
    "    result = 0.\n",
    "    nfold = 5\n",
    "    for train, test in KFold(nfold).split(X): # split data into train/test groups, 5 times\n",
    "        clf.fit(X[train], y[train]) # fit the classifier, passed is as clf.\n",
    "        result += scorefunc(clf, X[test], y[test]) # evaluate score function on held-out data\n",
    "    return result / nfold # average"
   ]
  },
  {
   "cell_type": "markdown",
   "metadata": {},
   "source": [
    "We use the log-likelihood as the score here in `scorefunc`. The higher the log-likelihood, the better. Indeed, what we do in `cv_score` above is to implement the cross-validation part of `GridSearchCV`.\n",
    "\n",
    "The custom scoring function `scorefunc` allows us to use different metrics depending on the decision risk we care about (precision, accuracy, profit etc.) directly on the validation set. You will often find people using `roc_auc`, precision, recall, or `F1-score` as the scoring function."
   ]
  },
  {
   "cell_type": "code",
   "execution_count": 172,
   "metadata": {},
   "outputs": [],
   "source": [
    "def log_likelihood(clf, x, y):\n",
    "    prob = clf.predict_log_proba(x)\n",
    "    rotten = y == 0\n",
    "    fresh = ~rotten\n",
    "    return prob[rotten, 0].sum() + prob[fresh, 1].sum()"
   ]
  },
  {
   "cell_type": "markdown",
   "metadata": {},
   "source": [
    "We'll cross-validate over the regularization parameter $\\alpha$."
   ]
  },
  {
   "cell_type": "markdown",
   "metadata": {},
   "source": [
    "Let's set up the train and test masks first, and then we can run the cross-validation procedure."
   ]
  },
  {
   "cell_type": "code",
   "execution_count": 173,
   "metadata": {},
   "outputs": [],
   "source": [
    "from sklearn.model_selection import train_test_split\n",
    "_, itest = train_test_split(range(critics.shape[0]), train_size=0.7)\n",
    "mask = np.zeros(critics.shape[0], dtype=np.bool)\n",
    "mask[itest] = True"
   ]
  },
  {
   "cell_type": "markdown",
   "metadata": {},
   "source": [
    "<div class=\"span5 alert alert-info\">\n",
    "<h3>Exercise Set IV</h3>\n",
    "\n",
    "<p><b>Exercise:</b> What does using the function `log_likelihood` as the score mean? What are we trying to optimize for?</p>\n",
    "\n",
    "<p><b>Exercise:</b> Without writing any code, what do you think would happen if you choose a value of $\\alpha$ that is too high?</p>\n",
    "\n",
    "<p><b>Exercise:</b> Using the skeleton code below, find the best values of the parameter `alpha`, and use the value of `min_df` you chose in the previous exercise set. Use the `cv_score` function above with the `log_likelihood` function for scoring.</p>\n",
    "</div>"
   ]
  },
  {
   "cell_type": "code",
   "execution_count": 174,
   "metadata": {},
   "outputs": [
    {
     "ename": "TypeError",
     "evalue": "'<' not supported between instances of 'NoneType' and 'int'",
     "output_type": "error",
     "traceback": [
      "\u001b[0;31m---------------------------------------------------------------------------\u001b[0m",
      "\u001b[0;31mTypeError\u001b[0m                                 Traceback (most recent call last)",
      "\u001b[0;32m<ipython-input-174-b25de11d517f>\u001b[0m in \u001b[0;36m<module>\u001b[0;34m\u001b[0m\n\u001b[1;32m      9\u001b[0m \u001b[0mmaxscore\u001b[0m\u001b[0;34m=\u001b[0m\u001b[0;34m-\u001b[0m\u001b[0mnp\u001b[0m\u001b[0;34m.\u001b[0m\u001b[0minf\u001b[0m\u001b[0;34m\u001b[0m\u001b[0;34m\u001b[0m\u001b[0m\n\u001b[1;32m     10\u001b[0m \u001b[0;32mfor\u001b[0m \u001b[0malpha\u001b[0m \u001b[0;32min\u001b[0m \u001b[0malphas\u001b[0m\u001b[0;34m:\u001b[0m\u001b[0;34m\u001b[0m\u001b[0;34m\u001b[0m\u001b[0m\n\u001b[0;32m---> 11\u001b[0;31m     \u001b[0mvectorizer\u001b[0m \u001b[0;34m=\u001b[0m \u001b[0mCountVectorizer\u001b[0m\u001b[0;34m(\u001b[0m\u001b[0mmin_df\u001b[0m\u001b[0;34m=\u001b[0m\u001b[0mbest_min_df\u001b[0m\u001b[0;34m)\u001b[0m\u001b[0;34m\u001b[0m\u001b[0;34m\u001b[0m\u001b[0m\n\u001b[0m\u001b[1;32m     12\u001b[0m     \u001b[0mXthis\u001b[0m\u001b[0;34m,\u001b[0m \u001b[0mythis\u001b[0m \u001b[0;34m=\u001b[0m \u001b[0mmake_xy\u001b[0m\u001b[0;34m(\u001b[0m\u001b[0mcritics\u001b[0m\u001b[0;34m,\u001b[0m \u001b[0mvectorizer\u001b[0m\u001b[0;34m)\u001b[0m\u001b[0;34m\u001b[0m\u001b[0;34m\u001b[0m\u001b[0m\n\u001b[1;32m     13\u001b[0m     \u001b[0mXtrainthis\u001b[0m \u001b[0;34m=\u001b[0m \u001b[0mXthis\u001b[0m\u001b[0;34m[\u001b[0m\u001b[0mmask\u001b[0m\u001b[0;34m]\u001b[0m\u001b[0;34m\u001b[0m\u001b[0;34m\u001b[0m\u001b[0m\n",
      "\u001b[0;32m~/.local/lib/python3.7/site-packages/sklearn/feature_extraction/text.py\u001b[0m in \u001b[0;36m__init__\u001b[0;34m(self, input, encoding, decode_error, strip_accents, lowercase, preprocessor, tokenizer, stop_words, token_pattern, ngram_range, analyzer, max_df, min_df, max_features, vocabulary, binary, dtype)\u001b[0m\n\u001b[1;32m    881\u001b[0m         \u001b[0mself\u001b[0m\u001b[0;34m.\u001b[0m\u001b[0mmax_df\u001b[0m \u001b[0;34m=\u001b[0m \u001b[0mmax_df\u001b[0m\u001b[0;34m\u001b[0m\u001b[0;34m\u001b[0m\u001b[0m\n\u001b[1;32m    882\u001b[0m         \u001b[0mself\u001b[0m\u001b[0;34m.\u001b[0m\u001b[0mmin_df\u001b[0m \u001b[0;34m=\u001b[0m \u001b[0mmin_df\u001b[0m\u001b[0;34m\u001b[0m\u001b[0;34m\u001b[0m\u001b[0m\n\u001b[0;32m--> 883\u001b[0;31m         \u001b[0;32mif\u001b[0m \u001b[0mmax_df\u001b[0m \u001b[0;34m<\u001b[0m \u001b[0;36m0\u001b[0m \u001b[0;32mor\u001b[0m \u001b[0mmin_df\u001b[0m \u001b[0;34m<\u001b[0m \u001b[0;36m0\u001b[0m\u001b[0;34m:\u001b[0m\u001b[0;34m\u001b[0m\u001b[0;34m\u001b[0m\u001b[0m\n\u001b[0m\u001b[1;32m    884\u001b[0m             \u001b[0;32mraise\u001b[0m \u001b[0mValueError\u001b[0m\u001b[0;34m(\u001b[0m\u001b[0;34m\"negative value for max_df or min_df\"\u001b[0m\u001b[0;34m)\u001b[0m\u001b[0;34m\u001b[0m\u001b[0;34m\u001b[0m\u001b[0m\n\u001b[1;32m    885\u001b[0m         \u001b[0mself\u001b[0m\u001b[0;34m.\u001b[0m\u001b[0mmax_features\u001b[0m \u001b[0;34m=\u001b[0m \u001b[0mmax_features\u001b[0m\u001b[0;34m\u001b[0m\u001b[0;34m\u001b[0m\u001b[0m\n",
      "\u001b[0;31mTypeError\u001b[0m: '<' not supported between instances of 'NoneType' and 'int'"
     ]
    }
   ],
   "source": [
    "from sklearn.naive_bayes import MultinomialNB\n",
    "\n",
    "#the grid of parameters to search over\n",
    "alphas = [.1, 1, 5, 10, 50]\n",
    "best_min_df = None # YOUR TURN: put your value of min_df here.\n",
    "\n",
    "#Find the best value for alpha and min_df, and the best classifier\n",
    "best_alpha = None\n",
    "maxscore=-np.inf\n",
    "for alpha in alphas:        \n",
    "    vectorizer = CountVectorizer(min_df=best_min_df)       \n",
    "    Xthis, ythis = make_xy(critics, vectorizer)\n",
    "    Xtrainthis = Xthis[mask]\n",
    "    ytrainthis = ythis[mask]\n",
    "    # your turn\n",
    "    "
   ]
  },
  {
   "cell_type": "code",
   "execution_count": null,
   "metadata": {
    "collapsed": true
   },
   "outputs": [],
   "source": [
    "print(\"alpha: {}\".format(best_alpha))"
   ]
  },
  {
   "cell_type": "markdown",
   "metadata": {},
   "source": [
    "<div class=\"span5 alert alert-info\">\n",
    "<h3>Exercise Set V: Working with the Best Parameters</h3>\n",
    "\n",
    "<p><b>Exercise:</b> Using the best value of  `alpha` you just found, calculate the accuracy on the training and test sets. Is this classifier better? Why (not)?</p>\n",
    "\n",
    "</div>"
   ]
  },
  {
   "cell_type": "code",
   "execution_count": null,
   "metadata": {
    "collapsed": true
   },
   "outputs": [],
   "source": [
    "vectorizer = CountVectorizer(min_df=best_min_df)\n",
    "X, y = make_xy(critics, vectorizer)\n",
    "xtrain=X[mask]\n",
    "ytrain=y[mask]\n",
    "xtest=X[~mask]\n",
    "ytest=y[~mask]\n",
    "\n",
    "clf = MultinomialNB(alpha=best_alpha).fit(xtrain, ytrain)\n",
    "\n",
    "#your turn. Print the accuracy on the test and training dataset\n",
    "training_accuracy = clf.score(xtrain, ytrain)\n",
    "test_accuracy = clf.score(xtest, ytest)\n",
    "\n",
    "print(\"Accuracy on training data: {:2f}\".format(training_accuracy))\n",
    "print(\"Accuracy on test data:     {:2f}\".format(test_accuracy))"
   ]
  },
  {
   "cell_type": "code",
   "execution_count": null,
   "metadata": {
    "collapsed": true
   },
   "outputs": [],
   "source": [
    "from sklearn.metrics import confusion_matrix\n",
    "print(confusion_matrix(ytest, clf.predict(xtest)))"
   ]
  },
  {
   "cell_type": "markdown",
   "metadata": {},
   "source": [
    "## Interpretation"
   ]
  },
  {
   "cell_type": "markdown",
   "metadata": {},
   "source": [
    "### What are the strongly predictive features?\n",
    "\n",
    "We use a neat trick to identify strongly predictive features (i.e. words). \n",
    "\n",
    "* first, create a data set such that each row has exactly one feature. This is represented by the identity matrix.\n",
    "* use the trained classifier to make predictions on this matrix\n",
    "* sort the rows by predicted probabilities, and pick the top and bottom $K$ rows"
   ]
  },
  {
   "cell_type": "code",
   "execution_count": null,
   "metadata": {
    "collapsed": true
   },
   "outputs": [],
   "source": [
    "words = np.array(vectorizer.get_feature_names())\n",
    "\n",
    "x = np.eye(xtest.shape[1])\n",
    "probs = clf.predict_log_proba(x)[:, 0]\n",
    "ind = np.argsort(probs)\n",
    "\n",
    "good_words = words[ind[:10]]\n",
    "bad_words = words[ind[-10:]]\n",
    "\n",
    "good_prob = probs[ind[:10]]\n",
    "bad_prob = probs[ind[-10:]]\n",
    "\n",
    "print(\"Good words\\t     P(fresh | word)\")\n",
    "for w, p in zip(good_words, good_prob):\n",
    "    print(\"{:>20}\".format(w), \"{:.2f}\".format(1 - np.exp(p)))\n",
    "    \n",
    "print(\"Bad words\\t     P(fresh | word)\")\n",
    "for w, p in zip(bad_words, bad_prob):\n",
    "    print(\"{:>20}\".format(w), \"{:.2f}\".format(1 - np.exp(p)))"
   ]
  },
  {
   "cell_type": "markdown",
   "metadata": {},
   "source": [
    "<div class=\"span5 alert alert-info\">\n",
    "<h3>Exercise Set VI</h3>\n",
    "\n",
    "<p><b>Exercise:</b> Why does this method work? What does the probability for each row in the identity matrix represent</p>\n",
    "\n",
    "</div>"
   ]
  },
  {
   "cell_type": "markdown",
   "metadata": {},
   "source": [
    "The above exercise is an example of *feature selection*. There are many other feature selection methods. A list of feature selection methods available in `sklearn` is [here](http://scikit-learn.org/stable/modules/classes.html#module-sklearn.feature_selection). The most common feature selection technique for text mining is the chi-squared $\\left( \\chi^2 \\right)$ [method](http://nlp.stanford.edu/IR-book/html/htmledition/feature-selectionchi2-feature-selection-1.html)."
   ]
  },
  {
   "cell_type": "markdown",
   "metadata": {},
   "source": [
    "### Prediction Errors\n",
    "\n",
    "We can see mis-predictions as well."
   ]
  },
  {
   "cell_type": "code",
   "execution_count": null,
   "metadata": {
    "collapsed": true
   },
   "outputs": [],
   "source": [
    "x, y = make_xy(critics, vectorizer)\n",
    "\n",
    "prob = clf.predict_proba(x)[:, 0]\n",
    "predict = clf.predict(x)\n",
    "\n",
    "bad_rotten = np.argsort(prob[y == 0])[:5]\n",
    "bad_fresh = np.argsort(prob[y == 1])[-5:]\n",
    "\n",
    "print(\"Mis-predicted Rotten quotes\")\n",
    "print('---------------------------')\n",
    "for row in bad_rotten:\n",
    "    print(critics[y == 0].quote.iloc[row])\n",
    "    print(\"\")\n",
    "\n",
    "print(\"Mis-predicted Fresh quotes\")\n",
    "print('--------------------------')\n",
    "for row in bad_fresh:\n",
    "    print(critics[y == 1].quote.iloc[row])\n",
    "    print(\"\")"
   ]
  },
  {
   "cell_type": "markdown",
   "metadata": {},
   "source": [
    "<div class=\"span5 alert alert-info\">\n",
    "<h3>Exercise Set VII: Predicting the Freshness for a New Review</h3>\n",
    "<br/>\n",
    "<div>\n",
    "<b>Exercise:</b>\n",
    "<ul>\n",
    "<li> Using your best trained classifier, predict the freshness of the following sentence: *'This movie is not remarkable, touching, or superb in any way'*\n",
    "<li> Is the result what you'd expect? Why (not)?\n",
    "</ul>\n",
    "</div>\n",
    "</div>"
   ]
  },
  {
   "cell_type": "code",
   "execution_count": null,
   "metadata": {
    "collapsed": true
   },
   "outputs": [],
   "source": [
    "#your turn"
   ]
  },
  {
   "cell_type": "markdown",
   "metadata": {},
   "source": [
    "### Aside: TF-IDF Weighting for Term Importance\n",
    "\n",
    "TF-IDF stands for \n",
    "\n",
    "`Term-Frequency X Inverse Document Frequency`.\n",
    "\n",
    "In the standard `CountVectorizer` model above, we used just the term frequency in a document of words in our vocabulary. In TF-IDF, we weight this term frequency by the inverse of its popularity in all documents. For example, if the word \"movie\" showed up in all the documents, it would not have much predictive value. It could actually be considered a stopword. By weighing its counts by 1 divided by its overall frequency, we downweight it. We can then use this TF-IDF weighted features as inputs to any classifier. **TF-IDF is essentially a measure of term importance, and of how discriminative a word is in a corpus.** There are a variety of nuances involved in computing TF-IDF, mainly involving where to add the smoothing term to avoid division by 0, or log of 0 errors. The formula for TF-IDF in `scikit-learn` differs from that of most textbooks: \n",
    "\n",
    "$$\\mbox{TF-IDF}(t, d) = \\mbox{TF}(t, d)\\times \\mbox{IDF}(t) = n_{td} \\log{\\left( \\frac{\\vert D \\vert}{\\vert d : t \\in d \\vert} + 1 \\right)}$$\n",
    "\n",
    "where $n_{td}$ is the number of times term $t$ occurs in document $d$, $\\vert D \\vert$ is the number of documents, and $\\vert d : t \\in d \\vert$ is the number of documents that contain $t$"
   ]
  },
  {
   "cell_type": "code",
   "execution_count": null,
   "metadata": {
    "collapsed": true
   },
   "outputs": [],
   "source": [
    "# http://scikit-learn.org/dev/modules/feature_extraction.html#text-feature-extraction\n",
    "# http://scikit-learn.org/dev/modules/classes.html#text-feature-extraction-ref\n",
    "from sklearn.feature_extraction.text import TfidfVectorizer\n",
    "tfidfvectorizer = TfidfVectorizer(min_df=1, stop_words='english')\n",
    "Xtfidf=tfidfvectorizer.fit_transform(critics.quote)"
   ]
  },
  {
   "cell_type": "markdown",
   "metadata": {},
   "source": [
    "<div class=\"span5 alert alert-info\">\n",
    "<h3>Exercise Set VIII: Enrichment <b>(Optional)</b></h3>\n",
    "\n",
    "<p>\n",
    "There are several additional things we could try. Try some of these as exercises:\n",
    "<ol>\n",
    "<li> Build a Naive Bayes model where the features are n-grams instead of words. N-grams are phrases containing n words next to each other: a bigram contains 2 words, a trigram contains 3 words, and 6-gram contains 6 words. This is useful because \"not good\" and \"so good\" mean very different things. On the other hand, as n increases, the model does not scale well since the feature set becomes more sparse.\n",
    "<li> Try a model besides Naive Bayes, one that would allow for interactions between words -- for example, a Random Forest classifier.\n",
    "<li> Try adding supplemental features -- information about genre, director, cast, etc.\n",
    "<li> Use word2vec or [Latent Dirichlet Allocation](https://en.wikipedia.org/wiki/Latent_Dirichlet_allocation) to group words into topics and use those topics for prediction.\n",
    "<li> Use TF-IDF weighting instead of word counts.\n",
    "</ol>\n",
    "</p>\n",
    "\n",
    "<b>Exercise:</b> Try at least one of these ideas to improve the model (or any other ideas of your own). Implement here and report on the result. \n",
    "</div>"
   ]
  },
  {
   "cell_type": "code",
   "execution_count": null,
   "metadata": {
    "collapsed": true
   },
   "outputs": [],
   "source": [
    "# Your turn"
   ]
  }
 ],
 "metadata": {
  "kernelspec": {
   "display_name": "Python 3",
   "language": "python",
   "name": "python3"
  },
  "language_info": {
   "codemirror_mode": {
    "name": "ipython",
    "version": 3
   },
   "file_extension": ".py",
   "mimetype": "text/x-python",
   "name": "python",
   "nbconvert_exporter": "python",
   "pygments_lexer": "ipython3",
   "version": "3.7.3"
  }
 },
 "nbformat": 4,
 "nbformat_minor": 1
}
